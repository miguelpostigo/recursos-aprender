{
 "cells": [
  {
   "cell_type": "code",
   "execution_count": 2,
   "metadata": {},
   "outputs": [],
   "source": [
    "import pandas as pd\n",
    "import numpy as np\n",
    "from sklearn import datasets, linear_model\n",
    "from sklearn.metrics import mean_squared_error, r2_score\n",
    "import matplotlib.pyplot as plt\n",
    "\n",
    "df = pd.read_csv(\"C:/Users/miguel.postigo/Desktop/carpeta/programacion/python/linkedin/esencial/base_datos_2008.csv\")\n",
    "#[]"
   ]
  },
  {
   "cell_type": "code",
   "execution_count": 3,
   "metadata": {},
   "outputs": [],
   "source": [
    "df = df.dropna(subset = [\"ArrDelay\"])\n",
    "df = df.sample(frac = 1).head(100000)\n",
    "Y = df[\"ArrDelay\"] #VARIABLE RESPUESTA/INDEPENDIENTE - Retraso en la llegada\n",
    "X = df[[\"DepDelay\"]] #VARIABLE DEPENDIENTE/EXPLICATIVA/REGRESORA - Retraso en la llegada"
   ]
  },
  {
   "cell_type": "code",
   "execution_count": 5,
   "metadata": {},
   "outputs": [
    {
     "data": {
      "text/plain": [
       "122899     -4.0\n",
       "2333213    22.0\n",
       "2735157    11.0\n",
       "1594196     1.0\n",
       "1777030    15.0\n",
       "           ... \n",
       "6591766   -15.0\n",
       "5835658   -10.0\n",
       "1692453   -11.0\n",
       "3921674   -15.0\n",
       "4898597     9.0\n",
       "Name: ArrDelay, Length: 100000, dtype: float64"
      ]
     },
     "execution_count": 5,
     "metadata": {},
     "output_type": "execute_result"
    }
   ],
   "source": [
    "Y"
   ]
  },
  {
   "cell_type": "code",
   "execution_count": 6,
   "metadata": {},
   "outputs": [
    {
     "data": {
      "text/html": [
       "<div>\n",
       "<style scoped>\n",
       "    .dataframe tbody tr th:only-of-type {\n",
       "        vertical-align: middle;\n",
       "    }\n",
       "\n",
       "    .dataframe tbody tr th {\n",
       "        vertical-align: top;\n",
       "    }\n",
       "\n",
       "    .dataframe thead th {\n",
       "        text-align: right;\n",
       "    }\n",
       "</style>\n",
       "<table border=\"1\" class=\"dataframe\">\n",
       "  <thead>\n",
       "    <tr style=\"text-align: right;\">\n",
       "      <th></th>\n",
       "      <th>DepDelay</th>\n",
       "    </tr>\n",
       "  </thead>\n",
       "  <tbody>\n",
       "    <tr>\n",
       "      <th>122899</th>\n",
       "      <td>-6.0</td>\n",
       "    </tr>\n",
       "    <tr>\n",
       "      <th>2333213</th>\n",
       "      <td>0.0</td>\n",
       "    </tr>\n",
       "    <tr>\n",
       "      <th>2735157</th>\n",
       "      <td>27.0</td>\n",
       "    </tr>\n",
       "    <tr>\n",
       "      <th>1594196</th>\n",
       "      <td>0.0</td>\n",
       "    </tr>\n",
       "    <tr>\n",
       "      <th>1777030</th>\n",
       "      <td>22.0</td>\n",
       "    </tr>\n",
       "    <tr>\n",
       "      <th>...</th>\n",
       "      <td>...</td>\n",
       "    </tr>\n",
       "    <tr>\n",
       "      <th>6591766</th>\n",
       "      <td>-1.0</td>\n",
       "    </tr>\n",
       "    <tr>\n",
       "      <th>5835658</th>\n",
       "      <td>-6.0</td>\n",
       "    </tr>\n",
       "    <tr>\n",
       "      <th>1692453</th>\n",
       "      <td>-4.0</td>\n",
       "    </tr>\n",
       "    <tr>\n",
       "      <th>3921674</th>\n",
       "      <td>-1.0</td>\n",
       "    </tr>\n",
       "    <tr>\n",
       "      <th>4898597</th>\n",
       "      <td>-3.0</td>\n",
       "    </tr>\n",
       "  </tbody>\n",
       "</table>\n",
       "<p>100000 rows × 1 columns</p>\n",
       "</div>"
      ],
      "text/plain": [
       "         DepDelay\n",
       "122899       -6.0\n",
       "2333213       0.0\n",
       "2735157      27.0\n",
       "1594196       0.0\n",
       "1777030      22.0\n",
       "...           ...\n",
       "6591766      -1.0\n",
       "5835658      -6.0\n",
       "1692453      -4.0\n",
       "3921674      -1.0\n",
       "4898597      -3.0\n",
       "\n",
       "[100000 rows x 1 columns]"
      ]
     },
     "execution_count": 6,
     "metadata": {},
     "output_type": "execute_result"
    }
   ],
   "source": [
    "X"
   ]
  },
  {
   "cell_type": "code",
   "execution_count": 4,
   "metadata": {},
   "outputs": [
    {
     "data": {
      "text/plain": [
       "LinearRegression()"
      ]
     },
     "execution_count": 4,
     "metadata": {},
     "output_type": "execute_result"
    }
   ],
   "source": [
    "regr = linear_model.LinearRegression()\n",
    "regr.fit(X, Y)"
   ]
  },
  {
   "cell_type": "code",
   "execution_count": 8,
   "metadata": {},
   "outputs": [
    {
     "name": "stdout",
     "output_type": "stream",
     "text": [
      "Coeficientes:  [1.0183433]\n",
      "Termino indep:  -1.8856151631635658\n",
      "R cuadrado:  0.8649804523941369\n"
     ]
    }
   ],
   "source": [
    "Y_pred = regr.predict(X)\n",
    "print(\"Coeficientes: \",regr.coef_) #BETA\n",
    "print('Termino indep: ', regr.intercept_) #Este es el valor donde corta el eje Y (en X=0)\n",
    "print(\"R cuadrado: \",r2_score(Y, Y_pred))"
   ]
  },
  {
   "cell_type": "code",
   "execution_count": 14,
   "metadata": {},
   "outputs": [
    {
     "data": {
      "image/png": "[encoded data removed]",
      "text/plain": [
       "<Figure size 432x288 with 1 Axes>"
      ]
     },
     "metadata": {
      "needs_background": "light"
     },
     "output_type": "display_data"
    }
   ],
   "source": [
    "plt.scatter(X[1:10000],Y[1:10000],color = \"green\")\n",
    "plt.plot(X[1:10000],Y_pred[1:10000],color = \"red\")\n",
    "plt.show()"
   ]
  },
  {
   "cell_type": "code",
   "execution_count": 20,
   "metadata": {},
   "outputs": [],
   "source": [
    "X = df[[\"AirTime\",\"Distance\",\"TaxiIn\",\"TaxiOut\"]]\n",
    "\n",
    "df[\"Month\"] = df[\"Month\"].apply(str)\n",
    "df[\"DayofMonth\"] = df[\"DayofMonth\"].apply(str)\n",
    "df[\"DayOfWeek\"] = df[\"DayOfWeek\"].apply(str)\n",
    "\n",
    "dummies = pd.get_dummies(data = df[[\"Month\",\"DayofMonth\",\"DayOfWeek\",\"Origin\",\"Dest\"]])\n",
    "X = dummies.add(X,fill_value = 0)"
   ]
  },
  {
   "cell_type": "code",
   "execution_count": 16,
   "metadata": {},
   "outputs": [
    {
     "data": {
      "text/html": [
       "<div>\n",
       "<style scoped>\n",
       "    .dataframe tbody tr th:only-of-type {\n",
       "        vertical-align: middle;\n",
       "    }\n",
       "\n",
       "    .dataframe tbody tr th {\n",
       "        vertical-align: top;\n",
       "    }\n",
       "\n",
       "    .dataframe thead th {\n",
       "        text-align: right;\n",
       "    }\n",
       "</style>\n",
       "<table border=\"1\" class=\"dataframe\">\n",
       "  <thead>\n",
       "    <tr style=\"text-align: right;\">\n",
       "      <th></th>\n",
       "      <th>AirTime</th>\n",
       "      <th>DayOfWeek_1</th>\n",
       "      <th>DayOfWeek_2</th>\n",
       "      <th>DayOfWeek_3</th>\n",
       "      <th>DayOfWeek_4</th>\n",
       "      <th>DayOfWeek_5</th>\n",
       "      <th>DayOfWeek_6</th>\n",
       "      <th>DayOfWeek_7</th>\n",
       "      <th>DayofMonth_1</th>\n",
       "      <th>DayofMonth_10</th>\n",
       "      <th>...</th>\n",
       "      <th>Origin_VLD</th>\n",
       "      <th>Origin_VPS</th>\n",
       "      <th>Origin_WRG</th>\n",
       "      <th>Origin_WYS</th>\n",
       "      <th>Origin_XNA</th>\n",
       "      <th>Origin_YAK</th>\n",
       "      <th>Origin_YKM</th>\n",
       "      <th>Origin_YUM</th>\n",
       "      <th>TaxiIn</th>\n",
       "      <th>TaxiOut</th>\n",
       "    </tr>\n",
       "  </thead>\n",
       "  <tbody>\n",
       "    <tr>\n",
       "      <th>122899</th>\n",
       "      <td>72.0</td>\n",
       "      <td>0.0</td>\n",
       "      <td>0.0</td>\n",
       "      <td>1.0</td>\n",
       "      <td>0.0</td>\n",
       "      <td>0.0</td>\n",
       "      <td>0.0</td>\n",
       "      <td>0.0</td>\n",
       "      <td>0.0</td>\n",
       "      <td>0.0</td>\n",
       "      <td>...</td>\n",
       "      <td>0.0</td>\n",
       "      <td>0.0</td>\n",
       "      <td>0.0</td>\n",
       "      <td>0.0</td>\n",
       "      <td>0.0</td>\n",
       "      <td>0.0</td>\n",
       "      <td>0.0</td>\n",
       "      <td>0.0</td>\n",
       "      <td>8.0</td>\n",
       "      <td>11.0</td>\n",
       "    </tr>\n",
       "    <tr>\n",
       "      <th>2333213</th>\n",
       "      <td>310.0</td>\n",
       "      <td>1.0</td>\n",
       "      <td>0.0</td>\n",
       "      <td>0.0</td>\n",
       "      <td>0.0</td>\n",
       "      <td>0.0</td>\n",
       "      <td>0.0</td>\n",
       "      <td>0.0</td>\n",
       "      <td>0.0</td>\n",
       "      <td>0.0</td>\n",
       "      <td>...</td>\n",
       "      <td>0.0</td>\n",
       "      <td>0.0</td>\n",
       "      <td>0.0</td>\n",
       "      <td>0.0</td>\n",
       "      <td>0.0</td>\n",
       "      <td>0.0</td>\n",
       "      <td>0.0</td>\n",
       "      <td>0.0</td>\n",
       "      <td>6.0</td>\n",
       "      <td>11.0</td>\n",
       "    </tr>\n",
       "    <tr>\n",
       "      <th>2735157</th>\n",
       "      <td>148.0</td>\n",
       "      <td>0.0</td>\n",
       "      <td>0.0</td>\n",
       "      <td>0.0</td>\n",
       "      <td>1.0</td>\n",
       "      <td>0.0</td>\n",
       "      <td>0.0</td>\n",
       "      <td>0.0</td>\n",
       "      <td>0.0</td>\n",
       "      <td>0.0</td>\n",
       "      <td>...</td>\n",
       "      <td>0.0</td>\n",
       "      <td>0.0</td>\n",
       "      <td>0.0</td>\n",
       "      <td>0.0</td>\n",
       "      <td>0.0</td>\n",
       "      <td>0.0</td>\n",
       "      <td>0.0</td>\n",
       "      <td>0.0</td>\n",
       "      <td>5.0</td>\n",
       "      <td>12.0</td>\n",
       "    </tr>\n",
       "    <tr>\n",
       "      <th>1594196</th>\n",
       "      <td>136.0</td>\n",
       "      <td>0.0</td>\n",
       "      <td>0.0</td>\n",
       "      <td>0.0</td>\n",
       "      <td>0.0</td>\n",
       "      <td>1.0</td>\n",
       "      <td>0.0</td>\n",
       "      <td>0.0</td>\n",
       "      <td>0.0</td>\n",
       "      <td>0.0</td>\n",
       "      <td>...</td>\n",
       "      <td>0.0</td>\n",
       "      <td>0.0</td>\n",
       "      <td>0.0</td>\n",
       "      <td>0.0</td>\n",
       "      <td>0.0</td>\n",
       "      <td>0.0</td>\n",
       "      <td>0.0</td>\n",
       "      <td>0.0</td>\n",
       "      <td>5.0</td>\n",
       "      <td>20.0</td>\n",
       "    </tr>\n",
       "    <tr>\n",
       "      <th>1777030</th>\n",
       "      <td>95.0</td>\n",
       "      <td>0.0</td>\n",
       "      <td>0.0</td>\n",
       "      <td>0.0</td>\n",
       "      <td>1.0</td>\n",
       "      <td>0.0</td>\n",
       "      <td>0.0</td>\n",
       "      <td>0.0</td>\n",
       "      <td>0.0</td>\n",
       "      <td>0.0</td>\n",
       "      <td>...</td>\n",
       "      <td>0.0</td>\n",
       "      <td>0.0</td>\n",
       "      <td>0.0</td>\n",
       "      <td>0.0</td>\n",
       "      <td>0.0</td>\n",
       "      <td>0.0</td>\n",
       "      <td>0.0</td>\n",
       "      <td>0.0</td>\n",
       "      <td>13.0</td>\n",
       "      <td>16.0</td>\n",
       "    </tr>\n",
       "  </tbody>\n",
       "</table>\n",
       "<p>5 rows × 648 columns</p>\n",
       "</div>"
      ],
      "text/plain": [
       "         AirTime  DayOfWeek_1  DayOfWeek_2  DayOfWeek_3  DayOfWeek_4  \\\n",
       "122899      72.0          0.0          0.0          1.0          0.0   \n",
       "2333213    310.0          1.0          0.0          0.0          0.0   \n",
       "2735157    148.0          0.0          0.0          0.0          1.0   \n",
       "1594196    136.0          0.0          0.0          0.0          0.0   \n",
       "1777030     95.0          0.0          0.0          0.0          1.0   \n",
       "\n",
       "         DayOfWeek_5  DayOfWeek_6  DayOfWeek_7  DayofMonth_1  DayofMonth_10  \\\n",
       "122899           0.0          0.0          0.0           0.0            0.0   \n",
       "2333213          0.0          0.0          0.0           0.0            0.0   \n",
       "2735157          0.0          0.0          0.0           0.0            0.0   \n",
       "1594196          1.0          0.0          0.0           0.0            0.0   \n",
       "1777030          0.0          0.0          0.0           0.0            0.0   \n",
       "\n",
       "         ...  Origin_VLD  Origin_VPS  Origin_WRG  Origin_WYS  Origin_XNA  \\\n",
       "122899   ...         0.0         0.0         0.0         0.0         0.0   \n",
       "2333213  ...         0.0         0.0         0.0         0.0         0.0   \n",
       "2735157  ...         0.0         0.0         0.0         0.0         0.0   \n",
       "1594196  ...         0.0         0.0         0.0         0.0         0.0   \n",
       "1777030  ...         0.0         0.0         0.0         0.0         0.0   \n",
       "\n",
       "         Origin_YAK  Origin_YKM  Origin_YUM  TaxiIn  TaxiOut  \n",
       "122899          0.0         0.0         0.0     8.0     11.0  \n",
       "2333213         0.0         0.0         0.0     6.0     11.0  \n",
       "2735157         0.0         0.0         0.0     5.0     12.0  \n",
       "1594196         0.0         0.0         0.0     5.0     20.0  \n",
       "1777030         0.0         0.0         0.0    13.0     16.0  \n",
       "\n",
       "[5 rows x 648 columns]"
      ]
     },
     "execution_count": 16,
     "metadata": {},
     "output_type": "execute_result"
    }
   ],
   "source": [
    "X.head()"
   ]
  },
  {
   "cell_type": "code",
   "execution_count": 17,
   "metadata": {},
   "outputs": [
    {
     "data": {
      "text/plain": [
       "Index(['AirTime', 'DayOfWeek_1', 'DayOfWeek_2', 'DayOfWeek_3', 'DayOfWeek_4',\n",
       "       'DayOfWeek_5', 'DayOfWeek_6', 'DayOfWeek_7', 'DayofMonth_1',\n",
       "       'DayofMonth_10',\n",
       "       ...\n",
       "       'Origin_VLD', 'Origin_VPS', 'Origin_WRG', 'Origin_WYS', 'Origin_XNA',\n",
       "       'Origin_YAK', 'Origin_YKM', 'Origin_YUM', 'TaxiIn', 'TaxiOut'],\n",
       "      dtype='object', length=648)"
      ]
     },
     "execution_count": 17,
     "metadata": {},
     "output_type": "execute_result"
    }
   ],
   "source": [
    "X.columns"
   ]
  },
  {
   "cell_type": "code",
   "execution_count": 21,
   "metadata": {},
   "outputs": [
    {
     "name": "stdout",
     "output_type": "stream",
     "text": [
      "R cuadrado:  0.18597746695717554\n"
     ]
    }
   ],
   "source": [
    "regr = linear_model.LinearRegression()\n",
    "regr.fit(X, Y)\n",
    "\n",
    "Y_pred = regr.predict(X)\n",
    "print(\"R cuadrado: \",r2_score(Y, Y_pred))"
   ]
  },
  {
   "cell_type": "code",
   "execution_count": 22,
   "metadata": {},
   "outputs": [],
   "source": [
    "X = X.add(df[[\"DepDelay\"]],fill_value = 0)"
   ]
  },
  {
   "cell_type": "code",
   "execution_count": 23,
   "metadata": {},
   "outputs": [
    {
     "name": "stdout",
     "output_type": "stream",
     "text": [
      "R cuadrado:  0.971774439567676\n"
     ]
    }
   ],
   "source": [
    "regr = linear_model.LinearRegression()\n",
    "regr.fit(X, Y)\n",
    "\n",
    "Y_pred = regr.predict(X)\n",
    "print(\"R cuadrado: \",r2_score(Y, Y_pred))"
   ]
  },
  {
   "cell_type": "code",
   "execution_count": null,
   "metadata": {},
   "outputs": [],
   "source": []
  }
 ],
 "metadata": {
  "kernelspec": {
   "display_name": "Python 3",
   "language": "python",
   "name": "python3"
  },
  "language_info": {
   "codemirror_mode": {
    "name": "ipython",
    "version": 3
   },
   "file_extension": ".py",
   "mimetype": "text/x-python",
   "name": "python",
   "nbconvert_exporter": "python",
   "pygments_lexer": "ipython3",
   "version": "3.8.5"
  }
 },
 "nbformat": 4,
 "nbformat_minor": 4
}
