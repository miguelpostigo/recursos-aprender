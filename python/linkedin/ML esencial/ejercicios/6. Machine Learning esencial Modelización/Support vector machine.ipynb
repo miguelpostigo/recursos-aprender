{
 "cells": [
  {
   "cell_type": "code",
   "execution_count": 3,
   "metadata": {},
   "outputs": [],
   "source": [
    "import pandas as pd\n",
    "import numpy as np\n",
    "from sklearn.svm import SVC\n",
    "\n",
    "df = pd.read_csv(\"C:/Users/miguel.postigo/Desktop/carpeta/programacion/python/linkedin/esencial/base_datos_2008.csv\")\n",
    "#[]\n",
    "df = df.dropna(subset = [\"ArrDelay\"])\n",
    "df = df.sample(frac = 1)\n",
    "dftest = df.tail(1000)\n",
    "df = df.head(1000)"
   ]
  },
  {
   "cell_type": "code",
   "execution_count": 6,
   "metadata": {},
   "outputs": [],
   "source": [
    "#Variables REGRESORAS/DEPENDIENTES\n",
    "X = df[[\"Distance\",\"AirTime\",\"DepTime\",\"TaxiOut\",\"TaxiIn\",\"DepDelay\"]]\n",
    "X_test = dftest[[\"Distance\",\"AirTime\",\"DepTime\",\"TaxiOut\",\"TaxiIn\",\"DepDelay\"]]\n",
    "#Variables RESPUESTA\n",
    "Y = df[\"ArrDelay\"] > 10\n",
    "Y_test = dftest[\"ArrDelay\"] > 10\n",
    "\n",
    "clf = SVC(kernel = \"linear\") #kernel = \"linear\"\n",
    "clf = clf.fit(X, Y)\n",
    "\n",
    "Y_pred = clf.predict(X_test)\n",
    "#C / kernel"
   ]
  },
  {
   "cell_type": "code",
   "execution_count": 7,
   "metadata": {},
   "outputs": [
    {
     "data": {
      "text/plain": [
       "0.918"
      ]
     },
     "execution_count": 7,
     "metadata": {},
     "output_type": "execute_result"
    }
   ],
   "source": [
    "np.mean(Y_pred == Y_test)"
   ]
  },
  {
   "cell_type": "code",
   "execution_count": null,
   "metadata": {},
   "outputs": [],
   "source": [
    "# linear / poly / rbf / sigmoid -->Asociados a otros parámetros\n",
    "\n",
    "#Para kernels lineales --> LINEARSVC()"
   ]
  }
 ],
 "metadata": {
  "kernelspec": {
   "display_name": "Python 3",
   "language": "python",
   "name": "python3"
  },
  "language_info": {
   "codemirror_mode": {
    "name": "ipython",
    "version": 3
   },
   "file_extension": ".py",
   "mimetype": "text/x-python",
   "name": "python",
   "nbconvert_exporter": "python",
   "pygments_lexer": "ipython3",
   "version": "3.8.5"
  }
 },
 "nbformat": 4,
 "nbformat_minor": 4
}
