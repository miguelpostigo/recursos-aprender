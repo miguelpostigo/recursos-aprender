{
 "cells": [
  {
   "cell_type": "code",
   "execution_count": 1,
   "metadata": {},
   "outputs": [],
   "source": [
    "import numpy as np # linear algebra\n",
    "import pandas as pd # data processing\n",
    "df = pd.read_csv(\"C:/Users/miguel.postigo/Desktop/carpeta/programacion/python/kaggle/Pokemon.csv\")\n",
    "#[]"
   ]
  },
  {
   "cell_type": "code",
   "execution_count": 2,
   "metadata": {},
   "outputs": [
    {
     "data": {
      "text/plain": [
       "[1, 2, 3]"
      ]
     },
     "execution_count": 2,
     "metadata": {},
     "output_type": "execute_result"
    }
   ],
   "source": [
    "#rank 1; length axis 3\n",
    "[1,2,3]"
   ]
  },
  {
   "cell_type": "code",
   "execution_count": 3,
   "metadata": {},
   "outputs": [
    {
     "data": {
      "text/plain": [
       "[[1, 2, 3], [4, 5, 6]]"
      ]
     },
     "execution_count": 3,
     "metadata": {},
     "output_type": "execute_result"
    }
   ],
   "source": [
    "#rank 2; length axis 3\n",
    "[[ 1, 2, 3],[ 4, 5, 6]]"
   ]
  },
  {
   "cell_type": "code",
   "execution_count": 4,
   "metadata": {},
   "outputs": [
    {
     "name": "stdout",
     "output_type": "stream",
     "text": [
      "[1 2 3]\n",
      "[[1 2 3]\n",
      " [4 5 6]]\n"
     ]
    }
   ],
   "source": [
    "#create an array of NumPy through the array function\n",
    "a = np.array([1, 2, 3])\n",
    "b = np.array([(1,2,3), (4,5,6)])\n",
    "\n",
    "print(a)\n",
    "print(b)"
   ]
  },
  {
   "cell_type": "code",
   "execution_count": 5,
   "metadata": {},
   "outputs": [],
   "source": [
    "# a = np.array(1,2,3,4) # WRONG!!!"
   ]
  },
  {
   "cell_type": "markdown",
   "metadata": {},
   "source": [
    "NumPy's array class is ndarray, which has an alias numpy.array, but it's different from array.array in the Python standard library\n",
    "The latter is just a one-dimensional array"
   ]
  },
  {
   "cell_type": "code",
   "execution_count": 6,
   "metadata": {},
   "outputs": [
    {
     "data": {
      "text/plain": [
       "numpy.ndarray"
      ]
     },
     "execution_count": 6,
     "metadata": {},
     "output_type": "execute_result"
    }
   ],
   "source": [
    "type(a)"
   ]
  },
  {
   "cell_type": "markdown",
   "metadata": {},
   "source": [
    "- *ndarray.ndim*: the dimension number of the array. It's called rank in Python.\n",
    "\n",
    "- *ndarray.shape*: the dimension of the array. It's a series of numbers whose length is determined by the dimension （ndim） of the array. For example, the shape of a one-dimensional array with length n is n. And the shape of an array with n rows and m columns is n,m.\n",
    "\n",
    "- *ndarray.size*: the number of all elements in the array.\n",
    "\n",
    "- *ndarray.dtype*: the type of the element in the array, such as numpy.int32, numpy.int16, or numpy.float64.\n",
    "\n",
    "- *ndarray.itemsize*: the size of each element in the array, in bytes.\n",
    "\n",
    "- *ndarray.data*: the buffering for storing the array elements. Usually we only need to access the elements by subscripts, and don't need to access the buffer."
   ]
  },
  {
   "cell_type": "code",
   "execution_count": 7,
   "metadata": {},
   "outputs": [
    {
     "name": "stdout",
     "output_type": "stream",
     "text": [
      "1\n",
      "2\n"
     ]
    }
   ],
   "source": [
    "#nº de dimensiones del array/rank\n",
    "print(a.ndim)\n",
    "print(b.ndim)"
   ]
  },
  {
   "cell_type": "code",
   "execution_count": 8,
   "metadata": {},
   "outputs": [
    {
     "name": "stdout",
     "output_type": "stream",
     "text": [
      "(3,)\n",
      "(2, 3)\n"
     ]
    }
   ],
   "source": [
    "#\n",
    "print(a.shape)\n",
    "print(b.shape)"
   ]
  },
  {
   "cell_type": "code",
   "execution_count": 9,
   "metadata": {},
   "outputs": [
    {
     "name": "stdout",
     "output_type": "stream",
     "text": [
      "a=\n",
      "[1 2 3]\n",
      "a's ndim 1\n",
      "a's shape (3,)\n",
      "a's size 3\n",
      "a's dtype int32\n",
      "a's itemsize 4\n",
      "\n",
      "b=\n",
      "[[1 2 3]\n",
      " [4 5 6]]\n",
      "b's ndim 2\n",
      "b's shape (2, 3)\n",
      "b's size 6\n",
      "b's dtype int32\n",
      "b's itemsize 4\n"
     ]
    }
   ],
   "source": [
    "a = np.array([1, 2, 3])\n",
    "b = np.array([(1,2,3), (4,5,6)])\n",
    "\n",
    "print('a=')\n",
    "print(a)\n",
    "#Nº DE DIMENSIONES del array/rank\n",
    "print(\"a's ndim {}\".format(a.ndim))\n",
    "#la DIMENSION del array\n",
    "print(\"a's shape {}\".format(a.shape))\n",
    "#Nº DE ELEMENTOS del array\n",
    "print(\"a's size {}\".format(a.size))\n",
    "#TIPO de los elementos del array\n",
    "print(\"a's dtype {}\".format(a.dtype))\n",
    "#TAMAÑO de cada elemento del array en bytes\n",
    "print(\"a's itemsize {}\".format(a.itemsize))\n",
    "\n",
    "print('')\n",
    "\n",
    "print('b=')\n",
    "print(b)\n",
    "print(\"b's ndim {}\".format(b.ndim))\n",
    "print(\"b's shape {}\".format(b.shape))\n",
    "print(\"b's size {}\".format(b.size))\n",
    "print(\"b's dtype {}\".format(b.dtype))\n",
    "print(\"b's itemsize {}\".format(b.itemsize))"
   ]
  },
  {
   "cell_type": "markdown",
   "metadata": {},
   "source": [
    "We can also *specify the type of the element* when creating the array, for example:"
   ]
  },
  {
   "cell_type": "code",
   "execution_count": 10,
   "metadata": {},
   "outputs": [
    {
     "data": {
      "text/plain": [
       "array([[1.+0.j, 2.+0.j],\n",
       "       [3.+0.j, 4.+0.j]])"
      ]
     },
     "execution_count": 10,
     "metadata": {},
     "output_type": "execute_result"
    }
   ],
   "source": [
    "c = np.array( [ [1,2], [3,4] ], dtype=complex )\n",
    "c"
   ]
  },
  {
   "cell_type": "markdown",
   "metadata": {},
   "source": [
    "# Create a specific array"
   ]
  },
  {
   "cell_type": "markdown",
   "metadata": {},
   "source": [
    "- zeros: used to create an array whose elements are all 0\n",
    "\n",
    "- ones: used to create an array whose elements are all 1\n",
    "\n",
    "- empty: used to create uninitialized data. so the content is \n",
    "undefined.\n",
    "\n",
    "- arange: used to create an array by specifying the scope and step-length (alcance y longitud de paso)\n",
    "\n",
    "- linespace: used to create an array by specifying the range and the number of elements\n",
    "\n",
    "- random: used to generate random numbers"
   ]
  },
  {
   "cell_type": "code",
   "execution_count": 11,
   "metadata": {},
   "outputs": [
    {
     "name": "stdout",
     "output_type": "stream",
     "text": [
      "np.zeros((2,3)= \n",
      "[[[0. 0. 0. 0. 0.]\n",
      "  [0. 0. 0. 0. 0.]\n",
      "  [0. 0. 0. 0. 0.]]\n",
      "\n",
      " [[0. 0. 0. 0. 0.]\n",
      "  [0. 0. 0. 0. 0.]\n",
      "  [0. 0. 0. 0. 0.]]]\n",
      "\n",
      "np.ones((2,3))= \n",
      "[[[1. 1. 1. 1.]\n",
      "  [1. 1. 1. 1.]\n",
      "  [1. 1. 1. 1.]]\n",
      "\n",
      " [[1. 1. 1. 1.]\n",
      "  [1. 1. 1. 1.]\n",
      "  [1. 1. 1. 1.]]\n",
      "\n",
      " [[1. 1. 1. 1.]\n",
      "  [1. 1. 1. 1.]\n",
      "  [1. 1. 1. 1.]]\n",
      "\n",
      " [[1. 1. 1. 1.]\n",
      "  [1. 1. 1. 1.]\n",
      "  [1. 1. 1. 1.]]]\n",
      "\n",
      "np.empty((2,3))= \n",
      "[[7.74860419e-304 7.74860419e-304 7.74860419e-304]\n",
      " [7.74860419e-304 7.74860419e-304 7.74860419e-304]]\n",
      "\n",
      "np.arange(1, 2, 0.3)= \n",
      "[1.  1.3 1.6 1.9]\n",
      "\n",
      "np.arange(1, 4, 0.15)= \n",
      "[1.   1.15 1.3  1.45 1.6  1.75 1.9  2.05 2.2  2.35 2.5  2.65 2.8  2.95\n",
      " 3.1  3.25 3.4  3.55 3.7  3.85]\n",
      "\n",
      "np.arange(11,20)= \n",
      "[11 12 13 14 15 16 17 18 19]\n",
      "\n",
      "np.linspace(1, 2, 7)= \n",
      "[1.         1.16666667 1.33333333 1.5        1.66666667 1.83333333\n",
      " 2.        ]\n",
      "\n",
      "np.random.random((2,3))= \n",
      "[[0.0981597  0.79738392 0.05004178]\n",
      " [0.6061204  0.29284739 0.14135689]]\n",
      "\n"
     ]
    }
   ],
   "source": [
    "a = np.zeros((2,3,5))\n",
    "print('np.zeros((2,3)= \\n{}\\n'.format(a))\n",
    "\n",
    "b = np.ones((4,3,4))\n",
    "print('np.ones((2,3))= \\n{}\\n'.format(b))\n",
    "\n",
    "c = np.empty((2,3))\n",
    "print('np.empty((2,3))= \\n{}\\n'.format(c))\n",
    "\n",
    "d = np.arange(1, 2, 0.3)\n",
    "print('np.arange(1, 2, 0.3)= \\n{}\\n'.format(d))\n",
    "\n",
    "d2 = np.arange(1, 4, 0.15)\n",
    "print('np.arange(1, 4, 0.15)= \\n{}\\n'.format(d2))\n",
    "\n",
    "d3 = np.arange(11,20)\n",
    "print('np.arange(11,20)= \\n{}\\n'.format(d3))\n",
    "\n",
    "\n",
    "e = np.linspace(1, 2, 7)\n",
    "print('np.linspace(1, 2, 7)= \\n{}\\n'.format(e))\n",
    "\n",
    "f = np.random.random((2,3))\n",
    "print('np.random.random((2,3))= \\n{}\\n'.format(f))"
   ]
  },
  {
   "cell_type": "markdown",
   "metadata": {},
   "source": [
    "# Shape and operation"
   ]
  },
  {
   "cell_type": "markdown",
   "metadata": {},
   "source": [
    "after we have held some data, we may need to generate some new data structures based on the existing array"
   ]
  },
  {
   "cell_type": "markdown",
   "metadata": {},
   "source": [
    "- *reshape*: used to generate a new array based on the existing array and the specified shape\n",
    "\n",
    "- *vstack*: used to stack multiple arrays in vertical direction (the dimensions of the array must be matched) - apilar/amontonar\n",
    "\n",
    "- *hstack*: used to stack multiple arrays in horizontal direction (the dimensions of the array must be matched)\n",
    "\n",
    "- *hsplit*: used to split the array horizontally\n",
    "\n",
    "- *vsplit*: used to split the array vertically\n"
   ]
  },
  {
   "cell_type": "markdown",
   "metadata": {},
   "source": [
    "To make it easier to test, let's create a few data:"
   ]
  },
  {
   "cell_type": "code",
   "execution_count": 12,
   "metadata": {},
   "outputs": [
    {
     "name": "stdout",
     "output_type": "stream",
     "text": [
      "zero_line = \n",
      "[[0. 0. 0.]]\n",
      "\n",
      "one_column = \n",
      "[[1.]\n",
      " [1.]\n",
      " [1.]]\n",
      "\n",
      "a = \n",
      "[[1 2 3]\n",
      " [4 5 6]]\n",
      "\n",
      "b = \n",
      "[11 12 13 14 15 16 17 18 19]\n",
      "\n"
     ]
    }
   ],
   "source": [
    "#an array with a row containing three 0\n",
    "zero_line = np.zeros((1,3))\n",
    "#an array with a column containing three 1\n",
    "one_column = np.ones((3,1))\n",
    "print(\"zero_line = \\n{}\\n\".format(zero_line))\n",
    "print(\"one_column = \\n{}\\n\".format(one_column))\n",
    "#a matrix with 2 rows and 3 columns\n",
    "a = np.array([(1,2,3), (4,5,6)])\n",
    "#an integer array in the interval of [11,20]\n",
    "b = np.arange(11, 20)\n",
    "print(\"a = \\n{}\\n\".format(a))\n",
    "print(\"b = \\n{}\\n\".format(b))"
   ]
  },
  {
   "cell_type": "code",
   "execution_count": 13,
   "metadata": {},
   "outputs": [
    {
     "name": "stdout",
     "output_type": "stream",
     "text": [
      "b = \n",
      "[11 12 13 14 15 16 17 18 19]\n",
      "\n",
      "b.reshape(3, -1) = \n",
      "[[11 12 13]\n",
      " [14 15 16]\n",
      " [17 18 19]]\n",
      "\n"
     ]
    }
   ],
   "source": [
    "b = np.arange(11, 20)\n",
    "print(\"b = \\n{}\\n\".format(b))\n",
    "b = b.reshape(3, -1)\n",
    "print(\"b.reshape(3, -1) = \\n{}\\n\".format(b))"
   ]
  },
  {
   "cell_type": "markdown",
   "metadata": {},
   "source": [
    "The second parameter here is set to -1, which means that it'll be determined based on actual conditions automatically. Since the array has 9 elements originally, the matrix after being resized is 3X3"
   ]
  },
  {
   "cell_type": "code",
   "execution_count": 14,
   "metadata": {},
   "outputs": [
    {
     "name": "stdout",
     "output_type": "stream",
     "text": [
      "c = np.vstack((a,b, zero_line)) = \n",
      "[[ 1.  2.  3.]\n",
      " [ 4.  5.  6.]\n",
      " [11. 12. 13.]\n",
      " [14. 15. 16.]\n",
      " [17. 18. 19.]\n",
      " [ 0.  0.  0.]]\n",
      "\n"
     ]
    }
   ],
   "source": [
    "c = np.vstack((a, b, zero_line))\n",
    "print(\"c = np.vstack((a,b, zero_line)) = \\n{}\\n\".format(c))"
   ]
  },
  {
   "cell_type": "markdown",
   "metadata": {},
   "source": [
    "Similarly, we can also use the hstack for horizontal stacking. This time we need to adjust the structure of the array a first"
   ]
  },
  {
   "cell_type": "code",
   "execution_count": 15,
   "metadata": {},
   "outputs": [
    {
     "name": "stdout",
     "output_type": "stream",
     "text": [
      "a.reshape(3, 2) = \n",
      "[[1 2]\n",
      " [3 4]\n",
      " [5 6]]\n",
      "\n",
      "d = np.hstack((a,b, one_column)) = \n",
      "[[ 1.  2. 11. 12. 13.  1.]\n",
      " [ 3.  4. 14. 15. 16.  1.]\n",
      " [ 5.  6. 17. 18. 19.  1.]]\n",
      "\n"
     ]
    }
   ],
   "source": [
    "a = a.reshape(3, 2)\n",
    "print(\"a.reshape(3, 2) = \\n{}\\n\".format(a))\n",
    "\n",
    "d = np.hstack((a, b, one_column))\n",
    "print(\"d = np.hstack((a,b, one_column)) = \\n{}\\n\".format(d))"
   ]
  },
  {
   "cell_type": "markdown",
   "metadata": {},
   "source": [
    "Let's take a look at the split."
   ]
  },
  {
   "cell_type": "markdown",
   "metadata": {},
   "source": [
    "First, we split the array d into three arrays in horizontal direction. Then we print out the middle one (the subscript is 1):"
   ]
  },
  {
   "cell_type": "code",
   "execution_count": 16,
   "metadata": {
    "scrolled": true
   },
   "outputs": [
    {
     "name": "stdout",
     "output_type": "stream",
     "text": [
      "d = np.hstack((a,b, one_column)) = \n",
      "[[ 1.  2. 11. 12. 13.  1.]\n",
      " [ 3.  4. 14. 15. 16.  1.]\n",
      " [ 5.  6. 17. 18. 19.  1.]]\n",
      "\n",
      "e = np.hsplit(d, 3) = \n",
      "[array([[1., 2.],\n",
      "       [3., 4.],\n",
      "       [5., 6.]]), array([[11., 12.],\n",
      "       [14., 15.],\n",
      "       [17., 18.]]), array([[13.,  1.],\n",
      "       [16.,  1.],\n",
      "       [19.,  1.]])]\n",
      "\n",
      "e[1] = \n",
      "[[11. 12.]\n",
      " [14. 15.]\n",
      " [17. 18.]]\n",
      "\n"
     ]
    }
   ],
   "source": [
    "d = np.hstack((a, b, one_column))\n",
    "print(\"d = np.hstack((a,b, one_column)) = \\n{}\\n\".format(d))\n",
    "e = np.hsplit(d, 3) # Split a into 3\n",
    "print(\"e = np.hsplit(d, 3) = \\n{}\\n\".format(e))\n",
    "#Then we print out the middle one \n",
    "print(\"e[1] = \\n{}\\n\".format(e[1]))"
   ]
  },
  {
   "cell_type": "markdown",
   "metadata": {},
   "source": [
    "In addition to specifying number to split the array evenly, we can also specify the number of columns to split. The following is to split the array d from the first column and the third column:"
   ]
  },
  {
   "cell_type": "code",
   "execution_count": 17,
   "metadata": {},
   "outputs": [
    {
     "name": "stdout",
     "output_type": "stream",
     "text": [
      "d = np.hstack((a,b, one_column)) = \n",
      "[[ 1.  2. 11. 12. 13.  1.]\n",
      " [ 3.  4. 14. 15. 16.  1.]\n",
      " [ 5.  6. 17. 18. 19.  1.]]\n",
      "\n",
      "f = np.hsplit(d, (1, 3)) = \n",
      "[array([[1.],\n",
      "       [3.],\n",
      "       [5.]]), array([[ 2., 11.],\n",
      "       [ 4., 14.],\n",
      "       [ 6., 17.]]), array([[12., 13.,  1.],\n",
      "       [15., 16.,  1.],\n",
      "       [18., 19.,  1.]])]\n",
      "\n"
     ]
    }
   ],
   "source": [
    "d = np.hstack((a, b, one_column))\n",
    "print(\"d = np.hstack((a,b, one_column)) = \\n{}\\n\".format(d))\n",
    "#Split a after the 1st and the 3rd column\n",
    "f = np.hsplit(d, (1, 3)) \n",
    "print(\"f = np.hsplit(d, (1, 3)) = \\n{}\\n\".format(f))"
   ]
  },
  {
   "cell_type": "markdown",
   "metadata": {},
   "source": [
    "Finally, we split the array d in the vertical direction. Similarly, if the specified number cannot make the array be split evenly, it will fail:"
   ]
  },
  {
   "cell_type": "code",
   "execution_count": 18,
   "metadata": {},
   "outputs": [
    {
     "name": "stdout",
     "output_type": "stream",
     "text": [
      "d = np.hstack((a,b, one_column)) = \n",
      "[[ 1.  2. 11. 12. 13.  1.]\n",
      " [ 3.  4. 14. 15. 16.  1.]\n",
      " [ 5.  6. 17. 18. 19.  1.]]\n",
      "\n",
      "g = np.vsplit(d, 3) = \n",
      "[array([[ 1.,  2., 11., 12., 13.,  1.]]), array([[ 3.,  4., 14., 15., 16.,  1.]]), array([[ 5.,  6., 17., 18., 19.,  1.]])]\n",
      "\n"
     ]
    }
   ],
   "source": [
    "d = np.hstack((a, b, one_column))\n",
    "print(\"d = np.hstack((a,b, one_column)) = \\n{}\\n\".format(d))\n",
    "g = np.vsplit(d, 3)\n",
    "print(\"g = np.vsplit(d, 3) = \\n{}\\n\".format(g))\n",
    "\n",
    "#h = np.vsplit(d, 2) \n",
    "# ValueError: array split does not result in an equal division\n"
   ]
  },
  {
   "cell_type": "markdown",
   "metadata": {},
   "source": [
    "# Index"
   ]
  },
  {
   "cell_type": "markdown",
   "metadata": {},
   "source": [
    "how to access the data in the NumPy array\n",
    "\n",
    "for testing convenience, let's create a one-dimensional array first. Its content is integers in the interval of (100,200)\n",
    "\n",
    "Basically, we can specify the subscripts by array[index] to access the elements of the array."
   ]
  },
  {
   "cell_type": "code",
   "execution_count": 19,
   "metadata": {},
   "outputs": [
    {
     "name": "stdout",
     "output_type": "stream",
     "text": [
      "base_data\n",
      "=[100 101 102 103 104 105 106 107 108 109 110 111 112 113 114 115 116 117\n",
      " 118 119 120 121 122 123 124 125 126 127 128 129 130 131 132 133 134 135\n",
      " 136 137 138 139 140 141 142 143 144 145 146 147 148 149 150 151 152 153\n",
      " 154 155 156 157 158 159 160 161 162 163 164 165 166 167 168 169 170 171\n",
      " 172 173 174 175 176 177 178 179 180 181 182 183 184 185 186 187 188 189\n",
      " 190 191 192 193 194 195 196 197 198 199]\n",
      "\n",
      "base_data[10] = 110\n",
      "\n"
     ]
    }
   ],
   "source": [
    "base_data = np.arange(100, 200)\n",
    "print(\"base_data\\n={}\\n\".format(base_data))\n",
    "\n",
    "print(\"base_data[10] = {}\\n\".format(base_data[10]))"
   ]
  },
  {
   "cell_type": "markdown",
   "metadata": {},
   "source": [
    "In NumPy, we can create an array containing several subscripts (subíndices) to get the elements in the target array (array objetivo). \n",
    "For example:"
   ]
  },
  {
   "cell_type": "code",
   "execution_count": 20,
   "metadata": {},
   "outputs": [
    {
     "name": "stdout",
     "output_type": "stream",
     "text": [
      "base_data[every_five] = \n",
      "[100 105 110 115 120 125 130 135 140 145 150 155 160 165 170 175 180 185\n",
      " 190 195]\n",
      "\n"
     ]
    }
   ],
   "source": [
    "every_five = np.arange(0, 100, 5)\n",
    "print(\"base_data[every_five] = \\n{}\\n\".format(\n",
    "    base_data[every_five]))"
   ]
  },
  {
   "cell_type": "markdown",
   "metadata": {},
   "source": [
    "¡OJO¡\n",
    "\n",
    "The subscript array (el array de subíndices) can be one-dimensional, or multi-dimensional. \n",
    "\n",
    "Let's suppose that we want to get a 2X2 matrix whose content comes from the four subscripts of 1, 2, 10, and 20 in the target array (array objetivo), so the code can be written:"
   ]
  },
  {
   "cell_type": "code",
   "execution_count": 21,
   "metadata": {
    "scrolled": true
   },
   "outputs": [
    {
     "name": "stdout",
     "output_type": "stream",
     "text": [
      "a = \n",
      "[[ 1  2]\n",
      " [10 20]]\n",
      "\n",
      "base_data[a] = \n",
      "[[101 102]\n",
      " [110 120]]\n",
      "\n"
     ]
    }
   ],
   "source": [
    "a = np.array([(1,2), (10,20)])\n",
    "print(\"a = \\n{}\\n\".format(a))\n",
    "print(\"base_data[a] = \\n{}\\n\".format(base_data[a]))"
   ]
  },
  {
   "cell_type": "code",
   "execution_count": 22,
   "metadata": {},
   "outputs": [
    {
     "data": {
      "text/plain": [
       "[0,\n",
       " 2,\n",
       " 4,\n",
       " 6,\n",
       " 8,\n",
       " 10,\n",
       " 12,\n",
       " 14,\n",
       " 16,\n",
       " 18,\n",
       " 20,\n",
       " 22,\n",
       " 24,\n",
       " 26,\n",
       " 28,\n",
       " 30,\n",
       " 32,\n",
       " 34,\n",
       " 36,\n",
       " 38,\n",
       " 40,\n",
       " 42,\n",
       " 44,\n",
       " 46,\n",
       " 48,\n",
       " 50,\n",
       " 52,\n",
       " 54,\n",
       " 56,\n",
       " 58,\n",
       " 60,\n",
       " 62,\n",
       " 64,\n",
       " 66,\n",
       " 68,\n",
       " 70,\n",
       " 72,\n",
       " 74,\n",
       " 76,\n",
       " 78,\n",
       " 80,\n",
       " 82,\n",
       " 84,\n",
       " 86,\n",
       " 88,\n",
       " 90,\n",
       " 92,\n",
       " 94,\n",
       " 96,\n",
       " 98]"
      ]
     },
     "execution_count": 22,
     "metadata": {},
     "output_type": "execute_result"
    }
   ],
   "source": [
    "lista_compresion = [x for x in range (0,100) if x%2==0]\n",
    "lista_compresion"
   ]
  },
  {
   "cell_type": "code",
   "execution_count": 23,
   "metadata": {},
   "outputs": [
    {
     "data": {
      "text/plain": [
       "array([[ 0,  2,  4,  6,  8, 10, 12, 14, 16, 18],\n",
       "       [20, 22, 24, 26, 28, 30, 32, 34, 36, 38],\n",
       "       [40, 42, 44, 46, 48, 50, 52, 54, 56, 58],\n",
       "       [60, 62, 64, 66, 68, 70, 72, 74, 76, 78],\n",
       "       [80, 82, 84, 86, 88, 90, 92, 94, 96, 98]])"
      ]
     },
     "execution_count": 23,
     "metadata": {},
     "output_type": "execute_result"
    }
   ],
   "source": [
    "b = np.array(lista_compresion)\n",
    "len(b)\n",
    "b = b.reshape(5,-1)\n",
    "b"
   ]
  },
  {
   "cell_type": "code",
   "execution_count": 24,
   "metadata": {},
   "outputs": [
    {
     "name": "stdout",
     "output_type": "stream",
     "text": [
      "base_data\n",
      "=[100 101 102 103 104 105 106 107 108 109 110 111 112 113 114 115 116 117\n",
      " 118 119 120 121 122 123 124 125 126 127 128 129 130 131 132 133 134 135\n",
      " 136 137 138 139 140 141 142 143 144 145 146 147 148 149 150 151 152 153\n",
      " 154 155 156 157 158 159 160 161 162 163 164 165 166 167 168 169 170 171\n",
      " 172 173 174 175 176 177 178 179 180 181 182 183 184 185 186 187 188 189\n",
      " 190 191 192 193 194 195 196 197 198 199]\n",
      "\n",
      "b = \n",
      "[[ 0  2  4  6  8 10 12 14 16 18]\n",
      " [20 22 24 26 28 30 32 34 36 38]\n",
      " [40 42 44 46 48 50 52 54 56 58]\n",
      " [60 62 64 66 68 70 72 74 76 78]\n",
      " [80 82 84 86 88 90 92 94 96 98]]\n",
      "\n",
      "base_data[b] = \n",
      "[[100 102 104 106 108 110 112 114 116 118]\n",
      " [120 122 124 126 128 130 132 134 136 138]\n",
      " [140 142 144 146 148 150 152 154 156 158]\n",
      " [160 162 164 166 168 170 172 174 176 178]\n",
      " [180 182 184 186 188 190 192 194 196 198]]\n",
      "\n"
     ]
    }
   ],
   "source": [
    "base_data = np.arange(100, 200)\n",
    "print(\"base_data\\n={}\\n\".format(base_data))\n",
    "print(\"b = \\n{}\\n\".format(b))\n",
    "print(\"base_data[b] = \\n{}\\n\".format(base_data[b]))"
   ]
  },
  {
   "cell_type": "markdown",
   "metadata": {},
   "source": [
    "The above we see is the case where the target array (base_data) is one-dimensional. Let's convert the following array into a 10X10 two-dimensional array."
   ]
  },
  {
   "cell_type": "code",
   "execution_count": 25,
   "metadata": {},
   "outputs": [
    {
     "name": "stdout",
     "output_type": "stream",
     "text": [
      "base_data2 = np.reshape(base_data, (20, -1)) = \n",
      "[[100 101 102 103 104]\n",
      " [105 106 107 108 109]\n",
      " [110 111 112 113 114]\n",
      " [115 116 117 118 119]\n",
      " [120 121 122 123 124]\n",
      " [125 126 127 128 129]\n",
      " [130 131 132 133 134]\n",
      " [135 136 137 138 139]\n",
      " [140 141 142 143 144]\n",
      " [145 146 147 148 149]\n",
      " [150 151 152 153 154]\n",
      " [155 156 157 158 159]\n",
      " [160 161 162 163 164]\n",
      " [165 166 167 168 169]\n",
      " [170 171 172 173 174]\n",
      " [175 176 177 178 179]\n",
      " [180 181 182 183 184]\n",
      " [185 186 187 188 189]\n",
      " [190 191 192 193 194]\n",
      " [195 196 197 198 199]]\n",
      "\n"
     ]
    }
   ],
   "source": [
    "base_data2 = base_data.reshape(20,-1)\n",
    "print(\"base_data2 = np.reshape(base_data, (20, -1)) = \\n{}\\n\".format(base_data2))"
   ]
  },
  {
   "cell_type": "markdown",
   "metadata": {},
   "source": [
    "For a two-dimensional array,\n",
    "\n",
    "- if we only specify one subscript, the result of the access is still an array.\n",
    "\n",
    "- if we specify two subscripts, the result of the access is the elements inside.\n",
    "\n",
    "- we can also specify the last element by \"-1\"."
   ]
  },
  {
   "cell_type": "code",
   "execution_count": 26,
   "metadata": {},
   "outputs": [
    {
     "name": "stdout",
     "output_type": "stream",
     "text": [
      "base_data2[2] = \n",
      "[110 111 112 113 114]\n",
      "\n",
      "base_data2[2, 3] = \n",
      "113\n",
      "\n",
      "base_data2[-1, -1] = \n",
      "199\n",
      "\n"
     ]
    }
   ],
   "source": [
    "#ahora el array no es de una direccion, sino de dos: (10,10)\n",
    "print(\"base_data2[2] = \\n{}\\n\".format(base_data2[2]))\n",
    "print(\"base_data2[2, 3] = \\n{}\\n\".format(base_data2[2, 3]))\n",
    "print(\"base_data2[-1, -1] = \\n{}\\n\".format(base_data2[-1, -1]))"
   ]
  },
  {
   "cell_type": "markdown",
   "metadata": {},
   "source": [
    "In addition, we can also specify the scope by \":\", such as: 2:5 .\n",
    "\n",
    "-Only to write \":\" indicates the full scope. (todo el alcance)\n",
    "\n",
    "Please see the code below:\n",
    "\n",
    "It will:\n",
    "\n",
    "- get all the elements of the row whose subscript is 2\n",
    "- get all the elements of the column whose subscript is 3\n",
    "- get all the elements of the rows whose subscripts are in [2,5) and the columns * whose subscripts are in [2,4). Please observe the following output carefully:\n"
   ]
  },
  {
   "cell_type": "code",
   "execution_count": 27,
   "metadata": {},
   "outputs": [
    {
     "name": "stdout",
     "output_type": "stream",
     "text": [
      "base_data2 = np.reshape(base_data, (10, -1)) = \n",
      "[[100 101 102 103 104 105 106 107 108 109]\n",
      " [110 111 112 113 114 115 116 117 118 119]\n",
      " [120 121 122 123 124 125 126 127 128 129]\n",
      " [130 131 132 133 134 135 136 137 138 139]\n",
      " [140 141 142 143 144 145 146 147 148 149]\n",
      " [150 151 152 153 154 155 156 157 158 159]\n",
      " [160 161 162 163 164 165 166 167 168 169]\n",
      " [170 171 172 173 174 175 176 177 178 179]\n",
      " [180 181 182 183 184 185 186 187 188 189]\n",
      " [190 191 192 193 194 195 196 197 198 199]]\n",
      "\n",
      "base_data2[2, :]] = \n",
      "[120 121 122 123 124 125 126 127 128 129]\n",
      "\n",
      "base_data2[:, 3]] = \n",
      "[103 113 123 133 143 153 163 173 183 193]\n",
      "\n",
      "base_data2[2:5, 2:4]] = \n",
      "[[122 123]\n",
      " [132 133]\n",
      " [142 143]]\n",
      "\n"
     ]
    }
   ],
   "source": [
    "base_data2 = base_data.reshape(10, -1)\n",
    "print(\"base_data2 = np.reshape(base_data, (10, -1)) = \\n{}\\n\".format(base_data2))\n",
    "print(\"base_data2[2, :]] = \\n{}\\n\".format(base_data2[2, :]))\n",
    "print(\"base_data2[:, 3]] = \\n{}\\n\".format(base_data2[:, 3]))\n",
    "print(\"base_data2[2:5, 2:4]] = \\n{}\\n\".format(base_data2[2:5, 2:4]))"
   ]
  },
  {
   "cell_type": "markdown",
   "metadata": {},
   "source": [
    "# Mathematics"
   ]
  },
  {
   "cell_type": "markdown",
   "metadata": {},
   "source": [
    "There are also a lot of mathematical functions in NumPy. Here are some examples."
   ]
  },
  {
   "cell_type": "code",
   "execution_count": 28,
   "metadata": {},
   "outputs": [
    {
     "name": "stdout",
     "output_type": "stream",
     "text": [
      "base_data = \n",
      "[[ 43.19147154 -41.83705626  -0.50109004  33.22681622  47.3219662 ]\n",
      " [-45.67220771 -16.4600685   -4.51514834  41.00091247  25.42844511]\n",
      " [-18.49985093  18.92907046  -2.40502971 -15.65106091  27.33543635]\n",
      " [-28.15542016  22.9354051  -43.47835908  47.36412276  27.44284992]\n",
      " [  9.85786346 -48.22009665 -26.21208284 -37.67870755  27.4481111 ]]\n",
      "\n",
      "np.amin(base_data) = -48.22009664758083\n",
      "np.amax(base_data) = 47.36412275808376\n",
      "np.average(base_data) = 1.6878516801683872\n",
      "np.sum(base_data) = 42.19629200420968\n",
      "np.sin(base_data) = \n",
      "[[-0.71093413  0.83949424 -0.48038185  0.97131578 -0.1967837 ]\n",
      " [-0.99291428  0.68317763  0.98061105 -0.15952352  0.29141325]\n",
      " [ 0.34262067  0.07943078 -0.67174577 -0.05687165  0.80690739]\n",
      " [-0.11863367 -0.81006122  0.4828778  -0.2379289   0.73893205]\n",
      " [-0.41967342  0.88948039 -0.8816473   0.02040288  0.73537696]]\n"
     ]
    }
   ],
   "source": [
    "base_data = (np.random.random((5, 5)) - 0.5) * 100\n",
    "print(\"base_data = \\n{}\\n\".format(base_data))\n",
    "\n",
    "print(\"np.amin(base_data) = {}\".format(np.amin(base_data)))\n",
    "print(\"np.amax(base_data) = {}\".format(np.amax(base_data)))\n",
    "print(\"np.average(base_data) = {}\".format(np.average(base_data)))\n",
    "print(\"np.sum(base_data) = {}\".format(np.sum(base_data)))\n",
    "print(\"np.sin(base_data) = \\n{}\".format(np.sin(base_data)))"
   ]
  },
  {
   "cell_type": "code",
   "execution_count": 29,
   "metadata": {},
   "outputs": [
    {
     "name": "stdout",
     "output_type": "stream",
     "text": [
      "Multpiles:  [  1   4   9  16  25  36  49  64  81 100 121 144 169 196 225 256 289 324\n",
      " 361]\n",
      "Substracts:  [0 0 0 0 0 0 0 0 0 0 0 0 0 0 0 0 0 0 0]\n",
      "Add:  [ 2  4  6  8 10 12 14 16 18 20 22 24 26 28 30 32 34 36 38]\n",
      "Divide:  [1. 1. 1. 1. 1. 1. 1. 1. 1. 1. 1. 1. 1. 1. 1. 1. 1. 1. 1.]\n",
      "Add +50:  [51 52 53 54 55 56 57 58 59 60 61 62 63 64 65 66 67 68 69]\n"
     ]
    }
   ],
   "source": [
    "arr = np.arange(1,20)\n",
    "arr = arr * arr              #Multiplies each element by itself \n",
    "print(\"Multpiles: \",arr)\n",
    "arr = arr - arr              #Subtracts each element from itself\n",
    "print(\"Substracts: \",arr)\n",
    "arr = np.arange(1,20)\n",
    "arr = arr + arr              #Adds each element to itself\n",
    "print(\"Add: \",arr)\n",
    "arr = arr / arr              #Divides each element by itself\n",
    "print(\"Divide: \",arr)\n",
    "arr = np.arange(1,20)\n",
    "arr = arr + 50\n",
    "print(\"Add +50: \",arr)"
   ]
  },
  {
   "cell_type": "code",
   "execution_count": 30,
   "metadata": {},
   "outputs": [
    {
     "name": "stdout",
     "output_type": "stream",
     "text": [
      "Sqrt:  [7.14142843 7.21110255 7.28010989 7.34846923 7.41619849 7.48331477\n",
      " 7.54983444 7.61577311 7.68114575 7.74596669 7.81024968 7.87400787\n",
      " 7.93725393 8.         8.06225775 8.1240384  8.18535277 8.24621125\n",
      " 8.30662386]\n",
      "Exp:  [1.40934908e+22 3.83100800e+22 1.04137594e+23 2.83075330e+23\n",
      " 7.69478527e+23 2.09165950e+24 5.68572000e+24 1.54553894e+25\n",
      " 4.20121040e+25 1.14200739e+26 3.10429794e+26 8.43835667e+26\n",
      " 2.29378316e+27 6.23514908e+27 1.69488924e+28 4.60718663e+28\n",
      " 1.25236317e+29 3.40427605e+29 9.25378173e+29]\n",
      "Sin:  [ 0.67022918  0.98662759  0.39592515 -0.55878905 -0.99975517 -0.521551\n",
      "  0.43616476  0.99287265  0.63673801 -0.30481062 -0.96611777 -0.7391807\n",
      "  0.1673557   0.92002604  0.82682868 -0.02655115 -0.85551998 -0.89792768\n",
      " -0.11478481]\n",
      "Cos:  [ 0.7421542  -0.16299078 -0.91828279 -0.82930983  0.02212676  0.85322011\n",
      "  0.89986683  0.11918014 -0.77108022 -0.95241298 -0.25810164  0.67350716\n",
      "  0.98589658  0.39185723 -0.56245385 -0.99964746 -0.5177698   0.44014302\n",
      "  0.99339038]\n",
      "Log:  [3.93182563 3.95124372 3.97029191 3.98898405 4.00733319 4.02535169\n",
      " 4.04305127 4.06044301 4.07753744 4.09434456 4.11087386 4.12713439\n",
      " 4.14313473 4.15888308 4.17438727 4.18965474 4.20469262 4.21950771\n",
      " 4.2341065 ]\n",
      "Sum:  1140\n",
      "Std:  5.477225575051661\n"
     ]
    }
   ],
   "source": [
    "#Returns the square root of each element \n",
    "print(\"Sqrt: \",np.sqrt(arr))\n",
    "#Returns the exponentials of each element\n",
    "print(\"Exp: \",np.exp(arr))\n",
    "#Returns the sin of each element\n",
    "print(\"Sin: \",np.sin(arr))\n",
    "#Returns the cosine of each element\n",
    "print(\"Cos: \",np.cos(arr))\n",
    "#Returns the logarithm of each element\n",
    "print(\"Log: \",np.log(arr))\n",
    "#Returns the sum total of elements in the array\n",
    "print(\"Sum: \",np.sum(arr))\n",
    "#Returns the standard deviation of in the array\n",
    "print(\"Std: \",np.std(arr))"
   ]
  },
  {
   "cell_type": "markdown",
   "metadata": {},
   "source": [
    "# Matrix"
   ]
  },
  {
   "cell_type": "markdown",
   "metadata": {},
   "source": [
    "let's create a 5X5 random integer matrix. There are two ways to get the transpose of a matrix: \n",
    "\n",
    "- .T or transpose function.\n",
    "\n",
    "In addition, the matrix can be multiplied through the \n",
    "\n",
    "- dot function. \n",
    "\n",
    "The sample code is as follows:"
   ]
  },
  {
   "cell_type": "code",
   "execution_count": 31,
   "metadata": {
    "scrolled": true
   },
   "outputs": [
    {
     "name": "stdout",
     "output_type": "stream",
     "text": [
      "base_data = \n",
      "[[0.1792311  0.72241411 0.75026545 0.58761697 0.81533448]\n",
      " [0.78963004 0.79416709 0.1982795  0.619828   0.42741785]\n",
      " [0.25544756 0.30392835 0.62716077 0.36237614 0.6284789 ]\n",
      " [0.68544701 0.36193351 0.39311833 0.85248706 0.81763532]\n",
      " [0.65138303 0.38575173 0.55928875 0.66059205 0.51348216]]\n"
     ]
    }
   ],
   "source": [
    "base_data = np.random.random((5,5))\n",
    "print(\"base_data = \\n{}\".format(base_data))"
   ]
  },
  {
   "cell_type": "code",
   "execution_count": 32,
   "metadata": {},
   "outputs": [
    {
     "name": "stdout",
     "output_type": "stream",
     "text": [
      "base_data = \n",
      "[[-17.  31.  24. -26.  -3.]\n",
      " [-36. -18.  41. -42.  37.]\n",
      " [  5. -11. -12.  39. -14.]\n",
      " [  3. -34. -11.  29.  13.]\n",
      " [-15. -24. -31.   4. -34.]]\n",
      "\n",
      "base_data.T = \n",
      "[[-17. -36.   5.   3. -15.]\n",
      " [ 31. -18. -11. -34. -24.]\n",
      " [ 24.  41. -12. -11. -31.]\n",
      " [-26. -42.  39.  29.   4.]\n",
      " [ -3.  37. -14.  13. -34.]]\n",
      "\n",
      "base_data.transpose() = \n",
      "[[-17. -36.   5.   3. -15.]\n",
      " [ 31. -18. -11. -34. -24.]\n",
      " [ 24.  41. -12. -11. -31.]\n",
      " [-26. -42.  39.  29.   4.]\n",
      " [ -3.  37. -14.  13. -34.]]\n",
      "\n",
      "matrix_one = \n",
      "[[1. 1. 1. 1. 1.]\n",
      " [1. 1. 1. 1. 1.]\n",
      " [1. 1. 1. 1. 1.]\n",
      " [1. 1. 1. 1. 1.]\n",
      " [1. 1. 1. 1. 1.]]\n",
      "\n",
      "minus_one = \n",
      "[[-1. -1. -1. -1. -1.]\n",
      " [-1. -1. -1. -1. -1.]\n",
      " [-1. -1. -1. -1. -1.]\n",
      " [-1. -1. -1. -1. -1.]\n",
      " [-1. -1. -1. -1. -1.]]\n",
      "\n",
      "minus_one2 = \n",
      "[[-1. -1. -1. -1. -1.]\n",
      " [-1. -1. -1. -1. -1.]\n",
      " [-1. -1. -1. -1. -1.]\n",
      " [-1. -1. -1. -1. -1.]\n",
      " [-1. -1. -1. -1. -1.]]\n",
      "\n",
      "np.dot(base_data, minus_one) = \n",
      "[[ -9.  -9.  -9.  -9.  -9.]\n",
      " [ 18.  18.  18.  18.  18.]\n",
      " [ -7.  -7.  -7.  -7.  -7.]\n",
      " [  0.   0.   0.   0.   0.]\n",
      " [100. 100. 100. 100. 100.]]\n",
      "\n"
     ]
    }
   ],
   "source": [
    "base_data = np.floor((np.random.random((5, 5)) - 0.5) * 100) #quiero que sean numeros enteros\n",
    "print(\"base_data = \\n{}\\n\".format(base_data))\n",
    "\n",
    "print(\"base_data.T = \\n{}\\n\".format(base_data.T))\n",
    "print(\"base_data.transpose() = \\n{}\\n\".format(base_data.transpose()))\n",
    "\n",
    "matrix_one = np.ones((5, 5))\n",
    "print(\"matrix_one = \\n{}\\n\".format(matrix_one))\n",
    "\n",
    "minus_one = np.dot(matrix_one, -1)\n",
    "print(\"minus_one = \\n{}\\n\".format(minus_one))\n",
    "\n",
    "minus_one2 = np.ones((5,5,))*-1\n",
    "print(\"minus_one2 = \\n{}\\n\".format(minus_one2))\n",
    "\n",
    "#multiplicación de matrices\n",
    "print(\"np.dot(base_data, minus_one) = \\n{}\\n\".format(\n",
    "    np.dot(base_data, minus_one)))"
   ]
  },
  {
   "cell_type": "markdown",
   "metadata": {},
   "source": [
    "# Random Number"
   ]
  },
  {
   "cell_type": "markdown",
   "metadata": {},
   "source": [
    "Random numbers are a feature we use very often during the programming process, such as generating demo data, or disordering existing data sequence randomly to segment the modeling data and the verification data.\n",
    "\n",
    "The numpy.random package contains a number of algorithms for random numbers. Here we list the four most common usage:\n",
    "\n",
    "The four usages are:\n",
    "\n",
    "- np.random.random: to generate 20 random numbers, each of which is between [0.0, 1.0)\n",
    "- np.random.rand: to generate a random number based on the specified shape\n",
    "- np.random.randint: to generate a specified number (such as 20) of random integers - within the specified range (such as [0, 100))\n",
    "- np.random.permutation: to disorder the sequence of the existing data ([0, 1, 2, ..., 19]) randomly The output is as follows:"
   ]
  },
  {
   "cell_type": "code",
   "execution_count": 33,
   "metadata": {},
   "outputs": [
    {
     "name": "stdout",
     "output_type": "stream",
     "text": [
      "random: \n",
      "[0.14344886 0.75305416 0.38151749 0.21161089 0.31331131 0.15917274\n",
      " 0.30011953 0.54378398 0.99028356 0.29873916 0.44987557 0.49264323\n",
      " 0.96305052 0.68097309 0.68795058 0.75894242 0.15791132 0.85111292\n",
      " 0.22812132 0.27759274]\n",
      "\n",
      "rand: \n",
      "[[[0.44624157 0.65644572]\n",
      "  [0.5169891  0.38439453]\n",
      "  [0.23995798 0.17271334]\n",
      "  [0.36007927 0.01381958]]\n",
      "\n",
      " [[0.82517953 0.40916891]\n",
      "  [0.18469197 0.50233446]\n",
      "  [0.55766949 0.96945507]\n",
      "  [0.84271015 0.23765483]]\n",
      "\n",
      " [[0.63985328 0.1388523 ]\n",
      "  [0.21540815 0.7322794 ]\n",
      "  [0.82293693 0.06723485]\n",
      "  [0.62626214 0.29741585]]]\n",
      "\n",
      "randint: \n",
      "[34 10 70 95 56 49 89 10 37 31 19  9 31 31 87 28 21 23 87 42]\n",
      "\n",
      "permutation: \n",
      "[ 8  5 17  0 18 16 11 15  1  3 12  4  2  6 14 19  7 10 13  9]\n",
      "\n"
     ]
    }
   ],
   "source": [
    "print(\"random: \\n{}\\n\".format(np.random.random(20)));\n",
    "\n",
    "print(\"rand: \\n{}\\n\".format(np.random.rand(3, 4, 2)));\n",
    "\n",
    "print(\"randint: \\n{}\\n\".format(np.random.randint(0, 100, 20)));\n",
    "\n",
    "print(\"permutation: \\n{}\\n\".format(np.random.permutation(np.arange(20))));"
   ]
  },
  {
   "cell_type": "code",
   "execution_count": null,
   "metadata": {},
   "outputs": [],
   "source": []
  }
 ],
 "metadata": {
  "kernelspec": {
   "display_name": "Python 3",
   "language": "python",
   "name": "python3"
  },
  "language_info": {
   "codemirror_mode": {
    "name": "ipython",
    "version": 3
   },
   "file_extension": ".py",
   "mimetype": "text/x-python",
   "name": "python",
   "nbconvert_exporter": "python",
   "pygments_lexer": "ipython3",
   "version": "3.8.5"
  }
 },
 "nbformat": 4,
 "nbformat_minor": 4
}
