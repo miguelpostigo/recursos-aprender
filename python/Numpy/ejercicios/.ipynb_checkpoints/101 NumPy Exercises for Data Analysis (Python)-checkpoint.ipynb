{
 "cells": [
  {
   "cell_type": "markdown",
   "metadata": {},
   "source": [
    "He obtenido estos ejercicios de la siguiente página web, espero que sean de ayuda\n",
    "\n",
    "https://www.machinelearningplus.com/python/101-numpy-exercises-python/"
   ]
  },
  {
   "cell_type": "markdown",
   "metadata": {},
   "source": [
    "funciones utilizadas:\n",
    "- np.arange(([start,] stop[, step,], dtype=None))\n",
    "- np.array((shape),dtype=...)\n",
    "- np.full((shape),valor_full,dtype=...)\n",
    "- boolean array: cond = arr>5 &| arr<=10 #comparacion\n",
    "- Filtrado: arr[FILTRO] / arr[cond]\n",
    "- np.where(cond,[x,y]) #x if cond = True, else: y\n",
    "- np.reshape((shape)), si pongo -1 calcula automáticamente\n",
    "- np.concatenate([a, b], axis=0) / np.vstack((a,b)) /np.r_[a, b]\n",
    "- np.concatenate([a, b], axis=1) / np.hstack((a,b)) /np.c_[a, b]\n",
    "- np.repeat(arr, repeats, axis=None)\n",
    "- np.tile(arr, reps)\n",
    "- np.random.randint(0,51,50)\n",
    "- np.intersect1d(a,b) #Find the intersection of two arrays\n",
    "- np.unique(arr) #valores unicos\n",
    "- np.setdiff1d(a,b)\n",
    "- encontrar indices donde se cumple una condición: np.where(cond)-->ej:cond = a==b #a y b coinciden\n",
    "- np.logical_and(a>=5,a<=10) #Compute the truth value of x1 AND x2 element-wise.\n",
    "\n",
    "OJO CON ESTA:\n",
    "\n",
    "CREAR UNA UFUNC A PARTIR DE UNA FUNCION QUE TRABAJA CON ESCALARES\n",
    "\n",
    "##### Writing New ufuncs in Python\n",
    "\n",
    "- np.vectorize(pyfunc, otypes=None, doc=None, excluded=None, cache=False,\n",
    "          signature=None)\n",
    "Generalized function class.\n",
    "\n",
    "- np.frompyfunc(function, number of inputs, number of outoputs)\n",
    "- echar un ojo a reduce / accumulate / outer / reduceat\n",
    "\n",
    "Using the Numba project we can create fast ufuncs in Python\n",
    "\n",
    "###### jugar con los slices--> de la 16 a 19 \n",
    "\n",
    "        arr[D1,D2,D3,...]-->dentro de D1/D2/D3... : \n",
    "        [2,0,1,...] reordeno / [start:end:step] recorro\n",
    "        arr[[2,3,0,1]][:,[0,3,1,2]] selecciono y ordeno,\n",
    "        para todas las filas, ordeno\n",
    "        \n",
    "###### Numpy.random functions:\n",
    "- np.random.seed(numero)\n",
    "- np.random.random()\n",
    "- np.random.rand()\n",
    "- np.random.randint()\n",
    "- np.random.permutation(arr)\n",
    "- np.random.shuffle\n",
    "\n",
    "NUMEROS ALEATORIOS DE DISTRIBUCIONES\n",
    "- np.random.normal / binomial /chisquare / gamma / uniform / beta\n",
    "\n",
    "###### Set printing options-->del 21 al 24\n",
    "\n",
    "These options determine the way floating point numbers, arrays and\n",
    "other NumPy objects are displayed.\n",
    "- np.set_printoptions(\n",
    "\n",
    "cosas que puedo hacer:\n",
    "- Floating point precision can be set: np.set_printoptions(precision=4)\n",
    "- Long arrays can be summarised: np.set_printoptions(threshold=5)\n",
    "- Small results can be suppressed: np.set_printoptions(suppress=True)\n",
    "- Reset printoptions to default: np.set_printoptions(suppress=False)\n",
    "- suppressing the scientific notation\n",
    "\n",
    "echar un ojo a la 25 a la 28: \n",
    "##### como importar un dataset con nºs y texto, dejando el texto intacto en numpy\n",
    "- np.genfromtxt()\n",
    "\n",
    "#url = 'https://archive.ics.uci.edu/ml/machine-learning-  databases/iris/iris.data'\n",
    "\n",
    "#iris = np.genfromtxt(url, delimiter=',', dtype='object')\n",
    "\n",
    "ojo con dtype: 'object'-->todos los datos son object / None-->crea un 1D array de tuplas\n",
    "\n",
    "- como extraer una columna en particular de un array de tuplas \n",
    "    --> lista de compresión: [expresion for valore/valores in < coleccion > if < condicion >]\n",
    "- echar ojo 27: como convertir un 1D array de tuplas, a un 2D array\n",
    "\n",
    "#iris = np.genfromtxt(url, delimiter=',', dtype='float',usecols=[0,1,2,3]) #la última columna no puede ser float\n",
    "\n",
    "- como seleccionar una columna tras convertir un 1D array de tuplas a un 2D array\n",
    "\n",
    "#### basic array statistical methods\n",
    "- sum / mean / median / std / var / min / max /argmin / argmax /cumsum / cumprod\n",
    "\n",
    "#### normalizar un array (para que los valores esten entre 0 y 1)\n",
    "\n",
    "formula: (Array - Array.min())/(Array.max()-Array.min())\n",
    "\n",
    "- *np.ptp()* #Range of values (maximum - minimum) along an axis.\n",
    "\n",
    "‘peak to peak’.\n",
    "\n",
    "OTRA FORMA:\n",
    "\n",
    "- normalize(DataFrame, axis=...,norm_'max')\n",
    "\n",
    "```python\n",
    "import pandas as pd, \n",
    "import numpy as np,\n",
    "from sklearn.preprocessing import normalize\n",
    "\n",
    "array.shape #(150,)\n",
    "\n",
    "arr = arr[:,np.newaxis] #Shape (150,1)\n",
    "\n",
    "data=arr\n",
    "\n",
    "df=pd.DataFrame(data)\n",
    "\n",
    "dfs=normalize(data,axis=0,norm=\"max\")\n",
    "\n",
    "dfs.shape\n",
    "```\n",
    "###### How to compute the softmax score --> 30\n",
    "\n",
    "###### percentiles\n",
    "- np.percentile(arr, q=[5, 95], axis=...)\n",
    "- #Quick-and-dirty way to compute the quantiles of an array:\n",
    "    arr.sort() /\n",
    "    Q5TH = arr[int(0.05*len(sepallength))]"
   ]
  },
  {
   "cell_type": "code",
   "execution_count": null,
   "metadata": {},
   "outputs": [],
   "source": [
    "np.set_printoptions()"
   ]
  },
  {
   "cell_type": "markdown",
   "metadata": {},
   "source": [
    "1. Import numpy as np and see the version"
   ]
  },
  {
   "cell_type": "code",
   "execution_count": 1,
   "metadata": {},
   "outputs": [],
   "source": [
    "import numpy as np "
   ]
  },
  {
   "cell_type": "markdown",
   "metadata": {},
   "source": [
    "2. How to create a 1D array?\n",
    "Q. Create a 1D array of numbers from 0 to 9"
   ]
  },
  {
   "cell_type": "code",
   "execution_count": 2,
   "metadata": {},
   "outputs": [
    {
     "data": {
      "text/plain": [
       "array([0, 1, 2, 3, 4, 5, 6, 7, 8, 9])"
      ]
     },
     "execution_count": 2,
     "metadata": {},
     "output_type": "execute_result"
    }
   ],
   "source": [
    "arr = np.arange(10)\n",
    "arr"
   ]
  },
  {
   "cell_type": "markdown",
   "metadata": {},
   "source": [
    "3. How to create a boolean array?\n",
    "Q. Create a 3×3 numpy array of all True’s"
   ]
  },
  {
   "cell_type": "code",
   "execution_count": 3,
   "metadata": {},
   "outputs": [
    {
     "data": {
      "text/plain": [
       "array([ True,  True])"
      ]
     },
     "execution_count": 3,
     "metadata": {},
     "output_type": "execute_result"
    }
   ],
   "source": [
    "arr = np.array((4,1),dtype = bool)\n",
    "arr"
   ]
  },
  {
   "cell_type": "code",
   "execution_count": 4,
   "metadata": {
    "scrolled": true
   },
   "outputs": [
    {
     "data": {
      "text/plain": [
       "array([[ True,  True,  True],\n",
       "       [ True,  True,  True],\n",
       "       [ True,  True,  True]])"
      ]
     },
     "execution_count": 4,
     "metadata": {},
     "output_type": "execute_result"
    }
   ],
   "source": [
    "arr = np.full((3,3),True,dtype=bool)\n",
    "arr"
   ]
  },
  {
   "cell_type": "markdown",
   "metadata": {},
   "source": [
    "4. How to extract items that satisfy a given condition from 1D array?\n",
    "Q. Extract all odd numbers from arr"
   ]
  },
  {
   "cell_type": "code",
   "execution_count": 5,
   "metadata": {},
   "outputs": [
    {
     "name": "stdout",
     "output_type": "stream",
     "text": [
      "[ True False  True False  True False  True False  True False  True False\n",
      "  True False  True False  True False  True False  True False  True False\n",
      "  True False  True False  True False  True False  True False  True False\n",
      "  True False  True False  True False  True False  True False  True False\n",
      "  True False  True False  True False  True False  True False  True False\n",
      "  True False  True False  True False  True False  True False  True False\n",
      "  True False  True False  True False  True False  True False  True False\n",
      "  True False  True False  True False  True False  True False  True False\n",
      "  True False  True False]\n"
     ]
    },
    {
     "data": {
      "text/plain": [
       "array([ 0,  2,  4,  6,  8, 10, 12, 14, 16, 18, 20, 22, 24, 26, 28, 30, 32,\n",
       "       34, 36, 38, 40, 42, 44, 46, 48, 50, 52, 54, 56, 58, 60, 62, 64, 66,\n",
       "       68, 70, 72, 74, 76, 78, 80, 82, 84, 86, 88, 90, 92, 94, 96, 98])"
      ]
     },
     "execution_count": 5,
     "metadata": {},
     "output_type": "execute_result"
    }
   ],
   "source": [
    "arr = np.arange(100)\n",
    "cond = arr%2==0 #boolean array\n",
    "print(cond)\n",
    "arr = arr[cond]\n",
    "arr"
   ]
  },
  {
   "cell_type": "code",
   "execution_count": 6,
   "metadata": {
    "scrolled": true
   },
   "outputs": [
    {
     "data": {
      "text/plain": [
       "array([ 0,  1,  0,  3,  0,  5,  0,  7,  0,  9,  0, 11,  0, 13,  0, 15,  0,\n",
       "       17,  0, 19,  0, 21,  0, 23,  0, 25,  0, 27,  0, 29,  0, 31,  0, 33,\n",
       "        0, 35,  0, 37,  0, 39,  0, 41,  0, 43,  0, 45,  0, 47,  0, 49,  0,\n",
       "       51,  0, 53,  0, 55,  0, 57,  0, 59,  0, 61,  0, 63,  0, 65,  0, 67,\n",
       "        0, 69,  0, 71,  0, 73,  0, 75,  0, 77,  0, 79,  0, 81,  0, 83,  0,\n",
       "       85,  0, 87,  0, 89,  0, 91,  0, 93,  0, 95,  0, 97,  0, 99])"
      ]
     },
     "execution_count": 6,
     "metadata": {},
     "output_type": "execute_result"
    }
   ],
   "source": [
    "arr = np.arange(100)\n",
    "cond = arr%2==0\n",
    "cond\n",
    "arr[cond] = 0\n",
    "arr"
   ]
  },
  {
   "cell_type": "markdown",
   "metadata": {},
   "source": [
    "5. How to replace items that satisfy a condition with another value in numpy array?\n",
    "Q. Replace all odd numbers in arr with -1"
   ]
  },
  {
   "cell_type": "code",
   "execution_count": 8,
   "metadata": {},
   "outputs": [
    {
     "name": "stdout",
     "output_type": "stream",
     "text": [
      "[ 0  1  0  3  0  5  0  7  0  9  0 11  0 13  0 15  0 17  0 19  0 21  0 23\n",
      "  0 25  0 27  0 29  0 31  0 33  0 35  0 37  0 39  0 41  0 43  0 45  0 47\n",
      "  0 49  0 51  0 53  0 55  0 57  0 59  0 61  0 63  0 65  0 67  0 69  0 71\n",
      "  0 73  0 75  0 77  0 79  0 81  0 83  0 85  0 87  0 89  0 91  0 93  0 95\n",
      "  0 97  0 99]\n",
      "---------------------------\n",
      "[ 0  1  0  3  0  5  0  7  0  9  0 11  0 13  0 15  0 17  0 19  0 21  0 23\n",
      "  0 25  0 27  0 29  0 31  0 33  0 35  0 37  0 39  0 41  0 43  0 45  0 47\n",
      "  0 49  0 51  0 53  0 55  0 57  0 59  0 61  0 63  0 65  0 67  0 69  0 71\n",
      "  0 73  0 75  0 77  0 79  0 81  0 83  0 85  0 87  0 89  0 91  0 93  0 95\n",
      "  0 97  0 99]\n",
      "---------------------------\n",
      "[10 10 10 10 10 10 10 10 10 10 10 10 10 10 10 10 10 10 10 10 10 10 10 10\n",
      " 10 10 10 10 10 10 10 10 10 10 10 10 10 10 10 10 10 10 10 10 10 10 10 10\n",
      " 10 10 10 10 10 10 10 10 10 10 10 10 10 10 10 10 10 10 10 10 10 10 10 10\n",
      " 10 10 10 10 10 10 10 10 10 10 10 10 10 10 10 10 10 10 10 10 10 10 10 10\n",
      " 10 10 10 10]\n",
      "---------------------------\n",
      "[10 10 10 10 10 10 10 10 10 10 10 10 10 10 10 10 10 10 10 10 10 10 10 10\n",
      " 10 10 10 10 10 10 10 10 10 10 10 10 10 10 10 10 10 10 10 10 10 10 10 10\n",
      " 10 10 10 10 10 10 10 10 10 10 10 10 10 10 10 10 10 10 10 10 10 10 10 10\n",
      " 10 10 10 10 10 10 10 10 10 10 10 10 10 10 10 10 10 10 10 10 10 10 10 10\n",
      " 10 10 10 10]\n"
     ]
    }
   ],
   "source": [
    "arr = np.arange(100)\n",
    "cond = arr%2==0\n",
    "cond\n",
    "arr2 = arr\n",
    "arr2[cond] = 0\n",
    "print(arr)\n",
    "print(\"---------------------------\")\n",
    "print(arr2)\n",
    "cond2 = arr>=0\n",
    "arr[cond2] = 10\n",
    "print(\"---------------------------\")\n",
    "print(arr)\n",
    "print(\"---------------------------\")\n",
    "print(arr2)\n",
    "#como he igualado arr = arr2, a partir de ese momento si cambio uno, cambia el otro"
   ]
  },
  {
   "cell_type": "markdown",
   "metadata": {},
   "source": [
    "Podemos comprobar que si igualamos dos variables, por ejemplo: \n",
    "arr = arr2\n",
    "si cambiamos el valor de una, también estamos cambiando el valor de la otra.\n",
    "Es como si una misma variable la pudiésemos llamar de dos nombres distintos"
   ]
  },
  {
   "cell_type": "markdown",
   "metadata": {},
   "source": [
    "6. How to replace items that satisfy a condition without affecting the original array?\n",
    "Q. Replace all odd numbers in arr with -1 without changing arr"
   ]
  },
  {
   "cell_type": "code",
   "execution_count": 8,
   "metadata": {
    "scrolled": true
   },
   "outputs": [
    {
     "name": "stdout",
     "output_type": "stream",
     "text": [
      "[-1  1 -1  3 -1  5 -1  7 -1  9 -1 11 -1 13 -1 15 -1 17 -1 19 -1 21 -1 23\n",
      " -1 25 -1 27 -1 29 -1 31 -1 33 -1 35 -1 37 -1 39 -1 41 -1 43 -1 45 -1 47\n",
      " -1 49 -1 51 -1 53 -1 55 -1 57 -1 59 -1 61 -1 63 -1 65 -1 67 -1 69 -1 71\n",
      " -1 73 -1 75 -1 77 -1 79 -1 81 -1 83 -1 85 -1 87 -1 89 -1 91 -1 93 -1 95\n",
      " -1 97 -1 99]\n"
     ]
    }
   ],
   "source": [
    "arr = np.arange(100)\n",
    "cond = arr%2==0\n",
    "arr2 = np.where(cond,-1,arr)\n",
    "print(arr2)"
   ]
  },
  {
   "cell_type": "markdown",
   "metadata": {},
   "source": [
    "# np.where(cond,[x,y])\n",
    "x if cond = True, else: y"
   ]
  },
  {
   "cell_type": "markdown",
   "metadata": {},
   "source": [
    "7. How to reshape an array?\n",
    "Q. Convert a 1D array to a 2D array with 2 rows"
   ]
  },
  {
   "cell_type": "code",
   "execution_count": 9,
   "metadata": {},
   "outputs": [
    {
     "name": "stdout",
     "output_type": "stream",
     "text": [
      "[[0 1 2 3 4]\n",
      " [5 6 7 8 9]]\n"
     ]
    }
   ],
   "source": [
    "arr = np.arange(10)\n",
    "arr = arr.reshape(2,-1)\n",
    "# Setting to -1 automatically decides the number of cols\n",
    "print(arr)"
   ]
  },
  {
   "cell_type": "markdown",
   "metadata": {},
   "source": [
    "8. How to stack two arrays vertically?\n",
    "Q. Stack arrays a and b vertically"
   ]
  },
  {
   "cell_type": "code",
   "execution_count": 10,
   "metadata": {},
   "outputs": [
    {
     "name": "stdout",
     "output_type": "stream",
     "text": [
      "[[0 1 2 3 4]\n",
      " [5 6 7 8 9]]\n",
      "[[1 1 1 1 1]\n",
      " [1 1 1 1 1]]\n"
     ]
    }
   ],
   "source": [
    "a = np.arange(10).reshape(2,-1)\n",
    "b = np.repeat(1, 10).reshape(2,-1)\n",
    "print(a)\n",
    "print(b)"
   ]
  },
  {
   "cell_type": "code",
   "execution_count": 11,
   "metadata": {},
   "outputs": [
    {
     "name": "stdout",
     "output_type": "stream",
     "text": [
      "[[0 1 2 3 4]\n",
      " [5 6 7 8 9]\n",
      " [1 1 1 1 1]\n",
      " [1 1 1 1 1]]\n"
     ]
    }
   ],
   "source": [
    "c = np.vstack((a,b))\n",
    "print(c)"
   ]
  },
  {
   "cell_type": "code",
   "execution_count": 12,
   "metadata": {},
   "outputs": [
    {
     "name": "stdout",
     "output_type": "stream",
     "text": [
      "[[0 1 2 3 4]\n",
      " [5 6 7 8 9]\n",
      " [1 1 1 1 1]\n",
      " [1 1 1 1 1]]\n",
      "---------------------------\n",
      "[[0 1 2 3 4]\n",
      " [5 6 7 8 9]\n",
      " [1 1 1 1 1]\n",
      " [1 1 1 1 1]]\n"
     ]
    }
   ],
   "source": [
    "#con otro método:\n",
    "c = np.concatenate([a, b], axis=0)\n",
    "print(c)\n",
    "print(\"---------------------------\")\n",
    "#con otro método:\n",
    "c = np.r_[a, b]\n",
    "print(c)"
   ]
  },
  {
   "cell_type": "markdown",
   "metadata": {},
   "source": [
    "9. How to stack two arrays horizontally?\n",
    "Q. Stack the arrays a and b horizontally."
   ]
  },
  {
   "cell_type": "code",
   "execution_count": 13,
   "metadata": {},
   "outputs": [
    {
     "name": "stdout",
     "output_type": "stream",
     "text": [
      "[[0 1 2 3 4]\n",
      " [5 6 7 8 9]]\n",
      "---------------------------\n",
      "[[1 1 1 1 1]\n",
      " [1 1 1 1 1]]\n"
     ]
    }
   ],
   "source": [
    "a = np.arange(10).reshape(2,-1)\n",
    "\n",
    "b = np.repeat(1, 10).reshape(2,-1)\n",
    "print(a)\n",
    "print(\"---------------------------\")\n",
    "print(b)"
   ]
  },
  {
   "cell_type": "code",
   "execution_count": 14,
   "metadata": {},
   "outputs": [
    {
     "name": "stdout",
     "output_type": "stream",
     "text": [
      "[[0 1 2 3 4 1 1 1 1 1]\n",
      " [5 6 7 8 9 1 1 1 1 1]]\n",
      "---------------------------\n",
      "[[0 1 2 3 4 1 1 1 1 1]\n",
      " [5 6 7 8 9 1 1 1 1 1]]\n",
      "---------------------------\n",
      "[[0 1 2 3 4 1 1 1 1 1]\n",
      " [5 6 7 8 9 1 1 1 1 1]]\n"
     ]
    }
   ],
   "source": [
    "#metodo1:\n",
    "c = np.hstack((a,b))\n",
    "print(c)\n",
    "print(\"---------------------------\")\n",
    "#metodo2:\n",
    "c = np.concatenate((a,b),axis=1)\n",
    "print(c)\n",
    "print(\"---------------------------\")\n",
    "#metodo3:\n",
    "c = np.c_[a,b]\n",
    "print(c)"
   ]
  },
  {
   "cell_type": "markdown",
   "metadata": {},
   "source": [
    "10. How to generate custom sequences in numpy without hardcoding?\n",
    "Q. Create the following pattern without hardcoding. Use only numpy functions and the below input array a."
   ]
  },
  {
   "cell_type": "code",
   "execution_count": 15,
   "metadata": {},
   "outputs": [
    {
     "name": "stdout",
     "output_type": "stream",
     "text": [
      "[1 2 3]\n"
     ]
    }
   ],
   "source": [
    "a = np.array([1,2,3])\n",
    "print(a)"
   ]
  },
  {
   "cell_type": "markdown",
   "metadata": {},
   "source": [
    "Desired Output:\n",
    "array([1, 1, 1, 2, 2, 2, 3, 3, 3, 1, 2, 3, 1, 2, 3, 1, 2, 3])"
   ]
  },
  {
   "cell_type": "code",
   "execution_count": 16,
   "metadata": {
    "scrolled": true
   },
   "outputs": [
    {
     "name": "stdout",
     "output_type": "stream",
     "text": [
      "[1 1 1 2 2 2 3 3 3 1 2 3 1 2 3 1 2 3]\n"
     ]
    }
   ],
   "source": [
    "c = np.r_[np.repeat(a, 3), np.tile(a, 3)]\n",
    "print(c)"
   ]
  },
  {
   "cell_type": "code",
   "execution_count": 23,
   "metadata": {},
   "outputs": [
    {
     "name": "stdout",
     "output_type": "stream",
     "text": [
      "[0 1 2 3]\n",
      "---------------------------\n",
      "[0 0 1 1 2 2 3 3]\n",
      "---------------------------\n",
      "[0 1 2 3 0 1 2 3]\n"
     ]
    }
   ],
   "source": [
    "arr = np.arange(4)\n",
    "print(arr)\n",
    "print(\"---------------------------\")\n",
    "# Repeat elements of an array.\n",
    "#The number of repetitions for each element.  `repeats` is broadcasted to fit the shape of the given axis.\n",
    "arr2 = np.repeat(arr,2,axis = 0)\n",
    "print(arr2)\n",
    "print(\"---------------------------\")\n",
    "#Construct an array by repeating A the number of times given by reps\n",
    "arr3 = np.tile(arr,2)\n",
    "print(arr3)"
   ]
  },
  {
   "cell_type": "markdown",
   "metadata": {},
   "source": [
    "ver 'documentación' interna de ambas funciones-->SHIFT+TAB"
   ]
  },
  {
   "cell_type": "markdown",
   "metadata": {},
   "source": [
    "# np.repeat() np.tile()"
   ]
  },
  {
   "cell_type": "markdown",
   "metadata": {},
   "source": [
    "11. How to get the common items between two python numpy arrays?\n",
    "Q. Get the common items between a and b"
   ]
  },
  {
   "cell_type": "code",
   "execution_count": 25,
   "metadata": {},
   "outputs": [
    {
     "name": "stdout",
     "output_type": "stream",
     "text": [
      "[2 2 4 4]\n",
      "---------------------------\n",
      "[2 4]\n"
     ]
    }
   ],
   "source": [
    "a = np.array([1,2,3,2,3,4,3,4,5,6])\n",
    "b = np.array([7,2,10,2,7,4,9,4,9,8])\n",
    "\n",
    "#encuentra los elementos que se repiten en ambas(aunque sea dos,tres,cuatro...veces el mismo nº)\n",
    "cond = a==b\n",
    "cond\n",
    "c = a[cond]\n",
    "print(c)\n",
    "print(\"---------------------------\")\n",
    "#encuentra los elementos comunes en a y b\n",
    "c = np.intersect1d(a,b) #Find the intersection of two arrays\n",
    "print(c)"
   ]
  },
  {
   "cell_type": "markdown",
   "metadata": {},
   "source": [
    "pruebas con otras \"Array set operations\""
   ]
  },
  {
   "cell_type": "code",
   "execution_count": 27,
   "metadata": {},
   "outputs": [
    {
     "name": "stdout",
     "output_type": "stream",
     "text": [
      "la matriz a: \n",
      " [40 26  4 19  8  9  6 14  9  2 22  1  5 32 43 34 21 19 36 43 36 23 34 20\n",
      "  5 25 38 36  9  7 30 19 41 29 35 23 41 44  2 38 28 50 48 46 21 32 19  9\n",
      " 22 23]\n",
      "----------\n",
      "la matriz b: \n",
      " [ 0  7 36  3  4 22 19 33 47 37 12 24 35 17 45 44 14 29 41 46 37 11 23 13\n",
      " 20  7 31 26 24  6  8 47 15  4 27 32  2 30 35  5 38 43 14  6 23 28 41 15\n",
      "  6 26]\n",
      "----------\n",
      "[]\n",
      "----------\n",
      "[ 2  4  5  6  7  8 14 19 20 22 23 26 28 29 30 32 35 36 38 41 43 44 46]\n",
      "----------\n",
      "elementos de la matriz a: \n",
      " [ 1  2  4  5  6  7  8  9 14 19 20 21 22 23 25 26 28 29 30 32 34 35 36 38\n",
      " 40 41 43 44 46 48 50]\n",
      "nº de elementos de la matriz a: \n",
      " 31\n",
      "----------\n",
      "[False False False False False False False False False False False False\n",
      " False False False False False False False False False False False False\n",
      " False False False False False False False False False False False False\n",
      " False False False False False  True False False False False False False\n",
      " False False]\n",
      "----------\n",
      "1\n",
      "los valores 0 y 50 se encuentran en el array?  True\n",
      "además se encuentran  1  veces\n",
      "----------\n",
      "los valores 0 y 50 se encuentran en el array?  True\n",
      "----------\n",
      "[ True  True  True  True  True  True  True  True  True  True  True  True\n",
      "  True  True  True  True  True  True  True  True  True  True  True  True\n",
      "  True  True  True  True  True  True  True  True  True  True  True  True\n",
      "  True  True  True  True  True  True  True  True  True  True  True  True\n",
      "  True  True]\n"
     ]
    }
   ],
   "source": [
    "a = np.random.randint(0,51,50) #matriz de 1D con 50 numeros aleatorios enteros \n",
    "b = np.random.randint(0,51,50)\n",
    "print(\"la matriz a: \\n\", a)\n",
    "print(\"----------\")\n",
    "print(\"la matriz b: \\n\", b)\n",
    "print(\"----------\")\n",
    "cond = a==b\n",
    "cond #boolean array\n",
    "c = a[cond] #matriz de numeros que coinciden exactamente en la misma posicion\n",
    "print(c) #lo más probabale es que elemento a elemento no concida ninguno\n",
    "print(\"----------\")\n",
    "c = np.intersect1d(a,b) #encuentra los elementos comunes en a y b\n",
    "print(c)\n",
    "print(\"----------\")\n",
    "c = np.unique(a)\n",
    "print(\"elementos de la matriz a: \\n\", c)\n",
    "print(\"nº de elementos de la matriz a: \\n\", len(c))\n",
    "print(\"----------\")\n",
    "cond = np.in1d(a,[0,50])\n",
    "print(cond) #mira si algun elemento de la matriz a es 0 o 50\n",
    "cond = sum(cond) #numero de elementos 0 o 50 en la matriz\n",
    "print(\"----------\")\n",
    "print(cond)\n",
    "if cond>0:\n",
    "    d = True\n",
    "else:\n",
    "    d = False\n",
    "print(\"los valores 0 y 50 se encuentran en el array? \", d)\n",
    "print(\"además se encuentran \",cond, \" veces\")\n",
    "print(\"----------\")\n",
    "#se podría hacer lo mismo con:\n",
    "cond = np.in1d(a,[0,50])\n",
    "print(\"los valores 0 y 50 se encuentran en el array? \",cond.any())\n",
    "print(\"----------\")\n",
    "#me va a devolver un boolean array de todo True\n",
    "print(np.in1d(a,np.unique(a)))"
   ]
  },
  {
   "cell_type": "markdown",
   "metadata": {},
   "source": [
    "12. How to remove from one array those items that exist in another?\n",
    "Q. From array 'a' remove all items present in array 'b'"
   ]
  },
  {
   "cell_type": "code",
   "execution_count": 19,
   "metadata": {},
   "outputs": [
    {
     "name": "stdout",
     "output_type": "stream",
     "text": [
      "[1 2 3 4]\n"
     ]
    }
   ],
   "source": [
    "a = np.array([1,2,3,4,5])\n",
    "b = np.array([5,6,7,8,9])\n",
    "\n",
    "#Find the set difference of two arrays.\n",
    "a = np.setdiff1d(a,b)\n",
    "print(a)"
   ]
  },
  {
   "cell_type": "markdown",
   "metadata": {},
   "source": [
    "# np.setdiff1d"
   ]
  },
  {
   "cell_type": "markdown",
   "metadata": {},
   "source": [
    "13. How to get the positions where elements of two arrays match?\n",
    "Q. Get the positions where elements of 'a' and 'b' match"
   ]
  },
  {
   "cell_type": "code",
   "execution_count": 20,
   "metadata": {},
   "outputs": [
    {
     "name": "stdout",
     "output_type": "stream",
     "text": [
      "(array([1, 3, 5, 7], dtype=int64),)\n"
     ]
    }
   ],
   "source": [
    "a = np.array([1,2,3,2,3,4,3,4,5,6])\n",
    "b = np.array([7,2,10,2,7,4,9,4,9,8])\n",
    "\n",
    "cond = a==b #boolean array\n",
    "indices = np.where(cond)\n",
    "print(indices)"
   ]
  },
  {
   "cell_type": "markdown",
   "metadata": {},
   "source": [
    "14. How to extract all numbers between a given range from a numpy array?\n",
    "Q. Get all items between 5 and 10 from 'a'\n",
    "\n",
    "y obtener los indices de esos valores"
   ]
  },
  {
   "cell_type": "code",
   "execution_count": 40,
   "metadata": {},
   "outputs": [
    {
     "name": "stdout",
     "output_type": "stream",
     "text": [
      "[ 6  6  9 10]\n",
      "----------\n",
      "[ 6  9 10]\n",
      "----------\n",
      "(array([1, 2, 4, 5], dtype=int64),)\n",
      "----------\n",
      "(array([1, 2, 4, 5], dtype=int64),)\n"
     ]
    }
   ],
   "source": [
    "a = np.array([2, 6, 6, 1, 9, 10, 3, 27])\n",
    "\n",
    "cond = (a>=5) & (a<=10) \n",
    "print(a[cond])\n",
    "print(\"----------\")\n",
    "print(np.unique(a[cond]))#valores unicos\n",
    "print(\"----------\")\n",
    "index = np.where(np.logical_and(a>=5,a<=10))\n",
    "print(index)\n",
    "print(\"----------\")\n",
    "print(np.where(cond))"
   ]
  },
  {
   "cell_type": "code",
   "execution_count": 41,
   "metadata": {},
   "outputs": [
    {
     "name": "stdout",
     "output_type": "stream",
     "text": [
      "[ 2  6  6  1  9 10  3 27]\n",
      "----------\n",
      "[False  True  True False  True  True False  True]\n",
      "----------\n",
      "[ True  True  True  True  True  True  True False]\n",
      "----------\n",
      "[False  True  True False  True  True False False]\n",
      "----------\n",
      "(array([1, 2, 4, 5], dtype=int64),)\n",
      "----------\n"
     ]
    }
   ],
   "source": [
    "print(a)\n",
    "print(\"----------\")\n",
    "print(a>=5)\n",
    "print(\"----------\")\n",
    "print(a<=10)\n",
    "print(\"----------\")\n",
    "#Compute the truth value of x1 AND x2 element-wise\n",
    "print(np.logical_and(a>=5,a<=10))\n",
    "print(\"----------\")\n",
    "print(np.where(np.logical_and(a>=5,a<=10))) #indices de esos valores\n",
    "print(\"----------\")"
   ]
  },
  {
   "cell_type": "markdown",
   "metadata": {},
   "source": [
    "15. How to make a python function that handles scalars to work on numpy arrays?\n",
    "Q. Convert the function 'maxx' that works on two scalars, to work on two arrays."
   ]
  },
  {
   "cell_type": "markdown",
   "metadata": {},
   "source": [
    "Python for Data Analysis - Appendix A - A.4 Advanced ufunc Usage - Writing New ufuncs in Python"
   ]
  },
  {
   "cell_type": "code",
   "execution_count": 46,
   "metadata": {},
   "outputs": [
    {
     "data": {
      "text/plain": [
       "5"
      ]
     },
     "execution_count": 46,
     "metadata": {},
     "output_type": "execute_result"
    }
   ],
   "source": [
    "def maxx(x, y):\n",
    "    \"\"\"Get the maximum of two items\"\"\"\n",
    "    if x >= y:\n",
    "        return x\n",
    "    else:\n",
    "        return y\n",
    "\n",
    "maxx(1, 5)"
   ]
  },
  {
   "cell_type": "code",
   "execution_count": 23,
   "metadata": {},
   "outputs": [
    {
     "data": {
      "text/plain": [
       "array([6, 7, 9, 8, 9, 7, 5])"
      ]
     },
     "execution_count": 23,
     "metadata": {},
     "output_type": "execute_result"
    }
   ],
   "source": [
    "def pair_max(a=np.array,b=np.array):\n",
    "    cond1 = a>=b\n",
    "    return np.where(cond1,a,b)\n",
    "    \n",
    "a = np.array([5, 7, 9, 8, 6, 4, 5])\n",
    "b = np.array([6, 3, 4, 8, 9, 7, 1])\n",
    "pair_max(a, b)"
   ]
  },
  {
   "cell_type": "code",
   "execution_count": 24,
   "metadata": {},
   "outputs": [
    {
     "data": {
      "text/plain": [
       "array([6., 7., 9., 8., 9., 7., 5.])"
      ]
     },
     "execution_count": 24,
     "metadata": {},
     "output_type": "execute_result"
    }
   ],
   "source": [
    "#otro método-->crear una 'ufunc'\n",
    "pair_max = np.vectorize(maxx, otypes=[float])\n",
    "\n",
    "a = np.array([5, 7, 9, 8, 6, 4, 5])\n",
    "b = np.array([6, 3, 4, 8, 9, 7, 1])\n",
    "\n",
    "pair_max(a, b)"
   ]
  },
  {
   "cell_type": "code",
   "execution_count": 43,
   "metadata": {},
   "outputs": [
    {
     "data": {
      "text/plain": [
       "1"
      ]
     },
     "execution_count": 43,
     "metadata": {},
     "output_type": "execute_result"
    }
   ],
   "source": [
    "def minn(x, y):\n",
    "    \"\"\"Get the minimun of two items\"\"\"\n",
    "    if x <= y:\n",
    "        return x\n",
    "    else:\n",
    "        return y\n",
    "\n",
    "minn(1, 5)"
   ]
  },
  {
   "cell_type": "code",
   "execution_count": 44,
   "metadata": {},
   "outputs": [
    {
     "data": {
      "text/plain": [
       "array([5., 3., 4., 8., 6., 4., 1.])"
      ]
     },
     "execution_count": 44,
     "metadata": {},
     "output_type": "execute_result"
    }
   ],
   "source": [
    "#otro método-->crear una 'ufunc'\n",
    "pair_max = np.vectorize(minn, otypes=[float])\n",
    "\n",
    "a = np.array([5, 7, 9, 8, 6, 4, 5])\n",
    "b = np.array([6, 3, 4, 8, 9, 7, 1])\n",
    "\n",
    "pair_max(a, b)"
   ]
  },
  {
   "cell_type": "code",
   "execution_count": 47,
   "metadata": {
    "scrolled": true
   },
   "outputs": [
    {
     "data": {
      "text/plain": [
       "array([6, 7, 9, 8, 9, 7, 5], dtype=object)"
      ]
     },
     "execution_count": 47,
     "metadata": {},
     "output_type": "execute_result"
    }
   ],
   "source": [
    "pair_max = np.frompyfunc(maxx,2,1)\n",
    "\n",
    "a = np.array([5, 7, 9, 8, 6, 4, 5])\n",
    "b = np.array([6, 3, 4, 8, 9, 7, 1])\n",
    "\n",
    "pair_max(a,b)"
   ]
  },
  {
   "cell_type": "markdown",
   "metadata": {},
   "source": [
    "CUIDADO¡\n",
    "\n",
    "### *np.vectorize*-->especifica el tipo del output\n",
    "\n",
    "### *np.frompyfunc*--> el tipo del output es 'object'"
   ]
  },
  {
   "cell_type": "code",
   "execution_count": 52,
   "metadata": {},
   "outputs": [
    {
     "name": "stdout",
     "output_type": "stream",
     "text": [
      "[0 2 4 6 8 10 12 14]\n",
      "object\n",
      "[ 0.  2.  4.  6.  8. 10. 12. 14.]\n",
      "float64\n"
     ]
    }
   ],
   "source": [
    "def add_elements(x,y):\n",
    "    return x + y\n",
    "\n",
    "#np.frompyfunc\n",
    "#accepts a Python function along with a specification for the number of inputs and outputs.\n",
    "add_them = np.frompyfunc(add_elements, 2, 1)\n",
    "print(add_them(np.arange(8),np.arange(8)))\n",
    "print(add_them(np.arange(8),np.arange(8)).dtype)\n",
    "#echar un ojo a reduce / accumulate / outer / reduceat\n",
    "add_them = np.vectorize(add_elements, otypes = [np.float64])\n",
    "print(add_them(np.arange(8),np.arange(8)))\n",
    "print(add_them(np.arange(8),np.arange(8)).dtype)"
   ]
  },
  {
   "cell_type": "markdown",
   "metadata": {},
   "source": [
    "¡OJO!\n",
    "\n",
    "These functions provide a way to create ufunc-like functions, but they are very slow\n",
    "because they require a Python function call to compute each element, which is a lot\n",
    "slower than NumPy’s C-based ufunc loops"
   ]
  },
  {
   "cell_type": "markdown",
   "metadata": {},
   "source": [
    "##### Using the Numba project we can create fast ufuncs in Python"
   ]
  },
  {
   "cell_type": "markdown",
   "metadata": {},
   "source": [
    "16. How to swap two columns in a 2d numpy array?\n",
    "Q. Swap columns 1 and 2 in the array arr"
   ]
  },
  {
   "cell_type": "code",
   "execution_count": 56,
   "metadata": {},
   "outputs": [
    {
     "name": "stdout",
     "output_type": "stream",
     "text": [
      "[[0 1 2]\n",
      " [3 4 5]\n",
      " [6 7 8]]\n"
     ]
    }
   ],
   "source": [
    "arr = np.arange(9).reshape(3,3)\n",
    "print(arr)"
   ]
  },
  {
   "cell_type": "code",
   "execution_count": 57,
   "metadata": {},
   "outputs": [
    {
     "data": {
      "text/plain": [
       "array([[0, 2, 1],\n",
       "       [3, 5, 4],\n",
       "       [6, 8, 7]])"
      ]
     },
     "execution_count": 57,
     "metadata": {},
     "output_type": "execute_result"
    }
   ],
   "source": [
    "arr = arr[:,[0,2,1]]\n",
    "arr"
   ]
  },
  {
   "cell_type": "code",
   "execution_count": 27,
   "metadata": {
    "scrolled": true
   },
   "outputs": [
    {
     "name": "stdout",
     "output_type": "stream",
     "text": [
      "[[1 0 2]\n",
      " [4 3 5]\n",
      " [7 6 8]]\n"
     ]
    }
   ],
   "source": [
    "arr = arr[:,[1,0,2]] #para todas las filas, reordeno las columnas\n",
    "print(arr)"
   ]
  },
  {
   "cell_type": "markdown",
   "metadata": {},
   "source": [
    "arr.swapaxes(1,2)"
   ]
  },
  {
   "cell_type": "markdown",
   "metadata": {},
   "source": [
    "17. How to swap two rows in a 2d numpy array?\n",
    "Q. Swap rows 1 and 2 in the array arr:"
   ]
  },
  {
   "cell_type": "code",
   "execution_count": 59,
   "metadata": {},
   "outputs": [
    {
     "name": "stdout",
     "output_type": "stream",
     "text": [
      "[[0 1 2]\n",
      " [3 4 5]\n",
      " [6 7 8]]\n"
     ]
    }
   ],
   "source": [
    "arr = np.arange(9).reshape(3,3)\n",
    "print(arr)"
   ]
  },
  {
   "cell_type": "code",
   "execution_count": 60,
   "metadata": {},
   "outputs": [
    {
     "data": {
      "text/plain": [
       "array([[3, 4, 5],\n",
       "       [0, 1, 2],\n",
       "       [6, 7, 8]])"
      ]
     },
     "execution_count": 60,
     "metadata": {},
     "output_type": "execute_result"
    }
   ],
   "source": [
    "arr = arr[[1,0,2],:]\n",
    "arr"
   ]
  },
  {
   "cell_type": "code",
   "execution_count": 61,
   "metadata": {},
   "outputs": [
    {
     "name": "stdout",
     "output_type": "stream",
     "text": [
      "[[3 4 5]\n",
      " [6 7 8]\n",
      " [0 1 2]]\n"
     ]
    }
   ],
   "source": [
    "arr = arr[[0,2,1],:] #reordeno las filas, para todas la columnas\n",
    "print(arr)"
   ]
  },
  {
   "cell_type": "markdown",
   "metadata": {},
   "source": [
    "18. How to reverse the rows of a 2D array?\n",
    "Q. Reverse the rows of a 2D array arr"
   ]
  },
  {
   "cell_type": "code",
   "execution_count": 70,
   "metadata": {},
   "outputs": [
    {
     "name": "stdout",
     "output_type": "stream",
     "text": [
      "[[0 1 2]\n",
      " [3 4 5]\n",
      " [6 7 8]]\n"
     ]
    }
   ],
   "source": [
    "arr = np.arange(9).reshape(3,3)\n",
    "print(arr)"
   ]
  },
  {
   "cell_type": "code",
   "execution_count": 71,
   "metadata": {},
   "outputs": [
    {
     "data": {
      "text/plain": [
       "array([[6, 7, 8],\n",
       "       [3, 4, 5],\n",
       "       [0, 1, 2]])"
      ]
     },
     "execution_count": 71,
     "metadata": {},
     "output_type": "execute_result"
    }
   ],
   "source": [
    "arr = arr[::-1,:] #para todas las columnas, [start:end:step]=[todo:todo:al revés]\n",
    "arr"
   ]
  },
  {
   "cell_type": "code",
   "execution_count": 31,
   "metadata": {},
   "outputs": [
    {
     "name": "stdout",
     "output_type": "stream",
     "text": [
      "[[6 7 8]\n",
      " [3 4 5]\n",
      " [0 1 2]]\n"
     ]
    }
   ],
   "source": [
    "#[start,end,step]\n",
    "#[todo:todo:step-1,todo]-->step-1=de atrás hacia delante /de los últimos indices hacia los primeros\n",
    "arr = arr[::-1,::1] #arr[::-1,:] \n",
    "print(arr)"
   ]
  },
  {
   "cell_type": "markdown",
   "metadata": {},
   "source": [
    "cómo sería poner el array al revés del todo, filas y columnas"
   ]
  },
  {
   "cell_type": "code",
   "execution_count": 32,
   "metadata": {},
   "outputs": [
    {
     "name": "stdout",
     "output_type": "stream",
     "text": [
      "[[8 7 6]\n",
      " [5 4 3]\n",
      " [2 1 0]]\n"
     ]
    }
   ],
   "source": [
    "arr = np.arange(9).reshape(3,3)\n",
    "arr = arr[::-1,::-1] #arr[::-1,:] \n",
    "print(arr)"
   ]
  },
  {
   "cell_type": "markdown",
   "metadata": {},
   "source": [
    "19. How to reverse the columns of a 2D array?\n",
    "Q. Reverse the columns of a 2D array arr."
   ]
  },
  {
   "cell_type": "code",
   "execution_count": 72,
   "metadata": {},
   "outputs": [
    {
     "name": "stdout",
     "output_type": "stream",
     "text": [
      "[[0 1 2]\n",
      " [3 4 5]\n",
      " [6 7 8]]\n",
      "[[2 1 0]\n",
      " [5 4 3]\n",
      " [8 7 6]]\n"
     ]
    }
   ],
   "source": [
    "arr = np.arange(9).reshape(3,3)\n",
    "print(arr)\n",
    "#[start,end,step]\n",
    "arr = arr[:,::-1] #para todas las filas, columnas:todo-todo-step '-1'\n",
    "print(arr)"
   ]
  },
  {
   "cell_type": "markdown",
   "metadata": {},
   "source": [
    "20. How to create a 2D array containing random floats between 5 and 10?\n",
    "Q. Create a 2D array of shape 5x3 to contain random decimal numbers between 5 and 10"
   ]
  },
  {
   "cell_type": "markdown",
   "metadata": {},
   "source": [
    "##### numpy.random functions"
   ]
  },
  {
   "cell_type": "markdown",
   "metadata": {},
   "source": [
    "- np.random.seed(numero)\n",
    "- np.random.random()\n",
    "- np.random.rand()\n",
    "- np.random.randint()\n",
    "- np.random.permutation(arr)\n",
    "- np.random.shuffle\n",
    "\n",
    "NUMEROS ALEATORIOS DE DISTRIBUCIONES\n",
    "- np.random.normal / binomial /chisquare / gamma / uniform / beta"
   ]
  },
  {
   "cell_type": "code",
   "execution_count": 78,
   "metadata": {},
   "outputs": [
    {
     "name": "stdout",
     "output_type": "stream",
     "text": [
      "[[8 5 9]\n",
      " [8 7 5]\n",
      " [8 8 9]\n",
      " [7 5 5]\n",
      " [5 7 8]]\n",
      "int32\n",
      "[[8. 5. 9.]\n",
      " [8. 7. 5.]\n",
      " [8. 8. 9.]\n",
      " [7. 5. 5.]\n",
      " [5. 7. 8.]]\n",
      "float64\n",
      "[[8.48281979 5.44808512 9.94335861]\n",
      " [8.35475845 7.72277038 5.16654364]\n",
      " [8.20081241 8.75057642 9.87128443]\n",
      " [7.47606507 5.62548407 5.19071673]\n",
      " [5.85094795 7.72010907 8.25165942]]\n",
      "float64\n",
      "[17]\n",
      "int32\n",
      "17.0\n"
     ]
    }
   ],
   "source": [
    "arr = np.random.randint(5,10,(5,3))\n",
    "print(arr)\n",
    "print(arr.dtype)\n",
    "arr = arr.astype(np.float64)\n",
    "print(arr)\n",
    "print(arr.dtype)\n",
    "arr = arr + np.random.random((5,3))\n",
    "print(arr)\n",
    "print(arr.dtype)\n",
    "\n",
    "#arr = float(np.random.randint(5,10,(5,3))) ERROR: only size-1 arrays can be converted to Python scalars\n",
    "#print(arr)\n",
    "arr = np.array([17])\n",
    "print(arr)\n",
    "print(arr.dtype)\n",
    "arr = float(arr) #lo he convertido en un numero float\n",
    "print(arr)\n",
    "#print(arr.dtype) ERROR: 'float' object has no attribute 'dtype'"
   ]
  },
  {
   "cell_type": "code",
   "execution_count": 35,
   "metadata": {},
   "outputs": [
    {
     "name": "stdout",
     "output_type": "stream",
     "text": [
      "[[9.68519066 9.05746903 7.9919844 ]\n",
      " [8.89723299 7.09684169 6.79524427]\n",
      " [5.9980918  8.10796486 9.82692759]\n",
      " [6.46109271 8.75971063 6.82715052]\n",
      " [7.85957599 7.4964622  6.8280848 ]]\n",
      "[[8.30962073 6.09616385 5.62080478]\n",
      " [5.40901318 8.55690241 6.52959811]\n",
      " [7.50976885 6.94967763 9.46518485]\n",
      " [8.46785865 6.07096061 9.12334101]\n",
      " [6.40317395 8.85737387 8.71717333]]\n"
     ]
    }
   ],
   "source": [
    "# Method 1:\n",
    "rand_arr = np.random.randint(low=5, high=10, size=(5,3)) + np.random.random((5,3))\n",
    "print(rand_arr)\n",
    "\n",
    "# Method 2: USANDO DISTRIBUCIONES\n",
    "rand_arr = np.random.uniform(5,10, size=(5,3))\n",
    "print(rand_arr)"
   ]
  },
  {
   "cell_type": "markdown",
   "metadata": {},
   "source": [
    "21. How to print only 3 decimal places in python numpy array?\n",
    "Q. Print or show only 3 decimal places of the numpy array arr."
   ]
  },
  {
   "cell_type": "code",
   "execution_count": 36,
   "metadata": {},
   "outputs": [
    {
     "name": "stdout",
     "output_type": "stream",
     "text": [
      "[[0.63914041 0.01470891 0.53346694]\n",
      " [0.23448135 0.91965426 0.15798896]\n",
      " [0.2702903  0.51064186 0.67607954]\n",
      " [0.97676544 0.69931156 0.72975919]\n",
      " [0.21835537 0.47172127 0.58039936]]\n",
      "[[0.639 0.015 0.533]\n",
      " [0.234 0.92  0.158]\n",
      " [0.27  0.511 0.676]\n",
      " [0.977 0.699 0.73 ]\n",
      " [0.218 0.472 0.58 ]]\n"
     ]
    }
   ],
   "source": [
    "arr = np.random.random((5,3))\n",
    "print(arr)\n",
    "\n",
    "# Limit to 3 decimal places\n",
    "np.set_printoptions(precision=3)\n",
    "print(arr)"
   ]
  },
  {
   "cell_type": "code",
   "execution_count": 38,
   "metadata": {},
   "outputs": [],
   "source": [
    "# Reset printoptions to default\n",
    "np.set_printoptions(suppress=False)"
   ]
  },
  {
   "cell_type": "markdown",
   "metadata": {},
   "source": [
    "22. How to pretty print a numpy array by suppressing the scientific notation (like 1e10)?"
   ]
  },
  {
   "cell_type": "code",
   "execution_count": 39,
   "metadata": {},
   "outputs": [
    {
     "name": "stdout",
     "output_type": "stream",
     "text": [
      "[[5.434e-04 2.784e-04 4.245e-04]\n",
      " [8.448e-04 4.719e-06 1.216e-04]\n",
      " [6.707e-04 8.259e-04 1.367e-04]]\n"
     ]
    }
   ],
   "source": [
    "np.random.seed(100)\n",
    "rand_arr = np.random.random([3,3])/1e3\n",
    "print(rand_arr)\n",
    "#Desired Output:\n",
    "#> array([[ 0.000543,  0.000278,  0.000425],\n",
    "#>        [ 0.000845,  0.000005,  0.000122],\n",
    "#>        [ 0.000671,  0.000826,  0.000137]])"
   ]
  },
  {
   "cell_type": "code",
   "execution_count": 40,
   "metadata": {},
   "outputs": [
    {
     "name": "stdout",
     "output_type": "stream",
     "text": [
      "[[0.000543 0.000278 0.000425]\n",
      " [0.000845 0.000005 0.000122]\n",
      " [0.000671 0.000826 0.000137]]\n"
     ]
    }
   ],
   "source": [
    "np.set_printoptions(suppress=True, precision=6)  # precision is optional\n",
    "print(rand_arr)"
   ]
  },
  {
   "cell_type": "markdown",
   "metadata": {},
   "source": [
    "23. How to limit the number of items printed in output of numpy array?\n",
    "Q. Limit the number of items printed in python numpy array 'a' to a maximum of 6 elements."
   ]
  },
  {
   "cell_type": "code",
   "execution_count": 41,
   "metadata": {},
   "outputs": [
    {
     "name": "stdout",
     "output_type": "stream",
     "text": [
      "[ 0  1  2  3  4  5  6  7  8  9 10 11 12 13 14]\n"
     ]
    }
   ],
   "source": [
    "a = np.arange(15)\n",
    "print(a)\n",
    "#Desired Output:\n",
    "#> array([ 0,  1,  2, ..., 12, 13, 14])"
   ]
  },
  {
   "cell_type": "code",
   "execution_count": 42,
   "metadata": {},
   "outputs": [
    {
     "name": "stdout",
     "output_type": "stream",
     "text": [
      "[ 0  1  2 ... 12 13 14]\n"
     ]
    }
   ],
   "source": [
    "np.set_printoptions(threshold=6)\n",
    "a = np.arange(15)\n",
    "print(a)"
   ]
  },
  {
   "cell_type": "code",
   "execution_count": 43,
   "metadata": {},
   "outputs": [],
   "source": [
    "# Reset printoptions to default\n",
    "np.set_printoptions(suppress=False)"
   ]
  },
  {
   "cell_type": "markdown",
   "metadata": {},
   "source": [
    "24. How to print the full numpy array without truncating"
   ]
  },
  {
   "cell_type": "code",
   "execution_count": 45,
   "metadata": {},
   "outputs": [
    {
     "name": "stdout",
     "output_type": "stream",
     "text": [
      "[ 0  1  2 ... 12 13 14]\n"
     ]
    }
   ],
   "source": [
    "np.set_printoptions(threshold=6)\n",
    "a = np.arange(15)\n",
    "print(a)\n",
    "#Desired Output:\n",
    "#> array([ 0,  1,  2,  3,  4,  5,  6,  7,  8,  9, 10, 11, 12, 13, 14])"
   ]
  },
  {
   "cell_type": "code",
   "execution_count": 48,
   "metadata": {},
   "outputs": [
    {
     "name": "stdout",
     "output_type": "stream",
     "text": [
      "[ 0  1  2  3  4  5  6  7  8  9 10 11 12 13 14]\n"
     ]
    }
   ],
   "source": [
    "np.set_printoptions(threshold=1000)\n",
    "print(a)"
   ]
  },
  {
   "cell_type": "code",
   "execution_count": 79,
   "metadata": {},
   "outputs": [],
   "source": [
    "np.set_printoptions(suppress=False)"
   ]
  },
  {
   "cell_type": "markdown",
   "metadata": {},
   "source": [
    "25. How to import a dataset with numbers and texts keeping the text intact in python numpy?\n",
    "Q. Import the *iris dataset* keeping the text intact."
   ]
  },
  {
   "cell_type": "code",
   "execution_count": 86,
   "metadata": {},
   "outputs": [
    {
     "name": "stdout",
     "output_type": "stream",
     "text": [
      "[[b'5.1' b'3.5' b'1.4' b'0.2' b'Iris-setosa']\n",
      " [b'4.9' b'3.0' b'1.4' b'0.2' b'Iris-setosa']\n",
      " [b'4.7' b'3.2' b'1.3' b'0.2' b'Iris-setosa']]\n",
      "(150, 5)\n",
      "object\n"
     ]
    }
   ],
   "source": [
    "#LEER ARCHIVO .DATA DESDE URL\n",
    "url = 'https://archive.ics.uci.edu/ml/machine-learning-databases/iris/iris.data'\n",
    "iris = np.genfromtxt(url, delimiter=',', dtype='object')\n",
    "names = ('sepallength', 'sepalwidth', 'petallength', 'petalwidth', 'species')\n",
    "\n",
    "# Print the first 3 rows\n",
    "print(iris[:3])\n",
    "print(iris.shape)\n",
    "print(iris.dtype)"
   ]
  },
  {
   "cell_type": "markdown",
   "metadata": {},
   "source": [
    "Since we want to retain the species (the las column),a text field, I have set the dtype to object. \n",
    "\n",
    "Had I set dtype=None, a 1d array of tuples would have been returned."
   ]
  },
  {
   "cell_type": "code",
   "execution_count": 90,
   "metadata": {},
   "outputs": [
    {
     "name": "stdout",
     "output_type": "stream",
     "text": [
      "(150,)\n"
     ]
    },
    {
     "name": "stderr",
     "output_type": "stream",
     "text": [
      "<ipython-input-90-3fb94c5b07a8>:2: VisibleDeprecationWarning: Reading unicode strings without specifying the encoding argument is deprecated. Set the encoding, use None for the system default.\n",
      "  iris = np.genfromtxt(url, delimiter=',', dtype=None)\n"
     ]
    },
    {
     "data": {
      "text/plain": [
       "array([(5.1, 3.5, 1.4, 0.2, b'Iris-setosa'),\n",
       "       (4.9, 3. , 1.4, 0.2, b'Iris-setosa'),\n",
       "       (4.7, 3.2, 1.3, 0.2, b'Iris-setosa'),\n",
       "       (4.6, 3.1, 1.5, 0.2, b'Iris-setosa'),\n",
       "       (5. , 3.6, 1.4, 0.2, b'Iris-setosa'),\n",
       "       (5.4, 3.9, 1.7, 0.4, b'Iris-setosa'),\n",
       "       (4.6, 3.4, 1.4, 0.3, b'Iris-setosa'),\n",
       "       (5. , 3.4, 1.5, 0.2, b'Iris-setosa'),\n",
       "       (4.4, 2.9, 1.4, 0.2, b'Iris-setosa'),\n",
       "       (4.9, 3.1, 1.5, 0.1, b'Iris-setosa'),\n",
       "       (5.4, 3.7, 1.5, 0.2, b'Iris-setosa'),\n",
       "       (4.8, 3.4, 1.6, 0.2, b'Iris-setosa'),\n",
       "       (4.8, 3. , 1.4, 0.1, b'Iris-setosa'),\n",
       "       (4.3, 3. , 1.1, 0.1, b'Iris-setosa'),\n",
       "       (5.8, 4. , 1.2, 0.2, b'Iris-setosa'),\n",
       "       (5.7, 4.4, 1.5, 0.4, b'Iris-setosa'),\n",
       "       (5.4, 3.9, 1.3, 0.4, b'Iris-setosa'),\n",
       "       (5.1, 3.5, 1.4, 0.3, b'Iris-setosa'),\n",
       "       (5.7, 3.8, 1.7, 0.3, b'Iris-setosa'),\n",
       "       (5.1, 3.8, 1.5, 0.3, b'Iris-setosa'),\n",
       "       (5.4, 3.4, 1.7, 0.2, b'Iris-setosa'),\n",
       "       (5.1, 3.7, 1.5, 0.4, b'Iris-setosa'),\n",
       "       (4.6, 3.6, 1. , 0.2, b'Iris-setosa'),\n",
       "       (5.1, 3.3, 1.7, 0.5, b'Iris-setosa'),\n",
       "       (4.8, 3.4, 1.9, 0.2, b'Iris-setosa'),\n",
       "       (5. , 3. , 1.6, 0.2, b'Iris-setosa'),\n",
       "       (5. , 3.4, 1.6, 0.4, b'Iris-setosa'),\n",
       "       (5.2, 3.5, 1.5, 0.2, b'Iris-setosa'),\n",
       "       (5.2, 3.4, 1.4, 0.2, b'Iris-setosa'),\n",
       "       (4.7, 3.2, 1.6, 0.2, b'Iris-setosa'),\n",
       "       (4.8, 3.1, 1.6, 0.2, b'Iris-setosa'),\n",
       "       (5.4, 3.4, 1.5, 0.4, b'Iris-setosa'),\n",
       "       (5.2, 4.1, 1.5, 0.1, b'Iris-setosa'),\n",
       "       (5.5, 4.2, 1.4, 0.2, b'Iris-setosa'),\n",
       "       (4.9, 3.1, 1.5, 0.1, b'Iris-setosa'),\n",
       "       (5. , 3.2, 1.2, 0.2, b'Iris-setosa'),\n",
       "       (5.5, 3.5, 1.3, 0.2, b'Iris-setosa'),\n",
       "       (4.9, 3.1, 1.5, 0.1, b'Iris-setosa'),\n",
       "       (4.4, 3. , 1.3, 0.2, b'Iris-setosa'),\n",
       "       (5.1, 3.4, 1.5, 0.2, b'Iris-setosa'),\n",
       "       (5. , 3.5, 1.3, 0.3, b'Iris-setosa'),\n",
       "       (4.5, 2.3, 1.3, 0.3, b'Iris-setosa'),\n",
       "       (4.4, 3.2, 1.3, 0.2, b'Iris-setosa'),\n",
       "       (5. , 3.5, 1.6, 0.6, b'Iris-setosa'),\n",
       "       (5.1, 3.8, 1.9, 0.4, b'Iris-setosa'),\n",
       "       (4.8, 3. , 1.4, 0.3, b'Iris-setosa'),\n",
       "       (5.1, 3.8, 1.6, 0.2, b'Iris-setosa'),\n",
       "       (4.6, 3.2, 1.4, 0.2, b'Iris-setosa'),\n",
       "       (5.3, 3.7, 1.5, 0.2, b'Iris-setosa'),\n",
       "       (5. , 3.3, 1.4, 0.2, b'Iris-setosa'),\n",
       "       (7. , 3.2, 4.7, 1.4, b'Iris-versicolor'),\n",
       "       (6.4, 3.2, 4.5, 1.5, b'Iris-versicolor'),\n",
       "       (6.9, 3.1, 4.9, 1.5, b'Iris-versicolor'),\n",
       "       (5.5, 2.3, 4. , 1.3, b'Iris-versicolor'),\n",
       "       (6.5, 2.8, 4.6, 1.5, b'Iris-versicolor'),\n",
       "       (5.7, 2.8, 4.5, 1.3, b'Iris-versicolor'),\n",
       "       (6.3, 3.3, 4.7, 1.6, b'Iris-versicolor'),\n",
       "       (4.9, 2.4, 3.3, 1. , b'Iris-versicolor'),\n",
       "       (6.6, 2.9, 4.6, 1.3, b'Iris-versicolor'),\n",
       "       (5.2, 2.7, 3.9, 1.4, b'Iris-versicolor'),\n",
       "       (5. , 2. , 3.5, 1. , b'Iris-versicolor'),\n",
       "       (5.9, 3. , 4.2, 1.5, b'Iris-versicolor'),\n",
       "       (6. , 2.2, 4. , 1. , b'Iris-versicolor'),\n",
       "       (6.1, 2.9, 4.7, 1.4, b'Iris-versicolor'),\n",
       "       (5.6, 2.9, 3.6, 1.3, b'Iris-versicolor'),\n",
       "       (6.7, 3.1, 4.4, 1.4, b'Iris-versicolor'),\n",
       "       (5.6, 3. , 4.5, 1.5, b'Iris-versicolor'),\n",
       "       (5.8, 2.7, 4.1, 1. , b'Iris-versicolor'),\n",
       "       (6.2, 2.2, 4.5, 1.5, b'Iris-versicolor'),\n",
       "       (5.6, 2.5, 3.9, 1.1, b'Iris-versicolor'),\n",
       "       (5.9, 3.2, 4.8, 1.8, b'Iris-versicolor'),\n",
       "       (6.1, 2.8, 4. , 1.3, b'Iris-versicolor'),\n",
       "       (6.3, 2.5, 4.9, 1.5, b'Iris-versicolor'),\n",
       "       (6.1, 2.8, 4.7, 1.2, b'Iris-versicolor'),\n",
       "       (6.4, 2.9, 4.3, 1.3, b'Iris-versicolor'),\n",
       "       (6.6, 3. , 4.4, 1.4, b'Iris-versicolor'),\n",
       "       (6.8, 2.8, 4.8, 1.4, b'Iris-versicolor'),\n",
       "       (6.7, 3. , 5. , 1.7, b'Iris-versicolor'),\n",
       "       (6. , 2.9, 4.5, 1.5, b'Iris-versicolor'),\n",
       "       (5.7, 2.6, 3.5, 1. , b'Iris-versicolor'),\n",
       "       (5.5, 2.4, 3.8, 1.1, b'Iris-versicolor'),\n",
       "       (5.5, 2.4, 3.7, 1. , b'Iris-versicolor'),\n",
       "       (5.8, 2.7, 3.9, 1.2, b'Iris-versicolor'),\n",
       "       (6. , 2.7, 5.1, 1.6, b'Iris-versicolor'),\n",
       "       (5.4, 3. , 4.5, 1.5, b'Iris-versicolor'),\n",
       "       (6. , 3.4, 4.5, 1.6, b'Iris-versicolor'),\n",
       "       (6.7, 3.1, 4.7, 1.5, b'Iris-versicolor'),\n",
       "       (6.3, 2.3, 4.4, 1.3, b'Iris-versicolor'),\n",
       "       (5.6, 3. , 4.1, 1.3, b'Iris-versicolor'),\n",
       "       (5.5, 2.5, 4. , 1.3, b'Iris-versicolor'),\n",
       "       (5.5, 2.6, 4.4, 1.2, b'Iris-versicolor'),\n",
       "       (6.1, 3. , 4.6, 1.4, b'Iris-versicolor'),\n",
       "       (5.8, 2.6, 4. , 1.2, b'Iris-versicolor'),\n",
       "       (5. , 2.3, 3.3, 1. , b'Iris-versicolor'),\n",
       "       (5.6, 2.7, 4.2, 1.3, b'Iris-versicolor'),\n",
       "       (5.7, 3. , 4.2, 1.2, b'Iris-versicolor'),\n",
       "       (5.7, 2.9, 4.2, 1.3, b'Iris-versicolor'),\n",
       "       (6.2, 2.9, 4.3, 1.3, b'Iris-versicolor'),\n",
       "       (5.1, 2.5, 3. , 1.1, b'Iris-versicolor'),\n",
       "       (5.7, 2.8, 4.1, 1.3, b'Iris-versicolor'),\n",
       "       (6.3, 3.3, 6. , 2.5, b'Iris-virginica'),\n",
       "       (5.8, 2.7, 5.1, 1.9, b'Iris-virginica'),\n",
       "       (7.1, 3. , 5.9, 2.1, b'Iris-virginica'),\n",
       "       (6.3, 2.9, 5.6, 1.8, b'Iris-virginica'),\n",
       "       (6.5, 3. , 5.8, 2.2, b'Iris-virginica'),\n",
       "       (7.6, 3. , 6.6, 2.1, b'Iris-virginica'),\n",
       "       (4.9, 2.5, 4.5, 1.7, b'Iris-virginica'),\n",
       "       (7.3, 2.9, 6.3, 1.8, b'Iris-virginica'),\n",
       "       (6.7, 2.5, 5.8, 1.8, b'Iris-virginica'),\n",
       "       (7.2, 3.6, 6.1, 2.5, b'Iris-virginica'),\n",
       "       (6.5, 3.2, 5.1, 2. , b'Iris-virginica'),\n",
       "       (6.4, 2.7, 5.3, 1.9, b'Iris-virginica'),\n",
       "       (6.8, 3. , 5.5, 2.1, b'Iris-virginica'),\n",
       "       (5.7, 2.5, 5. , 2. , b'Iris-virginica'),\n",
       "       (5.8, 2.8, 5.1, 2.4, b'Iris-virginica'),\n",
       "       (6.4, 3.2, 5.3, 2.3, b'Iris-virginica'),\n",
       "       (6.5, 3. , 5.5, 1.8, b'Iris-virginica'),\n",
       "       (7.7, 3.8, 6.7, 2.2, b'Iris-virginica'),\n",
       "       (7.7, 2.6, 6.9, 2.3, b'Iris-virginica'),\n",
       "       (6. , 2.2, 5. , 1.5, b'Iris-virginica'),\n",
       "       (6.9, 3.2, 5.7, 2.3, b'Iris-virginica'),\n",
       "       (5.6, 2.8, 4.9, 2. , b'Iris-virginica'),\n",
       "       (7.7, 2.8, 6.7, 2. , b'Iris-virginica'),\n",
       "       (6.3, 2.7, 4.9, 1.8, b'Iris-virginica'),\n",
       "       (6.7, 3.3, 5.7, 2.1, b'Iris-virginica'),\n",
       "       (7.2, 3.2, 6. , 1.8, b'Iris-virginica'),\n",
       "       (6.2, 2.8, 4.8, 1.8, b'Iris-virginica'),\n",
       "       (6.1, 3. , 4.9, 1.8, b'Iris-virginica'),\n",
       "       (6.4, 2.8, 5.6, 2.1, b'Iris-virginica'),\n",
       "       (7.2, 3. , 5.8, 1.6, b'Iris-virginica'),\n",
       "       (7.4, 2.8, 6.1, 1.9, b'Iris-virginica'),\n",
       "       (7.9, 3.8, 6.4, 2. , b'Iris-virginica'),\n",
       "       (6.4, 2.8, 5.6, 2.2, b'Iris-virginica'),\n",
       "       (6.3, 2.8, 5.1, 1.5, b'Iris-virginica'),\n",
       "       (6.1, 2.6, 5.6, 1.4, b'Iris-virginica'),\n",
       "       (7.7, 3. , 6.1, 2.3, b'Iris-virginica'),\n",
       "       (6.3, 3.4, 5.6, 2.4, b'Iris-virginica'),\n",
       "       (6.4, 3.1, 5.5, 1.8, b'Iris-virginica'),\n",
       "       (6. , 3. , 4.8, 1.8, b'Iris-virginica'),\n",
       "       (6.9, 3.1, 5.4, 2.1, b'Iris-virginica'),\n",
       "       (6.7, 3.1, 5.6, 2.4, b'Iris-virginica'),\n",
       "       (6.9, 3.1, 5.1, 2.3, b'Iris-virginica'),\n",
       "       (5.8, 2.7, 5.1, 1.9, b'Iris-virginica'),\n",
       "       (6.8, 3.2, 5.9, 2.3, b'Iris-virginica'),\n",
       "       (6.7, 3.3, 5.7, 2.5, b'Iris-virginica'),\n",
       "       (6.7, 3. , 5.2, 2.3, b'Iris-virginica'),\n",
       "       (6.3, 2.5, 5. , 1.9, b'Iris-virginica'),\n",
       "       (6.5, 3. , 5.2, 2. , b'Iris-virginica'),\n",
       "       (6.2, 3.4, 5.4, 2.3, b'Iris-virginica'),\n",
       "       (5.9, 3. , 5.1, 1.8, b'Iris-virginica')],\n",
       "      dtype=[('f0', '<f8'), ('f1', '<f8'), ('f2', '<f8'), ('f3', '<f8'), ('f4', 'S15')])"
      ]
     },
     "execution_count": 90,
     "metadata": {},
     "output_type": "execute_result"
    }
   ],
   "source": [
    "url = 'https://archive.ics.uci.edu/ml/machine-learning-databases/iris/iris.data'\n",
    "iris = np.genfromtxt(url, delimiter=',', dtype=None)\n",
    "names = ('sepallength', 'sepalwidth', 'petallength', 'petalwidth', 'species')\n",
    "print(iris.shape) #1D, 150 tuplas, en cada tupla hay 5 valores\n",
    "iris\n",
    "#recordar que un tupla admite una secuencia de datos de CUALQUIER TIPO\n",
    "#(en principio, ya veremos que el Appendix A-A.5 Structured and Record Arrays una funcionalidad avanzada)\n",
    "#un Ndarray es un container de homogenous data"
   ]
  },
  {
   "cell_type": "markdown",
   "metadata": {},
   "source": [
    "26. How to extract a particular column from 1D array of tuples?\n",
    "Q. Extract the text column species from the 1D iris imported in previous question."
   ]
  },
  {
   "cell_type": "markdown",
   "metadata": {},
   "source": [
    "con una \n",
    "##### lista de compresión\n",
    "[expresion for valore/valores in < coleccion > if < condicion >]\n"
   ]
  },
  {
   "cell_type": "code",
   "execution_count": 82,
   "metadata": {},
   "outputs": [
    {
     "name": "stdout",
     "output_type": "stream",
     "text": [
      "(150,)\n"
     ]
    },
    {
     "name": "stderr",
     "output_type": "stream",
     "text": [
      "<ipython-input-82-5efee33c77aa>:3: VisibleDeprecationWarning: Reading unicode strings without specifying the encoding argument is deprecated. Set the encoding, use None for the system default.\n",
      "  iris_1d = np.genfromtxt(url, delimiter=',', dtype=None)\n"
     ]
    },
    {
     "data": {
      "text/plain": [
       "array([b'Iris-setosa', b'Iris-setosa', b'Iris-setosa'], dtype='|S18')"
      ]
     },
     "execution_count": 82,
     "metadata": {},
     "output_type": "execute_result"
    }
   ],
   "source": [
    "url = 'https://archive.ics.uci.edu/ml/machine-learning-databases/iris/iris.data'\n",
    "#iris = np.genfromtxt(url, delimiter=',', dtype='object')\n",
    "#input[]\n",
    "iris_1d = np.genfromtxt(url, delimiter=',', dtype=None)\n",
    "iris_1d #1D array, con cada item=tuple\n",
    "print(iris_1d.shape)\n",
    "\n",
    "#iris_1d = iris_1d[:,np.newaxis]\n",
    "species = np.array([row[4] for row in iris_1d])\n",
    "species[:3]"
   ]
  },
  {
   "cell_type": "markdown",
   "metadata": {},
   "source": [
    "#### OJO ESTA ES BUENA\n",
    "\n",
    "*tolist()*\n",
    "\n",
    "Syntax: Series.tolist()\n",
    "\n",
    "Return type: Converted series into List"
   ]
  },
  {
   "cell_type": "markdown",
   "metadata": {},
   "source": [
    "27. How to convert a 1d array of tuples to a 2d numpy array?\n",
    "Q. Convert the 1D iris to 2D array iris_2d by omitting the species text field."
   ]
  },
  {
   "cell_type": "markdown",
   "metadata": {},
   "source": [
    "dtype = None--> 1Darray de tuplas / lista de compresión + tolist() + np.array(lista) --> selecciono las colmnas con la lista de compresión a la vez que cambio tuplas por listas / convierto la lista en array"
   ]
  },
  {
   "cell_type": "code",
   "execution_count": 92,
   "metadata": {},
   "outputs": [
    {
     "name": "stdout",
     "output_type": "stream",
     "text": [
      "[(5.1, 3.5, 1.4, 0.2, b'Iris-setosa') (4.9, 3. , 1.4, 0.2, b'Iris-setosa')\n",
      " (4.7, 3.2, 1.3, 0.2, b'Iris-setosa')]\n",
      "[(5.1, 3.5, 1.4, 0.2), (4.9, 3.0, 1.4, 0.2), (4.7, 3.2, 1.3, 0.2), (4.6, 3.1, 1.5, 0.2), (5.0, 3.6, 1.4, 0.2), (5.4, 3.9, 1.7, 0.4), (4.6, 3.4, 1.4, 0.3), (5.0, 3.4, 1.5, 0.2), (4.4, 2.9, 1.4, 0.2), (4.9, 3.1, 1.5, 0.1), (5.4, 3.7, 1.5, 0.2), (4.8, 3.4, 1.6, 0.2), (4.8, 3.0, 1.4, 0.1), (4.3, 3.0, 1.1, 0.1), (5.8, 4.0, 1.2, 0.2), (5.7, 4.4, 1.5, 0.4), (5.4, 3.9, 1.3, 0.4), (5.1, 3.5, 1.4, 0.3), (5.7, 3.8, 1.7, 0.3), (5.1, 3.8, 1.5, 0.3), (5.4, 3.4, 1.7, 0.2), (5.1, 3.7, 1.5, 0.4), (4.6, 3.6, 1.0, 0.2), (5.1, 3.3, 1.7, 0.5), (4.8, 3.4, 1.9, 0.2), (5.0, 3.0, 1.6, 0.2), (5.0, 3.4, 1.6, 0.4), (5.2, 3.5, 1.5, 0.2), (5.2, 3.4, 1.4, 0.2), (4.7, 3.2, 1.6, 0.2), (4.8, 3.1, 1.6, 0.2), (5.4, 3.4, 1.5, 0.4), (5.2, 4.1, 1.5, 0.1), (5.5, 4.2, 1.4, 0.2), (4.9, 3.1, 1.5, 0.1), (5.0, 3.2, 1.2, 0.2), (5.5, 3.5, 1.3, 0.2), (4.9, 3.1, 1.5, 0.1), (4.4, 3.0, 1.3, 0.2), (5.1, 3.4, 1.5, 0.2), (5.0, 3.5, 1.3, 0.3), (4.5, 2.3, 1.3, 0.3), (4.4, 3.2, 1.3, 0.2), (5.0, 3.5, 1.6, 0.6), (5.1, 3.8, 1.9, 0.4), (4.8, 3.0, 1.4, 0.3), (5.1, 3.8, 1.6, 0.2), (4.6, 3.2, 1.4, 0.2), (5.3, 3.7, 1.5, 0.2), (5.0, 3.3, 1.4, 0.2), (7.0, 3.2, 4.7, 1.4), (6.4, 3.2, 4.5, 1.5), (6.9, 3.1, 4.9, 1.5), (5.5, 2.3, 4.0, 1.3), (6.5, 2.8, 4.6, 1.5), (5.7, 2.8, 4.5, 1.3), (6.3, 3.3, 4.7, 1.6), (4.9, 2.4, 3.3, 1.0), (6.6, 2.9, 4.6, 1.3), (5.2, 2.7, 3.9, 1.4), (5.0, 2.0, 3.5, 1.0), (5.9, 3.0, 4.2, 1.5), (6.0, 2.2, 4.0, 1.0), (6.1, 2.9, 4.7, 1.4), (5.6, 2.9, 3.6, 1.3), (6.7, 3.1, 4.4, 1.4), (5.6, 3.0, 4.5, 1.5), (5.8, 2.7, 4.1, 1.0), (6.2, 2.2, 4.5, 1.5), (5.6, 2.5, 3.9, 1.1), (5.9, 3.2, 4.8, 1.8), (6.1, 2.8, 4.0, 1.3), (6.3, 2.5, 4.9, 1.5), (6.1, 2.8, 4.7, 1.2), (6.4, 2.9, 4.3, 1.3), (6.6, 3.0, 4.4, 1.4), (6.8, 2.8, 4.8, 1.4), (6.7, 3.0, 5.0, 1.7), (6.0, 2.9, 4.5, 1.5), (5.7, 2.6, 3.5, 1.0), (5.5, 2.4, 3.8, 1.1), (5.5, 2.4, 3.7, 1.0), (5.8, 2.7, 3.9, 1.2), (6.0, 2.7, 5.1, 1.6), (5.4, 3.0, 4.5, 1.5), (6.0, 3.4, 4.5, 1.6), (6.7, 3.1, 4.7, 1.5), (6.3, 2.3, 4.4, 1.3), (5.6, 3.0, 4.1, 1.3), (5.5, 2.5, 4.0, 1.3), (5.5, 2.6, 4.4, 1.2), (6.1, 3.0, 4.6, 1.4), (5.8, 2.6, 4.0, 1.2), (5.0, 2.3, 3.3, 1.0), (5.6, 2.7, 4.2, 1.3), (5.7, 3.0, 4.2, 1.2), (5.7, 2.9, 4.2, 1.3), (6.2, 2.9, 4.3, 1.3), (5.1, 2.5, 3.0, 1.1), (5.7, 2.8, 4.1, 1.3), (6.3, 3.3, 6.0, 2.5), (5.8, 2.7, 5.1, 1.9), (7.1, 3.0, 5.9, 2.1), (6.3, 2.9, 5.6, 1.8), (6.5, 3.0, 5.8, 2.2), (7.6, 3.0, 6.6, 2.1), (4.9, 2.5, 4.5, 1.7), (7.3, 2.9, 6.3, 1.8), (6.7, 2.5, 5.8, 1.8), (7.2, 3.6, 6.1, 2.5), (6.5, 3.2, 5.1, 2.0), (6.4, 2.7, 5.3, 1.9), (6.8, 3.0, 5.5, 2.1), (5.7, 2.5, 5.0, 2.0), (5.8, 2.8, 5.1, 2.4), (6.4, 3.2, 5.3, 2.3), (6.5, 3.0, 5.5, 1.8), (7.7, 3.8, 6.7, 2.2), (7.7, 2.6, 6.9, 2.3), (6.0, 2.2, 5.0, 1.5), (6.9, 3.2, 5.7, 2.3), (5.6, 2.8, 4.9, 2.0), (7.7, 2.8, 6.7, 2.0), (6.3, 2.7, 4.9, 1.8), (6.7, 3.3, 5.7, 2.1), (7.2, 3.2, 6.0, 1.8), (6.2, 2.8, 4.8, 1.8), (6.1, 3.0, 4.9, 1.8), (6.4, 2.8, 5.6, 2.1), (7.2, 3.0, 5.8, 1.6), (7.4, 2.8, 6.1, 1.9), (7.9, 3.8, 6.4, 2.0), (6.4, 2.8, 5.6, 2.2), (6.3, 2.8, 5.1, 1.5), (6.1, 2.6, 5.6, 1.4), (7.7, 3.0, 6.1, 2.3), (6.3, 3.4, 5.6, 2.4), (6.4, 3.1, 5.5, 1.8), (6.0, 3.0, 4.8, 1.8), (6.9, 3.1, 5.4, 2.1), (6.7, 3.1, 5.6, 2.4), (6.9, 3.1, 5.1, 2.3), (5.8, 2.7, 5.1, 1.9), (6.8, 3.2, 5.9, 2.3), (6.7, 3.3, 5.7, 2.5), (6.7, 3.0, 5.2, 2.3), (6.3, 2.5, 5.0, 1.9), (6.5, 3.0, 5.2, 2.0), (6.2, 3.4, 5.4, 2.3), (5.9, 3.0, 5.1, 1.8)]\n",
      "150\n",
      "(150, 4)\n",
      "------------\n",
      "[[5.1 3.5 1.4 0.2]\n",
      " [4.9 3.  1.4 0.2]\n",
      " [4.7 3.2 1.3 0.2]]\n",
      "(150, 4)\n"
     ]
    },
    {
     "name": "stderr",
     "output_type": "stream",
     "text": [
      "<ipython-input-92-b165258573b7>:2: VisibleDeprecationWarning: Reading unicode strings without specifying the encoding argument is deprecated. Set the encoding, use None for the system default.\n",
      "  iris_1d = np.genfromtxt(url, delimiter=',', dtype=None)\n"
     ]
    }
   ],
   "source": [
    "url = 'https://archive.ics.uci.edu/ml/machine-learning-databases/iris/iris.data'\n",
    "iris_1d = np.genfromtxt(url, delimiter=',', dtype=None)\n",
    "print(iris_1d[:3])\n",
    "#metodo1\n",
    "iris_1d #1D array, con cada item=tuple\n",
    "l = [row.tolist()[:4] for row in iris_1d] #[:4] cojo las tres primeras columnas, no la cuarta\n",
    "print(l) #list of tuples\n",
    "print(len(l))\n",
    "\n",
    "iris_2d = np.array(l) #genero un np.array(list of tuples)\n",
    "print(iris_2d.shape)\n",
    "print(\"------------\")\n",
    "#metodo2--desde el principio, al crear iris\n",
    "iris_2d = np.genfromtxt(url, delimiter=',', dtype='float', usecols=[0,1,2,3])\n",
    "print(iris_2d[:3,:])\n",
    "print(iris_2d.shape)\n"
   ]
  },
  {
   "cell_type": "markdown",
   "metadata": {},
   "source": [
    "28. How to compute the mean, median, standard deviation of a numpy array?\n",
    "Q. Find the mean, median, standard deviation of iris's sepallength (1st column)"
   ]
  },
  {
   "cell_type": "code",
   "execution_count": 97,
   "metadata": {},
   "outputs": [
    {
     "name": "stdout",
     "output_type": "stream",
     "text": [
      "5.843333333333334 5.8 0.8253012917851409\n",
      "5.843333333333334 5.8 0.8253012917851409\n",
      "5.843333333333334 5.8 0.8253012917851409\n"
     ]
    }
   ],
   "source": [
    "url = 'https://archive.ics.uci.edu/ml/machine-learning-databases/iris/iris.data'\n",
    "iris = np.genfromtxt(url, delimiter=',', dtype='object')\n",
    "iris.shape #(150,5)-->2D array\n",
    "iris.dtype #Object\n",
    "#np.mean(iris) / iris.mean() -->ERROR porque es tipo Object\n",
    "\n",
    "#metodo1\n",
    "#elimino la última columna\n",
    "iris = iris[:,:4]\n",
    "#Cambio el tipo del array\n",
    "iris = iris.astype(np.float64)\n",
    "mu = iris[:,0].mean() #np.mean(iris)[]\n",
    "med = np.median(iris[:,0])\n",
    "standar = iris[:,0].std() #np.std(iris)\n",
    "print(mu, med, standar)\n",
    "\n",
    "#metodo2\n",
    "#convierto el array desde el principio\n",
    "iris = np.genfromtxt(url, delimiter=',', dtype='float',usecols=[0,1,2,3]) #la última columna no puede ser float\n",
    "#convierto el 1Darray de tuplas --> 2D array float\n",
    "iris.dtype #Float\n",
    "iris.shape #(150,4)\n",
    "mu = iris[:,0].mean() #np.mean(iris)[]\n",
    "med = np.median(iris[:,0])\n",
    "standar = iris[:,0].std() #np.std(iris)\n",
    "print(mu, med, standar)\n",
    "\n",
    "#metodo3\n",
    "iris = np.genfromtxt(url, delimiter=',', dtype='object')\n",
    "sepallength = np.genfromtxt(url, delimiter=',', dtype='float', usecols=[0])\n",
    "mu, med, sd = np.mean(sepallength), np.median(sepallength), np.std(sepallength)\n",
    "print(mu, med, sd)"
   ]
  },
  {
   "cell_type": "markdown",
   "metadata": {},
   "source": [
    "29. How to normalize an array so the values range exactly between 0 and 1?\n",
    "Q. Create a normalized form of iris's sepallength whose values range exactly between 0 and 1 so that the minimum has value 0 and maximum has value 1."
   ]
  },
  {
   "cell_type": "code",
   "execution_count": 99,
   "metadata": {},
   "outputs": [
    {
     "name": "stdout",
     "output_type": "stream",
     "text": [
      "(150,)\n"
     ]
    },
    {
     "data": {
      "text/plain": [
       "array([5.1, 4.9, 4.7, 4.6, 5. , 5.4, 4.6, 5. , 4.4, 4.9, 5.4, 4.8, 4.8,\n",
       "       4.3, 5.8, 5.7, 5.4, 5.1, 5.7, 5.1, 5.4, 5.1, 4.6, 5.1, 4.8, 5. ,\n",
       "       5. , 5.2, 5.2, 4.7, 4.8, 5.4, 5.2, 5.5, 4.9, 5. , 5.5, 4.9, 4.4,\n",
       "       5.1, 5. , 4.5, 4.4, 5. , 5.1, 4.8, 5.1, 4.6, 5.3, 5. , 7. , 6.4,\n",
       "       6.9, 5.5, 6.5, 5.7, 6.3, 4.9, 6.6, 5.2, 5. , 5.9, 6. , 6.1, 5.6,\n",
       "       6.7, 5.6, 5.8, 6.2, 5.6, 5.9, 6.1, 6.3, 6.1, 6.4, 6.6, 6.8, 6.7,\n",
       "       6. , 5.7, 5.5, 5.5, 5.8, 6. , 5.4, 6. , 6.7, 6.3, 5.6, 5.5, 5.5,\n",
       "       6.1, 5.8, 5. , 5.6, 5.7, 5.7, 6.2, 5.1, 5.7, 6.3, 5.8, 7.1, 6.3,\n",
       "       6.5, 7.6, 4.9, 7.3, 6.7, 7.2, 6.5, 6.4, 6.8, 5.7, 5.8, 6.4, 6.5,\n",
       "       7.7, 7.7, 6. , 6.9, 5.6, 7.7, 6.3, 6.7, 7.2, 6.2, 6.1, 6.4, 7.2,\n",
       "       7.4, 7.9, 6.4, 6.3, 6.1, 7.7, 6.3, 6.4, 6. , 6.9, 6.7, 6.9, 5.8,\n",
       "       6.8, 6.7, 6.7, 6.3, 6.5, 6.2, 5.9])"
      ]
     },
     "execution_count": 99,
     "metadata": {},
     "output_type": "execute_result"
    }
   ],
   "source": [
    "url = 'https://archive.ics.uci.edu/ml/machine-learning-databases/iris/iris.data'\n",
    "sepallength = np.genfromtxt(url, delimiter=',', dtype='float', usecols=[0])\n",
    "print(sepallength.shape)\n",
    "sepallength # 1Darray con toda la columna sepallength"
   ]
  },
  {
   "cell_type": "markdown",
   "metadata": {},
   "source": [
    "*np.ptp()*\n",
    "\n",
    "Range of values (maximum - minimum) along an axis.\n",
    "\n",
    "The name of the function comes from the acronym for ‘peak to peak’."
   ]
  },
  {
   "cell_type": "code",
   "execution_count": 98,
   "metadata": {},
   "outputs": [
    {
     "name": "stdout",
     "output_type": "stream",
     "text": [
      "(150,)\n"
     ]
    },
    {
     "data": {
      "text/plain": [
       "array([0.22222222, 0.16666667, 0.11111111, 0.08333333, 0.19444444,\n",
       "       0.30555556, 0.08333333, 0.19444444, 0.02777778, 0.16666667,\n",
       "       0.30555556, 0.13888889, 0.13888889, 0.        , 0.41666667,\n",
       "       0.38888889, 0.30555556, 0.22222222, 0.38888889, 0.22222222,\n",
       "       0.30555556, 0.22222222, 0.08333333, 0.22222222, 0.13888889,\n",
       "       0.19444444, 0.19444444, 0.25      , 0.25      , 0.11111111,\n",
       "       0.13888889, 0.30555556, 0.25      , 0.33333333, 0.16666667,\n",
       "       0.19444444, 0.33333333, 0.16666667, 0.02777778, 0.22222222,\n",
       "       0.19444444, 0.05555556, 0.02777778, 0.19444444, 0.22222222,\n",
       "       0.13888889, 0.22222222, 0.08333333, 0.27777778, 0.19444444,\n",
       "       0.75      , 0.58333333, 0.72222222, 0.33333333, 0.61111111,\n",
       "       0.38888889, 0.55555556, 0.16666667, 0.63888889, 0.25      ,\n",
       "       0.19444444, 0.44444444, 0.47222222, 0.5       , 0.36111111,\n",
       "       0.66666667, 0.36111111, 0.41666667, 0.52777778, 0.36111111,\n",
       "       0.44444444, 0.5       , 0.55555556, 0.5       , 0.58333333,\n",
       "       0.63888889, 0.69444444, 0.66666667, 0.47222222, 0.38888889,\n",
       "       0.33333333, 0.33333333, 0.41666667, 0.47222222, 0.30555556,\n",
       "       0.47222222, 0.66666667, 0.55555556, 0.36111111, 0.33333333,\n",
       "       0.33333333, 0.5       , 0.41666667, 0.19444444, 0.36111111,\n",
       "       0.38888889, 0.38888889, 0.52777778, 0.22222222, 0.38888889,\n",
       "       0.55555556, 0.41666667, 0.77777778, 0.55555556, 0.61111111,\n",
       "       0.91666667, 0.16666667, 0.83333333, 0.66666667, 0.80555556,\n",
       "       0.61111111, 0.58333333, 0.69444444, 0.38888889, 0.41666667,\n",
       "       0.58333333, 0.61111111, 0.94444444, 0.94444444, 0.47222222,\n",
       "       0.72222222, 0.36111111, 0.94444444, 0.55555556, 0.66666667,\n",
       "       0.80555556, 0.52777778, 0.5       , 0.58333333, 0.80555556,\n",
       "       0.86111111, 1.        , 0.58333333, 0.55555556, 0.5       ,\n",
       "       0.94444444, 0.55555556, 0.58333333, 0.47222222, 0.72222222,\n",
       "       0.66666667, 0.72222222, 0.41666667, 0.69444444, 0.66666667,\n",
       "       0.66666667, 0.55555556, 0.61111111, 0.52777778, 0.44444444])"
      ]
     },
     "execution_count": 98,
     "metadata": {},
     "output_type": "execute_result"
    }
   ],
   "source": [
    "peak_to_peak = sepallength.ptp()\n",
    "peak_to_peak\n",
    "\n",
    "Smax = sepallength.max()\n",
    "Smin = sepallength.min()\n",
    "\n",
    "S = (sepallength - Smin)/(Smax - Smin)\n",
    "#or\n",
    "S = (sepallength - Smin)/sepallength.ptp()\n",
    "print(S.shape)\n",
    "S"
   ]
  },
  {
   "cell_type": "code",
   "execution_count": 103,
   "metadata": {},
   "outputs": [
    {
     "name": "stdout",
     "output_type": "stream",
     "text": [
      "(150, 1)\n"
     ]
    },
    {
     "data": {
      "text/plain": [
       "array([[0.64556962],\n",
       "       [0.62025316],\n",
       "       [0.59493671],\n",
       "       [0.58227848],\n",
       "       [0.63291139],\n",
       "       [0.6835443 ],\n",
       "       [0.58227848],\n",
       "       [0.63291139],\n",
       "       [0.55696203],\n",
       "       [0.62025316],\n",
       "       [0.6835443 ],\n",
       "       [0.60759494],\n",
       "       [0.60759494],\n",
       "       [0.5443038 ],\n",
       "       [0.73417722],\n",
       "       [0.72151899],\n",
       "       [0.6835443 ],\n",
       "       [0.64556962],\n",
       "       [0.72151899],\n",
       "       [0.64556962],\n",
       "       [0.6835443 ],\n",
       "       [0.64556962],\n",
       "       [0.58227848],\n",
       "       [0.64556962],\n",
       "       [0.60759494],\n",
       "       [0.63291139],\n",
       "       [0.63291139],\n",
       "       [0.65822785],\n",
       "       [0.65822785],\n",
       "       [0.59493671],\n",
       "       [0.60759494],\n",
       "       [0.6835443 ],\n",
       "       [0.65822785],\n",
       "       [0.69620253],\n",
       "       [0.62025316],\n",
       "       [0.63291139],\n",
       "       [0.69620253],\n",
       "       [0.62025316],\n",
       "       [0.55696203],\n",
       "       [0.64556962],\n",
       "       [0.63291139],\n",
       "       [0.56962025],\n",
       "       [0.55696203],\n",
       "       [0.63291139],\n",
       "       [0.64556962],\n",
       "       [0.60759494],\n",
       "       [0.64556962],\n",
       "       [0.58227848],\n",
       "       [0.67088608],\n",
       "       [0.63291139],\n",
       "       [0.88607595],\n",
       "       [0.81012658],\n",
       "       [0.87341772],\n",
       "       [0.69620253],\n",
       "       [0.82278481],\n",
       "       [0.72151899],\n",
       "       [0.79746835],\n",
       "       [0.62025316],\n",
       "       [0.83544304],\n",
       "       [0.65822785],\n",
       "       [0.63291139],\n",
       "       [0.74683544],\n",
       "       [0.75949367],\n",
       "       [0.7721519 ],\n",
       "       [0.70886076],\n",
       "       [0.84810127],\n",
       "       [0.70886076],\n",
       "       [0.73417722],\n",
       "       [0.78481013],\n",
       "       [0.70886076],\n",
       "       [0.74683544],\n",
       "       [0.7721519 ],\n",
       "       [0.79746835],\n",
       "       [0.7721519 ],\n",
       "       [0.81012658],\n",
       "       [0.83544304],\n",
       "       [0.86075949],\n",
       "       [0.84810127],\n",
       "       [0.75949367],\n",
       "       [0.72151899],\n",
       "       [0.69620253],\n",
       "       [0.69620253],\n",
       "       [0.73417722],\n",
       "       [0.75949367],\n",
       "       [0.6835443 ],\n",
       "       [0.75949367],\n",
       "       [0.84810127],\n",
       "       [0.79746835],\n",
       "       [0.70886076],\n",
       "       [0.69620253],\n",
       "       [0.69620253],\n",
       "       [0.7721519 ],\n",
       "       [0.73417722],\n",
       "       [0.63291139],\n",
       "       [0.70886076],\n",
       "       [0.72151899],\n",
       "       [0.72151899],\n",
       "       [0.78481013],\n",
       "       [0.64556962],\n",
       "       [0.72151899],\n",
       "       [0.79746835],\n",
       "       [0.73417722],\n",
       "       [0.89873418],\n",
       "       [0.79746835],\n",
       "       [0.82278481],\n",
       "       [0.96202532],\n",
       "       [0.62025316],\n",
       "       [0.92405063],\n",
       "       [0.84810127],\n",
       "       [0.91139241],\n",
       "       [0.82278481],\n",
       "       [0.81012658],\n",
       "       [0.86075949],\n",
       "       [0.72151899],\n",
       "       [0.73417722],\n",
       "       [0.81012658],\n",
       "       [0.82278481],\n",
       "       [0.97468354],\n",
       "       [0.97468354],\n",
       "       [0.75949367],\n",
       "       [0.87341772],\n",
       "       [0.70886076],\n",
       "       [0.97468354],\n",
       "       [0.79746835],\n",
       "       [0.84810127],\n",
       "       [0.91139241],\n",
       "       [0.78481013],\n",
       "       [0.7721519 ],\n",
       "       [0.81012658],\n",
       "       [0.91139241],\n",
       "       [0.93670886],\n",
       "       [1.        ],\n",
       "       [0.81012658],\n",
       "       [0.79746835],\n",
       "       [0.7721519 ],\n",
       "       [0.97468354],\n",
       "       [0.79746835],\n",
       "       [0.81012658],\n",
       "       [0.75949367],\n",
       "       [0.87341772],\n",
       "       [0.84810127],\n",
       "       [0.87341772],\n",
       "       [0.73417722],\n",
       "       [0.86075949],\n",
       "       [0.84810127],\n",
       "       [0.84810127],\n",
       "       [0.79746835],\n",
       "       [0.82278481],\n",
       "       [0.78481013],\n",
       "       [0.74683544]])"
      ]
     },
     "execution_count": 103,
     "metadata": {},
     "output_type": "execute_result"
    }
   ],
   "source": [
    "#Esto esta bien?\n",
    "import pandas as pd\n",
    "import numpy as np\n",
    "from sklearn.preprocessing import normalize\n",
    "\n",
    "url = 'https://archive.ics.uci.edu/ml/machine-learning-databases/iris/iris.data'\n",
    "sepallength = np.genfromtxt(url, delimiter=',', dtype='float', usecols=[0])\n",
    "sepallength = sepallength[:,np.newaxis] #Shape (150,1)\n",
    "data=sepallength\n",
    "df=pd.DataFrame(data)\n",
    "dfs=normalize(data,axis=0,norm=\"max\")\n",
    "print(dfs.shape)\n",
    "dfs #array"
   ]
  },
  {
   "cell_type": "markdown",
   "metadata": {},
   "source": [
    "30. How to compute the softmax score?\n",
    "Q. Compute the softmax score of sepallength."
   ]
  },
  {
   "cell_type": "code",
   "execution_count": 100,
   "metadata": {},
   "outputs": [],
   "source": [
    "# Input\n",
    "url = 'https://archive.ics.uci.edu/ml/machine-learning-databases/iris/iris.data'\n",
    "iris = np.genfromtxt(url, delimiter=',', dtype='object')\n",
    "sepallength = np.array([float(row[0]) for row in iris])"
   ]
  },
  {
   "cell_type": "code",
   "execution_count": 104,
   "metadata": {},
   "outputs": [
    {
     "name": "stdout",
     "output_type": "stream",
     "text": [
      "[[0.00221959]\n",
      " [0.00181724]\n",
      " [0.00148783]\n",
      " [0.00134625]\n",
      " [0.00200836]\n",
      " [0.00299613]\n",
      " [0.00134625]\n",
      " [0.00200836]\n",
      " [0.00110221]\n",
      " [0.00181724]\n",
      " [0.00299613]\n",
      " [0.00164431]\n",
      " [0.00164431]\n",
      " [0.00099732]\n",
      " [0.0044697 ]\n",
      " [0.00404435]\n",
      " [0.00299613]\n",
      " [0.00221959]\n",
      " [0.00404435]\n",
      " [0.00221959]\n",
      " [0.00299613]\n",
      " [0.00221959]\n",
      " [0.00134625]\n",
      " [0.00221959]\n",
      " [0.00164431]\n",
      " [0.00200836]\n",
      " [0.00200836]\n",
      " [0.00245302]\n",
      " [0.00245302]\n",
      " [0.00148783]\n",
      " [0.00164431]\n",
      " [0.00299613]\n",
      " [0.00245302]\n",
      " [0.00331123]\n",
      " [0.00181724]\n",
      " [0.00200836]\n",
      " [0.00331123]\n",
      " [0.00181724]\n",
      " [0.00110221]\n",
      " [0.00221959]\n",
      " [0.00200836]\n",
      " [0.00121813]\n",
      " [0.00110221]\n",
      " [0.00200836]\n",
      " [0.00221959]\n",
      " [0.00164431]\n",
      " [0.00221959]\n",
      " [0.00134625]\n",
      " [0.00271101]\n",
      " [0.00200836]\n",
      " [0.01483991]\n",
      " [0.00814432]\n",
      " [0.01342771]\n",
      " [0.00331123]\n",
      " [0.00900086]\n",
      " [0.00404435]\n",
      " [0.00736928]\n",
      " [0.00181724]\n",
      " [0.00994749]\n",
      " [0.00245302]\n",
      " [0.00200836]\n",
      " [0.00493978]\n",
      " [0.0054593 ]\n",
      " [0.00603346]\n",
      " [0.00365948]\n",
      " [0.01099368]\n",
      " [0.00365948]\n",
      " [0.0044697 ]\n",
      " [0.006668  ]\n",
      " [0.00365948]\n",
      " [0.00493978]\n",
      " [0.00603346]\n",
      " [0.00736928]\n",
      " [0.00603346]\n",
      " [0.00814432]\n",
      " [0.00994749]\n",
      " [0.01214989]\n",
      " [0.01099368]\n",
      " [0.0054593 ]\n",
      " [0.00404435]\n",
      " [0.00331123]\n",
      " [0.00331123]\n",
      " [0.0044697 ]\n",
      " [0.0054593 ]\n",
      " [0.00299613]\n",
      " [0.0054593 ]\n",
      " [0.01099368]\n",
      " [0.00736928]\n",
      " [0.00365948]\n",
      " [0.00331123]\n",
      " [0.00331123]\n",
      " [0.00603346]\n",
      " [0.0044697 ]\n",
      " [0.00200836]\n",
      " [0.00365948]\n",
      " [0.00404435]\n",
      " [0.00404435]\n",
      " [0.006668  ]\n",
      " [0.00221959]\n",
      " [0.00404435]\n",
      " [0.00736928]\n",
      " [0.0044697 ]\n",
      " [0.01640064]\n",
      " [0.00736928]\n",
      " [0.00900086]\n",
      " [0.02704008]\n",
      " [0.00181724]\n",
      " [0.02003179]\n",
      " [0.01099368]\n",
      " [0.01812551]\n",
      " [0.00900086]\n",
      " [0.00814432]\n",
      " [0.01214989]\n",
      " [0.00404435]\n",
      " [0.0044697 ]\n",
      " [0.00814432]\n",
      " [0.00900086]\n",
      " [0.02988391]\n",
      " [0.02988391]\n",
      " [0.0054593 ]\n",
      " [0.01342771]\n",
      " [0.00365948]\n",
      " [0.02988391]\n",
      " [0.00736928]\n",
      " [0.01099368]\n",
      " [0.01812551]\n",
      " [0.006668  ]\n",
      " [0.00603346]\n",
      " [0.00814432]\n",
      " [0.01812551]\n",
      " [0.02213855]\n",
      " [0.0365003 ]\n",
      " [0.00814432]\n",
      " [0.00736928]\n",
      " [0.00603346]\n",
      " [0.02988391]\n",
      " [0.00736928]\n",
      " [0.00814432]\n",
      " [0.0054593 ]\n",
      " [0.01342771]\n",
      " [0.01099368]\n",
      " [0.01342771]\n",
      " [0.0044697 ]\n",
      " [0.01214989]\n",
      " [0.01099368]\n",
      " [0.01099368]\n",
      " [0.00736928]\n",
      " [0.00900086]\n",
      " [0.006668  ]\n",
      " [0.00493978]]\n"
     ]
    }
   ],
   "source": [
    "def softmax(x):\n",
    "    \"\"\"Compute softmax values for each sets of scores in x.\n",
    "    https://stackoverflow.com/questions/34968722/how-to-implement-the-softmax-function-in-python\"\"\"\n",
    "    e_x = np.exp(x - np.max(x))\n",
    "    return e_x / e_x.sum(axis=0)\n",
    "\n",
    "print(softmax(sepallength))"
   ]
  },
  {
   "cell_type": "markdown",
   "metadata": {},
   "source": [
    "31. How to find the percentile scores of a numpy array?\n",
    "Q. Find the 5th and 95th percentile of iris's sepallength"
   ]
  },
  {
   "cell_type": "markdown",
   "metadata": {},
   "source": [
    "##### OJO: PERCENTILES DE UN ARRAY\n",
    "np.percentile(arr, q=[5, 95], axis=...)"
   ]
  },
  {
   "cell_type": "code",
   "execution_count": 141,
   "metadata": {
    "scrolled": true
   },
   "outputs": [
    {
     "name": "stdout",
     "output_type": "stream",
     "text": [
      "[[10  7  4]\n",
      " [ 3  2  1]]\n",
      "3.5\n",
      "[6.5 4.5 2.5]\n",
      "[7. 2.]\n",
      "[[7.]\n",
      " [2.]]\n"
     ]
    }
   ],
   "source": [
    "a = np.array([[10, 7, 4], [3, 2, 1]])\n",
    "print(a)\n",
    "print(np.percentile(a, 50)) #de todos\n",
    "print(np.percentile(a, 50, axis=0)) #por columnas\n",
    "print(np.percentile(a, 50, axis=1)) #por filas\n",
    "print(np.percentile(a, 50, axis=1, keepdims=True))"
   ]
  },
  {
   "cell_type": "code",
   "execution_count": 142,
   "metadata": {},
   "outputs": [
    {
     "data": {
      "image/png": "[encoded data removed]",
      "text/plain": [
       "<Figure size 432x288 with 1 Axes>"
      ]
     },
     "metadata": {
      "needs_background": "light"
     },
     "output_type": "display_data"
    }
   ],
   "source": [
    "    import matplotlib.pyplot as plt\n",
    "\n",
    "    a = np.arange(4)\n",
    "    p = np.linspace(0, 100, 6001)\n",
    "    ax = plt.gca()\n",
    "    lines = [\n",
    "        ('linear', None),\n",
    "        ('higher', '--'),\n",
    "        ('lower', '--'),\n",
    "        ('nearest', '-.'),\n",
    "        ('midpoint', '-.'),\n",
    "    ]\n",
    "    for interpolation, style in lines:\n",
    "        ax.plot(\n",
    "            p, np.percentile(a, p, interpolation=interpolation),\n",
    "            label=interpolation, linestyle=style)\n",
    "    ax.set(\n",
    "        title='Interpolation methods for list: ' + str(a),\n",
    "        xlabel='Percentile',\n",
    "        ylabel='List item returned',\n",
    "        yticks=a)\n",
    "    ax.legend()\n",
    "    plt.show()"
   ]
  },
  {
   "cell_type": "code",
   "execution_count": 136,
   "metadata": {
    "scrolled": true
   },
   "outputs": [
    {
     "name": "stdout",
     "output_type": "stream",
     "text": [
      "4.6 7.3\n"
     ]
    },
    {
     "data": {
      "text/plain": [
       "array([4.6  , 7.255])"
      ]
     },
     "execution_count": 136,
     "metadata": {},
     "output_type": "execute_result"
    }
   ],
   "source": [
    "url = 'https://archive.ics.uci.edu/ml/machine-learning-databases/iris/iris.data'\n",
    "sepallength = np.genfromtxt(url, delimiter=',', dtype='float', usecols=[0])\n",
    "sepallength\n",
    "#Quick-and-dirty way to compute the quantiles of an array\n",
    "sepallength.sort()\n",
    "Q5TH = sepallength[int(0.05*len(sepallength))]\n",
    "Q95TH = sepallength[int(0.95*len(sepallength))]\n",
    "print(Q5TH,Q95TH)\n",
    "\n",
    "#otro método\n",
    "np.percentile(sepallength,q=[5, 95])"
   ]
  },
  {
   "cell_type": "markdown",
   "metadata": {},
   "source": [
    "#### OJO: como insertar valores en un array con condiciones\n",
    "ejemplo: insertar 20  veces el valor Nan en un array de forma aleatoria"
   ]
  },
  {
   "cell_type": "markdown",
   "metadata": {},
   "source": [
    "32. How to insert values at random positions in an array?\n",
    "Q. Insert np.nan values at 20 random positions in iris_2d dataset"
   ]
  },
  {
   "cell_type": "code",
   "execution_count": 107,
   "metadata": {},
   "outputs": [
    {
     "name": "stdout",
     "output_type": "stream",
     "text": [
      "[[b'5.8' b'4.0' b'1.2' b'0.2' b'Iris-setosa']\n",
      " [b'5.7' b'4.4' nan b'0.4' b'Iris-setosa']\n",
      " [b'5.4' b'3.9' b'1.3' b'0.4' b'Iris-setosa']\n",
      " [b'5.1' b'3.5' b'1.4' nan b'Iris-setosa']\n",
      " [b'5.7' b'3.8' b'1.7' nan b'Iris-setosa']\n",
      " [b'5.1' b'3.8' b'1.5' b'0.3' b'Iris-setosa']\n",
      " [b'5.4' b'3.4' b'1.7' b'0.2' b'Iris-setosa']\n",
      " [b'5.1' b'3.7' b'1.5' b'0.4' b'Iris-setosa']\n",
      " [b'4.6' b'3.6' b'1.0' b'0.2' b'Iris-setosa']\n",
      " [b'5.1' b'3.3' b'1.7' b'0.5' b'Iris-setosa']\n",
      " [b'4.8' b'3.4' b'1.9' b'0.2' b'Iris-setosa']\n",
      " [b'5.0' b'3.0' b'1.6' b'0.2' b'Iris-setosa']\n",
      " [b'5.0' b'3.4' b'1.6' b'0.4' b'Iris-setosa']\n",
      " [b'5.2' b'3.5' b'1.5' b'0.2' b'Iris-setosa']\n",
      " [b'5.2' b'3.4' b'1.4' b'0.2' nan]\n",
      " [b'4.7' b'3.2' b'1.6' b'0.2' b'Iris-setosa']\n",
      " [b'4.8' b'3.1' b'1.6' b'0.2' b'Iris-setosa']\n",
      " [b'5.4' b'3.4' b'1.5' b'0.4' b'Iris-setosa']\n",
      " [b'5.2' b'4.1' b'1.5' b'0.1' b'Iris-setosa']\n",
      " [b'5.5' b'4.2' b'1.4' b'0.2' b'Iris-setosa']\n",
      " [b'4.9' b'3.1' b'1.5' b'0.1' b'Iris-setosa']]\n",
      "-----------------\n",
      "[[b'5.1' b'3.5' b'1.4' b'0.2' b'Iris-setosa']\n",
      " [b'4.9' b'3.0' b'1.4' b'0.2' b'Iris-setosa']\n",
      " [b'4.7' b'3.2' b'1.3' b'0.2' b'Iris-setosa']\n",
      " [b'4.6' b'3.1' b'1.5' b'0.2' b'Iris-setosa']\n",
      " [b'5.0' b'3.6' b'1.4' b'0.2' b'Iris-setosa']\n",
      " [b'5.4' b'3.9' b'1.7' b'0.4' b'Iris-setosa']\n",
      " [b'4.6' b'3.4' b'1.4' b'0.3' b'Iris-setosa']\n",
      " [b'5.0' b'3.4' b'1.5' b'0.2' b'Iris-setosa']\n",
      " [b'4.4' nan b'1.4' b'0.2' b'Iris-setosa']\n",
      " [b'4.9' b'3.1' b'1.5' b'0.1' b'Iris-setosa']]\n"
     ]
    }
   ],
   "source": [
    "url = 'https://archive.ics.uci.edu/ml/machine-learning-databases/iris/iris.data'\n",
    "iris_2d = np.genfromtxt(url, delimiter=',', dtype='object')\n",
    "iris_2d2 = np.genfromtxt(url, delimiter=',', dtype='object')\n",
    "iris_2d.shape #(150, 5)\n",
    "\n",
    "# Method 1\n",
    "i, j = np.where(iris_2d)\n",
    "i\n",
    "j\n",
    "# i, j contain the row numbers and column numbers of 600 elements of iris_x\n",
    "np.random.seed(100)\n",
    "iris_2d[np.random.choice((i), 20), np.random.choice((j), 20)] = np.nan\n",
    "# Print rows\n",
    "print(iris_2d[14:35])\n",
    "print(\"-----------------\")\n",
    "\n",
    "# Method 2\n",
    "np.random.seed(100)\n",
    "iris_2d2[np.random.randint(150, size=20), np.random.randint(4, size=20)] = np.nan\n",
    "# Print first 10 rows\n",
    "print(iris_2d2[:10])"
   ]
  },
  {
   "cell_type": "markdown",
   "metadata": {},
   "source": [
    "33. How to find the position of missing values in numpy array?\n",
    "Q. Find the number and position of missing values in iris_2d's sepallength (1st column)"
   ]
  },
  {
   "cell_type": "code",
   "execution_count": 207,
   "metadata": {
    "scrolled": true
   },
   "outputs": [
    {
     "name": "stdout",
     "output_type": "stream",
     "text": [
      "el nº de valor nan es : \n",
      " 9\n",
      "la posicion de los Nan es: \n",
      " (array([ 36,  62,  82,  87, 124, 125, 126, 128, 129], dtype=int64), array([0, 0, 0, 0, 0, 0, 0, 0, 0], dtype=int64))\n",
      "Number of missing values: \n",
      " 9\n",
      "Position of missing values: \n",
      " (array([ 36,  62,  82,  87, 124, 125, 126, 128, 129], dtype=int64),)\n"
     ]
    }
   ],
   "source": [
    "url = 'https://archive.ics.uci.edu/ml/machine-learning-databases/iris/iris.data'\n",
    "iris_2d = np.genfromtxt(url, delimiter=',', dtype='float')\n",
    "\n",
    "iris_2d #la última columna será de Nan (porque era string)\n",
    "iris_2d[np.random.randint(0,150, size=20), #porque hay 150 filas (150 no incluido)\n",
    "        np.random.randint(0,4, size=20) #hay 5 columnas (4 no incluido)\n",
    "       ] = np.nan\n",
    "iris_2d.shape #(150, 5)\n",
    "np.random.randint(150, size=20) #1D array\n",
    "\n",
    "sepallength = iris_2d[:,[0]] #(150, 1) #float\n",
    "cond = sepallength > 0 #boolean array todo True menos los Nan\n",
    "cond3 = cond!=True\n",
    "cond2 = cond[cond==False]\n",
    "#print(cond)\n",
    "print(\"el nº de valor nan es : \\n\", len(cond2) )\n",
    "print(\"la posicion de los Nan es: \\n\", np.where(cond3))\n",
    "#cond3\n",
    "\n",
    "# Solution\n",
    "print(\"Number of missing values: \\n\", np.isnan(iris_2d[:, 0]).sum())\n",
    "print(\"Position of missing values: \\n\", np.where(np.isnan(iris_2d[:, 0])))"
   ]
  },
  {
   "cell_type": "markdown",
   "metadata": {},
   "source": [
    "#### OJO ESTA MOLA:"
   ]
  },
  {
   "cell_type": "markdown",
   "metadata": {},
   "source": [
    "34. How to filter a numpy array based on two or more conditions?\n",
    "Q. Filter the rows of iris_2d that has petallength (3rd column) > 1.5 and sepallength (1st column) < 5.0"
   ]
  },
  {
   "cell_type": "code",
   "execution_count": 240,
   "metadata": {},
   "outputs": [
    {
     "data": {
      "text/plain": [
       "array([[5.1, 3.5, 1.4, 0.2],\n",
       "       [4.9, 3. , 1.4, 0.2],\n",
       "       [4.7, 3.2, 1.3, 0.2],\n",
       "       [4.6, 3.1, 1.5, 0.2],\n",
       "       [5. , 3.6, 1.4, 0.2]])"
      ]
     },
     "execution_count": 240,
     "metadata": {},
     "output_type": "execute_result"
    }
   ],
   "source": [
    "url = 'https://archive.ics.uci.edu/ml/machine-learning-databases/iris/iris.data'\n",
    "iris_2d = np.genfromtxt(url, delimiter=',', dtype='float', usecols=[0,1,2,3])\n",
    "\n",
    "iris_2d[:5]"
   ]
  },
  {
   "cell_type": "code",
   "execution_count": 247,
   "metadata": {},
   "outputs": [
    {
     "data": {
      "text/plain": [
       "array([[4.8, 3.4, 1.6, 0.2],\n",
       "       [4.8, 3.4, 1.9, 0.2],\n",
       "       [4.7, 3.2, 1.6, 0.2],\n",
       "       [4.8, 3.1, 1.6, 0.2],\n",
       "       [4.9, 2.4, 3.3, nan],\n",
       "       [4.9, 2.5, 4.5, 1.7]])"
      ]
     },
     "execution_count": 247,
     "metadata": {},
     "output_type": "execute_result"
    }
   ],
   "source": [
    "#len(iris_2d[iris_2d[:,2]>1.5])\n",
    "#cond =  iris_2d[iris_2d[:,2]>1.5 and iris_2d[:,0]<5.0] #ERROR \n",
    "cond = (iris_2d[:,2]>1.5) & (iris_2d[:,0]<5.0)\n",
    "cond\n",
    "iris_2d[cond]"
   ]
  },
  {
   "cell_type": "markdown",
   "metadata": {},
   "source": [
    "35. How to drop rows that contain a missing value from a numpy array?\n",
    "Q. Select the rows of iris_2d that does not have any nan value."
   ]
  },
  {
   "cell_type": "code",
   "execution_count": 250,
   "metadata": {},
   "outputs": [
    {
     "data": {
      "text/plain": [
       "array([[5.1, 3.5, 1.4, 0.2],\n",
       "       [4.9, 3. , 1.4, 0.2],\n",
       "       [4.7, 3.2, 1.3, 0.2],\n",
       "       [4.6, 3.1, 1.5, 0.2],\n",
       "       [5. , 3.6, 1.4, 0.2]])"
      ]
     },
     "execution_count": 250,
     "metadata": {},
     "output_type": "execute_result"
    }
   ],
   "source": [
    "url = 'https://archive.ics.uci.edu/ml/machine-learning-databases/iris/iris.data'\n",
    "iris_2d = np.genfromtxt(url, delimiter=',', dtype='float', usecols=[0,1,2,3])\n",
    "iris_2d[np.random.randint(150, size=20), np.random.randint(4, size=20)] = np.nan\n",
    "iris_2d[:5]"
   ]
  },
  {
   "cell_type": "code",
   "execution_count": 273,
   "metadata": {},
   "outputs": [
    {
     "data": {
      "text/plain": [
       "array([[5.1, 3.5, 1.4, 0.2],\n",
       "       [4.9, 3. , 1.4, 0.2],\n",
       "       [4.7, 3.2, 1.3, 0.2],\n",
       "       [4.6, 3.1, 1.5, 0.2],\n",
       "       [5. , 3.6, 1.4, 0.2]])"
      ]
     },
     "execution_count": 273,
     "metadata": {},
     "output_type": "execute_result"
    }
   ],
   "source": [
    "#cond = ()\n",
    "cond = np.isnan(iris_2d)\n",
    "cond2 = (cond[:,:]==False) #invertir el True por el False\n",
    "#or \n",
    "cond2 = ~cond\n",
    "cond3 = (cond2[:,0]==True)&(cond2[:,1]==True)&(cond2[:,2]==True)&(cond2[:,3]==True)\n",
    "cond3 #boolean array con True en la fila que no hay nan\n",
    "iris_2d[cond3][:5]\n",
    "#cond = (iris_2d[:,2]>1.5) & (iris_2d[:,0]<5.0)\n",
    "#cond"
   ]
  },
  {
   "cell_type": "code",
   "execution_count": 274,
   "metadata": {},
   "outputs": [
    {
     "data": {
      "text/plain": [
       "array([[5.1, 3.5, 1.4, 0.2],\n",
       "       [4.9, 3. , 1.4, 0.2],\n",
       "       [4.7, 3.2, 1.3, 0.2],\n",
       "       [4.6, 3.1, 1.5, 0.2],\n",
       "       [5. , 3.6, 1.4, 0.2]])"
      ]
     },
     "execution_count": 274,
     "metadata": {},
     "output_type": "execute_result"
    }
   ],
   "source": [
    "# Solution\n",
    "# No direct numpy function for this.\n",
    "# Method 1:\n",
    "\n",
    "#np.array([lista_de_compresion])\n",
    "#[lista_de_compresion] = negación.np.any(boolean array False si no hay nan para cada fila en iris_d2)\n",
    "#np.any()-->mira si uno o más valores del array son True\n",
    "#~np.any()-->mira si uno o más valores del array no son True == mira si hay algun valor True == hay algun nan\n",
    "\n",
    "any_nan_in_row = np.array([~np.any(np.isnan(row)) for row in iris_2d]) #boolean array con True en la fila que no hay nan\n",
    "iris_2d[any_nan_in_row][:5]\n",
    "\n",
    "# Method 2: (By Rong)\n",
    "iris_2d[np.sum(np.isnan(iris_2d), axis = 1) == 0][:5]"
   ]
  },
  {
   "cell_type": "markdown",
   "metadata": {},
   "source": [
    "36. How to find the correlation between two columns of a numpy array?\n",
    "Q. Find the correlation between SepalLength(1st column) and PetalLength(3rd column) in iris_2d"
   ]
  },
  {
   "cell_type": "code",
   "execution_count": 275,
   "metadata": {},
   "outputs": [],
   "source": [
    "# Input\n",
    "url = 'https://archive.ics.uci.edu/ml/machine-learning-databases/iris/iris.data'\n",
    "iris_2d = np.genfromtxt(url, delimiter=',', dtype='float', usecols=[0,1,2,3])"
   ]
  },
  {
   "cell_type": "code",
   "execution_count": 276,
   "metadata": {},
   "outputs": [
    {
     "data": {
      "text/plain": [
       "array([[1.      , 0.871754],\n",
       "       [0.871754, 1.      ]])"
      ]
     },
     "execution_count": 276,
     "metadata": {},
     "output_type": "execute_result"
    }
   ],
   "source": [
    "SepalLength = iris_2d[:,0]\n",
    "PetalLength = iris_2d[:,2]\n",
    "\n",
    "np.corrcoef(SepalLength,PetalLength)"
   ]
  },
  {
   "cell_type": "code",
   "execution_count": 277,
   "metadata": {},
   "outputs": [
    {
     "name": "stdout",
     "output_type": "stream",
     "text": [
      "0.8717541573048713\n"
     ]
    }
   ],
   "source": [
    "# Solution 1\n",
    "np.corrcoef(iris[:, 0], iris[:, 2])[0, 1]\n",
    "\n",
    "# Solution 2\n",
    "from scipy.stats.stats import pearsonr  \n",
    "corr, p_value = pearsonr(iris[:, 0], iris[:, 2])\n",
    "print(corr)"
   ]
  },
  {
   "cell_type": "markdown",
   "metadata": {},
   "source": [
    "Correlation coef indicates the degree of linear relationship between two numeric variables.\n",
    "It can range between -1 to +1.\n",
    "\n",
    "The p-value roughly indicates the probability of an uncorrelated system producing  datasets that have a correlation at least as extreme as the one computed.\n",
    "The lower the p-value (<0.01), stronger is the significance of the relationship.\n",
    "It is not an indicator of the strength.\n",
    "0.871754157305"
   ]
  },
  {
   "cell_type": "markdown",
   "metadata": {},
   "source": [
    "37. How to find if a given array has any null values?\n",
    "Q. Find out if iris_2d has any missing values"
   ]
  },
  {
   "cell_type": "code",
   "execution_count": 278,
   "metadata": {},
   "outputs": [],
   "source": [
    "url = 'https://archive.ics.uci.edu/ml/machine-learning-databases/iris/iris.data'\n",
    "iris_2d = np.genfromtxt(url, delimiter=',', dtype='float', usecols=[0,1,2,3])"
   ]
  },
  {
   "cell_type": "code",
   "execution_count": 281,
   "metadata": {},
   "outputs": [
    {
     "data": {
      "text/plain": [
       "False"
      ]
     },
     "execution_count": 281,
     "metadata": {},
     "output_type": "execute_result"
    }
   ],
   "source": [
    "cond = np.isnan(iris_2d)\n",
    "cond #boolean array\n",
    "cond.any()\n",
    "\n",
    "np.isnan(iris_2d).any()"
   ]
  },
  {
   "cell_type": "markdown",
   "metadata": {},
   "source": [
    "38. How to replace all missing values with 0 in a numpy array?\n",
    "Q. Replace all ccurrences of nan with 0 in numpy array"
   ]
  },
  {
   "cell_type": "code",
   "execution_count": 282,
   "metadata": {},
   "outputs": [],
   "source": [
    "rl = 'https://archive.ics.uci.edu/ml/machine-learning-databases/iris/iris.data'\n",
    "iris_2d = np.genfromtxt(url, delimiter=',', dtype='float', usecols=[0,1,2,3])\n",
    "iris_2d[np.random.randint(150, size=20), np.random.randint(4, size=20)] = np.nan"
   ]
  },
  {
   "cell_type": "code",
   "execution_count": 290,
   "metadata": {},
   "outputs": [
    {
     "data": {
      "text/plain": [
       "False"
      ]
     },
     "execution_count": 290,
     "metadata": {},
     "output_type": "execute_result"
    }
   ],
   "source": [
    "cond = np.isnan(iris_2d)\n",
    "#cond = ~cond\n",
    "iris_2d[cond]=0\n",
    "#print(iris_2d)\n",
    "#comprobación\n",
    "np.isnan(iris_2d).any()"
   ]
  },
  {
   "cell_type": "markdown",
   "metadata": {},
   "source": [
    "39. How to find the count of unique values in a numpy array?\n",
    "Q. Find the unique values and the count of unique values in iris's species"
   ]
  },
  {
   "cell_type": "code",
   "execution_count": 291,
   "metadata": {},
   "outputs": [],
   "source": [
    "url = 'https://archive.ics.uci.edu/ml/machine-learning-databases/iris/iris.data'\n",
    "iris = np.genfromtxt(url, delimiter=',', dtype='object')\n",
    "names = ('sepallength', 'sepalwidth', 'petallength', 'petalwidth', 'species')"
   ]
  },
  {
   "cell_type": "code",
   "execution_count": 310,
   "metadata": {},
   "outputs": [
    {
     "name": "stdout",
     "output_type": "stream",
     "text": [
      "[b'Iris-setosa' b'Iris-versicolor' b'Iris-virginica']\n",
      "3\n",
      "50\n",
      "50\n",
      "50\n"
     ]
    },
    {
     "data": {
      "text/plain": [
       "(array([b'Iris-setosa', b'Iris-versicolor', b'Iris-virginica'],\n",
       "       dtype=object),\n",
       " array([50, 50, 50], dtype=int64))"
      ]
     },
     "execution_count": 310,
     "metadata": {},
     "output_type": "execute_result"
    }
   ],
   "source": [
    "species = iris[:,[4]]\n",
    "print(np.unique(species))\n",
    "print(len(np.unique(species)))\n",
    "\n",
    "\n",
    "cond1 = species == b'Iris-setosa'\n",
    "print(len(species[cond1]))\n",
    "cond2 = species == b'Iris-versicolor'\n",
    "print(len(species[cond2]))\n",
    "cond3 = species == b'Iris-virginica'\n",
    "print(len(species[cond3]))\n",
    "\n",
    "#mas rápido\n",
    "np.unique(species,return_counts=True)"
   ]
  },
  {
   "cell_type": "code",
   "execution_count": 301,
   "metadata": {
    "scrolled": true
   },
   "outputs": [
    {
     "data": {
      "text/plain": [
       "(array([b'Iris-setosa', b'Iris-versicolor', b'Iris-virginica'],\n",
       "       dtype='|S15'),\n",
       " array([50, 50, 50], dtype=int64))"
      ]
     },
     "execution_count": 301,
     "metadata": {},
     "output_type": "execute_result"
    }
   ],
   "source": [
    "# Extract the species column as an array\n",
    "species = np.array([row.tolist()[4] for row in iris])\n",
    "\n",
    "# Get the unique values and the counts\n",
    "np.unique(species, return_counts=True)"
   ]
  },
  {
   "cell_type": "markdown",
   "metadata": {},
   "source": [
    "#### que???"
   ]
  },
  {
   "cell_type": "markdown",
   "metadata": {},
   "source": [
    "40. How to convert a numeric to a categorical (text) array?\n",
    "Q. Bin the petal length (3rd) column of iris_2d to form a text array, such that if petal length is:"
   ]
  },
  {
   "cell_type": "markdown",
   "metadata": {},
   "source": [
    "Less than 3 --> 'small'\n",
    "3-5 --> 'medium'\n",
    "'>=5 --> 'large"
   ]
  },
  {
   "cell_type": "code",
   "execution_count": 311,
   "metadata": {},
   "outputs": [],
   "source": [
    "# Input\n",
    "url = 'https://archive.ics.uci.edu/ml/machine-learning-databases/iris/iris.data'\n",
    "iris = np.genfromtxt(url, delimiter=',', dtype='object')\n",
    "names = ('sepallength', 'sepalwidth', 'petallength', 'petalwidth', 'species')"
   ]
  },
  {
   "cell_type": "code",
   "execution_count": 312,
   "metadata": {},
   "outputs": [
    {
     "data": {
      "text/plain": [
       "['small', 'small', 'small', 'small']"
      ]
     },
     "execution_count": 312,
     "metadata": {},
     "output_type": "execute_result"
    }
   ],
   "source": [
    "# Bin petallength \n",
    "petal_length_bin = np.digitize(iris[:, 2].astype('float'), [0, 3, 5, 10])\n",
    "\n",
    "# Map it to respective category\n",
    "label_map = {1: 'small', 2: 'medium', 3: 'large', 4: np.nan}\n",
    "petal_length_cat = [label_map[x] for x in petal_length_bin]\n",
    "\n",
    "# View\n",
    "petal_length_cat[:4]"
   ]
  },
  {
   "cell_type": "markdown",
   "metadata": {},
   "source": [
    "#### OJO, ESTA ES BUENA"
   ]
  },
  {
   "cell_type": "markdown",
   "metadata": {},
   "source": [
    "41. How to create a new column from existing columns of a numpy array?\n",
    "Q. Create a new column for volume in iris_2d, where volume is (pi x petallength x sepal_length^2)/3"
   ]
  },
  {
   "cell_type": "code",
   "execution_count": 332,
   "metadata": {},
   "outputs": [],
   "source": [
    "url = 'https://archive.ics.uci.edu/ml/machine-learning-databases/iris/iris.data'\n",
    "iris_2d = np.genfromtxt(url, delimiter=',', dtype='float')\n",
    "names = ('sepallength', 'sepalwidth', 'petallength', 'petalwidth', 'species')"
   ]
  },
  {
   "cell_type": "code",
   "execution_count": 338,
   "metadata": {},
   "outputs": [
    {
     "data": {
      "text/plain": [
       "array([[ 5.1     ,  3.5     ,  1.4     ,  0.2     ,       nan, 38.132652],\n",
       "       [ 4.9     ,  3.      ,  1.4     ,  0.2     ,       nan, 35.200498],\n",
       "       [ 4.7     ,  3.2     ,  1.3     ,  0.2     ,       nan, 30.072372],\n",
       "       [ 4.6     ,  3.1     ,  1.5     ,  0.2     ,       nan, 33.23805 ],\n",
       "       [ 5.      ,  3.6     ,  1.4     ,  0.2     ,       nan, 36.651914]])"
      ]
     },
     "execution_count": 338,
     "metadata": {},
     "output_type": "execute_result"
    }
   ],
   "source": [
    "iris_2d.shape #(150, 5)\n",
    "iris_2d_3rd_column = np.zeros((150,1),dtype='float') #(150, 1)\n",
    "#iris_2d_new = np.concatenate((iris_2d,iris_2d_3rd_column), axis = 0)\n",
    "iris_2d_new = np.hstack((iris_2d,iris_2d_3rd_column))\n",
    "iris_2d_new[:,[5]] = (np.pi*iris_2d_new[:,[2]]*(iris_2d_new[:,[0]]**2))/3\n",
    "iris_2d_new[:5]"
   ]
  },
  {
   "cell_type": "code",
   "execution_count": 339,
   "metadata": {},
   "outputs": [
    {
     "data": {
      "text/plain": [
       "array([[b'5.1', b'3.5', b'1.4', b'0.2', b'Iris-setosa',\n",
       "        38.13265162927291],\n",
       "       [b'4.9', b'3.0', b'1.4', b'0.2', b'Iris-setosa',\n",
       "        35.200498485922445],\n",
       "       [b'4.7', b'3.2', b'1.3', b'0.2', b'Iris-setosa', 30.0723720777127],\n",
       "       [b'4.6', b'3.1', b'1.5', b'0.2', b'Iris-setosa',\n",
       "        33.238050274980004]], dtype=object)"
      ]
     },
     "execution_count": 339,
     "metadata": {},
     "output_type": "execute_result"
    }
   ],
   "source": [
    "# Compute volume\n",
    "#le cambio el tipo a la columna sepallength y petallength (yo lo que he hecho arriba es cambiar dtype = 'float' al generar iris_2d)\n",
    "iris_2d = np.genfromtxt(url, delimiter=',', dtype='object')\n",
    "sepallength = iris_2d[:, 0].astype('float')\n",
    "petallength = iris_2d[:, 2].astype('float')\n",
    "volume = (np.pi * petallength * (sepallength**2))/3\n",
    "\n",
    "# Introduce new dimension to match iris_2d's\n",
    "volume = volume[:, np.newaxis]\n",
    "\n",
    "# Add the new column\n",
    "out = np.hstack([iris_2d, volume])\n",
    "\n",
    "# View\n",
    "out[:4]"
   ]
  },
  {
   "cell_type": "markdown",
   "metadata": {},
   "source": [
    "### OJO: MUESTREO PROBABILISTICO"
   ]
  },
  {
   "cell_type": "markdown",
   "metadata": {},
   "source": [
    "42. How to do probabilistic sampling in numpy?\n",
    "Q. Randomly sample iris's species such that b'setose' is twice the number of b'versicolor' and b'virginica'"
   ]
  },
  {
   "cell_type": "code",
   "execution_count": 343,
   "metadata": {
    "scrolled": true
   },
   "outputs": [
    {
     "data": {
      "text/plain": [
       "array([[b'5.1', b'3.5', b'1.4', b'0.2', b'Iris-setosa'],\n",
       "       [b'4.9', b'3.0', b'1.4', b'0.2', b'Iris-setosa'],\n",
       "       [b'4.7', b'3.2', b'1.3', b'0.2', b'Iris-setosa']], dtype=object)"
      ]
     },
     "execution_count": 343,
     "metadata": {},
     "output_type": "execute_result"
    }
   ],
   "source": [
    "url = 'https://archive.ics.uci.edu/ml/machine-learning-databases/iris/iris.data'\n",
    "iris = np.genfromtxt(url, delimiter=',', dtype='object')\n",
    "iris[:3]"
   ]
  },
  {
   "cell_type": "markdown",
   "metadata": {},
   "source": [
    "*np.random.choice()*\n",
    "choice(a, size=None, replace=True, p=None)\n",
    "\n",
    "Generates a random sample from a given 1-D array\n",
    "a : 1-D array-like or int\n",
    "    If an ndarray, a random sample is generated from its elements.\n",
    "    If an int, the random sample is generated as if a were np.arange(a)\n",
    "\n",
    "size : int or tuple of ints, optional\n",
    "    Output shape.  If the given shape is, e.g., ``(m, n, k)``, then\n",
    "    ``m * n * k`` samples are drawn.  Default is None, in which case a\n",
    "    single value is returned.\n",
    "    \n",
    "p : 1-D array-like, optional\n",
    "    The probabilities associated with each entry in a.\n",
    "    If not given the sample assumes a uniform distribution over all\n",
    "    entries in a."
   ]
  },
  {
   "cell_type": "markdown",
   "metadata": {},
   "source": [
    "Approach 2 is preferred because it creates an index variable that can be used to sample 2d tabular data."
   ]
  },
  {
   "cell_type": "markdown",
   "metadata": {},
   "source": [
    "np.searchsorted(a, v, side='left', sorter=None)\n",
    "\n",
    "Find indices where elements should be inserted to maintain order.\n",
    "\n",
    "Find the indices into a sorted array `a` such that, if the\n",
    "corresponding elements in `v` were inserted before the indices, the\n",
    "order of `a` would be preserved"
   ]
  },
  {
   "cell_type": "code",
   "execution_count": 359,
   "metadata": {},
   "outputs": [
    {
     "name": "stdout",
     "output_type": "stream",
     "text": [
      "(array([b'Iris-setosa', b'Iris-versicolor', b'Iris-virginica'],\n",
      "      dtype=object), array([77, 37, 36], dtype=int64))\n"
     ]
    }
   ],
   "source": [
    "species = iris[:, 4] #(150,) != iris[:, [4]] #(150, 1)\n",
    "\n",
    "# Generar los casos para el muestreo probabilistico\n",
    "np.random.seed(100)\n",
    "a = np.array(['Iris-setosa', 'Iris-versicolor', 'Iris-virginica'])\n",
    "species_out = np.random.choice(a, 150, p=[0.5, 0.25, 0.25]) #P('Iris-setosa')=0.5 / P('Iris-versicolor')=P('Iris-virginica')=0.25\n",
    "species_out.shape #(150,) vector con 150 muestreos probabilisticos\n",
    "\n",
    "#Realizar el muestreo probabilistico\n",
    "np.random.seed(100)\n",
    "    #genero 50 numeros del 0 al 0.500, en 50 particiones\n",
    "np.linspace(0, 0.500, num=50)\n",
    "np.linspace(0.501, .750, num=50)\n",
    "np.linspace(.751, 1.0, num=50)\n",
    "\n",
    "probs = np.r_[np.linspace(0, 0.500, num=50), np.linspace(0.501, .750, num=50), np.linspace(.751, 1.0, num=50)]\n",
    "probs\n",
    "index = np.searchsorted(probs, np.random.random(150))\n",
    "index\n",
    "species_out = species[index]\n",
    "print(np.unique(species_out, return_counts=True))"
   ]
  },
  {
   "cell_type": "markdown",
   "metadata": {},
   "source": [
    "##### OJO, ESTA MOLA"
   ]
  },
  {
   "cell_type": "markdown",
   "metadata": {},
   "source": [
    "43. How to get the second largest value of an array when grouped by another array?\n",
    "Q. What is the value of second longest petallength of species 'setosa'"
   ]
  },
  {
   "cell_type": "code",
   "execution_count": 362,
   "metadata": {},
   "outputs": [
    {
     "data": {
      "text/plain": [
       "array([[b'5.1', b'3.5', b'1.4', b'0.2', b'Iris-setosa'],\n",
       "       [b'4.9', b'3.0', b'1.4', b'0.2', b'Iris-setosa'],\n",
       "       [b'4.7', b'3.2', b'1.3', b'0.2', b'Iris-setosa']], dtype=object)"
      ]
     },
     "execution_count": 362,
     "metadata": {},
     "output_type": "execute_result"
    }
   ],
   "source": [
    "url = 'https://archive.ics.uci.edu/ml/machine-learning-databases/iris/iris.data'\n",
    "iris = np.genfromtxt(url, delimiter=',', dtype='object')\n",
    "names = ('sepallength', 'sepalwidth', 'petallength', 'petalwidth', 'species')\n",
    "iris[:3]"
   ]
  },
  {
   "cell_type": "code",
   "execution_count": 407,
   "metadata": {},
   "outputs": [
    {
     "data": {
      "text/plain": [
       "1.7"
      ]
     },
     "execution_count": 407,
     "metadata": {},
     "output_type": "execute_result"
    }
   ],
   "source": [
    "#primero me genero un array con todos los valores pero solo para la especie setosa\n",
    "species = iris[:,4] #(150,)\n",
    "#species = iris[:,[4]] #--> ERROR:\n",
    "    #boolean index did not match indexed array along dimension 1; \n",
    "    #dimension is 5 but corresponding boolean dimension is 1\n",
    "cond = species == b'Iris-setosa' \n",
    "cond\n",
    "iris_setosa = iris[cond]\n",
    "iris_setosa\n",
    "#me quedo con la columna 'petallength' (de las setosa), yle cambio el tipo a las columnas\n",
    "iris_setosa = iris_setosa[:,[2]].astype('float')\n",
    "    #iris_setosa = iris[iris[:, 4] == b'Iris-setosa', [2]].astype('float')\n",
    "\n",
    "#ordeno lo que me queda\n",
    "iris_setosa.sort(0)\n",
    "#de lo que tengo ordenado, extraigo los valores únicos, y elijo el penúltimo\n",
    "np.unique(iris_setosa)[-2]"
   ]
  },
  {
   "cell_type": "markdown",
   "metadata": {},
   "source": [
    "44. How to sort a 2D array by a column\n",
    "Q. Sort the iris dataset based on sepallength column."
   ]
  },
  {
   "cell_type": "code",
   "execution_count": 408,
   "metadata": {},
   "outputs": [],
   "source": [
    "url = 'https://archive.ics.uci.edu/ml/machine-learning-databases/iris/iris.data'\n",
    "iris = np.genfromtxt(url, delimiter=',', dtype='object')\n",
    "names = ('sepallength', 'sepalwidth', 'petallength', 'petalwidth', 'species')"
   ]
  },
  {
   "cell_type": "code",
   "execution_count": 413,
   "metadata": {},
   "outputs": [
    {
     "data": {
      "text/plain": [
       "array([[b'0.2', b'1.4', b'3.5', b'5.1', b'Iris-setosa'],\n",
       "       [b'4.3', b'3.0', b'1.4', b'0.2', b'Iris-setosa'],\n",
       "       [b'4.4', b'3.2', b'1.3', b'0.2', b'Iris-setosa'],\n",
       "       [b'4.4', b'3.1', b'1.5', b'0.2', b'Iris-setosa'],\n",
       "       [b'4.4', b'3.6', b'1.4', b'0.2', b'Iris-setosa'],\n",
       "       [b'4.5', b'3.9', b'1.7', b'0.4', b'Iris-setosa'],\n",
       "       [b'4.6', b'3.4', b'1.4', b'0.3', b'Iris-setosa'],\n",
       "       [b'4.6', b'3.4', b'1.5', b'0.2', b'Iris-setosa'],\n",
       "       [b'4.6', b'2.9', b'1.4', b'0.2', b'Iris-setosa'],\n",
       "       [b'4.6', b'3.1', b'1.5', b'0.1', b'Iris-setosa'],\n",
       "       [b'4.7', b'3.7', b'1.5', b'0.2', b'Iris-setosa'],\n",
       "       [b'4.7', b'3.4', b'1.6', b'0.2', b'Iris-setosa'],\n",
       "       [b'4.8', b'3.0', b'1.4', b'0.1', b'Iris-setosa'],\n",
       "       [b'4.8', b'3.0', b'1.1', b'0.1', b'Iris-setosa'],\n",
       "       [b'4.8', b'4.0', b'1.2', b'0.2', b'Iris-setosa'],\n",
       "       [b'4.8', b'4.4', b'1.5', b'0.4', b'Iris-setosa'],\n",
       "       [b'4.8', b'3.9', b'1.3', b'0.4', b'Iris-setosa'],\n",
       "       [b'4.9', b'3.5', b'1.4', b'0.3', b'Iris-setosa'],\n",
       "       [b'4.9', b'3.8', b'1.7', b'0.3', b'Iris-setosa'],\n",
       "       [b'4.9', b'3.8', b'1.5', b'0.3', b'Iris-setosa'],\n",
       "       [b'4.9', b'3.4', b'1.7', b'0.2', b'Iris-setosa'],\n",
       "       [b'4.9', b'3.7', b'1.5', b'0.4', b'Iris-setosa'],\n",
       "       [b'4.9', b'3.6', b'1.0', b'0.2', b'Iris-setosa'],\n",
       "       [b'5.0', b'3.3', b'1.7', b'0.5', b'Iris-setosa'],\n",
       "       [b'5.0', b'3.4', b'1.9', b'0.2', b'Iris-setosa'],\n",
       "       [b'5.0', b'3.0', b'1.6', b'0.2', b'Iris-setosa'],\n",
       "       [b'5.0', b'3.4', b'1.6', b'0.4', b'Iris-setosa'],\n",
       "       [b'5.0', b'3.5', b'1.5', b'0.2', b'Iris-setosa'],\n",
       "       [b'5.0', b'3.4', b'1.4', b'0.2', b'Iris-setosa'],\n",
       "       [b'5.0', b'3.2', b'1.6', b'0.2', b'Iris-setosa'],\n",
       "       [b'5.0', b'3.1', b'1.6', b'0.2', b'Iris-setosa'],\n",
       "       [b'5.0', b'3.4', b'1.5', b'0.4', b'Iris-setosa'],\n",
       "       [b'5.0', b'4.1', b'1.5', b'0.1', b'Iris-setosa'],\n",
       "       [b'5.1', b'4.2', b'1.4', b'0.2', b'Iris-setosa'],\n",
       "       [b'5.1', b'3.1', b'1.5', b'0.1', b'Iris-setosa'],\n",
       "       [b'5.1', b'3.2', b'1.2', b'0.2', b'Iris-setosa'],\n",
       "       [b'5.1', b'3.5', b'1.3', b'0.2', b'Iris-setosa'],\n",
       "       [b'5.1', b'3.1', b'1.5', b'0.1', b'Iris-setosa'],\n",
       "       [b'5.1', b'3.0', b'1.3', b'0.2', b'Iris-setosa'],\n",
       "       [b'5.1', b'3.4', b'1.5', b'0.2', b'Iris-setosa'],\n",
       "       [b'5.1', b'3.5', b'1.3', b'0.3', b'Iris-setosa'],\n",
       "       [b'5.2', b'2.3', b'1.3', b'0.3', b'Iris-setosa'],\n",
       "       [b'5.2', b'3.2', b'1.3', b'0.2', b'Iris-setosa'],\n",
       "       [b'5.2', b'3.5', b'1.6', b'0.6', b'Iris-setosa'],\n",
       "       [b'5.2', b'3.8', b'1.9', b'0.4', b'Iris-setosa'],\n",
       "       [b'5.3', b'3.0', b'1.4', b'0.3', b'Iris-setosa'],\n",
       "       [b'5.4', b'3.8', b'1.6', b'0.2', b'Iris-setosa'],\n",
       "       [b'5.4', b'3.2', b'1.4', b'0.2', b'Iris-setosa'],\n",
       "       [b'5.4', b'3.7', b'1.5', b'0.2', b'Iris-setosa'],\n",
       "       [b'5.4', b'3.3', b'1.4', b'0.2', b'Iris-setosa'],\n",
       "       [b'5.4', b'3.2', b'4.7', b'1.4', b'Iris-versicolor'],\n",
       "       [b'5.4', b'3.2', b'4.5', b'1.5', b'Iris-versicolor'],\n",
       "       [b'5.5', b'3.1', b'4.9', b'1.5', b'Iris-versicolor'],\n",
       "       [b'5.5', b'2.3', b'4.0', b'1.3', b'Iris-versicolor'],\n",
       "       [b'5.5', b'2.8', b'4.6', b'1.5', b'Iris-versicolor'],\n",
       "       [b'5.5', b'2.8', b'4.5', b'1.3', b'Iris-versicolor'],\n",
       "       [b'5.5', b'3.3', b'4.7', b'1.6', b'Iris-versicolor'],\n",
       "       [b'5.5', b'2.4', b'3.3', b'1.0', b'Iris-versicolor'],\n",
       "       [b'5.5', b'2.9', b'4.6', b'1.3', b'Iris-versicolor'],\n",
       "       [b'5.6', b'2.7', b'3.9', b'1.4', b'Iris-versicolor'],\n",
       "       [b'5.6', b'2.0', b'3.5', b'1.0', b'Iris-versicolor'],\n",
       "       [b'5.6', b'3.0', b'4.2', b'1.5', b'Iris-versicolor'],\n",
       "       [b'5.6', b'2.2', b'4.0', b'1.0', b'Iris-versicolor'],\n",
       "       [b'5.6', b'2.9', b'4.7', b'1.4', b'Iris-versicolor'],\n",
       "       [b'5.6', b'2.9', b'3.6', b'1.3', b'Iris-versicolor'],\n",
       "       [b'5.7', b'3.1', b'4.4', b'1.4', b'Iris-versicolor'],\n",
       "       [b'5.7', b'3.0', b'4.5', b'1.5', b'Iris-versicolor'],\n",
       "       [b'5.7', b'2.7', b'4.1', b'1.0', b'Iris-versicolor'],\n",
       "       [b'5.7', b'2.2', b'4.5', b'1.5', b'Iris-versicolor'],\n",
       "       [b'5.7', b'2.5', b'3.9', b'1.1', b'Iris-versicolor'],\n",
       "       [b'5.7', b'3.2', b'4.8', b'1.8', b'Iris-versicolor'],\n",
       "       [b'5.7', b'2.8', b'4.0', b'1.3', b'Iris-versicolor'],\n",
       "       [b'5.7', b'2.5', b'4.9', b'1.5', b'Iris-versicolor'],\n",
       "       [b'5.8', b'2.8', b'4.7', b'1.2', b'Iris-versicolor'],\n",
       "       [b'5.8', b'2.9', b'4.3', b'1.3', b'Iris-versicolor'],\n",
       "       [b'5.8', b'3.0', b'4.4', b'1.4', b'Iris-versicolor'],\n",
       "       [b'5.8', b'2.8', b'4.8', b'1.4', b'Iris-versicolor'],\n",
       "       [b'5.8', b'3.0', b'5.0', b'1.7', b'Iris-versicolor'],\n",
       "       [b'5.8', b'2.9', b'4.5', b'1.5', b'Iris-versicolor'],\n",
       "       [b'5.8', b'2.6', b'3.5', b'1.0', b'Iris-versicolor'],\n",
       "       [b'5.9', b'2.4', b'3.8', b'1.1', b'Iris-versicolor'],\n",
       "       [b'5.9', b'2.4', b'3.7', b'1.0', b'Iris-versicolor'],\n",
       "       [b'5.9', b'2.7', b'3.9', b'1.2', b'Iris-versicolor'],\n",
       "       [b'6.0', b'2.7', b'5.1', b'1.6', b'Iris-versicolor'],\n",
       "       [b'6.0', b'3.0', b'4.5', b'1.5', b'Iris-versicolor'],\n",
       "       [b'6.0', b'3.4', b'4.5', b'1.6', b'Iris-versicolor'],\n",
       "       [b'6.0', b'3.1', b'4.7', b'1.5', b'Iris-versicolor'],\n",
       "       [b'6.0', b'2.3', b'4.4', b'1.3', b'Iris-versicolor'],\n",
       "       [b'6.0', b'3.0', b'4.1', b'1.3', b'Iris-versicolor'],\n",
       "       [b'6.1', b'2.5', b'4.0', b'1.3', b'Iris-versicolor'],\n",
       "       [b'6.1', b'2.6', b'4.4', b'1.2', b'Iris-versicolor'],\n",
       "       [b'6.1', b'3.0', b'4.6', b'1.4', b'Iris-versicolor'],\n",
       "       [b'6.1', b'2.6', b'4.0', b'1.2', b'Iris-versicolor'],\n",
       "       [b'6.1', b'2.3', b'3.3', b'1.0', b'Iris-versicolor'],\n",
       "       [b'6.1', b'2.7', b'4.2', b'1.3', b'Iris-versicolor'],\n",
       "       [b'6.2', b'3.0', b'4.2', b'1.2', b'Iris-versicolor'],\n",
       "       [b'6.2', b'2.9', b'4.2', b'1.3', b'Iris-versicolor'],\n",
       "       [b'6.2', b'2.9', b'4.3', b'1.3', b'Iris-versicolor'],\n",
       "       [b'6.2', b'2.5', b'3.0', b'1.1', b'Iris-versicolor'],\n",
       "       [b'6.3', b'2.8', b'4.1', b'1.3', b'Iris-versicolor'],\n",
       "       [b'6.3', b'3.3', b'6.0', b'2.5', b'Iris-virginica'],\n",
       "       [b'6.3', b'2.7', b'5.1', b'1.9', b'Iris-virginica'],\n",
       "       [b'6.3', b'3.0', b'5.9', b'2.1', b'Iris-virginica'],\n",
       "       [b'6.3', b'2.9', b'5.6', b'1.8', b'Iris-virginica'],\n",
       "       [b'6.3', b'3.0', b'5.8', b'2.2', b'Iris-virginica'],\n",
       "       [b'6.3', b'3.0', b'6.6', b'2.1', b'Iris-virginica'],\n",
       "       [b'6.3', b'2.5', b'4.5', b'1.7', b'Iris-virginica'],\n",
       "       [b'6.3', b'2.9', b'6.3', b'1.8', b'Iris-virginica'],\n",
       "       [b'6.4', b'2.5', b'5.8', b'1.8', b'Iris-virginica'],\n",
       "       [b'6.4', b'3.6', b'6.1', b'2.5', b'Iris-virginica'],\n",
       "       [b'6.4', b'3.2', b'5.1', b'2.0', b'Iris-virginica'],\n",
       "       [b'6.4', b'2.7', b'5.3', b'1.9', b'Iris-virginica'],\n",
       "       [b'6.4', b'3.0', b'5.5', b'2.1', b'Iris-virginica'],\n",
       "       [b'6.4', b'2.5', b'5.0', b'2.0', b'Iris-virginica'],\n",
       "       [b'6.4', b'2.8', b'5.1', b'2.4', b'Iris-virginica'],\n",
       "       [b'6.5', b'3.2', b'5.3', b'2.3', b'Iris-virginica'],\n",
       "       [b'6.5', b'3.0', b'5.5', b'1.8', b'Iris-virginica'],\n",
       "       [b'6.5', b'3.8', b'6.7', b'2.2', b'Iris-virginica'],\n",
       "       [b'6.5', b'2.6', b'6.9', b'2.3', b'Iris-virginica'],\n",
       "       [b'6.5', b'2.2', b'5.0', b'1.5', b'Iris-virginica'],\n",
       "       [b'6.6', b'3.2', b'5.7', b'2.3', b'Iris-virginica'],\n",
       "       [b'6.6', b'2.8', b'4.9', b'2.0', b'Iris-virginica'],\n",
       "       [b'6.7', b'2.8', b'6.7', b'2.0', b'Iris-virginica'],\n",
       "       [b'6.7', b'2.7', b'4.9', b'1.8', b'Iris-virginica'],\n",
       "       [b'6.7', b'3.3', b'5.7', b'2.1', b'Iris-virginica'],\n",
       "       [b'6.7', b'3.2', b'6.0', b'1.8', b'Iris-virginica'],\n",
       "       [b'6.7', b'2.8', b'4.8', b'1.8', b'Iris-virginica'],\n",
       "       [b'6.7', b'3.0', b'4.9', b'1.8', b'Iris-virginica'],\n",
       "       [b'6.7', b'2.8', b'5.6', b'2.1', b'Iris-virginica'],\n",
       "       [b'6.7', b'3.0', b'5.8', b'1.6', b'Iris-virginica'],\n",
       "       [b'6.8', b'2.8', b'6.1', b'1.9', b'Iris-virginica'],\n",
       "       [b'6.8', b'3.8', b'6.4', b'2.0', b'Iris-virginica'],\n",
       "       [b'6.8', b'2.8', b'5.6', b'2.2', b'Iris-virginica'],\n",
       "       [b'6.9', b'2.8', b'5.1', b'1.5', b'Iris-virginica'],\n",
       "       [b'6.9', b'2.6', b'5.6', b'1.4', b'Iris-virginica'],\n",
       "       [b'6.9', b'3.0', b'6.1', b'2.3', b'Iris-virginica'],\n",
       "       [b'6.9', b'3.4', b'5.6', b'2.4', b'Iris-virginica'],\n",
       "       [b'7.0', b'3.1', b'5.5', b'1.8', b'Iris-virginica'],\n",
       "       [b'7.1', b'3.0', b'4.8', b'1.8', b'Iris-virginica'],\n",
       "       [b'7.2', b'3.1', b'5.4', b'2.1', b'Iris-virginica'],\n",
       "       [b'7.2', b'3.1', b'5.6', b'2.4', b'Iris-virginica'],\n",
       "       [b'7.2', b'3.1', b'5.1', b'2.3', b'Iris-virginica'],\n",
       "       [b'7.3', b'2.7', b'5.1', b'1.9', b'Iris-virginica'],\n",
       "       [b'7.4', b'3.2', b'5.9', b'2.3', b'Iris-virginica'],\n",
       "       [b'7.6', b'3.3', b'5.7', b'2.5', b'Iris-virginica'],\n",
       "       [b'7.7', b'3.0', b'5.2', b'2.3', b'Iris-virginica'],\n",
       "       [b'7.7', b'2.5', b'5.0', b'1.9', b'Iris-virginica'],\n",
       "       [b'7.7', b'3.0', b'5.2', b'2.0', b'Iris-virginica'],\n",
       "       [b'7.7', b'3.4', b'5.4', b'2.3', b'Iris-virginica'],\n",
       "       [b'7.9', b'3.0', b'5.1', b'1.8', b'Iris-virginica']], dtype=object)"
      ]
     },
     "execution_count": 413,
     "metadata": {},
     "output_type": "execute_result"
    }
   ],
   "source": [
    "iris[:,0].sort(0)\n",
    "iris"
   ]
  },
  {
   "cell_type": "code",
   "execution_count": 417,
   "metadata": {},
   "outputs": [
    {
     "name": "stdout",
     "output_type": "stream",
     "text": [
      "[[b'4.3' b'3.0' b'1.1' b'0.1' b'Iris-setosa']\n",
      " [b'4.4' b'3.2' b'1.3' b'0.2' b'Iris-setosa']\n",
      " [b'4.4' b'3.0' b'1.3' b'0.2' b'Iris-setosa']\n",
      " [b'4.4' b'2.9' b'1.4' b'0.2' b'Iris-setosa']\n",
      " [b'4.5' b'2.3' b'1.3' b'0.3' b'Iris-setosa']\n",
      " [b'4.6' b'3.6' b'1.0' b'0.2' b'Iris-setosa']\n",
      " [b'4.6' b'3.1' b'1.5' b'0.2' b'Iris-setosa']\n",
      " [b'4.6' b'3.4' b'1.4' b'0.3' b'Iris-setosa']\n",
      " [b'4.6' b'3.2' b'1.4' b'0.2' b'Iris-setosa']\n",
      " [b'4.7' b'3.2' b'1.3' b'0.2' b'Iris-setosa']\n",
      " [b'4.7' b'3.2' b'1.6' b'0.2' b'Iris-setosa']\n",
      " [b'4.8' b'3.0' b'1.4' b'0.1' b'Iris-setosa']\n",
      " [b'4.8' b'3.0' b'1.4' b'0.3' b'Iris-setosa']\n",
      " [b'4.8' b'3.4' b'1.9' b'0.2' b'Iris-setosa']\n",
      " [b'4.8' b'3.4' b'1.6' b'0.2' b'Iris-setosa']\n",
      " [b'4.8' b'3.1' b'1.6' b'0.2' b'Iris-setosa']\n",
      " [b'4.9' b'2.4' b'3.3' b'1.0' b'Iris-versicolor']\n",
      " [b'4.9' b'2.5' b'4.5' b'1.7' b'Iris-virginica']\n",
      " [b'4.9' b'3.1' b'1.5' b'0.1' b'Iris-setosa']\n",
      " [b'4.9' b'3.1' b'1.5' b'0.1' b'Iris-setosa']\n",
      " [b'4.9' b'3.1' b'1.5' b'0.1' b'Iris-setosa']\n",
      " [b'4.9' b'3.0' b'1.4' b'0.2' b'Iris-setosa']\n",
      " [b'5.0' b'3.5' b'1.3' b'0.3' b'Iris-setosa']\n",
      " [b'5.0' b'3.4' b'1.6' b'0.4' b'Iris-setosa']\n",
      " [b'5.0' b'3.3' b'1.4' b'0.2' b'Iris-setosa']\n",
      " [b'5.0' b'3.2' b'1.2' b'0.2' b'Iris-setosa']\n",
      " [b'5.0' b'3.5' b'1.6' b'0.6' b'Iris-setosa']\n",
      " [b'5.0' b'2.0' b'3.5' b'1.0' b'Iris-versicolor']\n",
      " [b'5.0' b'3.4' b'1.5' b'0.2' b'Iris-setosa']\n",
      " [b'5.0' b'2.3' b'3.3' b'1.0' b'Iris-versicolor']\n",
      " [b'5.0' b'3.6' b'1.4' b'0.2' b'Iris-setosa']\n",
      " [b'5.0' b'3.0' b'1.6' b'0.2' b'Iris-setosa']\n",
      " [b'5.1' b'3.8' b'1.9' b'0.4' b'Iris-setosa']\n",
      " [b'5.1' b'3.8' b'1.6' b'0.2' b'Iris-setosa']\n",
      " [b'5.1' b'2.5' b'3.0' b'1.1' b'Iris-versicolor']\n",
      " [b'5.1' b'3.5' b'1.4' b'0.2' b'Iris-setosa']\n",
      " [b'5.1' b'3.4' b'1.5' b'0.2' b'Iris-setosa']\n",
      " [b'5.1' b'3.5' b'1.4' b'0.3' b'Iris-setosa']\n",
      " [b'5.1' b'3.3' b'1.7' b'0.5' b'Iris-setosa']\n",
      " [b'5.1' b'3.7' b'1.5' b'0.4' b'Iris-setosa']\n",
      " [b'5.1' b'3.8' b'1.5' b'0.3' b'Iris-setosa']\n",
      " [b'5.2' b'4.1' b'1.5' b'0.1' b'Iris-setosa']\n",
      " [b'5.2' b'3.4' b'1.4' b'0.2' b'Iris-setosa']\n",
      " [b'5.2' b'3.5' b'1.5' b'0.2' b'Iris-setosa']\n",
      " [b'5.2' b'2.7' b'3.9' b'1.4' b'Iris-versicolor']\n",
      " [b'5.3' b'3.7' b'1.5' b'0.2' b'Iris-setosa']\n",
      " [b'5.4' b'3.0' b'4.5' b'1.5' b'Iris-versicolor']\n",
      " [b'5.4' b'3.9' b'1.7' b'0.4' b'Iris-setosa']\n",
      " [b'5.4' b'3.4' b'1.7' b'0.2' b'Iris-setosa']\n",
      " [b'5.4' b'3.4' b'1.5' b'0.4' b'Iris-setosa']\n",
      " [b'5.4' b'3.7' b'1.5' b'0.2' b'Iris-setosa']\n",
      " [b'5.4' b'3.9' b'1.3' b'0.4' b'Iris-setosa']\n",
      " [b'5.5' b'3.5' b'1.3' b'0.2' b'Iris-setosa']\n",
      " [b'5.5' b'2.6' b'4.4' b'1.2' b'Iris-versicolor']\n",
      " [b'5.5' b'4.2' b'1.4' b'0.2' b'Iris-setosa']\n",
      " [b'5.5' b'2.3' b'4.0' b'1.3' b'Iris-versicolor']\n",
      " [b'5.5' b'2.4' b'3.7' b'1.0' b'Iris-versicolor']\n",
      " [b'5.5' b'2.4' b'3.8' b'1.1' b'Iris-versicolor']\n",
      " [b'5.5' b'2.5' b'4.0' b'1.3' b'Iris-versicolor']\n",
      " [b'5.6' b'3.0' b'4.1' b'1.3' b'Iris-versicolor']\n",
      " [b'5.6' b'2.8' b'4.9' b'2.0' b'Iris-virginica']\n",
      " [b'5.6' b'3.0' b'4.5' b'1.5' b'Iris-versicolor']\n",
      " [b'5.6' b'2.5' b'3.9' b'1.1' b'Iris-versicolor']\n",
      " [b'5.6' b'2.7' b'4.2' b'1.3' b'Iris-versicolor']\n",
      " [b'5.6' b'2.9' b'3.6' b'1.3' b'Iris-versicolor']\n",
      " [b'5.7' b'2.6' b'3.5' b'1.0' b'Iris-versicolor']\n",
      " [b'5.7' b'2.9' b'4.2' b'1.3' b'Iris-versicolor']\n",
      " [b'5.7' b'2.8' b'4.1' b'1.3' b'Iris-versicolor']\n",
      " [b'5.7' b'4.4' b'1.5' b'0.4' b'Iris-setosa']\n",
      " [b'5.7' b'2.8' b'4.5' b'1.3' b'Iris-versicolor']\n",
      " [b'5.7' b'2.5' b'5.0' b'2.0' b'Iris-virginica']\n",
      " [b'5.7' b'3.8' b'1.7' b'0.3' b'Iris-setosa']\n",
      " [b'5.7' b'3.0' b'4.2' b'1.2' b'Iris-versicolor']\n",
      " [b'5.8' b'2.7' b'4.1' b'1.0' b'Iris-versicolor']\n",
      " [b'5.8' b'4.0' b'1.2' b'0.2' b'Iris-setosa']\n",
      " [b'5.8' b'2.6' b'4.0' b'1.2' b'Iris-versicolor']\n",
      " [b'5.8' b'2.8' b'5.1' b'2.4' b'Iris-virginica']\n",
      " [b'5.8' b'2.7' b'5.1' b'1.9' b'Iris-virginica']\n",
      " [b'5.8' b'2.7' b'3.9' b'1.2' b'Iris-versicolor']\n",
      " [b'5.8' b'2.7' b'5.1' b'1.9' b'Iris-virginica']\n",
      " [b'5.9' b'3.0' b'5.1' b'1.8' b'Iris-virginica']\n",
      " [b'5.9' b'3.0' b'4.2' b'1.5' b'Iris-versicolor']\n",
      " [b'5.9' b'3.2' b'4.8' b'1.8' b'Iris-versicolor']\n",
      " [b'6.0' b'2.9' b'4.5' b'1.5' b'Iris-versicolor']\n",
      " [b'6.0' b'2.7' b'5.1' b'1.6' b'Iris-versicolor']\n",
      " [b'6.0' b'3.0' b'4.8' b'1.8' b'Iris-virginica']\n",
      " [b'6.0' b'3.4' b'4.5' b'1.6' b'Iris-versicolor']\n",
      " [b'6.0' b'2.2' b'4.0' b'1.0' b'Iris-versicolor']\n",
      " [b'6.0' b'2.2' b'5.0' b'1.5' b'Iris-virginica']\n",
      " [b'6.1' b'3.0' b'4.9' b'1.8' b'Iris-virginica']\n",
      " [b'6.1' b'2.6' b'5.6' b'1.4' b'Iris-virginica']\n",
      " [b'6.1' b'2.8' b'4.0' b'1.3' b'Iris-versicolor']\n",
      " [b'6.1' b'2.9' b'4.7' b'1.4' b'Iris-versicolor']\n",
      " [b'6.1' b'2.8' b'4.7' b'1.2' b'Iris-versicolor']\n",
      " [b'6.1' b'3.0' b'4.6' b'1.4' b'Iris-versicolor']\n",
      " [b'6.2' b'2.2' b'4.5' b'1.5' b'Iris-versicolor']\n",
      " [b'6.2' b'2.9' b'4.3' b'1.3' b'Iris-versicolor']\n",
      " [b'6.2' b'3.4' b'5.4' b'2.3' b'Iris-virginica']\n",
      " [b'6.2' b'2.8' b'4.8' b'1.8' b'Iris-virginica']\n",
      " [b'6.3' b'2.5' b'4.9' b'1.5' b'Iris-versicolor']\n",
      " [b'6.3' b'2.7' b'4.9' b'1.8' b'Iris-virginica']\n",
      " [b'6.3' b'2.5' b'5.0' b'1.9' b'Iris-virginica']\n",
      " [b'6.3' b'3.3' b'4.7' b'1.6' b'Iris-versicolor']\n",
      " [b'6.3' b'2.8' b'5.1' b'1.5' b'Iris-virginica']\n",
      " [b'6.3' b'3.3' b'6.0' b'2.5' b'Iris-virginica']\n",
      " [b'6.3' b'2.3' b'4.4' b'1.3' b'Iris-versicolor']\n",
      " [b'6.3' b'3.4' b'5.6' b'2.4' b'Iris-virginica']\n",
      " [b'6.3' b'2.9' b'5.6' b'1.8' b'Iris-virginica']\n",
      " [b'6.4' b'2.8' b'5.6' b'2.2' b'Iris-virginica']\n",
      " [b'6.4' b'2.8' b'5.6' b'2.1' b'Iris-virginica']\n",
      " [b'6.4' b'3.1' b'5.5' b'1.8' b'Iris-virginica']\n",
      " [b'6.4' b'3.2' b'4.5' b'1.5' b'Iris-versicolor']\n",
      " [b'6.4' b'3.2' b'5.3' b'2.3' b'Iris-virginica']\n",
      " [b'6.4' b'2.9' b'4.3' b'1.3' b'Iris-versicolor']\n",
      " [b'6.4' b'2.7' b'5.3' b'1.9' b'Iris-virginica']\n",
      " [b'6.5' b'3.0' b'5.8' b'2.2' b'Iris-virginica']\n",
      " [b'6.5' b'3.0' b'5.5' b'1.8' b'Iris-virginica']\n",
      " [b'6.5' b'3.0' b'5.2' b'2.0' b'Iris-virginica']\n",
      " [b'6.5' b'2.8' b'4.6' b'1.5' b'Iris-versicolor']\n",
      " [b'6.5' b'3.2' b'5.1' b'2.0' b'Iris-virginica']\n",
      " [b'6.6' b'2.9' b'4.6' b'1.3' b'Iris-versicolor']\n",
      " [b'6.6' b'3.0' b'4.4' b'1.4' b'Iris-versicolor']\n",
      " [b'6.7' b'3.1' b'4.7' b'1.5' b'Iris-versicolor']\n",
      " [b'6.7' b'3.1' b'5.6' b'2.4' b'Iris-virginica']\n",
      " [b'6.7' b'2.5' b'5.8' b'1.8' b'Iris-virginica']\n",
      " [b'6.7' b'3.0' b'5.0' b'1.7' b'Iris-versicolor']\n",
      " [b'6.7' b'3.1' b'4.4' b'1.4' b'Iris-versicolor']\n",
      " [b'6.7' b'3.3' b'5.7' b'2.5' b'Iris-virginica']\n",
      " [b'6.7' b'3.0' b'5.2' b'2.3' b'Iris-virginica']\n",
      " [b'6.7' b'3.3' b'5.7' b'2.1' b'Iris-virginica']\n",
      " [b'6.8' b'3.2' b'5.9' b'2.3' b'Iris-virginica']\n",
      " [b'6.8' b'2.8' b'4.8' b'1.4' b'Iris-versicolor']\n",
      " [b'6.8' b'3.0' b'5.5' b'2.1' b'Iris-virginica']\n",
      " [b'6.9' b'3.1' b'5.4' b'2.1' b'Iris-virginica']\n",
      " [b'6.9' b'3.1' b'5.1' b'2.3' b'Iris-virginica']\n",
      " [b'6.9' b'3.1' b'4.9' b'1.5' b'Iris-versicolor']\n",
      " [b'6.9' b'3.2' b'5.7' b'2.3' b'Iris-virginica']\n",
      " [b'7.0' b'3.2' b'4.7' b'1.4' b'Iris-versicolor']\n",
      " [b'7.1' b'3.0' b'5.9' b'2.1' b'Iris-virginica']\n",
      " [b'7.2' b'3.0' b'5.8' b'1.6' b'Iris-virginica']\n",
      " [b'7.2' b'3.2' b'6.0' b'1.8' b'Iris-virginica']\n",
      " [b'7.2' b'3.6' b'6.1' b'2.5' b'Iris-virginica']\n",
      " [b'7.3' b'2.9' b'6.3' b'1.8' b'Iris-virginica']\n",
      " [b'7.4' b'2.8' b'6.1' b'1.9' b'Iris-virginica']\n",
      " [b'7.6' b'3.0' b'6.6' b'2.1' b'Iris-virginica']\n",
      " [b'7.7' b'2.8' b'6.7' b'2.0' b'Iris-virginica']\n",
      " [b'7.7' b'2.6' b'6.9' b'2.3' b'Iris-virginica']\n",
      " [b'7.7' b'3.8' b'6.7' b'2.2' b'Iris-virginica']\n",
      " [b'7.7' b'3.0' b'6.1' b'2.3' b'Iris-virginica']\n",
      " [b'7.9' b'3.8' b'6.4' b'2.0' b'Iris-virginica']]\n"
     ]
    }
   ],
   "source": [
    "url = 'https://archive.ics.uci.edu/ml/machine-learning-databases/iris/iris.data'\n",
    "iris = np.genfromtxt(url, delimiter=',', dtype='object')\n",
    "names = ('sepallength', 'sepalwidth', 'petallength', 'petalwidth', 'species')\n",
    "\n",
    "print(iris[iris[:,0].argsort()])"
   ]
  },
  {
   "cell_type": "code",
   "execution_count": null,
   "metadata": {},
   "outputs": [],
   "source": []
  }
 ],
 "metadata": {
  "kernelspec": {
   "display_name": "Python 3",
   "language": "python",
   "name": "python3"
  },
  "language_info": {
   "codemirror_mode": {
    "name": "ipython",
    "version": 3
   },
   "file_extension": ".py",
   "mimetype": "text/x-python",
   "name": "python",
   "nbconvert_exporter": "python",
   "pygments_lexer": "ipython3",
   "version": "3.8.5"
  }
 },
 "nbformat": 4,
 "nbformat_minor": 4
}
