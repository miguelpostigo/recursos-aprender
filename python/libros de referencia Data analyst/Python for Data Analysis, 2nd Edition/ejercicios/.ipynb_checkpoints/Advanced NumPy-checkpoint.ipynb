{
 "cells": [
  {
   "cell_type": "markdown",
   "metadata": {},
   "source": [
    "https://github.com/wesm/pydata-book"
   ]
  },
  {
   "cell_type": "code",
   "execution_count": 2,
   "metadata": {},
   "outputs": [],
   "source": [
    "import numpy as np\n",
    "import pandas as pd\n",
    "np.random.seed(12345)\n",
    "import matplotlib.pyplot as plt\n",
    "plt.rc('figure', figsize=(10, 6))\n",
    "PREVIOUS_MAX_ROWS = pd.options.display.max_rows\n",
    "pd.options.display.max_rows = 20\n",
    "np.set_printoptions(precision=4, suppress=True)"
   ]
  },
  {
   "cell_type": "markdown",
   "metadata": {},
   "source": [
    "# A1. ndarray Object Internals"
   ]
  },
  {
   "cell_type": "code",
   "execution_count": 2,
   "metadata": {},
   "outputs": [
    {
     "data": {
      "text/plain": [
       "(10, 5)"
      ]
     },
     "execution_count": 2,
     "metadata": {},
     "output_type": "execute_result"
    }
   ],
   "source": [
    "np.ones((10, 5)).shape"
   ]
  },
  {
   "cell_type": "code",
   "execution_count": 3,
   "metadata": {},
   "outputs": [
    {
     "data": {
      "text/plain": [
       "(160, 40, 8)"
      ]
     },
     "execution_count": 3,
     "metadata": {},
     "output_type": "execute_result"
    }
   ],
   "source": [
    "np.ones((3, 4, 5), dtype=np.float64).strides"
   ]
  },
  {
   "cell_type": "markdown",
   "metadata": {},
   "source": [
    "### NumPy dtype Hierarchy"
   ]
  },
  {
   "cell_type": "code",
   "execution_count": null,
   "metadata": {},
   "outputs": [],
   "source": []
  },
  {
   "cell_type": "code",
   "execution_count": null,
   "metadata": {},
   "outputs": [],
   "source": []
  },
  {
   "cell_type": "code",
   "execution_count": null,
   "metadata": {},
   "outputs": [],
   "source": []
  },
  {
   "cell_type": "markdown",
   "metadata": {},
   "source": [
    "### Setting Array Values by Broadcasting"
   ]
  },
  {
   "cell_type": "markdown",
   "metadata": {},
   "source": [
    "The same broadcasting rule governing arithmetic operations also applies to setting values via array indexing"
   ]
  },
  {
   "cell_type": "code",
   "execution_count": 4,
   "metadata": {},
   "outputs": [
    {
     "name": "stdout",
     "output_type": "stream",
     "text": [
      "[[0. 0. 0.]\n",
      " [0. 0. 0.]\n",
      " [0. 0. 0.]\n",
      " [0. 0. 0.]]\n",
      "[[5. 5. 5.]\n",
      " [5. 5. 5.]\n",
      " [5. 5. 5.]\n",
      " [5. 5. 5.]]\n",
      "(4, 3)\n"
     ]
    }
   ],
   "source": [
    "arr = np.zeros((4, 3))\n",
    "print(arr)\n",
    "arr[:] = 5 #arr[:,:] = 5\n",
    "print(arr) \n",
    "print(arr.shape)"
   ]
  },
  {
   "cell_type": "markdown",
   "metadata": {},
   "source": [
    "if *we had a one-dimensional array of values we wanted to set into the columns of the array*, \n",
    "we can do that as long as the shape is compatible"
   ]
  },
  {
   "cell_type": "code",
   "execution_count": 5,
   "metadata": {},
   "outputs": [
    {
     "name": "stdout",
     "output_type": "stream",
     "text": [
      "[ 1.28 -0.42  0.44  1.6 ]\n",
      "(4,)\n"
     ]
    }
   ],
   "source": [
    "col = np.array([1.28, -0.42, 0.44, 1.6])\n",
    "print(col)\n",
    "print(col.shape)"
   ]
  },
  {
   "cell_type": "code",
   "execution_count": 6,
   "metadata": {},
   "outputs": [
    {
     "name": "stdout",
     "output_type": "stream",
     "text": [
      "(4, 1)\n"
     ]
    },
    {
     "data": {
      "text/plain": [
       "array([[ 1.28,  1.28,  1.28],\n",
       "       [-0.42, -0.42, -0.42],\n",
       "       [ 0.44,  0.44,  0.44],\n",
       "       [ 1.6 ,  1.6 ,  1.6 ]])"
      ]
     },
     "execution_count": 6,
     "metadata": {},
     "output_type": "execute_result"
    }
   ],
   "source": [
    "col = col[:, np.newaxis] #col[para todas las filas,añade un eje]\n",
    "print(col.shape)\n",
    "arr[:,:]=col\n",
    "arr"
   ]
  },
  {
   "cell_type": "markdown",
   "metadata": {},
   "source": [
    "queremos asignar valor pero solo a una parte del array"
   ]
  },
  {
   "cell_type": "code",
   "execution_count": 7,
   "metadata": {},
   "outputs": [
    {
     "data": {
      "text/plain": [
       "array([[-1.37 , -1.37 , -1.37 ],\n",
       "       [ 0.509,  0.509,  0.509],\n",
       "       [ 0.44 ,  0.44 ,  0.44 ],\n",
       "       [ 1.6  ,  1.6  ,  1.6  ]])"
      ]
     },
     "execution_count": 7,
     "metadata": {},
     "output_type": "execute_result"
    }
   ],
   "source": [
    "arr[:2] = [[-1.37], [0.509]] #hasta la fila 2\n",
    "arr"
   ]
  },
  {
   "cell_type": "markdown",
   "metadata": {},
   "source": [
    "# Advanced ufunc Usage\n",
    "Apart from fast element-wise operations provided\n",
    "by the universal functions, \n",
    "there are a number of additional features that occasionally\n",
    "can help you write more concise code without loops"
   ]
  },
  {
   "cell_type": "markdown",
   "metadata": {},
   "source": [
    "### ufunc Instance Methods"
   ]
  },
  {
   "cell_type": "markdown",
   "metadata": {},
   "source": [
    "*reduce*: \n",
    "takes a single array and aggregates its values, optionally along an axis, by performing\n",
    "a sequence of binary operations"
   ]
  },
  {
   "cell_type": "code",
   "execution_count": 8,
   "metadata": {},
   "outputs": [
    {
     "name": "stdout",
     "output_type": "stream",
     "text": [
      "[1 2 3 4 5 6 7 8 9]\n",
      "362880\n",
      "362880\n",
      "0\n",
      "2.7557319223985893e-06\n",
      "1\n",
      "-43\n",
      "-43\n",
      "45\n",
      "45\n",
      "45\n"
     ]
    }
   ],
   "source": [
    "arr = np.arange(1,10)\n",
    "print(arr)\n",
    "#np.reduce(arr)-->ERROR\n",
    "print(np.multiply.reduce(arr))\n",
    "print(1*2*3*4*5*6*7*8*9)\n",
    "print(np.floor_divide.reduce(arr))\n",
    "print(1/2/3/4/5/6/7/8/9)\n",
    "print(np.power.reduce(arr))\n",
    "#print(1**2**3**4**5**6**7**8**9)\n",
    "print(np.subtract.reduce(arr))\n",
    "print(1-2-3-4-5-6-7-8-9)\n",
    "print(np.add.reduce(arr))\n",
    "print(1+2+3+4+5+6+7+8+9)\n",
    "print(arr.sum())"
   ]
  },
  {
   "cell_type": "markdown",
   "metadata": {},
   "source": [
    "If an axis is passed, the reduction is performed along that axis."
   ]
  },
  {
   "cell_type": "markdown",
   "metadata": {},
   "source": [
    "example, we can use np.logical_and to check whether\n",
    "the values in each row of an array are sorted:"
   ]
  },
  {
   "cell_type": "code",
   "execution_count": 9,
   "metadata": {},
   "outputs": [
    {
     "name": "stdout",
     "output_type": "stream",
     "text": [
      "[[-0.09    0.7594  0.7483 -0.9815  0.3658]\n",
      " [-0.3154 -0.8661  0.0279 -0.4556 -1.6019]\n",
      " [ 0.2483 -0.3215 -0.8487  0.0005 -0.5465]\n",
      " [ 0.2539  1.9368 -0.7995 -0.5692  0.0489]\n",
      " [-0.6491 -0.4795 -0.9535  1.4225  0.1754]]\n",
      "----------------------\n",
      "[[-0.9815 -0.09    0.3658  0.7483  0.7594]\n",
      " [-0.3154 -0.8661  0.0279 -0.4556 -1.6019]\n",
      " [-0.8487 -0.5465 -0.3215  0.0005  0.2483]\n",
      " [ 0.2539  1.9368 -0.7995 -0.5692  0.0489]\n",
      " [-0.9535 -0.6491 -0.4795  0.1754  1.4225]]\n",
      "----------------------\n",
      "[[-0.9815 -0.09    0.3658  0.7483]\n",
      " [-0.3154 -0.8661  0.0279 -0.4556]\n",
      " [-0.8487 -0.5465 -0.3215  0.0005]\n",
      " [ 0.2539  1.9368 -0.7995 -0.5692]\n",
      " [-0.9535 -0.6491 -0.4795  0.1754]]\n",
      "----------------------\n",
      "[[-0.09    0.3658  0.7483  0.7594]\n",
      " [-0.8661  0.0279 -0.4556 -1.6019]\n",
      " [-0.5465 -0.3215  0.0005  0.2483]\n",
      " [ 1.9368 -0.7995 -0.5692  0.0489]\n",
      " [-0.6491 -0.4795  0.1754  1.4225]]\n",
      "----------------------\n",
      "[[ True  True  True  True]\n",
      " [False  True False False]\n",
      " [ True  True  True  True]\n",
      " [ True False  True  True]\n",
      " [ True  True  True  True]]\n"
     ]
    },
    {
     "data": {
      "text/plain": [
       "array([ True, False,  True, False,  True])"
      ]
     },
     "execution_count": 9,
     "metadata": {},
     "output_type": "execute_result"
    }
   ],
   "source": [
    "np.random.seed(12346)  # for reproducibility\n",
    "arr = np.random.randn(5, 5)\n",
    "print(arr)\n",
    "print(\"----------------------\")\n",
    "arr[::2].sort(1) # sort a few rows\n",
    "#arr[todas filas, todas columnas, step2]\n",
    "print(arr)\n",
    "print(\"----------------------\")\n",
    "print(arr[:, :-1]) #hasta la penúltima columna\n",
    "print(\"----------------------\")\n",
    "print(arr[:, 1:]) #desde la segunda columna\n",
    "print(\"----------------------\")\n",
    "#solo estará, ordenadas las que tengan todo 'Trues'\n",
    "cond = arr[:, :-1] < arr[:, 1:]\n",
    "print(cond) \n",
    "cond.all(axis=1)"
   ]
  },
  {
   "cell_type": "code",
   "execution_count": 10,
   "metadata": {},
   "outputs": [
    {
     "name": "stdout",
     "output_type": "stream",
     "text": [
      "[ True False  True False  True]\n",
      "True\n",
      "False\n",
      "True\n",
      "False\n",
      "True\n"
     ]
    }
   ],
   "source": [
    "#esto mismo lo podemos hacer con:\n",
    "print(np.logical_and.reduce(arr[:, :-1] < arr[:, 1:], axis=1)) \n",
    "#LO QUE ESTÁ HACIENDO\n",
    "print(True&True&True&True)\n",
    "print(False&True&False&False)\n",
    "print(True&True&True&True)\n",
    "print(True&False&True&True)\n",
    "print(True&True&True&True)"
   ]
  },
  {
   "cell_type": "markdown",
   "metadata": {},
   "source": [
    "Note that *logical_and.reduce* = *all method*"
   ]
  },
  {
   "cell_type": "markdown",
   "metadata": {},
   "source": [
    "*accumulate*:\n",
    "is related to reduce like cumsum is related to sum. \n",
    "It produces an array ofthe same size with the intermediate “accumulated” values:"
   ]
  },
  {
   "cell_type": "code",
   "execution_count": 11,
   "metadata": {},
   "outputs": [
    {
     "name": "stdout",
     "output_type": "stream",
     "text": [
      "4950\n",
      "[   0    1    3    6   10   15   21   28   36   45   55   66   78   91\n",
      "  105  120  136  153  171  190  210  231  253  276  300  325  351  378\n",
      "  406  435  465  496  528  561  595  630  666  703  741  780  820  861\n",
      "  903  946  990 1035 1081 1128 1176 1225 1275 1326 1378 1431 1485 1540\n",
      " 1596 1653 1711 1770 1830 1891 1953 2016 2080 2145 2211 2278 2346 2415\n",
      " 2485 2556 2628 2701 2775 2850 2926 3003 3081 3160 3240 3321 3403 3486\n",
      " 3570 3655 3741 3828 3916 4005 4095 4186 4278 4371 4465 4560 4656 4753\n",
      " 4851 4950]\n"
     ]
    }
   ],
   "source": [
    "arr = np.arange(100)\n",
    "print(arr.sum())\n",
    "print(arr.cumsum())"
   ]
  },
  {
   "cell_type": "code",
   "execution_count": 12,
   "metadata": {
    "scrolled": true
   },
   "outputs": [
    {
     "name": "stdout",
     "output_type": "stream",
     "text": [
      "[[ 0  1  2  3  4]\n",
      " [ 5  6  7  8  9]\n",
      " [10 11 12 13 14]]\n",
      "--------------\n",
      "[15 18 21 24 27]\n",
      "--------------\n",
      "[10 35 60]\n",
      "--------------\n",
      "[[ 0  1  3  6 10]\n",
      " [ 5 11 18 26 35]\n",
      " [10 21 33 46 60]]\n"
     ]
    }
   ],
   "source": [
    "arr = np.arange(15).reshape((3, 5))\n",
    "print(arr)\n",
    "print(\"--------------\")\n",
    "print(np.add.reduce(arr,axis=0)) #by default\n",
    "print(\"--------------\")\n",
    "print(np.add.reduce(arr,axis=1))\n",
    "print(\"--------------\")\n",
    "print(np.add.accumulate(arr, axis=1))\n",
    "#add / substract / multiply / divide / power / mod / fmax,fmin"
   ]
  },
  {
   "cell_type": "markdown",
   "metadata": {},
   "source": [
    "*outer*:\n",
    "performs a pairwise cross-product between two arrays:"
   ]
  },
  {
   "cell_type": "code",
   "execution_count": 13,
   "metadata": {},
   "outputs": [
    {
     "name": "stdout",
     "output_type": "stream",
     "text": [
      "[[ 4  5  6]\n",
      " [ 8 10 12]\n",
      " [12 15 18]]\n",
      "--------------\n",
      "[[1 2 3]\n",
      " [4 5 6]]\n",
      "(2, 3)\n",
      "--------------\n",
      "[[1 2 3 4]]\n",
      "(1, 4)\n",
      "--------------\n",
      "[[[[ 1  2  3  4]]\n",
      "\n",
      "  [[ 2  4  6  8]]\n",
      "\n",
      "  [[ 3  6  9 12]]]\n",
      "\n",
      "\n",
      " [[[ 4  8 12 16]]\n",
      "\n",
      "  [[ 5 10 15 20]]\n",
      "\n",
      "  [[ 6 12 18 24]]]]\n",
      "(2, 3, 1, 4)\n"
     ]
    }
   ],
   "source": [
    "#Apply the ufunc `op` to all pairs (a, b)\n",
    "print(np.multiply.outer([1, 2, 3], [4, 5, 6]))\n",
    "print(\"--------------\")\n",
    "A = np.array([[1, 2, 3], [4, 5, 6]])\n",
    "print(A)\n",
    "print(A.shape)\n",
    "print(\"--------------\")\n",
    "B = np.array([[1, 2, 3, 4]])\n",
    "print(B)\n",
    "print(B.shape)\n",
    "print(\"--------------\")\n",
    "C = np.multiply.outer(A, B)\n",
    "print(C)\n",
    "print(C.shape)"
   ]
  },
  {
   "cell_type": "code",
   "execution_count": 14,
   "metadata": {},
   "outputs": [
    {
     "name": "stdout",
     "output_type": "stream",
     "text": [
      "[0 1 1 2 2]\n",
      "--------------\n",
      "[0 1 2 3 4]\n",
      "--------------\n",
      "[[0 0 0 0 0]\n",
      " [0 1 2 3 4]\n",
      " [0 1 2 3 4]\n",
      " [0 2 4 6 8]\n",
      " [0 2 4 6 8]]\n",
      "--------------\n",
      "[0 0 0 0 0]\n",
      "[0 1 2 3 4]\n",
      "[0 1 2 3 4]\n",
      "[0 2 4 6 8]\n",
      "[0 2 4 6 8]\n",
      "--------------\n",
      "[0 1 2 6 8]\n",
      "17\n",
      "17\n"
     ]
    }
   ],
   "source": [
    "arr = np.arange(3).repeat([1, 2, 2])\n",
    "print(arr)\n",
    "print(\"--------------\")\n",
    "arr2 = np.arange(5)\n",
    "print(arr2)\n",
    "print(\"--------------\")\n",
    "print(np.multiply.outer(arr,arr2))\n",
    "#Apply the ufunc `op` to all pairs (a, b) \n",
    "print(\"--------------\")\n",
    "#LO QUE ESTÁ HACIENDO\n",
    "print(arr[0]*arr2)\n",
    "print(arr[1]*arr2)\n",
    "print(arr[2]*arr2)\n",
    "print(arr[3]*arr2)\n",
    "print(arr[4]*arr2)\n",
    "print(\"--------------\")\n",
    "print(arr*arr2)\n",
    "print((arr*arr2).sum())\n",
    "print(arr.dot(arr2))"
   ]
  },
  {
   "cell_type": "markdown",
   "metadata": {},
   "source": [
    "The output of outer will have a dimension that is the sum of the dimensions of the inputs:"
   ]
  },
  {
   "cell_type": "code",
   "execution_count": 15,
   "metadata": {},
   "outputs": [
    {
     "name": "stdout",
     "output_type": "stream",
     "text": [
      "[[ 0.5224  0.1064  0.1027 -0.1082]\n",
      " [ 0.0549  0.1964 -0.1939 -1.4566]\n",
      " [ 0.8574 -0.7416 -0.7804 -0.1064]]\n",
      "[ 0.5937 -1.2835  0.478   1.2924  0.1516]\n",
      "(3, 4)\n",
      "(5,)\n",
      "[[[-0.0713  1.8059  0.0445 -0.77    0.3708]\n",
      "  [-0.4873  1.3899 -0.3715 -1.186  -0.0452]\n",
      "  [-0.491   1.3862 -0.3752 -1.1897 -0.0489]\n",
      "  [-0.7019  1.1752 -0.5862 -1.4007 -0.2599]]\n",
      "\n",
      " [[-0.5389  1.3383 -0.4231 -1.2376 -0.0968]\n",
      "  [-0.3973  1.4798 -0.2816 -1.0961  0.0447]\n",
      "  [-0.7876  1.0896 -0.6718 -1.4863 -0.3455]\n",
      "  [-2.0503 -0.1731 -1.9345 -2.749  -1.6082]]\n",
      "\n",
      " [[ 0.2637  2.1409  0.3795 -0.435   0.7058]\n",
      "  [-1.3353  0.5419 -1.2195 -2.034  -0.8932]\n",
      "  [-1.3741  0.5031 -1.2583 -2.0728 -0.932 ]\n",
      "  [-0.7001  1.177  -0.5844 -1.3989 -0.2581]]]\n",
      "(3, 4, 5)\n"
     ]
    }
   ],
   "source": [
    "x, y = np.random.randn(3, 4), np.random.randn(5)\n",
    "print(x)\n",
    "print(y)\n",
    "print(x.shape)\n",
    "print(y.shape)\n",
    "result = np.subtract.outer(x, y)\n",
    "print(result)\n",
    "print(result.shape)"
   ]
  },
  {
   "cell_type": "markdown",
   "metadata": {},
   "source": [
    "*reduceat*:\n",
    "\n",
    "reduceat(a, indices, axis=0, dtype=None, out=None)\n",
    "\n",
    "Performs a (local) reduce with specified slices over a single axis.\n",
    "indices: Paired indices, comma separated (not colon), specifying slices to reduce"
   ]
  },
  {
   "cell_type": "code",
   "execution_count": 16,
   "metadata": {},
   "outputs": [
    {
     "name": "stdout",
     "output_type": "stream",
     "text": [
      "[0 1 2 3 4 5 6 7 8 9]\n",
      "--------------\n",
      "[10 18 17]\n",
      "--------------\n",
      "10\n",
      "18\n",
      "17\n"
     ]
    }
   ],
   "source": [
    "arr = np.arange(10)\n",
    "print(arr)\n",
    "print(\"--------------\")\n",
    "print(np.add.reduceat(arr, [0, 5, 8]))\n",
    "print(\"--------------\")\n",
    "#LO QUE ESTÁ HACIENDO\n",
    "print(arr[0:5].sum())\n",
    "print(arr[5:8].sum())\n",
    "print(arr[8:].sum())"
   ]
  },
  {
   "cell_type": "code",
   "execution_count": 17,
   "metadata": {},
   "outputs": [
    {
     "name": "stdout",
     "output_type": "stream",
     "text": [
      "[0 1 2 3 4 5 6 7]\n",
      "[ 6 10 14 18]\n",
      "6\n",
      "10\n",
      "14\n",
      "18\n"
     ]
    }
   ],
   "source": [
    "print(np.arange(8))\n",
    "print(np.add.reduceat(np.arange(8),[0,4, 1,5, 2,6, 3,7])[::2]) #step2\n",
    "print(arr[0:4].sum())\n",
    "print(arr[1:5].sum())\n",
    "print(arr[2:6].sum())\n",
    "print(arr[3:7].sum())"
   ]
  },
  {
   "cell_type": "code",
   "execution_count": 18,
   "metadata": {
    "scrolled": true
   },
   "outputs": [
    {
     "name": "stdout",
     "output_type": "stream",
     "text": [
      "[[ 0.  1.  2.  3.]\n",
      " [ 4.  5.  6.  7.]\n",
      " [ 8.  9. 10. 11.]\n",
      " [12. 13. 14. 15.]]\n",
      "--------------\n",
      "[[12. 15. 18. 21.]\n",
      " [12. 13. 14. 15.]\n",
      " [ 4.  5.  6.  7.]\n",
      " [ 8.  9. 10. 11.]\n",
      " [24. 28. 32. 36.]]\n",
      "--------------\n",
      "[12. 15. 18. 21.]\n",
      "[12. 13. 14. 15.]\n",
      "[4. 5. 6. 7.]\n",
      "[ 8.  9. 10. 11.]\n",
      "[24. 28. 32. 36.]\n",
      "--------------\n",
      "[[   0.    3.]\n",
      " [ 120.    7.]\n",
      " [ 720.   11.]\n",
      " [2184.   15.]]\n",
      "0.0\n",
      "120.0\n",
      "720.0\n",
      "2184.0\n"
     ]
    }
   ],
   "source": [
    "x = np.linspace(0, 15, 16).reshape(4,4)\n",
    "print(x)\n",
    "print(\"--------------\")\n",
    " # reduce such that the result has the following five rows:\n",
    " # [row1 + row2 + row3]\n",
    " # [row4]\n",
    " # [row2]\n",
    " # [row3]\n",
    " # [row1 + row2 + row3 + row4]\n",
    "print(np.add.reduceat(x,[0,3,1,2,0],axis = 0))\n",
    "print(\"--------------\")\n",
    "#LO QUE ESTÁ HACIENDO\n",
    "x = np.linspace(0, 15, 16).reshape(4,4)\n",
    "print(x[0:3].sum(0))\n",
    "#deja la fila 4, la fila 2 y la fila 3\n",
    "print(x[3])\n",
    "print(x[1])\n",
    "print(x[2])\n",
    "print(x[0:].sum(0))\n",
    "print(\"--------------\")\n",
    " # reduce such that result has the following two columns:\n",
    " # [col1 * col2 * col3, col4]\n",
    "print(np.multiply.reduceat(x, [0, 3], 1)) #axis = 1 -->\n",
    "#LO QUE ESTÁ HACIENDO\n",
    "print(x[0,0]*x[0,1]*x[0,2])\n",
    "print(x[1,0]*x[1,1]*x[1,2])\n",
    "print(x[2,0]*x[2,1]*x[2,2])\n",
    "print(x[3,0]*x[3,1]*x[3,2])\n",
    "#y deja la última columna"
   ]
  },
  {
   "cell_type": "markdown",
   "metadata": {},
   "source": [
    "A descriptive example:\n",
    "\n",
    "If `a` is 1-D, the function `ufunc.accumulate(a)` is the same as\n",
    "``ufunc.reduceat(a, indices)[::2]`` where `indices` is\n",
    "``range(len(array) - 1)`` with a zero placed\n",
    "in every other element:\n",
    "``indices = zeros(2 * len(a) - 1)``, ``indices[1::2] = range(1, len(a))``.\n",
    "\n",
    "Don't be fooled by this attribute's name: `reduceat(a)` is not\n",
    "necessarily smaller than `a`."
   ]
  },
  {
   "cell_type": "code",
   "execution_count": 19,
   "metadata": {},
   "outputs": [
    {
     "name": "stdout",
     "output_type": "stream",
     "text": [
      "[1 2 3 4 5 6 7 8 9]\n",
      "[ 1  3  6 10 15 21 28 36 45]\n"
     ]
    },
    {
     "ename": "ValueError",
     "evalue": "object too deep for desired array",
     "output_type": "error",
     "traceback": [
      "\u001b[1;31m---------------------------------------------------------------------------\u001b[0m",
      "\u001b[1;31mValueError\u001b[0m                                Traceback (most recent call last)",
      "\u001b[1;32m<ipython-input-19-5e96f44968b1>\u001b[0m in \u001b[0;36m<module>\u001b[1;34m\u001b[0m\n\u001b[0;32m      4\u001b[0m \u001b[0mindices\u001b[0m \u001b[1;33m=\u001b[0m \u001b[0mnp\u001b[0m\u001b[1;33m.\u001b[0m\u001b[0mzeros\u001b[0m\u001b[1;33m(\u001b[0m\u001b[1;33m(\u001b[0m\u001b[1;36m2\u001b[0m \u001b[1;33m*\u001b[0m \u001b[0mlen\u001b[0m\u001b[1;33m(\u001b[0m\u001b[0ma\u001b[0m\u001b[1;33m)\u001b[0m \u001b[1;33m-\u001b[0m \u001b[1;36m1\u001b[0m\u001b[1;33m)\u001b[0m\u001b[1;33m)\u001b[0m\u001b[1;33m\u001b[0m\u001b[1;33m\u001b[0m\u001b[0m\n\u001b[0;32m      5\u001b[0m \u001b[0mindices\u001b[0m\u001b[1;33m[\u001b[0m\u001b[1;36m1\u001b[0m\u001b[1;33m:\u001b[0m\u001b[1;33m:\u001b[0m\u001b[1;36m2\u001b[0m\u001b[1;33m]\u001b[0m \u001b[1;33m=\u001b[0m \u001b[0mrange\u001b[0m\u001b[1;33m(\u001b[0m\u001b[1;36m1\u001b[0m\u001b[1;33m,\u001b[0m \u001b[0mlen\u001b[0m\u001b[1;33m(\u001b[0m\u001b[0ma\u001b[0m\u001b[1;33m)\u001b[0m\u001b[1;33m)\u001b[0m\u001b[1;33m\u001b[0m\u001b[1;33m\u001b[0m\u001b[0m\n\u001b[1;32m----> 6\u001b[1;33m \u001b[0mprint\u001b[0m\u001b[1;33m(\u001b[0m\u001b[0mnp\u001b[0m\u001b[1;33m.\u001b[0m\u001b[0madd\u001b[0m\u001b[1;33m.\u001b[0m\u001b[0mreduceat\u001b[0m\u001b[1;33m(\u001b[0m\u001b[0ma\u001b[0m\u001b[1;33m,\u001b[0m\u001b[1;33m[\u001b[0m\u001b[0mindices\u001b[0m\u001b[1;33m]\u001b[0m\u001b[1;33m)\u001b[0m\u001b[1;33m[\u001b[0m\u001b[1;33m:\u001b[0m\u001b[1;33m:\u001b[0m\u001b[1;36m2\u001b[0m\u001b[1;33m]\u001b[0m\u001b[1;33m)\u001b[0m\u001b[1;33m\u001b[0m\u001b[1;33m\u001b[0m\u001b[0m\n\u001b[0m",
      "\u001b[1;31mValueError\u001b[0m: object too deep for desired array"
     ]
    }
   ],
   "source": [
    "a = np.arange(1,10)\n",
    "print(a)\n",
    "print(np.add.accumulate(a))\n",
    "indices = np.zeros((2 * len(a) - 1))\n",
    "indices[1::2] = range(1, len(a))\n",
    "print(np.add.reduceat(a,[indices])[::2])"
   ]
  },
  {
   "cell_type": "markdown",
   "metadata": {},
   "source": [
    "### Writing New ufuncs in Python\n",
    "The most general is to use the NumPy C API, but that is beyond the scope of this book. \n",
    "In this section, we will look at *pure Python ufuncs*"
   ]
  },
  {
   "cell_type": "markdown",
   "metadata": {},
   "source": [
    "*numpy.frompyfunc*\n",
    "accepts a Python function along with a specification for the number of inputs and outputs.\n",
    "Takes an arbitrary Python function and returns a NumPy ufunc.\n",
    "frompyfunc(func, nin, nout, *[, identity])\n",
    "nin : int\n",
    "    The number of input arguments.\n",
    "nout : int\n",
    "    The number of objects returned by `func`."
   ]
  },
  {
   "cell_type": "markdown",
   "metadata": {},
   "source": [
    "EJEMPLO\n",
    "Use frompyfunc to add broadcasting to the Python function ``oct``:"
   ]
  },
  {
   "cell_type": "markdown",
   "metadata": {},
   "source": [
    "The oct() function converts an integer into an octal string. Octal strings in Python are prefixed with 0o ."
   ]
  },
  {
   "cell_type": "code",
   "execution_count": 20,
   "metadata": {},
   "outputs": [
    {
     "data": {
      "text/plain": [
       "'0o3'"
      ]
     },
     "execution_count": 20,
     "metadata": {},
     "output_type": "execute_result"
    }
   ],
   "source": [
    "oct(3)"
   ]
  },
  {
   "cell_type": "code",
   "execution_count": 21,
   "metadata": {},
   "outputs": [
    {
     "name": "stdout",
     "output_type": "stream",
     "text": [
      "<ufunc '? (vectorized)'>\n",
      "[ 10  30 100]\n",
      "['0o12' '0o36' '0o144']\n",
      "['0o12' '0o36' '0o144']\n"
     ]
    }
   ],
   "source": [
    "oct_array = np.frompyfunc(oct, 1, 1)\n",
    "print(oct_array)\n",
    "arr = np.array((10, 30, 100))\n",
    "print(arr)\n",
    "print(oct_array(arr))\n",
    "#comparamos\n",
    "print(np.array((oct(10), oct(30), oct(100))))"
   ]
  },
  {
   "cell_type": "code",
   "execution_count": 22,
   "metadata": {},
   "outputs": [],
   "source": [
    "def add_elements(x, y):\n",
    "    return x + y"
   ]
  },
  {
   "cell_type": "code",
   "execution_count": 23,
   "metadata": {},
   "outputs": [
    {
     "data": {
      "text/plain": [
       "9"
      ]
     },
     "execution_count": 23,
     "metadata": {},
     "output_type": "execute_result"
    }
   ],
   "source": [
    "add_elements(4,5)"
   ]
  },
  {
   "cell_type": "code",
   "execution_count": 30,
   "metadata": {
    "scrolled": true
   },
   "outputs": [
    {
     "name": "stdout",
     "output_type": "stream",
     "text": [
      "<ufunc '? (vectorized)'>\n"
     ]
    }
   ],
   "source": [
    "add_them = np.frompyfunc(add_elements, 2, 1)\n",
    "print(add_them)"
   ]
  },
  {
   "cell_type": "code",
   "execution_count": 31,
   "metadata": {},
   "outputs": [
    {
     "data": {
      "text/plain": [
       "array([0, 2, 4, 6, 8, 10, 12, 14], dtype=object)"
      ]
     },
     "execution_count": 31,
     "metadata": {},
     "output_type": "execute_result"
    }
   ],
   "source": [
    "add_them(np.arange(8), np.arange(8))"
   ]
  },
  {
   "cell_type": "code",
   "execution_count": 34,
   "metadata": {
    "scrolled": true
   },
   "outputs": [
    {
     "name": "stdout",
     "output_type": "stream",
     "text": [
      "[0 2 4 6 8 10 12 14]\n",
      "object\n"
     ]
    }
   ],
   "source": [
    "arr = add_them(np.arange(8), np.arange(8))\n",
    "print(arr)\n",
    "print(arr.dtype)\n",
    "#arr.dtype = float -->ERROR: Cannot change data-type for object array."
   ]
  },
  {
   "cell_type": "markdown",
   "metadata": {},
   "source": [
    "Functions created using frompyfunc always return arrays of Python objects --> THIS CAN BE INCONVENIENT"
   ]
  },
  {
   "cell_type": "markdown",
   "metadata": {},
   "source": [
    "there is an alternative (but slightly less featureful)\n",
    "function, \n",
    "*numpy.vectorize*, \n",
    "that allows you to specify the output type:"
   ]
  },
  {
   "cell_type": "code",
   "execution_count": 35,
   "metadata": {},
   "outputs": [
    {
     "name": "stdout",
     "output_type": "stream",
     "text": [
      "[ 0.  2.  4.  6.  8. 10. 12. 14.]\n",
      "float64\n"
     ]
    }
   ],
   "source": [
    "add_them = np.vectorize(add_elements, otypes=[np.float64])\n",
    "arr = add_them(np.arange(8), np.arange(8))\n",
    "print(arr)\n",
    "print(arr.dtype)"
   ]
  },
  {
   "cell_type": "markdown",
   "metadata": {},
   "source": [
    "These functions provide a way to create ufunc-like functions, but they are very slow compare with ufuncs\n",
    "\n",
    "Later in this chapter we’ll show how to create fast ufuncs in Python using the \n",
    "*Numba projec*"
   ]
  },
  {
   "cell_type": "code",
   "execution_count": 36,
   "metadata": {},
   "outputs": [
    {
     "name": "stdout",
     "output_type": "stream",
     "text": [
      "1.52 ms ± 42.6 µs per loop (mean ± std. dev. of 7 runs, 1000 loops each)\n",
      "3.06 µs ± 49.3 ns per loop (mean ± std. dev. of 7 runs, 100000 loops each)\n"
     ]
    }
   ],
   "source": [
    "arr = np.random.randn(10000)\n",
    "%timeit add_them(arr, arr)\n",
    "%timeit np.add(arr, arr)"
   ]
  },
  {
   "cell_type": "markdown",
   "metadata": {},
   "source": [
    "# A5. Structured and Record Arrays"
   ]
  },
  {
   "cell_type": "markdown",
   "metadata": {},
   "source": [
    "Un Ndarray es un 'homogeneous data container'\n",
    "\n",
    "Pero podemos formar *structured array* similar a las filas en una tabla de SQL, de forma que podamos 'mezclar tipos'"
   ]
  },
  {
   "cell_type": "markdown",
   "metadata": {},
   "source": [
    "ESTRUCTURA TIPICA PARA FORMAR UN *structured array*:\n",
    "\n",
    "dtype = [('x', npfloat64),('y', np.int32)]\n",
    "\n",
    "tupla(field_name, field_data_type)"
   ]
  },
  {
   "cell_type": "code",
   "execution_count": 3,
   "metadata": {},
   "outputs": [
    {
     "data": {
      "text/plain": [
       "array([(1.5   ,  6), (3.1416, -2)], dtype=[('x', '<f8'), ('y', '<i4')])"
      ]
     },
     "execution_count": 3,
     "metadata": {},
     "output_type": "execute_result"
    }
   ],
   "source": [
    "dtype = [('x', np.float64), ('y', np.int32)]\n",
    "sarr = np.array([(1.5, 6), (np.pi, -2)], dtype=dtype)\n",
    "sarr"
   ]
  },
  {
   "cell_type": "markdown",
   "metadata": {},
   "source": [
    "ahora los elementos del array son objetos con forma de tupla (tuple-like objects)"
   ]
  },
  {
   "cell_type": "code",
   "execution_count": 4,
   "metadata": {},
   "outputs": [
    {
     "data": {
      "text/plain": [
       "(1.5, 6)"
      ]
     },
     "execution_count": 4,
     "metadata": {},
     "output_type": "execute_result"
    }
   ],
   "source": [
    "sarr[0]"
   ]
  },
  {
   "cell_type": "code",
   "execution_count": 5,
   "metadata": {},
   "outputs": [
    {
     "data": {
      "text/plain": [
       "6"
      ]
     },
     "execution_count": 5,
     "metadata": {},
     "output_type": "execute_result"
    }
   ],
   "source": [
    "sarr[0]['y']"
   ]
  },
  {
   "cell_type": "code",
   "execution_count": 6,
   "metadata": {},
   "outputs": [
    {
     "data": {
      "text/plain": [
       "array([1.5   , 3.1416])"
      ]
     },
     "execution_count": 6,
     "metadata": {},
     "output_type": "execute_result"
    }
   ],
   "source": [
    "sarr['x']"
   ]
  },
  {
   "cell_type": "code",
   "execution_count": null,
   "metadata": {},
   "outputs": [],
   "source": [
    "#sarr-->array([(sarr[0]),(sarr[1])])\n",
    "#sarr[0]-->(x dtype,y dtype)"
   ]
  },
  {
   "cell_type": "markdown",
   "metadata": {},
   "source": [
    "### Nested dtypes and Multidimensional Fields\n",
    "Cuando especificas un dtype de un *structured array*, adicionalmente le puedes pasar un shape(como entero o tupla)"
   ]
  },
  {
   "cell_type": "code",
   "execution_count": 7,
   "metadata": {},
   "outputs": [
    {
     "data": {
      "text/plain": [
       "array([([0, 0, 0], 0), ([0, 0, 0], 0), ([0, 0, 0], 0), ([0, 0, 0], 0)],\n",
       "      dtype=[('x', '<i8', (3,)), ('y', '<i4')])"
      ]
     },
     "execution_count": 7,
     "metadata": {},
     "output_type": "execute_result"
    }
   ],
   "source": [
    "dtype = [('x', np.int64, 3), ('y', np.int32)]\n",
    "arr = np.zeros(4, dtype=dtype)\n",
    "arr\n"
   ]
  },
  {
   "cell_type": "code",
   "execution_count": 13,
   "metadata": {},
   "outputs": [
    {
     "name": "stdout",
     "output_type": "stream",
     "text": [
      "([0, 0, 0], 0)\n",
      "---------\n",
      "([0, 0, 0], 0)\n",
      "---------\n",
      "([0, 0, 0], 0)\n",
      "---------\n",
      "[0 0 0]\n"
     ]
    },
    {
     "data": {
      "text/plain": [
       "array([[0, 0, 0],\n",
       "       [0, 0, 0],\n",
       "       [0, 0, 0],\n",
       "       [0, 0, 0]], dtype=int64)"
      ]
     },
     "execution_count": 13,
     "metadata": {},
     "output_type": "execute_result"
    }
   ],
   "source": [
    "print(arr[0])\n",
    "print(\"---------\")\n",
    "print(arr[1])\n",
    "print(\"---------\")\n",
    "print(arr[2])\n",
    "print(\"---------\")\n",
    "print(arr[0]['x'])\n",
    "arr['x']"
   ]
  },
  {
   "cell_type": "code",
   "execution_count": 12,
   "metadata": {},
   "outputs": [
    {
     "ename": "ValueError",
     "evalue": "no fill-function for data-type.",
     "output_type": "error",
     "traceback": [
      "\u001b[1;31m---------------------------------------------------------------------------\u001b[0m",
      "\u001b[1;31mValueError\u001b[0m                                Traceback (most recent call last)",
      "\u001b[1;32m<ipython-input-12-30d2e10eedb9>\u001b[0m in \u001b[0;36m<module>\u001b[1;34m\u001b[0m\n\u001b[0;32m      1\u001b[0m \u001b[0mdtype\u001b[0m \u001b[1;33m=\u001b[0m \u001b[1;33m[\u001b[0m\u001b[1;33m(\u001b[0m\u001b[1;34m'x'\u001b[0m\u001b[1;33m,\u001b[0m \u001b[0mnp\u001b[0m\u001b[1;33m.\u001b[0m\u001b[0mint64\u001b[0m\u001b[1;33m,\u001b[0m \u001b[1;36m3\u001b[0m\u001b[1;33m)\u001b[0m\u001b[1;33m,\u001b[0m \u001b[1;33m(\u001b[0m\u001b[1;34m'y'\u001b[0m\u001b[1;33m,\u001b[0m \u001b[0mnp\u001b[0m\u001b[1;33m.\u001b[0m\u001b[0mint32\u001b[0m\u001b[1;33m)\u001b[0m\u001b[1;33m]\u001b[0m\u001b[1;33m\u001b[0m\u001b[1;33m\u001b[0m\u001b[0m\n\u001b[1;32m----> 2\u001b[1;33m \u001b[0marr\u001b[0m \u001b[1;33m=\u001b[0m \u001b[0mnp\u001b[0m\u001b[1;33m.\u001b[0m\u001b[0marange\u001b[0m\u001b[1;33m(\u001b[0m\u001b[1;36m4\u001b[0m\u001b[1;33m,\u001b[0m \u001b[0mdtype\u001b[0m \u001b[1;33m=\u001b[0m \u001b[0mdtype\u001b[0m\u001b[1;33m)\u001b[0m\u001b[1;33m\u001b[0m\u001b[1;33m\u001b[0m\u001b[0m\n\u001b[0m\u001b[0;32m      3\u001b[0m \u001b[0marr\u001b[0m\u001b[1;33m\u001b[0m\u001b[1;33m\u001b[0m\u001b[0m\n",
      "\u001b[1;31mValueError\u001b[0m: no fill-function for data-type."
     ]
    }
   ],
   "source": [
    "dtype = [('x', np.int64, 3), ('y', np.int32)]\n",
    "arr = np.arange(4, dtype = dtype)\n",
    "arr"
   ]
  },
  {
   "cell_type": "code",
   "execution_count": 14,
   "metadata": {},
   "outputs": [
    {
     "data": {
      "text/plain": [
       "array([((1., 2.), 5), ((3., 4.), 6)],\n",
       "      dtype=[('x', [('a', '<f8'), ('b', '<f4')]), ('y', '<i4')])"
      ]
     },
     "execution_count": 14,
     "metadata": {},
     "output_type": "execute_result"
    }
   ],
   "source": [
    "#lo que yo quería hacer\n",
    "dtype = [('x', [('a', 'f8'), ('b', 'f4')]), ('y', np.int32)]\n",
    "data = np.array([((1, 2), 5), ((3, 4), 6)], dtype=dtype)\n",
    "data"
   ]
  },
  {
   "cell_type": "code",
   "execution_count": 17,
   "metadata": {},
   "outputs": [
    {
     "name": "stdout",
     "output_type": "stream",
     "text": [
      "[(1., 2.) (3., 4.)]\n",
      "[('a', '<f8'), ('b', '<f4')]\n",
      "[5 6]\n",
      "int32\n",
      "[1. 3.]\n"
     ]
    }
   ],
   "source": [
    "print(data['x'])\n",
    "print(data['x'].dtype)\n",
    "print(data['y'])\n",
    "print(data['y'].dtype)\n",
    "print(data['x']['a'])"
   ]
  },
  {
   "cell_type": "code",
   "execution_count": null,
   "metadata": {},
   "outputs": [],
   "source": []
  }
 ],
 "metadata": {
  "kernelspec": {
   "display_name": "Python 3",
   "language": "python",
   "name": "python3"
  },
  "language_info": {
   "codemirror_mode": {
    "name": "ipython",
    "version": 3
   },
   "file_extension": ".py",
   "mimetype": "text/x-python",
   "name": "python",
   "nbconvert_exporter": "python",
   "pygments_lexer": "ipython3",
   "version": "3.8.5"
  }
 },
 "nbformat": 4,
 "nbformat_minor": 4
}
