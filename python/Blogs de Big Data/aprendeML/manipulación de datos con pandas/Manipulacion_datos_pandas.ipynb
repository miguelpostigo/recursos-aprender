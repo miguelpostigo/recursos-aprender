{
 "cells": [
  {
   "cell_type": "code",
   "execution_count": 1,
   "metadata": {},
   "outputs": [],
   "source": [
    "import pandas as pd\n",
    "import numpy as np"
   ]
  },
  {
   "cell_type": "markdown",
   "metadata": {},
   "source": [
    "funciones que vamos a usar:\n",
    "\n",
    "- pd.DataFrame()\n",
    "- df.sort_values()\n",
    "- df.drop()\n",
    "- df.loc()\n",
    "- df.at()\n",
    "- df.index()\n",
    "- df.index.tolist()\n",
    "- df.apply(func, axis=1)\n",
    "- df['columna'].map( {'azul': 0, 'rojo': 1, 'verde': 2} ).astype(int)\n",
    "- df['columna'].values\n",
    "- df_index = df.set_index('columna')\n",
    "- pd.concat([df1, df2], axis=1,sort=True)\n",
    "- pd.merge() --> Merge DataFrame or named Series objects with a database-style join.\n",
    "- pd.DataFrame.agg()\n",
    "- pd.pivot_table()\n",
    "- df.fillna(0)\n",
    "- df.T\n",
    "\n",
    "Visualización:\n",
    "- histograma: \n",
    "        df[['Poblacion','Superficie']].plot.hist(bins=5,alpha=0.5)\n",
    "        plt.show()\n",
    "- gráfico de barra: \n",
    "        df.set_index('Pais')['Poblacion'].plot(kind='bar');   \n",
    "- gráfico de áreas: \n",
    "        df.set_index('Pais')['Habit_x_km2'].plot(kind='area');  \n",
    "- gráfico de barras horizontall:\n",
    "        df.set_index('Pais').plot.barh(stacked=True);\n",
    "- quesito:\n",
    "        df.set_index('Pais')['Superficie'].plot.pie();\n",
    "- scatter: \n",
    "        df.plot.scatter(x='Habit_x_km2', y='Superficie');"
   ]
  },
  {
   "cell_type": "markdown",
   "metadata": {},
   "source": [
    "# COSAS QUE VAMOS A HACER:\n",
    "\n",
    "- Crear un Dataset/DataFrame\n",
    "- ordenar columnas o filas\n",
    "    - ordenar de mayor a menor\n",
    "    - ordenar por orden alfabético\n",
    "- agregar una columna\n",
    "- agregar una fila\n",
    "- darle el mismo valor a todas las filas de una columna\n",
    "- eliminar una columna / multiples columnas\n",
    "- eliminar una fila / multiples filas\n",
    "- actualizar el valor de una fila entera\n",
    "- actualizar el valor de una celda\n",
    "- FILTRAR\n",
    "    - == / != / < / > / <= / >= / x is y / x is not y / not / and / or \n",
    "    - dos condiciones\n",
    "    - Busco por un valor específico\n",
    "    - Paises con nombre mayor a 6 letras\n",
    "    - Filtrar por True/False\n",
    "- Obtener el indice de una fila\n",
    "- Aplicar operaciones entre columnas\n",
    "- Aplicar una operacion definida\n",
    "    - aplicamos usando 1 columna\n",
    "    - Aplicamos una función enviando cada fila (todas las columnas)\n",
    "    - Aplicar enviando algunas columnas como parámetros\n",
    "- Mapeo\n",
    "- Reordenamos columnas\n",
    "\n",
    "\"-------------------------------------------------------------------------\"\n",
    "###### Join entre tablas\n",
    "- Concat usando indice\n",
    "- Left join por columna clave (merge)\n",
    "- Adicionar multiples filas desde otra Tabla con Append\n",
    "- Agrupar\n",
    "- Agrupamos por 2 variables y sumarizamos\n",
    "- Pivotar una Tabla\n",
    "- Transponer una tabla\n",
    "\n",
    "\"-------------------------------------------------------------------------\"\n",
    "###### Visualizacion\n",
    "- histograma\n",
    "- gráfico de barras\n",
    "- gráfico de áreas\n",
    "- gráfico de \n",
    "- quesitos\n",
    "- scatter\n",
    "\n",
    "\"-------------------------------------------------------------------------\"\n",
    "###### Basicos!\n",
    "- Leer un archivo csv\n",
    "- Informacion de columnas, tipos de datos y nulos\n",
    "- nombre de las columnas\n",
    "- acceso a una columna\n",
    "- Busco por indice\n",
    "- estadísticas sobre las columnas numéricas\n",
    "    - funciones básicas estadística\n",
    "- características básicas de dimensionalidad del df\n",
    "    - ver primeras n filas  (ó ultimas)\n",
    "    - dimensiones del dataframe (filas, columnas)\n",
    "    - cantidad de filas\n",
    "- Iterar un dataframe\n",
    "- sumatoria, media y cantidad de una columna\n",
    "- Revisar si tenemos nulos en la tabla\n",
    "- unicos: ver valores (unicos) de una columna\n",
    "    - cantidad de unicos\n",
    "- contabilizar por una columna\n",
    "- Obtener ultima fila\n",
    "- obtener primera columna\n",
    "- obtner una columna dentro de una condicion\n",
    "- Modificar Valor con loc"
   ]
  },
  {
   "cell_type": "markdown",
   "metadata": {},
   "source": [
    "# Creamos un Dataset"
   ]
  },
  {
   "cell_type": "code",
   "execution_count": 2,
   "metadata": {
    "scrolled": true
   },
   "outputs": [
    {
     "data": {
      "text/html": [
       "<div>\n",
       "<style scoped>\n",
       "    .dataframe tbody tr th:only-of-type {\n",
       "        vertical-align: middle;\n",
       "    }\n",
       "\n",
       "    .dataframe tbody tr th {\n",
       "        vertical-align: top;\n",
       "    }\n",
       "\n",
       "    .dataframe thead th {\n",
       "        text-align: right;\n",
       "    }\n",
       "</style>\n",
       "<table border=\"1\" class=\"dataframe\">\n",
       "  <thead>\n",
       "    <tr style=\"text-align: right;\">\n",
       "      <th></th>\n",
       "      <th>Pais</th>\n",
       "      <th>Poblacion</th>\n",
       "    </tr>\n",
       "  </thead>\n",
       "  <tbody>\n",
       "    <tr>\n",
       "      <th>0</th>\n",
       "      <td>Mexico</td>\n",
       "      <td>127212000</td>\n",
       "    </tr>\n",
       "    <tr>\n",
       "      <th>1</th>\n",
       "      <td>Argentina</td>\n",
       "      <td>45167000</td>\n",
       "    </tr>\n",
       "    <tr>\n",
       "      <th>2</th>\n",
       "      <td>Espana</td>\n",
       "      <td>47099000</td>\n",
       "    </tr>\n",
       "    <tr>\n",
       "      <th>3</th>\n",
       "      <td>Colombia</td>\n",
       "      <td>48922000</td>\n",
       "    </tr>\n",
       "  </tbody>\n",
       "</table>\n",
       "</div>"
      ],
      "text/plain": [
       "        Pais  Poblacion\n",
       "0     Mexico  127212000\n",
       "1  Argentina   45167000\n",
       "2     Espana   47099000\n",
       "3   Colombia   48922000"
      ]
     },
     "execution_count": 2,
     "metadata": {},
     "output_type": "execute_result"
    }
   ],
   "source": [
    "df = pd.DataFrame(data={\"Pais\":['Mexico','Argentina','Espana','Colombia'],\n",
    "                        \"Poblacion\":[127212000, 45167000, 47099000, 48922000]\n",
    "                       }\n",
    "                 )\n",
    "df"
   ]
  },
  {
   "cell_type": "markdown",
   "metadata": {},
   "source": [
    "### ordenamos por columnas"
   ]
  },
  {
   "cell_type": "code",
   "execution_count": 3,
   "metadata": {},
   "outputs": [
    {
     "data": {
      "text/html": [
       "<div>\n",
       "<style scoped>\n",
       "    .dataframe tbody tr th:only-of-type {\n",
       "        vertical-align: middle;\n",
       "    }\n",
       "\n",
       "    .dataframe tbody tr th {\n",
       "        vertical-align: top;\n",
       "    }\n",
       "\n",
       "    .dataframe thead th {\n",
       "        text-align: right;\n",
       "    }\n",
       "</style>\n",
       "<table border=\"1\" class=\"dataframe\">\n",
       "  <thead>\n",
       "    <tr style=\"text-align: right;\">\n",
       "      <th></th>\n",
       "      <th>Pais</th>\n",
       "      <th>Poblacion</th>\n",
       "    </tr>\n",
       "  </thead>\n",
       "  <tbody>\n",
       "    <tr>\n",
       "      <th>0</th>\n",
       "      <td>Mexico</td>\n",
       "      <td>127212000</td>\n",
       "    </tr>\n",
       "    <tr>\n",
       "      <th>3</th>\n",
       "      <td>Colombia</td>\n",
       "      <td>48922000</td>\n",
       "    </tr>\n",
       "    <tr>\n",
       "      <th>2</th>\n",
       "      <td>Espana</td>\n",
       "      <td>47099000</td>\n",
       "    </tr>\n",
       "    <tr>\n",
       "      <th>1</th>\n",
       "      <td>Argentina</td>\n",
       "      <td>45167000</td>\n",
       "    </tr>\n",
       "  </tbody>\n",
       "</table>\n",
       "</div>"
      ],
      "text/plain": [
       "        Pais  Poblacion\n",
       "0     Mexico  127212000\n",
       "3   Colombia   48922000\n",
       "2     Espana   47099000\n",
       "1  Argentina   45167000"
      ]
     },
     "execution_count": 3,
     "metadata": {},
     "output_type": "execute_result"
    }
   ],
   "source": [
    "#de mayor a menor\n",
    "df.sort_values([\"Poblacion\"],ascending = False, inplace = True, axis = 0)\n",
    "df"
   ]
  },
  {
   "cell_type": "code",
   "execution_count": 4,
   "metadata": {},
   "outputs": [],
   "source": [
    "#ordenar por filas"
   ]
  },
  {
   "cell_type": "code",
   "execution_count": 5,
   "metadata": {},
   "outputs": [
    {
     "data": {
      "text/html": [
       "<div>\n",
       "<style scoped>\n",
       "    .dataframe tbody tr th:only-of-type {\n",
       "        vertical-align: middle;\n",
       "    }\n",
       "\n",
       "    .dataframe tbody tr th {\n",
       "        vertical-align: top;\n",
       "    }\n",
       "\n",
       "    .dataframe thead th {\n",
       "        text-align: right;\n",
       "    }\n",
       "</style>\n",
       "<table border=\"1\" class=\"dataframe\">\n",
       "  <thead>\n",
       "    <tr style=\"text-align: right;\">\n",
       "      <th></th>\n",
       "      <th>Pais</th>\n",
       "      <th>Poblacion</th>\n",
       "    </tr>\n",
       "  </thead>\n",
       "  <tbody>\n",
       "    <tr>\n",
       "      <th>1</th>\n",
       "      <td>Argentina</td>\n",
       "      <td>45167000</td>\n",
       "    </tr>\n",
       "    <tr>\n",
       "      <th>3</th>\n",
       "      <td>Colombia</td>\n",
       "      <td>48922000</td>\n",
       "    </tr>\n",
       "    <tr>\n",
       "      <th>2</th>\n",
       "      <td>Espana</td>\n",
       "      <td>47099000</td>\n",
       "    </tr>\n",
       "    <tr>\n",
       "      <th>0</th>\n",
       "      <td>Mexico</td>\n",
       "      <td>127212000</td>\n",
       "    </tr>\n",
       "  </tbody>\n",
       "</table>\n",
       "</div>"
      ],
      "text/plain": [
       "        Pais  Poblacion\n",
       "1  Argentina   45167000\n",
       "3   Colombia   48922000\n",
       "2     Espana   47099000\n",
       "0     Mexico  127212000"
      ]
     },
     "execution_count": 5,
     "metadata": {},
     "output_type": "execute_result"
    }
   ],
   "source": [
    "#por orden alfabético\n",
    "df.sort_values([\"Pais\"],inplace = True)\n",
    "df"
   ]
  },
  {
   "cell_type": "markdown",
   "metadata": {},
   "source": [
    "### Agregar una columna"
   ]
  },
  {
   "cell_type": "code",
   "execution_count": 6,
   "metadata": {},
   "outputs": [
    {
     "data": {
      "text/html": [
       "<div>\n",
       "<style scoped>\n",
       "    .dataframe tbody tr th:only-of-type {\n",
       "        vertical-align: middle;\n",
       "    }\n",
       "\n",
       "    .dataframe tbody tr th {\n",
       "        vertical-align: top;\n",
       "    }\n",
       "\n",
       "    .dataframe thead th {\n",
       "        text-align: right;\n",
       "    }\n",
       "</style>\n",
       "<table border=\"1\" class=\"dataframe\">\n",
       "  <thead>\n",
       "    <tr style=\"text-align: right;\">\n",
       "      <th></th>\n",
       "      <th>Pais</th>\n",
       "      <th>Poblacion</th>\n",
       "      <th>Superficie</th>\n",
       "    </tr>\n",
       "  </thead>\n",
       "  <tbody>\n",
       "    <tr>\n",
       "      <th>1</th>\n",
       "      <td>Argentina</td>\n",
       "      <td>45167000</td>\n",
       "      <td>1964375</td>\n",
       "    </tr>\n",
       "    <tr>\n",
       "      <th>3</th>\n",
       "      <td>Colombia</td>\n",
       "      <td>48922000</td>\n",
       "      <td>2780400</td>\n",
       "    </tr>\n",
       "    <tr>\n",
       "      <th>2</th>\n",
       "      <td>Espana</td>\n",
       "      <td>47099000</td>\n",
       "      <td>505944</td>\n",
       "    </tr>\n",
       "    <tr>\n",
       "      <th>0</th>\n",
       "      <td>Mexico</td>\n",
       "      <td>127212000</td>\n",
       "      <td>1142748</td>\n",
       "    </tr>\n",
       "  </tbody>\n",
       "</table>\n",
       "</div>"
      ],
      "text/plain": [
       "        Pais  Poblacion  Superficie\n",
       "1  Argentina   45167000     1964375\n",
       "3   Colombia   48922000     2780400\n",
       "2     Espana   47099000      505944\n",
       "0     Mexico  127212000     1142748"
      ]
     },
     "execution_count": 6,
     "metadata": {},
     "output_type": "execute_result"
    }
   ],
   "source": [
    "#df[\"nombre_columna\"] = [lista_de_valores]\n",
    "df[\"Superficie\"] = [1964375, 2780400, 505944, 1142748]\n",
    "df"
   ]
  },
  {
   "cell_type": "markdown",
   "metadata": {},
   "source": [
    "### Asigno mismo valor a todas las filas en una columna nueva"
   ]
  },
  {
   "cell_type": "code",
   "execution_count": 7,
   "metadata": {},
   "outputs": [
    {
     "data": {
      "text/html": [
       "<div>\n",
       "<style scoped>\n",
       "    .dataframe tbody tr th:only-of-type {\n",
       "        vertical-align: middle;\n",
       "    }\n",
       "\n",
       "    .dataframe tbody tr th {\n",
       "        vertical-align: top;\n",
       "    }\n",
       "\n",
       "    .dataframe thead th {\n",
       "        text-align: right;\n",
       "    }\n",
       "</style>\n",
       "<table border=\"1\" class=\"dataframe\">\n",
       "  <thead>\n",
       "    <tr style=\"text-align: right;\">\n",
       "      <th></th>\n",
       "      <th>Pais</th>\n",
       "      <th>Poblacion</th>\n",
       "      <th>Superficie</th>\n",
       "      <th>Deporte</th>\n",
       "    </tr>\n",
       "  </thead>\n",
       "  <tbody>\n",
       "    <tr>\n",
       "      <th>1</th>\n",
       "      <td>Argentina</td>\n",
       "      <td>45167000</td>\n",
       "      <td>1964375</td>\n",
       "      <td>Futbol</td>\n",
       "    </tr>\n",
       "    <tr>\n",
       "      <th>3</th>\n",
       "      <td>Colombia</td>\n",
       "      <td>48922000</td>\n",
       "      <td>2780400</td>\n",
       "      <td>Futbol</td>\n",
       "    </tr>\n",
       "    <tr>\n",
       "      <th>2</th>\n",
       "      <td>Espana</td>\n",
       "      <td>47099000</td>\n",
       "      <td>505944</td>\n",
       "      <td>Futbol</td>\n",
       "    </tr>\n",
       "    <tr>\n",
       "      <th>0</th>\n",
       "      <td>Mexico</td>\n",
       "      <td>127212000</td>\n",
       "      <td>1142748</td>\n",
       "      <td>Futbol</td>\n",
       "    </tr>\n",
       "  </tbody>\n",
       "</table>\n",
       "</div>"
      ],
      "text/plain": [
       "        Pais  Poblacion  Superficie Deporte\n",
       "1  Argentina   45167000     1964375  Futbol\n",
       "3   Colombia   48922000     2780400  Futbol\n",
       "2     Espana   47099000      505944  Futbol\n",
       "0     Mexico  127212000     1142748  Futbol"
      ]
     },
     "execution_count": 7,
     "metadata": {},
     "output_type": "execute_result"
    }
   ],
   "source": [
    "df[\"Deporte\"] = \"Futbol\"\n",
    "df"
   ]
  },
  {
   "cell_type": "markdown",
   "metadata": {},
   "source": [
    "### Eliminar una columna"
   ]
  },
  {
   "cell_type": "code",
   "execution_count": 8,
   "metadata": {},
   "outputs": [
    {
     "data": {
      "text/html": [
       "<div>\n",
       "<style scoped>\n",
       "    .dataframe tbody tr th:only-of-type {\n",
       "        vertical-align: middle;\n",
       "    }\n",
       "\n",
       "    .dataframe tbody tr th {\n",
       "        vertical-align: top;\n",
       "    }\n",
       "\n",
       "    .dataframe thead th {\n",
       "        text-align: right;\n",
       "    }\n",
       "</style>\n",
       "<table border=\"1\" class=\"dataframe\">\n",
       "  <thead>\n",
       "    <tr style=\"text-align: right;\">\n",
       "      <th></th>\n",
       "      <th>Pais</th>\n",
       "      <th>Poblacion</th>\n",
       "      <th>Superficie</th>\n",
       "    </tr>\n",
       "  </thead>\n",
       "  <tbody>\n",
       "    <tr>\n",
       "      <th>1</th>\n",
       "      <td>Argentina</td>\n",
       "      <td>45167000</td>\n",
       "      <td>1964375</td>\n",
       "    </tr>\n",
       "    <tr>\n",
       "      <th>3</th>\n",
       "      <td>Colombia</td>\n",
       "      <td>48922000</td>\n",
       "      <td>2780400</td>\n",
       "    </tr>\n",
       "    <tr>\n",
       "      <th>2</th>\n",
       "      <td>Espana</td>\n",
       "      <td>47099000</td>\n",
       "      <td>505944</td>\n",
       "    </tr>\n",
       "    <tr>\n",
       "      <th>0</th>\n",
       "      <td>Mexico</td>\n",
       "      <td>127212000</td>\n",
       "      <td>1142748</td>\n",
       "    </tr>\n",
       "  </tbody>\n",
       "</table>\n",
       "</div>"
      ],
      "text/plain": [
       "        Pais  Poblacion  Superficie\n",
       "1  Argentina   45167000     1964375\n",
       "3   Colombia   48922000     2780400\n",
       "2     Espana   47099000      505944\n",
       "0     Mexico  127212000     1142748"
      ]
     },
     "execution_count": 8,
     "metadata": {},
     "output_type": "execute_result"
    }
   ],
   "source": [
    "df.drop([\"Deporte\"], axis = 1,inplace = True)\n",
    "df"
   ]
  },
  {
   "cell_type": "code",
   "execution_count": 9,
   "metadata": {},
   "outputs": [
    {
     "data": {
      "text/html": [
       "<div>\n",
       "<style scoped>\n",
       "    .dataframe tbody tr th:only-of-type {\n",
       "        vertical-align: middle;\n",
       "    }\n",
       "\n",
       "    .dataframe tbody tr th {\n",
       "        vertical-align: top;\n",
       "    }\n",
       "\n",
       "    .dataframe thead th {\n",
       "        text-align: right;\n",
       "    }\n",
       "</style>\n",
       "<table border=\"1\" class=\"dataframe\">\n",
       "  <thead>\n",
       "    <tr style=\"text-align: right;\">\n",
       "      <th></th>\n",
       "      <th>Poblacion</th>\n",
       "    </tr>\n",
       "  </thead>\n",
       "  <tbody>\n",
       "    <tr>\n",
       "      <th>1</th>\n",
       "      <td>45167000</td>\n",
       "    </tr>\n",
       "    <tr>\n",
       "      <th>3</th>\n",
       "      <td>48922000</td>\n",
       "    </tr>\n",
       "    <tr>\n",
       "      <th>2</th>\n",
       "      <td>47099000</td>\n",
       "    </tr>\n",
       "    <tr>\n",
       "      <th>0</th>\n",
       "      <td>127212000</td>\n",
       "    </tr>\n",
       "  </tbody>\n",
       "</table>\n",
       "</div>"
      ],
      "text/plain": [
       "   Poblacion\n",
       "1   45167000\n",
       "3   48922000\n",
       "2   47099000\n",
       "0  127212000"
      ]
     },
     "execution_count": 9,
     "metadata": {},
     "output_type": "execute_result"
    }
   ],
   "source": [
    "#Eliminar multiples columnas\n",
    "df.drop([\"Superficie\",\"Pais\"], axis = 1)\n",
    "#df.drop([0,2], axis = 1) --> ERROR"
   ]
  },
  {
   "cell_type": "code",
   "execution_count": 10,
   "metadata": {},
   "outputs": [
    {
     "data": {
      "text/html": [
       "<div>\n",
       "<style scoped>\n",
       "    .dataframe tbody tr th:only-of-type {\n",
       "        vertical-align: middle;\n",
       "    }\n",
       "\n",
       "    .dataframe tbody tr th {\n",
       "        vertical-align: top;\n",
       "    }\n",
       "\n",
       "    .dataframe thead th {\n",
       "        text-align: right;\n",
       "    }\n",
       "</style>\n",
       "<table border=\"1\" class=\"dataframe\">\n",
       "  <thead>\n",
       "    <tr style=\"text-align: right;\">\n",
       "      <th></th>\n",
       "      <th>Pais</th>\n",
       "      <th>Poblacion</th>\n",
       "      <th>Superficie</th>\n",
       "    </tr>\n",
       "  </thead>\n",
       "  <tbody>\n",
       "    <tr>\n",
       "      <th>1</th>\n",
       "      <td>Argentina</td>\n",
       "      <td>45167000</td>\n",
       "      <td>1964375</td>\n",
       "    </tr>\n",
       "    <tr>\n",
       "      <th>3</th>\n",
       "      <td>Colombia</td>\n",
       "      <td>48922000</td>\n",
       "      <td>2780400</td>\n",
       "    </tr>\n",
       "    <tr>\n",
       "      <th>2</th>\n",
       "      <td>Espana</td>\n",
       "      <td>47099000</td>\n",
       "      <td>505944</td>\n",
       "    </tr>\n",
       "    <tr>\n",
       "      <th>0</th>\n",
       "      <td>Mexico</td>\n",
       "      <td>127212000</td>\n",
       "      <td>1142748</td>\n",
       "    </tr>\n",
       "  </tbody>\n",
       "</table>\n",
       "</div>"
      ],
      "text/plain": [
       "        Pais  Poblacion  Superficie\n",
       "1  Argentina   45167000     1964375\n",
       "3   Colombia   48922000     2780400\n",
       "2     Espana   47099000      505944\n",
       "0     Mexico  127212000     1142748"
      ]
     },
     "execution_count": 10,
     "metadata": {},
     "output_type": "execute_result"
    }
   ],
   "source": [
    "# recuerda! como no lo asignamos, el df anterior sigue \"intacto\"\n",
    "df "
   ]
  },
  {
   "cell_type": "markdown",
   "metadata": {},
   "source": [
    "### Agregar una fila nueva al final"
   ]
  },
  {
   "cell_type": "code",
   "execution_count": 11,
   "metadata": {},
   "outputs": [
    {
     "data": {
      "text/plain": [
       "4"
      ]
     },
     "execution_count": 11,
     "metadata": {},
     "output_type": "execute_result"
    }
   ],
   "source": [
    "cantidad_filas = len(df) # obtengo la cantidad de filas\n",
    "cantidad_filas"
   ]
  },
  {
   "cell_type": "code",
   "execution_count": 12,
   "metadata": {},
   "outputs": [
    {
     "data": {
      "text/plain": [
       "(4, 3)"
      ]
     },
     "execution_count": 12,
     "metadata": {},
     "output_type": "execute_result"
    }
   ],
   "source": [
    "df.shape"
   ]
  },
  {
   "cell_type": "code",
   "execution_count": 13,
   "metadata": {},
   "outputs": [
    {
     "data": {
      "text/html": [
       "<div>\n",
       "<style scoped>\n",
       "    .dataframe tbody tr th:only-of-type {\n",
       "        vertical-align: middle;\n",
       "    }\n",
       "\n",
       "    .dataframe tbody tr th {\n",
       "        vertical-align: top;\n",
       "    }\n",
       "\n",
       "    .dataframe thead th {\n",
       "        text-align: right;\n",
       "    }\n",
       "</style>\n",
       "<table border=\"1\" class=\"dataframe\">\n",
       "  <thead>\n",
       "    <tr style=\"text-align: right;\">\n",
       "      <th></th>\n",
       "      <th>Pais</th>\n",
       "      <th>Poblacion</th>\n",
       "      <th>Superficie</th>\n",
       "    </tr>\n",
       "  </thead>\n",
       "  <tbody>\n",
       "    <tr>\n",
       "      <th>1</th>\n",
       "      <td>Argentina</td>\n",
       "      <td>45167000</td>\n",
       "      <td>1964375</td>\n",
       "    </tr>\n",
       "    <tr>\n",
       "      <th>3</th>\n",
       "      <td>Colombia</td>\n",
       "      <td>48922000</td>\n",
       "      <td>2780400</td>\n",
       "    </tr>\n",
       "    <tr>\n",
       "      <th>2</th>\n",
       "      <td>Espana</td>\n",
       "      <td>47099000</td>\n",
       "      <td>505944</td>\n",
       "    </tr>\n",
       "    <tr>\n",
       "      <th>0</th>\n",
       "      <td>Mexico</td>\n",
       "      <td>127212000</td>\n",
       "      <td>1142748</td>\n",
       "    </tr>\n",
       "    <tr>\n",
       "      <th>4</th>\n",
       "      <td>Benezuela</td>\n",
       "      <td>0</td>\n",
       "      <td>916445</td>\n",
       "    </tr>\n",
       "  </tbody>\n",
       "</table>\n",
       "</div>"
      ],
      "text/plain": [
       "        Pais  Poblacion  Superficie\n",
       "1  Argentina   45167000     1964375\n",
       "3   Colombia   48922000     2780400\n",
       "2     Espana   47099000      505944\n",
       "0     Mexico  127212000     1142748\n",
       "4  Benezuela          0      916445"
      ]
     },
     "execution_count": 13,
     "metadata": {},
     "output_type": "execute_result"
    }
   ],
   "source": [
    "df.loc[cantidad_filas] = [\"Benezuela\", 0, 916445] # Está mal escrito el pais! (lo sé)\n",
    "#cantidad_filas = len(df) \n",
    "df\n",
    "#a todo esto nos damos cuenta de que los índices estan desordenados"
   ]
  },
  {
   "cell_type": "markdown",
   "metadata": {},
   "source": [
    "### Actualizo la fila entera"
   ]
  },
  {
   "cell_type": "code",
   "execution_count": 14,
   "metadata": {},
   "outputs": [
    {
     "data": {
      "text/html": [
       "<div>\n",
       "<style scoped>\n",
       "    .dataframe tbody tr th:only-of-type {\n",
       "        vertical-align: middle;\n",
       "    }\n",
       "\n",
       "    .dataframe tbody tr th {\n",
       "        vertical-align: top;\n",
       "    }\n",
       "\n",
       "    .dataframe thead th {\n",
       "        text-align: right;\n",
       "    }\n",
       "</style>\n",
       "<table border=\"1\" class=\"dataframe\">\n",
       "  <thead>\n",
       "    <tr style=\"text-align: right;\">\n",
       "      <th></th>\n",
       "      <th>Pais</th>\n",
       "      <th>Poblacion</th>\n",
       "      <th>Superficie</th>\n",
       "    </tr>\n",
       "  </thead>\n",
       "  <tbody>\n",
       "    <tr>\n",
       "      <th>1</th>\n",
       "      <td>Argentina</td>\n",
       "      <td>45167000</td>\n",
       "      <td>1964375</td>\n",
       "    </tr>\n",
       "    <tr>\n",
       "      <th>3</th>\n",
       "      <td>Colombia</td>\n",
       "      <td>48922000</td>\n",
       "      <td>2780400</td>\n",
       "    </tr>\n",
       "    <tr>\n",
       "      <th>2</th>\n",
       "      <td>Espana</td>\n",
       "      <td>47099000</td>\n",
       "      <td>505944</td>\n",
       "    </tr>\n",
       "    <tr>\n",
       "      <th>0</th>\n",
       "      <td>Mexico</td>\n",
       "      <td>127212000</td>\n",
       "      <td>1142748</td>\n",
       "    </tr>\n",
       "    <tr>\n",
       "      <th>4</th>\n",
       "      <td>Venezuela</td>\n",
       "      <td>0</td>\n",
       "      <td>916445</td>\n",
       "    </tr>\n",
       "  </tbody>\n",
       "</table>\n",
       "</div>"
      ],
      "text/plain": [
       "        Pais  Poblacion  Superficie\n",
       "1  Argentina   45167000     1964375\n",
       "3   Colombia   48922000     2780400\n",
       "2     Espana   47099000      505944\n",
       "0     Mexico  127212000     1142748\n",
       "4  Venezuela          0      916445"
      ]
     },
     "execution_count": 14,
     "metadata": {},
     "output_type": "execute_result"
    }
   ],
   "source": [
    "df.loc[4] = [\"Venezuela\", 0, 916445]\n",
    "df"
   ]
  },
  {
   "cell_type": "markdown",
   "metadata": {},
   "source": [
    "### Actualizo una celda"
   ]
  },
  {
   "cell_type": "code",
   "execution_count": 15,
   "metadata": {},
   "outputs": [],
   "source": [
    "df.at[4,'Poblacion'] = 32423000"
   ]
  },
  {
   "cell_type": "markdown",
   "metadata": {},
   "source": [
    "### Eliminar una fila"
   ]
  },
  {
   "cell_type": "code",
   "execution_count": 16,
   "metadata": {
    "scrolled": true
   },
   "outputs": [
    {
     "data": {
      "text/html": [
       "<div>\n",
       "<style scoped>\n",
       "    .dataframe tbody tr th:only-of-type {\n",
       "        vertical-align: middle;\n",
       "    }\n",
       "\n",
       "    .dataframe tbody tr th {\n",
       "        vertical-align: top;\n",
       "    }\n",
       "\n",
       "    .dataframe thead th {\n",
       "        text-align: right;\n",
       "    }\n",
       "</style>\n",
       "<table border=\"1\" class=\"dataframe\">\n",
       "  <thead>\n",
       "    <tr style=\"text-align: right;\">\n",
       "      <th></th>\n",
       "      <th>Pais</th>\n",
       "      <th>Poblacion</th>\n",
       "      <th>Superficie</th>\n",
       "    </tr>\n",
       "  </thead>\n",
       "  <tbody>\n",
       "    <tr>\n",
       "      <th>1</th>\n",
       "      <td>Argentina</td>\n",
       "      <td>45167000</td>\n",
       "      <td>1964375</td>\n",
       "    </tr>\n",
       "    <tr>\n",
       "      <th>2</th>\n",
       "      <td>Espana</td>\n",
       "      <td>47099000</td>\n",
       "      <td>505944</td>\n",
       "    </tr>\n",
       "    <tr>\n",
       "      <th>0</th>\n",
       "      <td>Mexico</td>\n",
       "      <td>127212000</td>\n",
       "      <td>1142748</td>\n",
       "    </tr>\n",
       "    <tr>\n",
       "      <th>4</th>\n",
       "      <td>Venezuela</td>\n",
       "      <td>32423000</td>\n",
       "      <td>916445</td>\n",
       "    </tr>\n",
       "  </tbody>\n",
       "</table>\n",
       "</div>"
      ],
      "text/plain": [
       "        Pais  Poblacion  Superficie\n",
       "1  Argentina   45167000     1964375\n",
       "2     Espana   47099000      505944\n",
       "0     Mexico  127212000     1142748\n",
       "4  Venezuela   32423000      916445"
      ]
     },
     "execution_count": 16,
     "metadata": {},
     "output_type": "execute_result"
    }
   ],
   "source": [
    "df.drop([3], axis = 0)"
   ]
  },
  {
   "cell_type": "code",
   "execution_count": 17,
   "metadata": {},
   "outputs": [
    {
     "data": {
      "text/html": [
       "<div>\n",
       "<style scoped>\n",
       "    .dataframe tbody tr th:only-of-type {\n",
       "        vertical-align: middle;\n",
       "    }\n",
       "\n",
       "    .dataframe tbody tr th {\n",
       "        vertical-align: top;\n",
       "    }\n",
       "\n",
       "    .dataframe thead th {\n",
       "        text-align: right;\n",
       "    }\n",
       "</style>\n",
       "<table border=\"1\" class=\"dataframe\">\n",
       "  <thead>\n",
       "    <tr style=\"text-align: right;\">\n",
       "      <th></th>\n",
       "      <th>Pais</th>\n",
       "      <th>Poblacion</th>\n",
       "      <th>Superficie</th>\n",
       "    </tr>\n",
       "  </thead>\n",
       "  <tbody>\n",
       "    <tr>\n",
       "      <th>2</th>\n",
       "      <td>Espana</td>\n",
       "      <td>47099000</td>\n",
       "      <td>505944</td>\n",
       "    </tr>\n",
       "    <tr>\n",
       "      <th>0</th>\n",
       "      <td>Mexico</td>\n",
       "      <td>127212000</td>\n",
       "      <td>1142748</td>\n",
       "    </tr>\n",
       "    <tr>\n",
       "      <th>4</th>\n",
       "      <td>Venezuela</td>\n",
       "      <td>32423000</td>\n",
       "      <td>916445</td>\n",
       "    </tr>\n",
       "  </tbody>\n",
       "</table>\n",
       "</div>"
      ],
      "text/plain": [
       "        Pais  Poblacion  Superficie\n",
       "2     Espana   47099000      505944\n",
       "0     Mexico  127212000     1142748\n",
       "4  Venezuela   32423000      916445"
      ]
     },
     "execution_count": 17,
     "metadata": {},
     "output_type": "execute_result"
    }
   ],
   "source": [
    "#eliminar múltiples filas\n",
    "df.drop([3,1])"
   ]
  },
  {
   "cell_type": "code",
   "execution_count": 18,
   "metadata": {},
   "outputs": [
    {
     "data": {
      "text/html": [
       "<div>\n",
       "<style scoped>\n",
       "    .dataframe tbody tr th:only-of-type {\n",
       "        vertical-align: middle;\n",
       "    }\n",
       "\n",
       "    .dataframe tbody tr th {\n",
       "        vertical-align: top;\n",
       "    }\n",
       "\n",
       "    .dataframe thead th {\n",
       "        text-align: right;\n",
       "    }\n",
       "</style>\n",
       "<table border=\"1\" class=\"dataframe\">\n",
       "  <thead>\n",
       "    <tr style=\"text-align: right;\">\n",
       "      <th></th>\n",
       "      <th>Pais</th>\n",
       "      <th>Poblacion</th>\n",
       "      <th>Superficie</th>\n",
       "    </tr>\n",
       "  </thead>\n",
       "  <tbody>\n",
       "    <tr>\n",
       "      <th>1</th>\n",
       "      <td>Argentina</td>\n",
       "      <td>45167000</td>\n",
       "      <td>1964375</td>\n",
       "    </tr>\n",
       "    <tr>\n",
       "      <th>3</th>\n",
       "      <td>Colombia</td>\n",
       "      <td>48922000</td>\n",
       "      <td>2780400</td>\n",
       "    </tr>\n",
       "    <tr>\n",
       "      <th>2</th>\n",
       "      <td>Espana</td>\n",
       "      <td>47099000</td>\n",
       "      <td>505944</td>\n",
       "    </tr>\n",
       "    <tr>\n",
       "      <th>0</th>\n",
       "      <td>Mexico</td>\n",
       "      <td>127212000</td>\n",
       "      <td>1142748</td>\n",
       "    </tr>\n",
       "    <tr>\n",
       "      <th>4</th>\n",
       "      <td>Venezuela</td>\n",
       "      <td>32423000</td>\n",
       "      <td>916445</td>\n",
       "    </tr>\n",
       "  </tbody>\n",
       "</table>\n",
       "</div>"
      ],
      "text/plain": [
       "        Pais  Poblacion  Superficie\n",
       "1  Argentina   45167000     1964375\n",
       "3   Colombia   48922000     2780400\n",
       "2     Espana   47099000      505944\n",
       "0     Mexico  127212000     1142748\n",
       "4  Venezuela   32423000      916445"
      ]
     },
     "execution_count": 18,
     "metadata": {},
     "output_type": "execute_result"
    }
   ],
   "source": [
    "df #recordemos que no he guardado ningun drop"
   ]
  },
  {
   "cell_type": "markdown",
   "metadata": {},
   "source": [
    "# Filtrar"
   ]
  },
  {
   "cell_type": "markdown",
   "metadata": {},
   "source": [
    "### Una condición\n",
    "Paises con mas de 46 millones de habitantes"
   ]
  },
  {
   "cell_type": "code",
   "execution_count": 19,
   "metadata": {},
   "outputs": [
    {
     "data": {
      "text/html": [
       "<div>\n",
       "<style scoped>\n",
       "    .dataframe tbody tr th:only-of-type {\n",
       "        vertical-align: middle;\n",
       "    }\n",
       "\n",
       "    .dataframe tbody tr th {\n",
       "        vertical-align: top;\n",
       "    }\n",
       "\n",
       "    .dataframe thead th {\n",
       "        text-align: right;\n",
       "    }\n",
       "</style>\n",
       "<table border=\"1\" class=\"dataframe\">\n",
       "  <thead>\n",
       "    <tr style=\"text-align: right;\">\n",
       "      <th></th>\n",
       "      <th>Pais</th>\n",
       "      <th>Poblacion</th>\n",
       "      <th>Superficie</th>\n",
       "    </tr>\n",
       "  </thead>\n",
       "  <tbody>\n",
       "    <tr>\n",
       "      <th>3</th>\n",
       "      <td>Colombia</td>\n",
       "      <td>48922000</td>\n",
       "      <td>2780400</td>\n",
       "    </tr>\n",
       "    <tr>\n",
       "      <th>2</th>\n",
       "      <td>Espana</td>\n",
       "      <td>47099000</td>\n",
       "      <td>505944</td>\n",
       "    </tr>\n",
       "    <tr>\n",
       "      <th>0</th>\n",
       "      <td>Mexico</td>\n",
       "      <td>127212000</td>\n",
       "      <td>1142748</td>\n",
       "    </tr>\n",
       "  </tbody>\n",
       "</table>\n",
       "</div>"
      ],
      "text/plain": [
       "       Pais  Poblacion  Superficie\n",
       "3  Colombia   48922000     2780400\n",
       "2    Espana   47099000      505944\n",
       "0    Mexico  127212000     1142748"
      ]
     },
     "execution_count": 19,
     "metadata": {},
     "output_type": "execute_result"
    }
   ],
   "source": [
    "df_mas46 = df[(df['Poblacion'] > 46000000)]\n",
    "df_mas46"
   ]
  },
  {
   "cell_type": "markdown",
   "metadata": {},
   "source": [
    "### varias condiciones\n",
    "Paises con mas de 46 millones y superficie menor a 600.000 km2"
   ]
  },
  {
   "cell_type": "code",
   "execution_count": 20,
   "metadata": {},
   "outputs": [
    {
     "data": {
      "text/html": [
       "<div>\n",
       "<style scoped>\n",
       "    .dataframe tbody tr th:only-of-type {\n",
       "        vertical-align: middle;\n",
       "    }\n",
       "\n",
       "    .dataframe tbody tr th {\n",
       "        vertical-align: top;\n",
       "    }\n",
       "\n",
       "    .dataframe thead th {\n",
       "        text-align: right;\n",
       "    }\n",
       "</style>\n",
       "<table border=\"1\" class=\"dataframe\">\n",
       "  <thead>\n",
       "    <tr style=\"text-align: right;\">\n",
       "      <th></th>\n",
       "      <th>Pais</th>\n",
       "      <th>Poblacion</th>\n",
       "      <th>Superficie</th>\n",
       "    </tr>\n",
       "  </thead>\n",
       "  <tbody>\n",
       "    <tr>\n",
       "      <th>2</th>\n",
       "      <td>Espana</td>\n",
       "      <td>47099000</td>\n",
       "      <td>505944</td>\n",
       "    </tr>\n",
       "  </tbody>\n",
       "</table>\n",
       "</div>"
      ],
      "text/plain": [
       "     Pais  Poblacion  Superficie\n",
       "2  Espana   47099000      505944"
      ]
     },
     "execution_count": 20,
     "metadata": {},
     "output_type": "execute_result"
    }
   ],
   "source": [
    "df_doble_filtro = df[(df['Poblacion'] > 46000000) & (df['Superficie'] < 600000)]\n",
    "df_doble_filtro"
   ]
  },
  {
   "cell_type": "markdown",
   "metadata": {},
   "source": [
    "#filtro por un valor específico\n",
    "pais con nombre Colombia"
   ]
  },
  {
   "cell_type": "code",
   "execution_count": 21,
   "metadata": {},
   "outputs": [
    {
     "data": {
      "text/html": [
       "<div>\n",
       "<style scoped>\n",
       "    .dataframe tbody tr th:only-of-type {\n",
       "        vertical-align: middle;\n",
       "    }\n",
       "\n",
       "    .dataframe tbody tr th {\n",
       "        vertical-align: top;\n",
       "    }\n",
       "\n",
       "    .dataframe thead th {\n",
       "        text-align: right;\n",
       "    }\n",
       "</style>\n",
       "<table border=\"1\" class=\"dataframe\">\n",
       "  <thead>\n",
       "    <tr style=\"text-align: right;\">\n",
       "      <th></th>\n",
       "      <th>Pais</th>\n",
       "      <th>Poblacion</th>\n",
       "      <th>Superficie</th>\n",
       "    </tr>\n",
       "  </thead>\n",
       "  <tbody>\n",
       "    <tr>\n",
       "      <th>3</th>\n",
       "      <td>Colombia</td>\n",
       "      <td>48922000</td>\n",
       "      <td>2780400</td>\n",
       "    </tr>\n",
       "  </tbody>\n",
       "</table>\n",
       "</div>"
      ],
      "text/plain": [
       "       Pais  Poblacion  Superficie\n",
       "3  Colombia   48922000     2780400"
      ]
     },
     "execution_count": 21,
     "metadata": {},
     "output_type": "execute_result"
    }
   ],
   "source": [
    "df_colombia = df[df['Pais'] == 'Colombia']\n",
    "df_colombia"
   ]
  },
  {
   "cell_type": "markdown",
   "metadata": {},
   "source": [
    "### filtro por strings\n",
    "paises con nombre mayor a 6 letras"
   ]
  },
  {
   "cell_type": "code",
   "execution_count": 22,
   "metadata": {},
   "outputs": [
    {
     "data": {
      "text/html": [
       "<div>\n",
       "<style scoped>\n",
       "    .dataframe tbody tr th:only-of-type {\n",
       "        vertical-align: middle;\n",
       "    }\n",
       "\n",
       "    .dataframe tbody tr th {\n",
       "        vertical-align: top;\n",
       "    }\n",
       "\n",
       "    .dataframe thead th {\n",
       "        text-align: right;\n",
       "    }\n",
       "</style>\n",
       "<table border=\"1\" class=\"dataframe\">\n",
       "  <thead>\n",
       "    <tr style=\"text-align: right;\">\n",
       "      <th></th>\n",
       "      <th>Pais</th>\n",
       "      <th>Poblacion</th>\n",
       "      <th>Superficie</th>\n",
       "    </tr>\n",
       "  </thead>\n",
       "  <tbody>\n",
       "    <tr>\n",
       "      <th>1</th>\n",
       "      <td>Argentina</td>\n",
       "      <td>45167000</td>\n",
       "      <td>1964375</td>\n",
       "    </tr>\n",
       "    <tr>\n",
       "      <th>3</th>\n",
       "      <td>Colombia</td>\n",
       "      <td>48922000</td>\n",
       "      <td>2780400</td>\n",
       "    </tr>\n",
       "    <tr>\n",
       "      <th>4</th>\n",
       "      <td>Venezuela</td>\n",
       "      <td>32423000</td>\n",
       "      <td>916445</td>\n",
       "    </tr>\n",
       "  </tbody>\n",
       "</table>\n",
       "</div>"
      ],
      "text/plain": [
       "        Pais  Poblacion  Superficie\n",
       "1  Argentina   45167000     1964375\n",
       "3   Colombia   48922000     2780400\n",
       "4  Venezuela   32423000      916445"
      ]
     },
     "execution_count": 22,
     "metadata": {},
     "output_type": "execute_result"
    }
   ],
   "source": [
    "nombre_largo = df[df['Pais'].str.len() > 6]\n",
    "nombre_largo"
   ]
  },
  {
   "cell_type": "markdown",
   "metadata": {},
   "source": [
    "###### paises que contienen la letra 'e'"
   ]
  },
  {
   "cell_type": "code",
   "execution_count": 23,
   "metadata": {},
   "outputs": [
    {
     "data": {
      "text/html": [
       "<div>\n",
       "<style scoped>\n",
       "    .dataframe tbody tr th:only-of-type {\n",
       "        vertical-align: middle;\n",
       "    }\n",
       "\n",
       "    .dataframe tbody tr th {\n",
       "        vertical-align: top;\n",
       "    }\n",
       "\n",
       "    .dataframe thead th {\n",
       "        text-align: right;\n",
       "    }\n",
       "</style>\n",
       "<table border=\"1\" class=\"dataframe\">\n",
       "  <thead>\n",
       "    <tr style=\"text-align: right;\">\n",
       "      <th></th>\n",
       "      <th>Pais</th>\n",
       "      <th>Poblacion</th>\n",
       "      <th>Superficie</th>\n",
       "    </tr>\n",
       "  </thead>\n",
       "  <tbody>\n",
       "    <tr>\n",
       "      <th>1</th>\n",
       "      <td>Argentina</td>\n",
       "      <td>45167000</td>\n",
       "      <td>1964375</td>\n",
       "    </tr>\n",
       "    <tr>\n",
       "      <th>0</th>\n",
       "      <td>Mexico</td>\n",
       "      <td>127212000</td>\n",
       "      <td>1142748</td>\n",
       "    </tr>\n",
       "    <tr>\n",
       "      <th>4</th>\n",
       "      <td>Venezuela</td>\n",
       "      <td>32423000</td>\n",
       "      <td>916445</td>\n",
       "    </tr>\n",
       "  </tbody>\n",
       "</table>\n",
       "</div>"
      ],
      "text/plain": [
       "        Pais  Poblacion  Superficie\n",
       "1  Argentina   45167000     1964375\n",
       "0     Mexico  127212000     1142748\n",
       "4  Venezuela   32423000      916445"
      ]
     },
     "execution_count": 23,
     "metadata": {},
     "output_type": "execute_result"
    }
   ],
   "source": [
    "pais_e = df[df['Pais'].str.contains('e')]\n",
    "pais_e"
   ]
  },
  {
   "cell_type": "code",
   "execution_count": 24,
   "metadata": {},
   "outputs": [
    {
     "data": {
      "text/html": [
       "<div>\n",
       "<style scoped>\n",
       "    .dataframe tbody tr th:only-of-type {\n",
       "        vertical-align: middle;\n",
       "    }\n",
       "\n",
       "    .dataframe tbody tr th {\n",
       "        vertical-align: top;\n",
       "    }\n",
       "\n",
       "    .dataframe thead th {\n",
       "        text-align: right;\n",
       "    }\n",
       "</style>\n",
       "<table border=\"1\" class=\"dataframe\">\n",
       "  <thead>\n",
       "    <tr style=\"text-align: right;\">\n",
       "      <th></th>\n",
       "      <th>Pais</th>\n",
       "      <th>Poblacion</th>\n",
       "      <th>Superficie</th>\n",
       "    </tr>\n",
       "  </thead>\n",
       "  <tbody>\n",
       "    <tr>\n",
       "      <th>1</th>\n",
       "      <td>Argentina</td>\n",
       "      <td>45167000</td>\n",
       "      <td>1964375</td>\n",
       "    </tr>\n",
       "    <tr>\n",
       "      <th>3</th>\n",
       "      <td>Colombia</td>\n",
       "      <td>48922000</td>\n",
       "      <td>2780400</td>\n",
       "    </tr>\n",
       "    <tr>\n",
       "      <th>2</th>\n",
       "      <td>Espana</td>\n",
       "      <td>47099000</td>\n",
       "      <td>505944</td>\n",
       "    </tr>\n",
       "    <tr>\n",
       "      <th>0</th>\n",
       "      <td>Mexico</td>\n",
       "      <td>127212000</td>\n",
       "      <td>1142748</td>\n",
       "    </tr>\n",
       "    <tr>\n",
       "      <th>4</th>\n",
       "      <td>Venezuela</td>\n",
       "      <td>32423000</td>\n",
       "      <td>916445</td>\n",
       "    </tr>\n",
       "  </tbody>\n",
       "</table>\n",
       "</div>"
      ],
      "text/plain": [
       "        Pais  Poblacion  Superficie\n",
       "1  Argentina   45167000     1964375\n",
       "3   Colombia   48922000     2780400\n",
       "2     Espana   47099000      505944\n",
       "0     Mexico  127212000     1142748\n",
       "4  Venezuela   32423000      916445"
      ]
     },
     "execution_count": 24,
     "metadata": {},
     "output_type": "execute_result"
    }
   ],
   "source": [
    "#observamos que en el filtro anterior no aparece 'España', porque Python es un lenguage muysensible\n",
    "#en 'España' aparece la 'E', no la 'e'\n",
    "df"
   ]
  },
  {
   "cell_type": "markdown",
   "metadata": {},
   "source": [
    "#### filtrar por True / False"
   ]
  },
  {
   "cell_type": "markdown",
   "metadata": {},
   "source": [
    "En realidad, la estructura del FILTRADO es la siguiente:\n",
    "\n",
    "cond = df['columna'] < 45 #boolean array / array de Trues y Falses\n",
    "\n",
    "df[cond]"
   ]
  },
  {
   "cell_type": "code",
   "execution_count": 25,
   "metadata": {},
   "outputs": [
    {
     "name": "stdout",
     "output_type": "stream",
     "text": [
      "1    False\n",
      "3     True\n",
      "2     True\n",
      "0     True\n",
      "4    False\n",
      "Name: Poblacion, dtype: bool\n",
      "---------------------\n",
      "1    False\n",
      "3    False\n",
      "2     True\n",
      "0    False\n",
      "4    False\n",
      "dtype: bool\n",
      "---------------------\n",
      "1    False\n",
      "3     True\n",
      "2    False\n",
      "0    False\n",
      "4    False\n",
      "Name: Pais, dtype: bool\n",
      "---------------------\n",
      "1     True\n",
      "3     True\n",
      "2    False\n",
      "0    False\n",
      "4     True\n",
      "Name: Pais, dtype: bool\n",
      "---------------------\n",
      "1     True\n",
      "3    False\n",
      "2    False\n",
      "0     True\n",
      "4     True\n",
      "Name: Pais, dtype: bool\n"
     ]
    }
   ],
   "source": [
    "print((df['Poblacion'] > 46000000))\n",
    "print(\"---------------------\")\n",
    "print((df['Poblacion'] > 46000000) & (df['Superficie'] < 600000))\n",
    "print(\"---------------------\")\n",
    "print(df['Pais'] == 'Colombia')\n",
    "print(\"---------------------\")\n",
    "print(df['Pais'].str.len() > 6)\n",
    "print(\"---------------------\")\n",
    "print(df['Pais'].str.contains('e'))"
   ]
  },
  {
   "cell_type": "code",
   "execution_count": 26,
   "metadata": {},
   "outputs": [
    {
     "data": {
      "text/html": [
       "<div>\n",
       "<style scoped>\n",
       "    .dataframe tbody tr th:only-of-type {\n",
       "        vertical-align: middle;\n",
       "    }\n",
       "\n",
       "    .dataframe tbody tr th {\n",
       "        vertical-align: top;\n",
       "    }\n",
       "\n",
       "    .dataframe thead th {\n",
       "        text-align: right;\n",
       "    }\n",
       "</style>\n",
       "<table border=\"1\" class=\"dataframe\">\n",
       "  <thead>\n",
       "    <tr style=\"text-align: right;\">\n",
       "      <th></th>\n",
       "      <th>Pais</th>\n",
       "      <th>Poblacion</th>\n",
       "      <th>Superficie</th>\n",
       "    </tr>\n",
       "  </thead>\n",
       "  <tbody>\n",
       "    <tr>\n",
       "      <th>1</th>\n",
       "      <td>Argentina</td>\n",
       "      <td>45167000</td>\n",
       "      <td>1964375</td>\n",
       "    </tr>\n",
       "    <tr>\n",
       "      <th>0</th>\n",
       "      <td>Mexico</td>\n",
       "      <td>127212000</td>\n",
       "      <td>1142748</td>\n",
       "    </tr>\n",
       "  </tbody>\n",
       "</table>\n",
       "</div>"
      ],
      "text/plain": [
       "        Pais  Poblacion  Superficie\n",
       "1  Argentina   45167000     1964375\n",
       "0     Mexico  127212000     1142748"
      ]
     },
     "execution_count": 26,
     "metadata": {},
     "output_type": "execute_result"
    }
   ],
   "source": [
    "#ejemeplo, solo quiero coger a Argentina y a México\n",
    "condicion_ag_mex = [True, False,False,True,False]\n",
    "df_ag_mex = df[[True, False,False,True,False]]\n",
    "df_ag_mex = df[condicion_ag_mex]\n",
    "df_ag_mex"
   ]
  },
  {
   "cell_type": "markdown",
   "metadata": {},
   "source": [
    "## Obtener el indice de una fila"
   ]
  },
  {
   "cell_type": "code",
   "execution_count": 27,
   "metadata": {},
   "outputs": [
    {
     "data": {
      "text/html": [
       "<div>\n",
       "<style scoped>\n",
       "    .dataframe tbody tr th:only-of-type {\n",
       "        vertical-align: middle;\n",
       "    }\n",
       "\n",
       "    .dataframe tbody tr th {\n",
       "        vertical-align: top;\n",
       "    }\n",
       "\n",
       "    .dataframe thead th {\n",
       "        text-align: right;\n",
       "    }\n",
       "</style>\n",
       "<table border=\"1\" class=\"dataframe\">\n",
       "  <thead>\n",
       "    <tr style=\"text-align: right;\">\n",
       "      <th></th>\n",
       "      <th>Pais</th>\n",
       "      <th>Poblacion</th>\n",
       "      <th>Superficie</th>\n",
       "    </tr>\n",
       "  </thead>\n",
       "  <tbody>\n",
       "    <tr>\n",
       "      <th>1</th>\n",
       "      <td>Argentina</td>\n",
       "      <td>45167000</td>\n",
       "      <td>1964375</td>\n",
       "    </tr>\n",
       "    <tr>\n",
       "      <th>3</th>\n",
       "      <td>Colombia</td>\n",
       "      <td>48922000</td>\n",
       "      <td>2780400</td>\n",
       "    </tr>\n",
       "    <tr>\n",
       "      <th>2</th>\n",
       "      <td>Espana</td>\n",
       "      <td>47099000</td>\n",
       "      <td>505944</td>\n",
       "    </tr>\n",
       "    <tr>\n",
       "      <th>0</th>\n",
       "      <td>Mexico</td>\n",
       "      <td>127212000</td>\n",
       "      <td>1142748</td>\n",
       "    </tr>\n",
       "    <tr>\n",
       "      <th>4</th>\n",
       "      <td>Venezuela</td>\n",
       "      <td>32423000</td>\n",
       "      <td>916445</td>\n",
       "    </tr>\n",
       "  </tbody>\n",
       "</table>\n",
       "</div>"
      ],
      "text/plain": [
       "        Pais  Poblacion  Superficie\n",
       "1  Argentina   45167000     1964375\n",
       "3   Colombia   48922000     2780400\n",
       "2     Espana   47099000      505944\n",
       "0     Mexico  127212000     1142748\n",
       "4  Venezuela   32423000      916445"
      ]
     },
     "execution_count": 27,
     "metadata": {},
     "output_type": "execute_result"
    }
   ],
   "source": [
    "df"
   ]
  },
  {
   "cell_type": "code",
   "execution_count": 28,
   "metadata": {},
   "outputs": [
    {
     "data": {
      "text/plain": [
       "2"
      ]
     },
     "execution_count": 28,
     "metadata": {},
     "output_type": "execute_result"
    }
   ],
   "source": [
    "#no es tan fácil como hacer:\n",
    "df.index.tolist()[2]"
   ]
  },
  {
   "cell_type": "code",
   "execution_count": 29,
   "metadata": {},
   "outputs": [
    {
     "data": {
      "text/plain": [
       "3"
      ]
     },
     "execution_count": 29,
     "metadata": {},
     "output_type": "execute_result"
    }
   ],
   "source": [
    "#suponiendo que tenemos miles y miles de filas, tendremos que hacer algún tipo de filtrado antes\n",
    "por_nombre = df[ df['Pais'] == 'Colombia' ]\n",
    "por_nombre.index.tolist() #me devolverá un listado de todos los índices del df -->df filtrado del anterior\n",
    "por_nombre.index.tolist()[0] #me devolverá el primer indice de la lista"
   ]
  },
  {
   "cell_type": "markdown",
   "metadata": {},
   "source": [
    "# Aplicar operaciones entre columnas"
   ]
  },
  {
   "cell_type": "markdown",
   "metadata": {},
   "source": [
    "#### agregar una nueva columna como operación entre otras columnas"
   ]
  },
  {
   "cell_type": "code",
   "execution_count": 30,
   "metadata": {},
   "outputs": [
    {
     "data": {
      "text/html": [
       "<div>\n",
       "<style scoped>\n",
       "    .dataframe tbody tr th:only-of-type {\n",
       "        vertical-align: middle;\n",
       "    }\n",
       "\n",
       "    .dataframe tbody tr th {\n",
       "        vertical-align: top;\n",
       "    }\n",
       "\n",
       "    .dataframe thead th {\n",
       "        text-align: right;\n",
       "    }\n",
       "</style>\n",
       "<table border=\"1\" class=\"dataframe\">\n",
       "  <thead>\n",
       "    <tr style=\"text-align: right;\">\n",
       "      <th></th>\n",
       "      <th>Pais</th>\n",
       "      <th>Poblacion</th>\n",
       "      <th>Superficie</th>\n",
       "      <th>Habit_x_km2</th>\n",
       "    </tr>\n",
       "  </thead>\n",
       "  <tbody>\n",
       "    <tr>\n",
       "      <th>3</th>\n",
       "      <td>Colombia</td>\n",
       "      <td>48922000</td>\n",
       "      <td>2780400</td>\n",
       "      <td>17</td>\n",
       "    </tr>\n",
       "    <tr>\n",
       "      <th>1</th>\n",
       "      <td>Argentina</td>\n",
       "      <td>45167000</td>\n",
       "      <td>1964375</td>\n",
       "      <td>22</td>\n",
       "    </tr>\n",
       "    <tr>\n",
       "      <th>4</th>\n",
       "      <td>Venezuela</td>\n",
       "      <td>32423000</td>\n",
       "      <td>916445</td>\n",
       "      <td>35</td>\n",
       "    </tr>\n",
       "    <tr>\n",
       "      <th>2</th>\n",
       "      <td>Espana</td>\n",
       "      <td>47099000</td>\n",
       "      <td>505944</td>\n",
       "      <td>93</td>\n",
       "    </tr>\n",
       "    <tr>\n",
       "      <th>0</th>\n",
       "      <td>Mexico</td>\n",
       "      <td>127212000</td>\n",
       "      <td>1142748</td>\n",
       "      <td>111</td>\n",
       "    </tr>\n",
       "  </tbody>\n",
       "</table>\n",
       "</div>"
      ],
      "text/plain": [
       "        Pais  Poblacion  Superficie  Habit_x_km2\n",
       "3   Colombia   48922000     2780400           17\n",
       "1  Argentina   45167000     1964375           22\n",
       "4  Venezuela   32423000      916445           35\n",
       "2     Espana   47099000      505944           93\n",
       "0     Mexico  127212000     1142748          111"
      ]
     },
     "execution_count": 30,
     "metadata": {},
     "output_type": "execute_result"
    }
   ],
   "source": [
    "df['Habit_x_km2'] = (df['Poblacion']/df['Superficie']).astype(int)\n",
    "df.sort_values(['Habit_x_km2'])"
   ]
  },
  {
   "cell_type": "markdown",
   "metadata": {},
   "source": [
    "## Aplicar una operacion definida"
   ]
  },
  {
   "cell_type": "code",
   "execution_count": 31,
   "metadata": {},
   "outputs": [],
   "source": [
    "def crear_codigo(name):\n",
    "    name = name.upper() #paso a mayúsculas\n",
    "    name = name[0:4] #primeras 4 char\n",
    "    return name\n"
   ]
  },
  {
   "cell_type": "markdown",
   "metadata": {},
   "source": [
    "### a una columna"
   ]
  },
  {
   "cell_type": "code",
   "execution_count": 32,
   "metadata": {},
   "outputs": [
    {
     "data": {
      "text/html": [
       "<div>\n",
       "<style scoped>\n",
       "    .dataframe tbody tr th:only-of-type {\n",
       "        vertical-align: middle;\n",
       "    }\n",
       "\n",
       "    .dataframe tbody tr th {\n",
       "        vertical-align: top;\n",
       "    }\n",
       "\n",
       "    .dataframe thead th {\n",
       "        text-align: right;\n",
       "    }\n",
       "</style>\n",
       "<table border=\"1\" class=\"dataframe\">\n",
       "  <thead>\n",
       "    <tr style=\"text-align: right;\">\n",
       "      <th></th>\n",
       "      <th>Pais</th>\n",
       "      <th>Poblacion</th>\n",
       "      <th>Superficie</th>\n",
       "      <th>Habit_x_km2</th>\n",
       "      <th>Codigo</th>\n",
       "    </tr>\n",
       "  </thead>\n",
       "  <tbody>\n",
       "    <tr>\n",
       "      <th>1</th>\n",
       "      <td>Argentina</td>\n",
       "      <td>45167000</td>\n",
       "      <td>1964375</td>\n",
       "      <td>22</td>\n",
       "      <td>ARGE</td>\n",
       "    </tr>\n",
       "    <tr>\n",
       "      <th>3</th>\n",
       "      <td>Colombia</td>\n",
       "      <td>48922000</td>\n",
       "      <td>2780400</td>\n",
       "      <td>17</td>\n",
       "      <td>COLO</td>\n",
       "    </tr>\n",
       "    <tr>\n",
       "      <th>2</th>\n",
       "      <td>Espana</td>\n",
       "      <td>47099000</td>\n",
       "      <td>505944</td>\n",
       "      <td>93</td>\n",
       "      <td>ESPA</td>\n",
       "    </tr>\n",
       "    <tr>\n",
       "      <th>0</th>\n",
       "      <td>Mexico</td>\n",
       "      <td>127212000</td>\n",
       "      <td>1142748</td>\n",
       "      <td>111</td>\n",
       "      <td>MEXI</td>\n",
       "    </tr>\n",
       "    <tr>\n",
       "      <th>4</th>\n",
       "      <td>Venezuela</td>\n",
       "      <td>32423000</td>\n",
       "      <td>916445</td>\n",
       "      <td>35</td>\n",
       "      <td>VENE</td>\n",
       "    </tr>\n",
       "  </tbody>\n",
       "</table>\n",
       "</div>"
      ],
      "text/plain": [
       "        Pais  Poblacion  Superficie  Habit_x_km2 Codigo\n",
       "1  Argentina   45167000     1964375           22   ARGE\n",
       "3   Colombia   48922000     2780400           17   COLO\n",
       "2     Espana   47099000      505944           93   ESPA\n",
       "0     Mexico  127212000     1142748          111   MEXI\n",
       "4  Venezuela   32423000      916445           35   VENE"
      ]
     },
     "execution_count": 32,
     "metadata": {},
     "output_type": "execute_result"
    }
   ],
   "source": [
    "df['Codigo'] = df['Pais'].apply(crear_codigo)\n",
    "df"
   ]
  },
  {
   "cell_type": "markdown",
   "metadata": {},
   "source": [
    "### a cada fila (todas las columnas)"
   ]
  },
  {
   "cell_type": "code",
   "execution_count": 33,
   "metadata": {},
   "outputs": [],
   "source": [
    "#añadir una categoría que clasifique a la población en\n",
    "#A: si poblacion > 46000000 y Habit_x_km2 < 50\n",
    "#B: si poblacion > 46000000 y Habit_x_km2 > 50\n",
    "#C: si poblacion < 46000000\n",
    "def categoria(fila):\n",
    "    pob = fila['Poblacion']\n",
    "    habit = fila['Habit_x_km2']\n",
    "    if pob > 46000000:\n",
    "        if habit <50:\n",
    "            return 'A'\n",
    "        else:\n",
    "            return 'B'\n",
    "        \n",
    "    return 'C'"
   ]
  },
  {
   "cell_type": "code",
   "execution_count": 34,
   "metadata": {},
   "outputs": [
    {
     "data": {
      "text/html": [
       "<div>\n",
       "<style scoped>\n",
       "    .dataframe tbody tr th:only-of-type {\n",
       "        vertical-align: middle;\n",
       "    }\n",
       "\n",
       "    .dataframe tbody tr th {\n",
       "        vertical-align: top;\n",
       "    }\n",
       "\n",
       "    .dataframe thead th {\n",
       "        text-align: right;\n",
       "    }\n",
       "</style>\n",
       "<table border=\"1\" class=\"dataframe\">\n",
       "  <thead>\n",
       "    <tr style=\"text-align: right;\">\n",
       "      <th></th>\n",
       "      <th>Pais</th>\n",
       "      <th>Poblacion</th>\n",
       "      <th>Superficie</th>\n",
       "      <th>Habit_x_km2</th>\n",
       "      <th>Codigo</th>\n",
       "      <th>Categoria</th>\n",
       "    </tr>\n",
       "  </thead>\n",
       "  <tbody>\n",
       "    <tr>\n",
       "      <th>1</th>\n",
       "      <td>Argentina</td>\n",
       "      <td>45167000</td>\n",
       "      <td>1964375</td>\n",
       "      <td>22</td>\n",
       "      <td>ARGE</td>\n",
       "      <td>C</td>\n",
       "    </tr>\n",
       "    <tr>\n",
       "      <th>3</th>\n",
       "      <td>Colombia</td>\n",
       "      <td>48922000</td>\n",
       "      <td>2780400</td>\n",
       "      <td>17</td>\n",
       "      <td>COLO</td>\n",
       "      <td>A</td>\n",
       "    </tr>\n",
       "    <tr>\n",
       "      <th>2</th>\n",
       "      <td>Espana</td>\n",
       "      <td>47099000</td>\n",
       "      <td>505944</td>\n",
       "      <td>93</td>\n",
       "      <td>ESPA</td>\n",
       "      <td>B</td>\n",
       "    </tr>\n",
       "    <tr>\n",
       "      <th>0</th>\n",
       "      <td>Mexico</td>\n",
       "      <td>127212000</td>\n",
       "      <td>1142748</td>\n",
       "      <td>111</td>\n",
       "      <td>MEXI</td>\n",
       "      <td>B</td>\n",
       "    </tr>\n",
       "    <tr>\n",
       "      <th>4</th>\n",
       "      <td>Venezuela</td>\n",
       "      <td>32423000</td>\n",
       "      <td>916445</td>\n",
       "      <td>35</td>\n",
       "      <td>VENE</td>\n",
       "      <td>C</td>\n",
       "    </tr>\n",
       "  </tbody>\n",
       "</table>\n",
       "</div>"
      ],
      "text/plain": [
       "        Pais  Poblacion  Superficie  Habit_x_km2 Codigo Categoria\n",
       "1  Argentina   45167000     1964375           22   ARGE         C\n",
       "3   Colombia   48922000     2780400           17   COLO         A\n",
       "2     Espana   47099000      505944           93   ESPA         B\n",
       "0     Mexico  127212000     1142748          111   MEXI         B\n",
       "4  Venezuela   32423000      916445           35   VENE         C"
      ]
     },
     "execution_count": 34,
     "metadata": {},
     "output_type": "execute_result"
    }
   ],
   "source": [
    "df['Categoria'] = df.apply(categoria, axis=1)\n",
    "df"
   ]
  },
  {
   "cell_type": "markdown",
   "metadata": {},
   "source": [
    "### Aplicar enviando algunas columnas como parámetros"
   ]
  },
  {
   "cell_type": "code",
   "execution_count": 35,
   "metadata": {},
   "outputs": [],
   "source": [
    "#Crear una nueva columna, que asigne un color en función de diversas condiciones\n",
    "def asigna_color(codigo, categoria):\n",
    "    if categoria=='A':\n",
    "        return 'rojo'\n",
    "    if codigo == 'ESPA':\n",
    "        return 'verde'\n",
    "    return 'azul'"
   ]
  },
  {
   "cell_type": "code",
   "execution_count": 36,
   "metadata": {},
   "outputs": [
    {
     "data": {
      "text/html": [
       "<div>\n",
       "<style scoped>\n",
       "    .dataframe tbody tr th:only-of-type {\n",
       "        vertical-align: middle;\n",
       "    }\n",
       "\n",
       "    .dataframe tbody tr th {\n",
       "        vertical-align: top;\n",
       "    }\n",
       "\n",
       "    .dataframe thead th {\n",
       "        text-align: right;\n",
       "    }\n",
       "</style>\n",
       "<table border=\"1\" class=\"dataframe\">\n",
       "  <thead>\n",
       "    <tr style=\"text-align: right;\">\n",
       "      <th></th>\n",
       "      <th>Pais</th>\n",
       "      <th>Poblacion</th>\n",
       "      <th>Superficie</th>\n",
       "      <th>Habit_x_km2</th>\n",
       "      <th>Codigo</th>\n",
       "      <th>Categoria</th>\n",
       "      <th>color</th>\n",
       "    </tr>\n",
       "  </thead>\n",
       "  <tbody>\n",
       "    <tr>\n",
       "      <th>1</th>\n",
       "      <td>Argentina</td>\n",
       "      <td>45167000</td>\n",
       "      <td>1964375</td>\n",
       "      <td>22</td>\n",
       "      <td>ARGE</td>\n",
       "      <td>C</td>\n",
       "      <td>azul</td>\n",
       "    </tr>\n",
       "    <tr>\n",
       "      <th>3</th>\n",
       "      <td>Colombia</td>\n",
       "      <td>48922000</td>\n",
       "      <td>2780400</td>\n",
       "      <td>17</td>\n",
       "      <td>COLO</td>\n",
       "      <td>A</td>\n",
       "      <td>rojo</td>\n",
       "    </tr>\n",
       "    <tr>\n",
       "      <th>2</th>\n",
       "      <td>Espana</td>\n",
       "      <td>47099000</td>\n",
       "      <td>505944</td>\n",
       "      <td>93</td>\n",
       "      <td>ESPA</td>\n",
       "      <td>B</td>\n",
       "      <td>verde</td>\n",
       "    </tr>\n",
       "    <tr>\n",
       "      <th>0</th>\n",
       "      <td>Mexico</td>\n",
       "      <td>127212000</td>\n",
       "      <td>1142748</td>\n",
       "      <td>111</td>\n",
       "      <td>MEXI</td>\n",
       "      <td>B</td>\n",
       "      <td>azul</td>\n",
       "    </tr>\n",
       "    <tr>\n",
       "      <th>4</th>\n",
       "      <td>Venezuela</td>\n",
       "      <td>32423000</td>\n",
       "      <td>916445</td>\n",
       "      <td>35</td>\n",
       "      <td>VENE</td>\n",
       "      <td>C</td>\n",
       "      <td>azul</td>\n",
       "    </tr>\n",
       "  </tbody>\n",
       "</table>\n",
       "</div>"
      ],
      "text/plain": [
       "        Pais  Poblacion  Superficie  Habit_x_km2 Codigo Categoria  color\n",
       "1  Argentina   45167000     1964375           22   ARGE         C   azul\n",
       "3   Colombia   48922000     2780400           17   COLO         A   rojo\n",
       "2     Espana   47099000      505944           93   ESPA         B  verde\n",
       "0     Mexico  127212000     1142748          111   MEXI         B   azul\n",
       "4  Venezuela   32423000      916445           35   VENE         C   azul"
      ]
     },
     "execution_count": 36,
     "metadata": {},
     "output_type": "execute_result"
    }
   ],
   "source": [
    "df['color'] = df.apply(lambda x: asigna_color(x['Codigo'],x['Categoria']), axis=1);\n",
    "df"
   ]
  },
  {
   "cell_type": "markdown",
   "metadata": {},
   "source": [
    "### Mapeo"
   ]
  },
  {
   "cell_type": "code",
   "execution_count": 37,
   "metadata": {},
   "outputs": [
    {
     "data": {
      "text/html": [
       "<div>\n",
       "<style scoped>\n",
       "    .dataframe tbody tr th:only-of-type {\n",
       "        vertical-align: middle;\n",
       "    }\n",
       "\n",
       "    .dataframe tbody tr th {\n",
       "        vertical-align: top;\n",
       "    }\n",
       "\n",
       "    .dataframe thead th {\n",
       "        text-align: right;\n",
       "    }\n",
       "</style>\n",
       "<table border=\"1\" class=\"dataframe\">\n",
       "  <thead>\n",
       "    <tr style=\"text-align: right;\">\n",
       "      <th></th>\n",
       "      <th>Pais</th>\n",
       "      <th>Poblacion</th>\n",
       "      <th>Superficie</th>\n",
       "      <th>Habit_x_km2</th>\n",
       "      <th>Codigo</th>\n",
       "      <th>Categoria</th>\n",
       "      <th>color</th>\n",
       "      <th>mapeo_color</th>\n",
       "    </tr>\n",
       "  </thead>\n",
       "  <tbody>\n",
       "    <tr>\n",
       "      <th>1</th>\n",
       "      <td>Argentina</td>\n",
       "      <td>45167000</td>\n",
       "      <td>1964375</td>\n",
       "      <td>22</td>\n",
       "      <td>ARGE</td>\n",
       "      <td>C</td>\n",
       "      <td>azul</td>\n",
       "      <td>0</td>\n",
       "    </tr>\n",
       "    <tr>\n",
       "      <th>3</th>\n",
       "      <td>Colombia</td>\n",
       "      <td>48922000</td>\n",
       "      <td>2780400</td>\n",
       "      <td>17</td>\n",
       "      <td>COLO</td>\n",
       "      <td>A</td>\n",
       "      <td>rojo</td>\n",
       "      <td>1</td>\n",
       "    </tr>\n",
       "    <tr>\n",
       "      <th>2</th>\n",
       "      <td>Espana</td>\n",
       "      <td>47099000</td>\n",
       "      <td>505944</td>\n",
       "      <td>93</td>\n",
       "      <td>ESPA</td>\n",
       "      <td>B</td>\n",
       "      <td>verde</td>\n",
       "      <td>2</td>\n",
       "    </tr>\n",
       "    <tr>\n",
       "      <th>0</th>\n",
       "      <td>Mexico</td>\n",
       "      <td>127212000</td>\n",
       "      <td>1142748</td>\n",
       "      <td>111</td>\n",
       "      <td>MEXI</td>\n",
       "      <td>B</td>\n",
       "      <td>azul</td>\n",
       "      <td>0</td>\n",
       "    </tr>\n",
       "    <tr>\n",
       "      <th>4</th>\n",
       "      <td>Venezuela</td>\n",
       "      <td>32423000</td>\n",
       "      <td>916445</td>\n",
       "      <td>35</td>\n",
       "      <td>VENE</td>\n",
       "      <td>C</td>\n",
       "      <td>azul</td>\n",
       "      <td>0</td>\n",
       "    </tr>\n",
       "  </tbody>\n",
       "</table>\n",
       "</div>"
      ],
      "text/plain": [
       "        Pais  Poblacion  Superficie  Habit_x_km2 Codigo Categoria  color  \\\n",
       "1  Argentina   45167000     1964375           22   ARGE         C   azul   \n",
       "3   Colombia   48922000     2780400           17   COLO         A   rojo   \n",
       "2     Espana   47099000      505944           93   ESPA         B  verde   \n",
       "0     Mexico  127212000     1142748          111   MEXI         B   azul   \n",
       "4  Venezuela   32423000      916445           35   VENE         C   azul   \n",
       "\n",
       "   mapeo_color  \n",
       "1            0  \n",
       "3            1  \n",
       "2            2  \n",
       "0            0  \n",
       "4            0  "
      ]
     },
     "execution_count": 37,
     "metadata": {},
     "output_type": "execute_result"
    }
   ],
   "source": [
    "df['mapeo_color'] = df['color'].map( {'azul': 0, 'rojo': 1, 'verde': 2} ).astype(int)\n",
    "df"
   ]
  },
  {
   "cell_type": "markdown",
   "metadata": {},
   "source": [
    "# Reordenamos columnas"
   ]
  },
  {
   "cell_type": "code",
   "execution_count": 48,
   "metadata": {},
   "outputs": [
    {
     "data": {
      "text/html": [
       "<div>\n",
       "<style scoped>\n",
       "    .dataframe tbody tr th:only-of-type {\n",
       "        vertical-align: middle;\n",
       "    }\n",
       "\n",
       "    .dataframe tbody tr th {\n",
       "        vertical-align: top;\n",
       "    }\n",
       "\n",
       "    .dataframe thead th {\n",
       "        text-align: right;\n",
       "    }\n",
       "</style>\n",
       "<table border=\"1\" class=\"dataframe\">\n",
       "  <thead>\n",
       "    <tr style=\"text-align: right;\">\n",
       "      <th></th>\n",
       "      <th>Codigo</th>\n",
       "      <th>Pais</th>\n",
       "      <th>Poblacion</th>\n",
       "      <th>Categoria</th>\n",
       "      <th>Superficie</th>\n",
       "      <th>Habit_x_km2</th>\n",
       "    </tr>\n",
       "  </thead>\n",
       "  <tbody>\n",
       "    <tr>\n",
       "      <th>1</th>\n",
       "      <td>ARGE</td>\n",
       "      <td>Argentina</td>\n",
       "      <td>45167000</td>\n",
       "      <td>C</td>\n",
       "      <td>1964375</td>\n",
       "      <td>22</td>\n",
       "    </tr>\n",
       "    <tr>\n",
       "      <th>3</th>\n",
       "      <td>COLO</td>\n",
       "      <td>Colombia</td>\n",
       "      <td>48922000</td>\n",
       "      <td>A</td>\n",
       "      <td>2780400</td>\n",
       "      <td>17</td>\n",
       "    </tr>\n",
       "    <tr>\n",
       "      <th>2</th>\n",
       "      <td>ESPA</td>\n",
       "      <td>Espana</td>\n",
       "      <td>47099000</td>\n",
       "      <td>B</td>\n",
       "      <td>505944</td>\n",
       "      <td>93</td>\n",
       "    </tr>\n",
       "    <tr>\n",
       "      <th>0</th>\n",
       "      <td>MEXI</td>\n",
       "      <td>Mexico</td>\n",
       "      <td>127212000</td>\n",
       "      <td>B</td>\n",
       "      <td>1142748</td>\n",
       "      <td>111</td>\n",
       "    </tr>\n",
       "    <tr>\n",
       "      <th>4</th>\n",
       "      <td>VENE</td>\n",
       "      <td>Venezuela</td>\n",
       "      <td>32423000</td>\n",
       "      <td>C</td>\n",
       "      <td>916445</td>\n",
       "      <td>35</td>\n",
       "    </tr>\n",
       "  </tbody>\n",
       "</table>\n",
       "</div>"
      ],
      "text/plain": [
       "  Codigo       Pais  Poblacion Categoria  Superficie  Habit_x_km2\n",
       "1   ARGE  Argentina   45167000         C     1964375           22\n",
       "3   COLO   Colombia   48922000         A     2780400           17\n",
       "2   ESPA     Espana   47099000         B      505944           93\n",
       "0   MEXI     Mexico  127212000         B     1142748          111\n",
       "4   VENE  Venezuela   32423000         C      916445           35"
      ]
     },
     "execution_count": 48,
     "metadata": {},
     "output_type": "execute_result"
    }
   ],
   "source": [
    "df = df[ ['Codigo','Pais','Poblacion','Categoria','Superficie','Habit_x_km2'] ]\n",
    "df"
   ]
  },
  {
   "cell_type": "markdown",
   "metadata": {},
   "source": [
    "# Join entre tablas"
   ]
  },
  {
   "cell_type": "markdown",
   "metadata": {},
   "source": [
    "### Concat usando indice"
   ]
  },
  {
   "cell_type": "code",
   "execution_count": 49,
   "metadata": {},
   "outputs": [
    {
     "data": {
      "text/html": [
       "<div>\n",
       "<style scoped>\n",
       "    .dataframe tbody tr th:only-of-type {\n",
       "        vertical-align: middle;\n",
       "    }\n",
       "\n",
       "    .dataframe tbody tr th {\n",
       "        vertical-align: top;\n",
       "    }\n",
       "\n",
       "    .dataframe thead th {\n",
       "        text-align: right;\n",
       "    }\n",
       "</style>\n",
       "<table border=\"1\" class=\"dataframe\">\n",
       "  <thead>\n",
       "    <tr style=\"text-align: right;\">\n",
       "      <th></th>\n",
       "      <th>Comida</th>\n",
       "    </tr>\n",
       "  </thead>\n",
       "  <tbody>\n",
       "    <tr>\n",
       "      <th>MEXI</th>\n",
       "      <td>Burritos</td>\n",
       "    </tr>\n",
       "    <tr>\n",
       "      <th>ARGE</th>\n",
       "      <td>Milanesa</td>\n",
       "    </tr>\n",
       "    <tr>\n",
       "      <th>ESPA</th>\n",
       "      <td>Tortilla</td>\n",
       "    </tr>\n",
       "    <tr>\n",
       "      <th>COLO</th>\n",
       "      <td>Sancocho</td>\n",
       "    </tr>\n",
       "    <tr>\n",
       "      <th>VENE</th>\n",
       "      <td>Arepas</td>\n",
       "    </tr>\n",
       "  </tbody>\n",
       "</table>\n",
       "</div>"
      ],
      "text/plain": [
       "        Comida\n",
       "MEXI  Burritos\n",
       "ARGE  Milanesa\n",
       "ESPA  Tortilla\n",
       "COLO  Sancocho\n",
       "VENE    Arepas"
      ]
     },
     "execution_count": 49,
     "metadata": {},
     "output_type": "execute_result"
    }
   ],
   "source": [
    "# Creamos un DF nuevo, le asignamos el Codigo como identificador único\n",
    "df_comida = pd.DataFrame(data={\n",
    "                        \"Comida\":['Burritos', 'Milanesa', 'Tortilla', 'Sancocho','Arepas']},\n",
    "                        index = ['MEXI','ARGE','ESPA','COLO','VENE'])\n",
    "df_comida"
   ]
  },
  {
   "cell_type": "code",
   "execution_count": 40,
   "metadata": {},
   "outputs": [
    {
     "data": {
      "text/html": [
       "<div>\n",
       "<style scoped>\n",
       "    .dataframe tbody tr th:only-of-type {\n",
       "        vertical-align: middle;\n",
       "    }\n",
       "\n",
       "    .dataframe tbody tr th {\n",
       "        vertical-align: top;\n",
       "    }\n",
       "\n",
       "    .dataframe thead th {\n",
       "        text-align: right;\n",
       "    }\n",
       "</style>\n",
       "<table border=\"1\" class=\"dataframe\">\n",
       "  <thead>\n",
       "    <tr style=\"text-align: right;\">\n",
       "      <th></th>\n",
       "      <th>Comida</th>\n",
       "    </tr>\n",
       "  </thead>\n",
       "  <tbody>\n",
       "    <tr>\n",
       "      <th>ARGE</th>\n",
       "      <td>Burritos</td>\n",
       "    </tr>\n",
       "    <tr>\n",
       "      <th>COLO</th>\n",
       "      <td>Milanesa</td>\n",
       "    </tr>\n",
       "    <tr>\n",
       "      <th>ESPA</th>\n",
       "      <td>Tortilla</td>\n",
       "    </tr>\n",
       "    <tr>\n",
       "      <th>MEXI</th>\n",
       "      <td>Sancocho</td>\n",
       "    </tr>\n",
       "    <tr>\n",
       "      <th>VENE</th>\n",
       "      <td>Arepas</td>\n",
       "    </tr>\n",
       "  </tbody>\n",
       "</table>\n",
       "</div>"
      ],
      "text/plain": [
       "        Comida\n",
       "ARGE  Burritos\n",
       "COLO  Milanesa\n",
       "ESPA  Tortilla\n",
       "MEXI  Sancocho\n",
       "VENE    Arepas"
      ]
     },
     "execution_count": 40,
     "metadata": {},
     "output_type": "execute_result"
    }
   ],
   "source": [
    "# Creamos un DF nuevo, le asignamos el Codigo como identificador único\n",
    "df_comida = pd.DataFrame(data={\n",
    "                        \"Comida\":['Burritos', 'Milanesa', 'Tortilla', 'Sancocho','Arepas']},\n",
    "                        index = [df['Codigo'].values])\n",
    "df_comida"
   ]
  },
  {
   "cell_type": "code",
   "execution_count": 41,
   "metadata": {
    "scrolled": true
   },
   "outputs": [
    {
     "data": {
      "text/plain": [
       "array(['ARGE', 'COLO', 'ESPA', 'MEXI', 'VENE'], dtype=object)"
      ]
     },
     "execution_count": 41,
     "metadata": {},
     "output_type": "execute_result"
    }
   ],
   "source": [
    "df['Codigo'].values"
   ]
  },
  {
   "cell_type": "markdown",
   "metadata": {},
   "source": [
    "##### asignamos indice en nuestro DF inicial"
   ]
  },
  {
   "cell_type": "code",
   "execution_count": 42,
   "metadata": {},
   "outputs": [
    {
     "data": {
      "text/html": [
       "<div>\n",
       "<style scoped>\n",
       "    .dataframe tbody tr th:only-of-type {\n",
       "        vertical-align: middle;\n",
       "    }\n",
       "\n",
       "    .dataframe tbody tr th {\n",
       "        vertical-align: top;\n",
       "    }\n",
       "\n",
       "    .dataframe thead th {\n",
       "        text-align: right;\n",
       "    }\n",
       "</style>\n",
       "<table border=\"1\" class=\"dataframe\">\n",
       "  <thead>\n",
       "    <tr style=\"text-align: right;\">\n",
       "      <th></th>\n",
       "      <th>Codigo</th>\n",
       "      <th>Pais</th>\n",
       "      <th>Poblacion</th>\n",
       "      <th>Categoria</th>\n",
       "      <th>Superficie</th>\n",
       "      <th>Habit_x_km2</th>\n",
       "    </tr>\n",
       "  </thead>\n",
       "  <tbody>\n",
       "    <tr>\n",
       "      <th>1</th>\n",
       "      <td>ARGE</td>\n",
       "      <td>Argentina</td>\n",
       "      <td>45167000</td>\n",
       "      <td>C</td>\n",
       "      <td>1964375</td>\n",
       "      <td>22</td>\n",
       "    </tr>\n",
       "    <tr>\n",
       "      <th>3</th>\n",
       "      <td>COLO</td>\n",
       "      <td>Colombia</td>\n",
       "      <td>48922000</td>\n",
       "      <td>A</td>\n",
       "      <td>2780400</td>\n",
       "      <td>17</td>\n",
       "    </tr>\n",
       "    <tr>\n",
       "      <th>2</th>\n",
       "      <td>ESPA</td>\n",
       "      <td>Espana</td>\n",
       "      <td>47099000</td>\n",
       "      <td>B</td>\n",
       "      <td>505944</td>\n",
       "      <td>93</td>\n",
       "    </tr>\n",
       "    <tr>\n",
       "      <th>0</th>\n",
       "      <td>MEXI</td>\n",
       "      <td>Mexico</td>\n",
       "      <td>127212000</td>\n",
       "      <td>B</td>\n",
       "      <td>1142748</td>\n",
       "      <td>111</td>\n",
       "    </tr>\n",
       "    <tr>\n",
       "      <th>4</th>\n",
       "      <td>VENE</td>\n",
       "      <td>Venezuela</td>\n",
       "      <td>32423000</td>\n",
       "      <td>C</td>\n",
       "      <td>916445</td>\n",
       "      <td>35</td>\n",
       "    </tr>\n",
       "  </tbody>\n",
       "</table>\n",
       "</div>"
      ],
      "text/plain": [
       "  Codigo       Pais  Poblacion Categoria  Superficie  Habit_x_km2\n",
       "1   ARGE  Argentina   45167000         C     1964375           22\n",
       "3   COLO   Colombia   48922000         A     2780400           17\n",
       "2   ESPA     Espana   47099000         B      505944           93\n",
       "0   MEXI     Mexico  127212000         B     1142748          111\n",
       "4   VENE  Venezuela   32423000         C      916445           35"
      ]
     },
     "execution_count": 42,
     "metadata": {},
     "output_type": "execute_result"
    }
   ],
   "source": [
    "df"
   ]
  },
  {
   "cell_type": "code",
   "execution_count": 50,
   "metadata": {},
   "outputs": [
    {
     "data": {
      "text/html": [
       "<div>\n",
       "<style scoped>\n",
       "    .dataframe tbody tr th:only-of-type {\n",
       "        vertical-align: middle;\n",
       "    }\n",
       "\n",
       "    .dataframe tbody tr th {\n",
       "        vertical-align: top;\n",
       "    }\n",
       "\n",
       "    .dataframe thead th {\n",
       "        text-align: right;\n",
       "    }\n",
       "</style>\n",
       "<table border=\"1\" class=\"dataframe\">\n",
       "  <thead>\n",
       "    <tr style=\"text-align: right;\">\n",
       "      <th></th>\n",
       "      <th>Pais</th>\n",
       "      <th>Poblacion</th>\n",
       "      <th>Categoria</th>\n",
       "      <th>Superficie</th>\n",
       "      <th>Habit_x_km2</th>\n",
       "    </tr>\n",
       "    <tr>\n",
       "      <th>Codigo</th>\n",
       "      <th></th>\n",
       "      <th></th>\n",
       "      <th></th>\n",
       "      <th></th>\n",
       "      <th></th>\n",
       "    </tr>\n",
       "  </thead>\n",
       "  <tbody>\n",
       "    <tr>\n",
       "      <th>ARGE</th>\n",
       "      <td>Argentina</td>\n",
       "      <td>45167000</td>\n",
       "      <td>C</td>\n",
       "      <td>1964375</td>\n",
       "      <td>22</td>\n",
       "    </tr>\n",
       "    <tr>\n",
       "      <th>COLO</th>\n",
       "      <td>Colombia</td>\n",
       "      <td>48922000</td>\n",
       "      <td>A</td>\n",
       "      <td>2780400</td>\n",
       "      <td>17</td>\n",
       "    </tr>\n",
       "    <tr>\n",
       "      <th>ESPA</th>\n",
       "      <td>Espana</td>\n",
       "      <td>47099000</td>\n",
       "      <td>B</td>\n",
       "      <td>505944</td>\n",
       "      <td>93</td>\n",
       "    </tr>\n",
       "    <tr>\n",
       "      <th>MEXI</th>\n",
       "      <td>Mexico</td>\n",
       "      <td>127212000</td>\n",
       "      <td>B</td>\n",
       "      <td>1142748</td>\n",
       "      <td>111</td>\n",
       "    </tr>\n",
       "    <tr>\n",
       "      <th>VENE</th>\n",
       "      <td>Venezuela</td>\n",
       "      <td>32423000</td>\n",
       "      <td>C</td>\n",
       "      <td>916445</td>\n",
       "      <td>35</td>\n",
       "    </tr>\n",
       "  </tbody>\n",
       "</table>\n",
       "</div>"
      ],
      "text/plain": [
       "             Pais  Poblacion Categoria  Superficie  Habit_x_km2\n",
       "Codigo                                                         \n",
       "ARGE    Argentina   45167000         C     1964375           22\n",
       "COLO     Colombia   48922000         A     2780400           17\n",
       "ESPA       Espana   47099000         B      505944           93\n",
       "MEXI       Mexico  127212000         B     1142748          111\n",
       "VENE    Venezuela   32423000         C      916445           35"
      ]
     },
     "execution_count": 50,
     "metadata": {},
     "output_type": "execute_result"
    }
   ],
   "source": [
    "#asignamos indice en nuestro DF inicial\n",
    "df_index = df.set_index('Codigo')\n",
    "df_index"
   ]
  },
  {
   "cell_type": "markdown",
   "metadata": {},
   "source": [
    "##### hacemos el join por indice"
   ]
  },
  {
   "cell_type": "code",
   "execution_count": 51,
   "metadata": {},
   "outputs": [
    {
     "data": {
      "text/html": [
       "<div>\n",
       "<style scoped>\n",
       "    .dataframe tbody tr th:only-of-type {\n",
       "        vertical-align: middle;\n",
       "    }\n",
       "\n",
       "    .dataframe tbody tr th {\n",
       "        vertical-align: top;\n",
       "    }\n",
       "\n",
       "    .dataframe thead th {\n",
       "        text-align: right;\n",
       "    }\n",
       "</style>\n",
       "<table border=\"1\" class=\"dataframe\">\n",
       "  <thead>\n",
       "    <tr style=\"text-align: right;\">\n",
       "      <th></th>\n",
       "      <th>Pais</th>\n",
       "      <th>Poblacion</th>\n",
       "      <th>Categoria</th>\n",
       "      <th>Superficie</th>\n",
       "      <th>Habit_x_km2</th>\n",
       "      <th>Comida</th>\n",
       "    </tr>\n",
       "  </thead>\n",
       "  <tbody>\n",
       "    <tr>\n",
       "      <th>ARGE</th>\n",
       "      <td>Argentina</td>\n",
       "      <td>45167000</td>\n",
       "      <td>C</td>\n",
       "      <td>1964375</td>\n",
       "      <td>22</td>\n",
       "      <td>Milanesa</td>\n",
       "    </tr>\n",
       "    <tr>\n",
       "      <th>COLO</th>\n",
       "      <td>Colombia</td>\n",
       "      <td>48922000</td>\n",
       "      <td>A</td>\n",
       "      <td>2780400</td>\n",
       "      <td>17</td>\n",
       "      <td>Sancocho</td>\n",
       "    </tr>\n",
       "    <tr>\n",
       "      <th>ESPA</th>\n",
       "      <td>Espana</td>\n",
       "      <td>47099000</td>\n",
       "      <td>B</td>\n",
       "      <td>505944</td>\n",
       "      <td>93</td>\n",
       "      <td>Tortilla</td>\n",
       "    </tr>\n",
       "    <tr>\n",
       "      <th>MEXI</th>\n",
       "      <td>Mexico</td>\n",
       "      <td>127212000</td>\n",
       "      <td>B</td>\n",
       "      <td>1142748</td>\n",
       "      <td>111</td>\n",
       "      <td>Burritos</td>\n",
       "    </tr>\n",
       "    <tr>\n",
       "      <th>VENE</th>\n",
       "      <td>Venezuela</td>\n",
       "      <td>32423000</td>\n",
       "      <td>C</td>\n",
       "      <td>916445</td>\n",
       "      <td>35</td>\n",
       "      <td>Arepas</td>\n",
       "    </tr>\n",
       "  </tbody>\n",
       "</table>\n",
       "</div>"
      ],
      "text/plain": [
       "           Pais  Poblacion Categoria  Superficie  Habit_x_km2    Comida\n",
       "ARGE  Argentina   45167000         C     1964375           22  Milanesa\n",
       "COLO   Colombia   48922000         A     2780400           17  Sancocho\n",
       "ESPA     Espana   47099000         B      505944           93  Tortilla\n",
       "MEXI     Mexico  127212000         B     1142748          111  Burritos\n",
       "VENE  Venezuela   32423000         C      916445           35    Arepas"
      ]
     },
     "execution_count": 51,
     "metadata": {},
     "output_type": "execute_result"
    }
   ],
   "source": [
    "#hacemos el join por indice\n",
    "result1 = pd.concat([df_index, df_comida], axis=1,sort=True)\n",
    "result1"
   ]
  },
  {
   "cell_type": "markdown",
   "metadata": {},
   "source": [
    "### Left join por columna clave (merge)"
   ]
  },
  {
   "cell_type": "code",
   "execution_count": 63,
   "metadata": {},
   "outputs": [
    {
     "data": {
      "text/html": [
       "<div>\n",
       "<style scoped>\n",
       "    .dataframe tbody tr th:only-of-type {\n",
       "        vertical-align: middle;\n",
       "    }\n",
       "\n",
       "    .dataframe tbody tr th {\n",
       "        vertical-align: top;\n",
       "    }\n",
       "\n",
       "    .dataframe thead th {\n",
       "        text-align: right;\n",
       "    }\n",
       "</style>\n",
       "<table border=\"1\" class=\"dataframe\">\n",
       "  <thead>\n",
       "    <tr style=\"text-align: right;\">\n",
       "      <th></th>\n",
       "      <th>Categoria</th>\n",
       "      <th>Factor</th>\n",
       "    </tr>\n",
       "  </thead>\n",
       "  <tbody>\n",
       "    <tr>\n",
       "      <th>0</th>\n",
       "      <td>A</td>\n",
       "      <td>12.500</td>\n",
       "    </tr>\n",
       "    <tr>\n",
       "      <th>1</th>\n",
       "      <td>B</td>\n",
       "      <td>103.000</td>\n",
       "    </tr>\n",
       "    <tr>\n",
       "      <th>2</th>\n",
       "      <td>C</td>\n",
       "      <td>0.001</td>\n",
       "    </tr>\n",
       "  </tbody>\n",
       "</table>\n",
       "</div>"
      ],
      "text/plain": [
       "  Categoria   Factor\n",
       "0         A   12.500\n",
       "1         B  103.000\n",
       "2         C    0.001"
      ]
     },
     "execution_count": 63,
     "metadata": {},
     "output_type": "execute_result"
    }
   ],
   "source": [
    "# Imaginemos que tenemos un DF nuevo, le asignamos el Codigo como identificador único\n",
    "df_factor = pd.DataFrame(data={\"Categoria\" : [\"A\",\"B\",\"C\"],\n",
    "                            \"Factor\":[12.5,103,0.001]}\n",
    "                        )\n",
    "df_factor"
   ]
  },
  {
   "cell_type": "code",
   "execution_count": 60,
   "metadata": {},
   "outputs": [
    {
     "data": {
      "text/plain": [
       "array(['C', 'A', 'B'], dtype='<U1')"
      ]
     },
     "execution_count": 60,
     "metadata": {},
     "output_type": "execute_result"
    }
   ],
   "source": [
    "df['Categoria'].unique() #array\n",
    "arr = df['Categoria'].unique().astype(str)\n",
    "arr\n",
    "#print(df['Categoria'].unique().astype(str).sort())"
   ]
  },
  {
   "cell_type": "code",
   "execution_count": 61,
   "metadata": {},
   "outputs": [
    {
     "data": {
      "text/html": [
       "<div>\n",
       "<style scoped>\n",
       "    .dataframe tbody tr th:only-of-type {\n",
       "        vertical-align: middle;\n",
       "    }\n",
       "\n",
       "    .dataframe tbody tr th {\n",
       "        vertical-align: top;\n",
       "    }\n",
       "\n",
       "    .dataframe thead th {\n",
       "        text-align: right;\n",
       "    }\n",
       "</style>\n",
       "<table border=\"1\" class=\"dataframe\">\n",
       "  <thead>\n",
       "    <tr style=\"text-align: right;\">\n",
       "      <th></th>\n",
       "      <th>Categoria</th>\n",
       "      <th>Factor</th>\n",
       "    </tr>\n",
       "  </thead>\n",
       "  <tbody>\n",
       "    <tr>\n",
       "      <th>0</th>\n",
       "      <td>C</td>\n",
       "      <td>12.500</td>\n",
       "    </tr>\n",
       "    <tr>\n",
       "      <th>1</th>\n",
       "      <td>A</td>\n",
       "      <td>103.000</td>\n",
       "    </tr>\n",
       "    <tr>\n",
       "      <th>2</th>\n",
       "      <td>B</td>\n",
       "      <td>0.001</td>\n",
       "    </tr>\n",
       "  </tbody>\n",
       "</table>\n",
       "</div>"
      ],
      "text/plain": [
       "  Categoria   Factor\n",
       "0         C   12.500\n",
       "1         A  103.000\n",
       "2         B    0.001"
      ]
     },
     "execution_count": 61,
     "metadata": {},
     "output_type": "execute_result"
    }
   ],
   "source": [
    "# Imaginemos que tenemos un DF nuevo, le asignamos el Codigo como identificador único\n",
    "df_factor = pd.DataFrame(data={\"Categoria\" : arr,\n",
    "                            \"Factor\":[12.5,103,0.001]}\n",
    "                        )\n",
    "df_factor"
   ]
  },
  {
   "cell_type": "code",
   "execution_count": 64,
   "metadata": {},
   "outputs": [
    {
     "data": {
      "text/html": [
       "<div>\n",
       "<style scoped>\n",
       "    .dataframe tbody tr th:only-of-type {\n",
       "        vertical-align: middle;\n",
       "    }\n",
       "\n",
       "    .dataframe tbody tr th {\n",
       "        vertical-align: top;\n",
       "    }\n",
       "\n",
       "    .dataframe thead th {\n",
       "        text-align: right;\n",
       "    }\n",
       "</style>\n",
       "<table border=\"1\" class=\"dataframe\">\n",
       "  <thead>\n",
       "    <tr style=\"text-align: right;\">\n",
       "      <th></th>\n",
       "      <th>Codigo</th>\n",
       "      <th>Pais</th>\n",
       "      <th>Poblacion</th>\n",
       "      <th>Categoria</th>\n",
       "      <th>Superficie</th>\n",
       "      <th>Habit_x_km2</th>\n",
       "      <th>Factor</th>\n",
       "    </tr>\n",
       "  </thead>\n",
       "  <tbody>\n",
       "    <tr>\n",
       "      <th>0</th>\n",
       "      <td>ARGE</td>\n",
       "      <td>Argentina</td>\n",
       "      <td>45167000</td>\n",
       "      <td>C</td>\n",
       "      <td>1964375</td>\n",
       "      <td>22</td>\n",
       "      <td>0.001</td>\n",
       "    </tr>\n",
       "    <tr>\n",
       "      <th>1</th>\n",
       "      <td>COLO</td>\n",
       "      <td>Colombia</td>\n",
       "      <td>48922000</td>\n",
       "      <td>A</td>\n",
       "      <td>2780400</td>\n",
       "      <td>17</td>\n",
       "      <td>12.500</td>\n",
       "    </tr>\n",
       "    <tr>\n",
       "      <th>2</th>\n",
       "      <td>ESPA</td>\n",
       "      <td>Espana</td>\n",
       "      <td>47099000</td>\n",
       "      <td>B</td>\n",
       "      <td>505944</td>\n",
       "      <td>93</td>\n",
       "      <td>103.000</td>\n",
       "    </tr>\n",
       "    <tr>\n",
       "      <th>3</th>\n",
       "      <td>MEXI</td>\n",
       "      <td>Mexico</td>\n",
       "      <td>127212000</td>\n",
       "      <td>B</td>\n",
       "      <td>1142748</td>\n",
       "      <td>111</td>\n",
       "      <td>103.000</td>\n",
       "    </tr>\n",
       "    <tr>\n",
       "      <th>4</th>\n",
       "      <td>VENE</td>\n",
       "      <td>Venezuela</td>\n",
       "      <td>32423000</td>\n",
       "      <td>C</td>\n",
       "      <td>916445</td>\n",
       "      <td>35</td>\n",
       "      <td>0.001</td>\n",
       "    </tr>\n",
       "  </tbody>\n",
       "</table>\n",
       "</div>"
      ],
      "text/plain": [
       "  Codigo       Pais  Poblacion Categoria  Superficie  Habit_x_km2   Factor\n",
       "0   ARGE  Argentina   45167000         C     1964375           22    0.001\n",
       "1   COLO   Colombia   48922000         A     2780400           17   12.500\n",
       "2   ESPA     Espana   47099000         B      505944           93  103.000\n",
       "3   MEXI     Mexico  127212000         B     1142748          111  103.000\n",
       "4   VENE  Venezuela   32423000         C      916445           35    0.001"
      ]
     },
     "execution_count": 64,
     "metadata": {},
     "output_type": "execute_result"
    }
   ],
   "source": [
    "result2 = pd.merge(df, df_factor, how='left', on=['Categoria'])\n",
    "result2"
   ]
  },
  {
   "cell_type": "code",
   "execution_count": null,
   "metadata": {},
   "outputs": [],
   "source": [
    "#pd.merge()"
   ]
  },
  {
   "cell_type": "markdown",
   "metadata": {},
   "source": [
    "## Adicionar multiples filas desde otra Tabla con Append"
   ]
  },
  {
   "cell_type": "code",
   "execution_count": 67,
   "metadata": {
    "scrolled": true
   },
   "outputs": [
    {
     "data": {
      "text/html": [
       "<div>\n",
       "<style scoped>\n",
       "    .dataframe tbody tr th:only-of-type {\n",
       "        vertical-align: middle;\n",
       "    }\n",
       "\n",
       "    .dataframe tbody tr th {\n",
       "        vertical-align: top;\n",
       "    }\n",
       "\n",
       "    .dataframe thead th {\n",
       "        text-align: right;\n",
       "    }\n",
       "</style>\n",
       "<table border=\"1\" class=\"dataframe\">\n",
       "  <thead>\n",
       "    <tr style=\"text-align: right;\">\n",
       "      <th></th>\n",
       "      <th>Pais</th>\n",
       "      <th>Poblacion</th>\n",
       "      <th>Superficie</th>\n",
       "    </tr>\n",
       "  </thead>\n",
       "  <tbody>\n",
       "    <tr>\n",
       "      <th>0</th>\n",
       "      <td>Brasil</td>\n",
       "      <td>210688000</td>\n",
       "      <td>8515770</td>\n",
       "    </tr>\n",
       "    <tr>\n",
       "      <th>1</th>\n",
       "      <td>Chile</td>\n",
       "      <td>19241000</td>\n",
       "      <td>56102</td>\n",
       "    </tr>\n",
       "  </tbody>\n",
       "</table>\n",
       "</div>"
      ],
      "text/plain": [
       "     Pais  Poblacion  Superficie\n",
       "0  Brasil  210688000     8515770\n",
       "1   Chile   19241000       56102"
      ]
     },
     "execution_count": 67,
     "metadata": {},
     "output_type": "execute_result"
    }
   ],
   "source": [
    "#supongamos que tenemos otra tabla:\n",
    "df_otros = pd.DataFrame(data={\"Pais\":['Brasil','Chile'],\n",
    "                        \"Poblacion\":[210688000, 19241000],\n",
    "                        \"Superficie\":[8515770,56102]})\n",
    "df_otros"
   ]
  },
  {
   "cell_type": "code",
   "execution_count": 68,
   "metadata": {},
   "outputs": [
    {
     "data": {
      "text/html": [
       "<div>\n",
       "<style scoped>\n",
       "    .dataframe tbody tr th:only-of-type {\n",
       "        vertical-align: middle;\n",
       "    }\n",
       "\n",
       "    .dataframe tbody tr th {\n",
       "        vertical-align: top;\n",
       "    }\n",
       "\n",
       "    .dataframe thead th {\n",
       "        text-align: right;\n",
       "    }\n",
       "</style>\n",
       "<table border=\"1\" class=\"dataframe\">\n",
       "  <thead>\n",
       "    <tr style=\"text-align: right;\">\n",
       "      <th></th>\n",
       "      <th>Codigo</th>\n",
       "      <th>Pais</th>\n",
       "      <th>Poblacion</th>\n",
       "      <th>Categoria</th>\n",
       "      <th>Superficie</th>\n",
       "      <th>Habit_x_km2</th>\n",
       "    </tr>\n",
       "  </thead>\n",
       "  <tbody>\n",
       "    <tr>\n",
       "      <th>1</th>\n",
       "      <td>ARGE</td>\n",
       "      <td>Argentina</td>\n",
       "      <td>45167000</td>\n",
       "      <td>C</td>\n",
       "      <td>1964375</td>\n",
       "      <td>22</td>\n",
       "    </tr>\n",
       "    <tr>\n",
       "      <th>3</th>\n",
       "      <td>COLO</td>\n",
       "      <td>Colombia</td>\n",
       "      <td>48922000</td>\n",
       "      <td>A</td>\n",
       "      <td>2780400</td>\n",
       "      <td>17</td>\n",
       "    </tr>\n",
       "    <tr>\n",
       "      <th>2</th>\n",
       "      <td>ESPA</td>\n",
       "      <td>Espana</td>\n",
       "      <td>47099000</td>\n",
       "      <td>B</td>\n",
       "      <td>505944</td>\n",
       "      <td>93</td>\n",
       "    </tr>\n",
       "    <tr>\n",
       "      <th>0</th>\n",
       "      <td>MEXI</td>\n",
       "      <td>Mexico</td>\n",
       "      <td>127212000</td>\n",
       "      <td>B</td>\n",
       "      <td>1142748</td>\n",
       "      <td>111</td>\n",
       "    </tr>\n",
       "    <tr>\n",
       "      <th>4</th>\n",
       "      <td>VENE</td>\n",
       "      <td>Venezuela</td>\n",
       "      <td>32423000</td>\n",
       "      <td>C</td>\n",
       "      <td>916445</td>\n",
       "      <td>35</td>\n",
       "    </tr>\n",
       "  </tbody>\n",
       "</table>\n",
       "</div>"
      ],
      "text/plain": [
       "  Codigo       Pais  Poblacion Categoria  Superficie  Habit_x_km2\n",
       "1   ARGE  Argentina   45167000         C     1964375           22\n",
       "3   COLO   Colombia   48922000         A     2780400           17\n",
       "2   ESPA     Espana   47099000         B      505944           93\n",
       "0   MEXI     Mexico  127212000         B     1142748          111\n",
       "4   VENE  Venezuela   32423000         C      916445           35"
      ]
     },
     "execution_count": 68,
     "metadata": {},
     "output_type": "execute_result"
    }
   ],
   "source": [
    "df"
   ]
  },
  {
   "cell_type": "code",
   "execution_count": 70,
   "metadata": {},
   "outputs": [
    {
     "data": {
      "text/html": [
       "<div>\n",
       "<style scoped>\n",
       "    .dataframe tbody tr th:only-of-type {\n",
       "        vertical-align: middle;\n",
       "    }\n",
       "\n",
       "    .dataframe tbody tr th {\n",
       "        vertical-align: top;\n",
       "    }\n",
       "\n",
       "    .dataframe thead th {\n",
       "        text-align: right;\n",
       "    }\n",
       "</style>\n",
       "<table border=\"1\" class=\"dataframe\">\n",
       "  <thead>\n",
       "    <tr style=\"text-align: right;\">\n",
       "      <th></th>\n",
       "      <th>Categoria</th>\n",
       "      <th>Codigo</th>\n",
       "      <th>Habit_x_km2</th>\n",
       "      <th>Pais</th>\n",
       "      <th>Poblacion</th>\n",
       "      <th>Superficie</th>\n",
       "    </tr>\n",
       "  </thead>\n",
       "  <tbody>\n",
       "    <tr>\n",
       "      <th>0</th>\n",
       "      <td>C</td>\n",
       "      <td>ARGE</td>\n",
       "      <td>22.0</td>\n",
       "      <td>Argentina</td>\n",
       "      <td>45167000</td>\n",
       "      <td>1964375</td>\n",
       "    </tr>\n",
       "    <tr>\n",
       "      <th>1</th>\n",
       "      <td>A</td>\n",
       "      <td>COLO</td>\n",
       "      <td>17.0</td>\n",
       "      <td>Colombia</td>\n",
       "      <td>48922000</td>\n",
       "      <td>2780400</td>\n",
       "    </tr>\n",
       "    <tr>\n",
       "      <th>2</th>\n",
       "      <td>B</td>\n",
       "      <td>ESPA</td>\n",
       "      <td>93.0</td>\n",
       "      <td>Espana</td>\n",
       "      <td>47099000</td>\n",
       "      <td>505944</td>\n",
       "    </tr>\n",
       "    <tr>\n",
       "      <th>3</th>\n",
       "      <td>B</td>\n",
       "      <td>MEXI</td>\n",
       "      <td>111.0</td>\n",
       "      <td>Mexico</td>\n",
       "      <td>127212000</td>\n",
       "      <td>1142748</td>\n",
       "    </tr>\n",
       "    <tr>\n",
       "      <th>4</th>\n",
       "      <td>C</td>\n",
       "      <td>VENE</td>\n",
       "      <td>35.0</td>\n",
       "      <td>Venezuela</td>\n",
       "      <td>32423000</td>\n",
       "      <td>916445</td>\n",
       "    </tr>\n",
       "    <tr>\n",
       "      <th>5</th>\n",
       "      <td>NaN</td>\n",
       "      <td>NaN</td>\n",
       "      <td>NaN</td>\n",
       "      <td>Brasil</td>\n",
       "      <td>210688000</td>\n",
       "      <td>8515770</td>\n",
       "    </tr>\n",
       "    <tr>\n",
       "      <th>6</th>\n",
       "      <td>NaN</td>\n",
       "      <td>NaN</td>\n",
       "      <td>NaN</td>\n",
       "      <td>Chile</td>\n",
       "      <td>19241000</td>\n",
       "      <td>56102</td>\n",
       "    </tr>\n",
       "  </tbody>\n",
       "</table>\n",
       "</div>"
      ],
      "text/plain": [
       "  Categoria Codigo  Habit_x_km2       Pais  Poblacion  Superficie\n",
       "0         C   ARGE         22.0  Argentina   45167000     1964375\n",
       "1         A   COLO         17.0   Colombia   48922000     2780400\n",
       "2         B   ESPA         93.0     Espana   47099000      505944\n",
       "3         B   MEXI        111.0     Mexico  127212000     1142748\n",
       "4         C   VENE         35.0  Venezuela   32423000      916445\n",
       "5       NaN    NaN          NaN     Brasil  210688000     8515770\n",
       "6       NaN    NaN          NaN      Chile   19241000       56102"
      ]
     },
     "execution_count": 70,
     "metadata": {},
     "output_type": "execute_result"
    }
   ],
   "source": [
    "# Queremos agregar estas filas al final\n",
    "df.append(df_otros, ignore_index=True, sort=True)"
   ]
  },
  {
   "cell_type": "markdown",
   "metadata": {},
   "source": [
    "# AGRUPAR / GROUPBY"
   ]
  },
  {
   "cell_type": "code",
   "execution_count": 74,
   "metadata": {
    "scrolled": true
   },
   "outputs": [
    {
     "data": {
      "text/plain": [
       "Categoria\n",
       "A    1\n",
       "B    2\n",
       "C    2\n",
       "dtype: int64"
      ]
     },
     "execution_count": 74,
     "metadata": {},
     "output_type": "execute_result"
    }
   ],
   "source": [
    "# agrupo por categoria y sumo cuantos hay de cada una\n",
    "grupo2 = df.groupby(['Categoria'])\n",
    "grupo2.size()"
   ]
  },
  {
   "cell_type": "code",
   "execution_count": 75,
   "metadata": {},
   "outputs": [
    {
     "data": {
      "text/html": [
       "<div>\n",
       "<style scoped>\n",
       "    .dataframe tbody tr th:only-of-type {\n",
       "        vertical-align: middle;\n",
       "    }\n",
       "\n",
       "    .dataframe tbody tr th {\n",
       "        vertical-align: top;\n",
       "    }\n",
       "\n",
       "    .dataframe thead th {\n",
       "        text-align: right;\n",
       "    }\n",
       "</style>\n",
       "<table border=\"1\" class=\"dataframe\">\n",
       "  <thead>\n",
       "    <tr style=\"text-align: right;\">\n",
       "      <th></th>\n",
       "      <th>Poblacion</th>\n",
       "      <th>Superficie</th>\n",
       "      <th>Habit_x_km2</th>\n",
       "    </tr>\n",
       "    <tr>\n",
       "      <th>Categoria</th>\n",
       "      <th></th>\n",
       "      <th></th>\n",
       "      <th></th>\n",
       "    </tr>\n",
       "  </thead>\n",
       "  <tbody>\n",
       "    <tr>\n",
       "      <th>A</th>\n",
       "      <td>48922000</td>\n",
       "      <td>2780400</td>\n",
       "      <td>17</td>\n",
       "    </tr>\n",
       "    <tr>\n",
       "      <th>B</th>\n",
       "      <td>174311000</td>\n",
       "      <td>1648692</td>\n",
       "      <td>204</td>\n",
       "    </tr>\n",
       "    <tr>\n",
       "      <th>C</th>\n",
       "      <td>77590000</td>\n",
       "      <td>2880820</td>\n",
       "      <td>57</td>\n",
       "    </tr>\n",
       "  </tbody>\n",
       "</table>\n",
       "</div>"
      ],
      "text/plain": [
       "           Poblacion  Superficie  Habit_x_km2\n",
       "Categoria                                    \n",
       "A           48922000     2780400           17\n",
       "B          174311000     1648692          204\n",
       "C           77590000     2880820           57"
      ]
     },
     "execution_count": 75,
     "metadata": {},
     "output_type": "execute_result"
    }
   ],
   "source": [
    "# agrupo por cateroría y sumo\n",
    "grupo1 = df.groupby(['Categoria']).sum()\n",
    "grupo1"
   ]
  },
  {
   "cell_type": "markdown",
   "metadata": {},
   "source": [
    "### Agrupamos por 2 variables y sumarizamos"
   ]
  },
  {
   "cell_type": "code",
   "execution_count": 76,
   "metadata": {
    "scrolled": false
   },
   "outputs": [
    {
     "data": {
      "text/html": [
       "<div>\n",
       "<style scoped>\n",
       "    .dataframe tbody tr th:only-of-type {\n",
       "        vertical-align: middle;\n",
       "    }\n",
       "\n",
       "    .dataframe tbody tr th {\n",
       "        vertical-align: top;\n",
       "    }\n",
       "\n",
       "    .dataframe thead tr th {\n",
       "        text-align: left;\n",
       "    }\n",
       "\n",
       "    .dataframe thead tr:last-of-type th {\n",
       "        text-align: right;\n",
       "    }\n",
       "</style>\n",
       "<table border=\"1\" class=\"dataframe\">\n",
       "  <thead>\n",
       "    <tr>\n",
       "      <th></th>\n",
       "      <th colspan=\"3\" halign=\"left\">Factor</th>\n",
       "    </tr>\n",
       "    <tr>\n",
       "      <th></th>\n",
       "      <th>mean</th>\n",
       "      <th>count</th>\n",
       "      <th>sum</th>\n",
       "    </tr>\n",
       "    <tr>\n",
       "      <th>Categoria</th>\n",
       "      <th></th>\n",
       "      <th></th>\n",
       "      <th></th>\n",
       "    </tr>\n",
       "  </thead>\n",
       "  <tbody>\n",
       "    <tr>\n",
       "      <th>A</th>\n",
       "      <td>12.500</td>\n",
       "      <td>1</td>\n",
       "      <td>12.500</td>\n",
       "    </tr>\n",
       "    <tr>\n",
       "      <th>B</th>\n",
       "      <td>103.000</td>\n",
       "      <td>2</td>\n",
       "      <td>206.000</td>\n",
       "    </tr>\n",
       "    <tr>\n",
       "      <th>C</th>\n",
       "      <td>0.001</td>\n",
       "      <td>2</td>\n",
       "      <td>0.002</td>\n",
       "    </tr>\n",
       "  </tbody>\n",
       "</table>\n",
       "</div>"
      ],
      "text/plain": [
       "            Factor               \n",
       "              mean count      sum\n",
       "Categoria                        \n",
       "A           12.500     1   12.500\n",
       "B          103.000     2  206.000\n",
       "C            0.001     2    0.002"
      ]
     },
     "execution_count": 76,
     "metadata": {},
     "output_type": "execute_result"
    }
   ],
   "source": [
    "tabla = result2[['Categoria', 'Factor']].groupby(['Categoria'], as_index=False).agg(['mean', 'count', 'sum'])\n",
    "tabla"
   ]
  },
  {
   "cell_type": "code",
   "execution_count": null,
   "metadata": {},
   "outputs": [],
   "source": [
    "#pd.DataFrame.agg()"
   ]
  },
  {
   "cell_type": "markdown",
   "metadata": {},
   "source": [
    "# Pivotar una Tabla"
   ]
  },
  {
   "cell_type": "code",
   "execution_count": 79,
   "metadata": {
    "scrolled": true
   },
   "outputs": [
    {
     "data": {
      "text/html": [
       "<div>\n",
       "<style scoped>\n",
       "    .dataframe tbody tr th:only-of-type {\n",
       "        vertical-align: middle;\n",
       "    }\n",
       "\n",
       "    .dataframe tbody tr th {\n",
       "        vertical-align: top;\n",
       "    }\n",
       "\n",
       "    .dataframe thead th {\n",
       "        text-align: right;\n",
       "    }\n",
       "</style>\n",
       "<table border=\"1\" class=\"dataframe\">\n",
       "  <thead>\n",
       "    <tr style=\"text-align: right;\">\n",
       "      <th>Pais</th>\n",
       "      <th>Argentina</th>\n",
       "      <th>Colombia</th>\n",
       "      <th>Espana</th>\n",
       "      <th>Mexico</th>\n",
       "      <th>Venezuela</th>\n",
       "    </tr>\n",
       "    <tr>\n",
       "      <th>Categoria</th>\n",
       "      <th></th>\n",
       "      <th></th>\n",
       "      <th></th>\n",
       "      <th></th>\n",
       "      <th></th>\n",
       "    </tr>\n",
       "  </thead>\n",
       "  <tbody>\n",
       "    <tr>\n",
       "      <th>A</th>\n",
       "      <td>0.000</td>\n",
       "      <td>12.5</td>\n",
       "      <td>0.0</td>\n",
       "      <td>0.0</td>\n",
       "      <td>0.000</td>\n",
       "    </tr>\n",
       "    <tr>\n",
       "      <th>B</th>\n",
       "      <td>0.000</td>\n",
       "      <td>0.0</td>\n",
       "      <td>103.0</td>\n",
       "      <td>103.0</td>\n",
       "      <td>0.000</td>\n",
       "    </tr>\n",
       "    <tr>\n",
       "      <th>C</th>\n",
       "      <td>0.001</td>\n",
       "      <td>0.0</td>\n",
       "      <td>0.0</td>\n",
       "      <td>0.0</td>\n",
       "      <td>0.001</td>\n",
       "    </tr>\n",
       "  </tbody>\n",
       "</table>\n",
       "</div>"
      ],
      "text/plain": [
       "Pais       Argentina  Colombia  Espana  Mexico  Venezuela\n",
       "Categoria                                                \n",
       "A              0.000      12.5     0.0     0.0      0.000\n",
       "B              0.000       0.0   103.0   103.0      0.000\n",
       "C              0.001       0.0     0.0     0.0      0.001"
      ]
     },
     "execution_count": 79,
     "metadata": {},
     "output_type": "execute_result"
    }
   ],
   "source": [
    "tabla_t = pd.pivot_table(result2, index='Categoria', columns='Pais', values='Factor').fillna(0)\n",
    "tabla_t"
   ]
  },
  {
   "cell_type": "code",
   "execution_count": 80,
   "metadata": {},
   "outputs": [],
   "source": [
    "#df.fillna()"
   ]
  },
  {
   "cell_type": "markdown",
   "metadata": {},
   "source": [
    "# Transponer una tabla"
   ]
  },
  {
   "cell_type": "code",
   "execution_count": 77,
   "metadata": {},
   "outputs": [
    {
     "data": {
      "text/html": [
       "<div>\n",
       "<style scoped>\n",
       "    .dataframe tbody tr th:only-of-type {\n",
       "        vertical-align: middle;\n",
       "    }\n",
       "\n",
       "    .dataframe tbody tr th {\n",
       "        vertical-align: top;\n",
       "    }\n",
       "\n",
       "    .dataframe thead th {\n",
       "        text-align: right;\n",
       "    }\n",
       "</style>\n",
       "<table border=\"1\" class=\"dataframe\">\n",
       "  <thead>\n",
       "    <tr style=\"text-align: right;\">\n",
       "      <th></th>\n",
       "      <th>1</th>\n",
       "      <th>3</th>\n",
       "      <th>2</th>\n",
       "      <th>0</th>\n",
       "      <th>4</th>\n",
       "    </tr>\n",
       "  </thead>\n",
       "  <tbody>\n",
       "    <tr>\n",
       "      <th>Codigo</th>\n",
       "      <td>ARGE</td>\n",
       "      <td>COLO</td>\n",
       "      <td>ESPA</td>\n",
       "      <td>MEXI</td>\n",
       "      <td>VENE</td>\n",
       "    </tr>\n",
       "    <tr>\n",
       "      <th>Pais</th>\n",
       "      <td>Argentina</td>\n",
       "      <td>Colombia</td>\n",
       "      <td>Espana</td>\n",
       "      <td>Mexico</td>\n",
       "      <td>Venezuela</td>\n",
       "    </tr>\n",
       "    <tr>\n",
       "      <th>Poblacion</th>\n",
       "      <td>45167000</td>\n",
       "      <td>48922000</td>\n",
       "      <td>47099000</td>\n",
       "      <td>127212000</td>\n",
       "      <td>32423000</td>\n",
       "    </tr>\n",
       "    <tr>\n",
       "      <th>Categoria</th>\n",
       "      <td>C</td>\n",
       "      <td>A</td>\n",
       "      <td>B</td>\n",
       "      <td>B</td>\n",
       "      <td>C</td>\n",
       "    </tr>\n",
       "    <tr>\n",
       "      <th>Superficie</th>\n",
       "      <td>1964375</td>\n",
       "      <td>2780400</td>\n",
       "      <td>505944</td>\n",
       "      <td>1142748</td>\n",
       "      <td>916445</td>\n",
       "    </tr>\n",
       "    <tr>\n",
       "      <th>Habit_x_km2</th>\n",
       "      <td>22</td>\n",
       "      <td>17</td>\n",
       "      <td>93</td>\n",
       "      <td>111</td>\n",
       "      <td>35</td>\n",
       "    </tr>\n",
       "  </tbody>\n",
       "</table>\n",
       "</div>"
      ],
      "text/plain": [
       "                     1         3         2          0          4\n",
       "Codigo            ARGE      COLO      ESPA       MEXI       VENE\n",
       "Pais         Argentina  Colombia    Espana     Mexico  Venezuela\n",
       "Poblacion     45167000  48922000  47099000  127212000   32423000\n",
       "Categoria            C         A         B          B          C\n",
       "Superficie     1964375   2780400    505944    1142748     916445\n",
       "Habit_x_km2         22        17        93        111         35"
      ]
     },
     "execution_count": 77,
     "metadata": {},
     "output_type": "execute_result"
    }
   ],
   "source": [
    "df.T"
   ]
  },
  {
   "cell_type": "code",
   "execution_count": 78,
   "metadata": {},
   "outputs": [
    {
     "data": {
      "text/html": [
       "<div>\n",
       "<style scoped>\n",
       "    .dataframe tbody tr th:only-of-type {\n",
       "        vertical-align: middle;\n",
       "    }\n",
       "\n",
       "    .dataframe tbody tr th {\n",
       "        vertical-align: top;\n",
       "    }\n",
       "\n",
       "    .dataframe thead th {\n",
       "        text-align: right;\n",
       "    }\n",
       "</style>\n",
       "<table border=\"1\" class=\"dataframe\">\n",
       "  <thead>\n",
       "    <tr style=\"text-align: right;\">\n",
       "      <th></th>\n",
       "      <th>Codigo</th>\n",
       "      <th>Pais</th>\n",
       "      <th>Poblacion</th>\n",
       "      <th>Categoria</th>\n",
       "      <th>Superficie</th>\n",
       "      <th>Habit_x_km2</th>\n",
       "    </tr>\n",
       "  </thead>\n",
       "  <tbody>\n",
       "    <tr>\n",
       "      <th>1</th>\n",
       "      <td>ARGE</td>\n",
       "      <td>Argentina</td>\n",
       "      <td>45167000</td>\n",
       "      <td>C</td>\n",
       "      <td>1964375</td>\n",
       "      <td>22</td>\n",
       "    </tr>\n",
       "    <tr>\n",
       "      <th>3</th>\n",
       "      <td>COLO</td>\n",
       "      <td>Colombia</td>\n",
       "      <td>48922000</td>\n",
       "      <td>A</td>\n",
       "      <td>2780400</td>\n",
       "      <td>17</td>\n",
       "    </tr>\n",
       "    <tr>\n",
       "      <th>2</th>\n",
       "      <td>ESPA</td>\n",
       "      <td>Espana</td>\n",
       "      <td>47099000</td>\n",
       "      <td>B</td>\n",
       "      <td>505944</td>\n",
       "      <td>93</td>\n",
       "    </tr>\n",
       "    <tr>\n",
       "      <th>0</th>\n",
       "      <td>MEXI</td>\n",
       "      <td>Mexico</td>\n",
       "      <td>127212000</td>\n",
       "      <td>B</td>\n",
       "      <td>1142748</td>\n",
       "      <td>111</td>\n",
       "    </tr>\n",
       "    <tr>\n",
       "      <th>4</th>\n",
       "      <td>VENE</td>\n",
       "      <td>Venezuela</td>\n",
       "      <td>32423000</td>\n",
       "      <td>C</td>\n",
       "      <td>916445</td>\n",
       "      <td>35</td>\n",
       "    </tr>\n",
       "  </tbody>\n",
       "</table>\n",
       "</div>"
      ],
      "text/plain": [
       "  Codigo       Pais  Poblacion Categoria  Superficie  Habit_x_km2\n",
       "1   ARGE  Argentina   45167000         C     1964375           22\n",
       "3   COLO   Colombia   48922000         A     2780400           17\n",
       "2   ESPA     Espana   47099000         B      505944           93\n",
       "0   MEXI     Mexico  127212000         B     1142748          111\n",
       "4   VENE  Venezuela   32423000         C      916445           35"
      ]
     },
     "execution_count": 78,
     "metadata": {},
     "output_type": "execute_result"
    }
   ],
   "source": [
    "df"
   ]
  },
  {
   "cell_type": "markdown",
   "metadata": {},
   "source": [
    "# Visualizacion"
   ]
  },
  {
   "cell_type": "markdown",
   "metadata": {},
   "source": [
    "###### histograma"
   ]
  },
  {
   "cell_type": "code",
   "execution_count": 52,
   "metadata": {
    "scrolled": false
   },
   "outputs": [
    {
     "data": {
      "image/png": "[encoded data removed]",
      "text/plain": [
       "<Figure size 432x288 with 1 Axes>"
      ]
     },
     "metadata": {
      "needs_background": "light"
     },
     "output_type": "display_data"
    }
   ],
   "source": [
    "import matplotlib.pyplot as plt\n",
    "%matplotlib inline\n",
    "\n",
    "df[['Poblacion','Superficie']].plot.hist(bins=5,alpha=0.5)\n",
    "plt.show()"
   ]
  },
  {
   "cell_type": "markdown",
   "metadata": {},
   "source": [
    "###### gráfico de barras"
   ]
  },
  {
   "cell_type": "code",
   "execution_count": 82,
   "metadata": {},
   "outputs": [
    {
     "data": {
      "image/png": "[encoded data removed]",
      "text/plain": [
       "<Figure size 432x288 with 1 Axes>"
      ]
     },
     "metadata": {
      "needs_background": "light"
     },
     "output_type": "display_data"
    }
   ],
   "source": [
    "df.set_index('Pais')['Poblacion'].plot(kind='bar');"
   ]
  },
  {
   "cell_type": "markdown",
   "metadata": {},
   "source": [
    "###### gráfico de áreas"
   ]
  },
  {
   "cell_type": "code",
   "execution_count": 54,
   "metadata": {},
   "outputs": [
    {
     "data": {
      "image/png": "[encoded data removed]",
      "text/plain": [
       "<Figure size 432x288 with 1 Axes>"
      ]
     },
     "metadata": {
      "needs_background": "light"
     },
     "output_type": "display_data"
    }
   ],
   "source": [
    "df.set_index('Pais')['Habit_x_km2'].plot(kind='area');"
   ]
  },
  {
   "cell_type": "markdown",
   "metadata": {},
   "source": [
    "###### gráfico de áreas"
   ]
  },
  {
   "cell_type": "code",
   "execution_count": 55,
   "metadata": {},
   "outputs": [
    {
     "data": {
      "image/png": "[encoded data removed]",
      "text/plain": [
       "<Figure size 432x288 with 1 Axes>"
      ]
     },
     "metadata": {
      "needs_background": "light"
     },
     "output_type": "display_data"
    }
   ],
   "source": [
    "df.set_index('Pais').plot.barh(stacked=True);"
   ]
  },
  {
   "cell_type": "markdown",
   "metadata": {},
   "source": [
    "###### quesitos"
   ]
  },
  {
   "cell_type": "code",
   "execution_count": 56,
   "metadata": {},
   "outputs": [
    {
     "data": {
      "image/png": "[encoded data removed]",
      "text/plain": [
       "<Figure size 432x288 with 1 Axes>"
      ]
     },
     "metadata": {},
     "output_type": "display_data"
    }
   ],
   "source": [
    "df.set_index('Pais')['Superficie'].plot.pie();"
   ]
  },
  {
   "cell_type": "markdown",
   "metadata": {},
   "source": [
    "###### scatter"
   ]
  },
  {
   "cell_type": "code",
   "execution_count": 57,
   "metadata": {},
   "outputs": [
    {
     "data": {
      "image/png": "[encoded data removed]",
      "text/plain": [
       "<Figure size 432x288 with 1 Axes>"
      ]
     },
     "metadata": {
      "needs_background": "light"
     },
     "output_type": "display_data"
    }
   ],
   "source": [
    "df.plot.scatter(x='Habit_x_km2', y='Superficie');"
   ]
  },
  {
   "cell_type": "markdown",
   "metadata": {},
   "source": [
    "# BÁSICOS!!!"
   ]
  },
  {
   "cell_type": "code",
   "execution_count": 83,
   "metadata": {},
   "outputs": [],
   "source": [
    "# Leer un archivo csv\n",
    "#df_csv = pd.read_csv(\"nombre_archivo.csv\",nrows = ... )"
   ]
  },
  {
   "cell_type": "code",
   "execution_count": 84,
   "metadata": {},
   "outputs": [
    {
     "name": "stdout",
     "output_type": "stream",
     "text": [
      "<class 'pandas.core.frame.DataFrame'>\n",
      "Int64Index: 5 entries, 1 to 4\n",
      "Data columns (total 6 columns):\n",
      " #   Column       Non-Null Count  Dtype \n",
      "---  ------       --------------  ----- \n",
      " 0   Codigo       5 non-null      object\n",
      " 1   Pais         5 non-null      object\n",
      " 2   Poblacion    5 non-null      int64 \n",
      " 3   Categoria    5 non-null      object\n",
      " 4   Superficie   5 non-null      int64 \n",
      " 5   Habit_x_km2  5 non-null      int32 \n",
      "dtypes: int32(1), int64(2), object(3)\n",
      "memory usage: 420.0+ bytes\n"
     ]
    }
   ],
   "source": [
    "# Informacion de columnas, tipos de datos y nulos\n",
    "df.info()"
   ]
  },
  {
   "cell_type": "code",
   "execution_count": 85,
   "metadata": {},
   "outputs": [
    {
     "data": {
      "text/html": [
       "<div>\n",
       "<style scoped>\n",
       "    .dataframe tbody tr th:only-of-type {\n",
       "        vertical-align: middle;\n",
       "    }\n",
       "\n",
       "    .dataframe tbody tr th {\n",
       "        vertical-align: top;\n",
       "    }\n",
       "\n",
       "    .dataframe thead th {\n",
       "        text-align: right;\n",
       "    }\n",
       "</style>\n",
       "<table border=\"1\" class=\"dataframe\">\n",
       "  <thead>\n",
       "    <tr style=\"text-align: right;\">\n",
       "      <th></th>\n",
       "      <th>Poblacion</th>\n",
       "      <th>Superficie</th>\n",
       "      <th>Habit_x_km2</th>\n",
       "    </tr>\n",
       "  </thead>\n",
       "  <tbody>\n",
       "    <tr>\n",
       "      <th>count</th>\n",
       "      <td>5.000000e+00</td>\n",
       "      <td>5.000</td>\n",
       "      <td>5.00000</td>\n",
       "    </tr>\n",
       "    <tr>\n",
       "      <th>mean</th>\n",
       "      <td>6.016460e+07</td>\n",
       "      <td>1461982.400</td>\n",
       "      <td>55.60000</td>\n",
       "    </tr>\n",
       "    <tr>\n",
       "      <th>std</th>\n",
       "      <td>3.803612e+07</td>\n",
       "      <td>908866.653</td>\n",
       "      <td>43.33359</td>\n",
       "    </tr>\n",
       "    <tr>\n",
       "      <th>min</th>\n",
       "      <td>3.242300e+07</td>\n",
       "      <td>505944.000</td>\n",
       "      <td>17.00000</td>\n",
       "    </tr>\n",
       "    <tr>\n",
       "      <th>25%</th>\n",
       "      <td>4.516700e+07</td>\n",
       "      <td>916445.000</td>\n",
       "      <td>22.00000</td>\n",
       "    </tr>\n",
       "    <tr>\n",
       "      <th>50%</th>\n",
       "      <td>4.709900e+07</td>\n",
       "      <td>1142748.000</td>\n",
       "      <td>35.00000</td>\n",
       "    </tr>\n",
       "    <tr>\n",
       "      <th>75%</th>\n",
       "      <td>4.892200e+07</td>\n",
       "      <td>1964375.000</td>\n",
       "      <td>93.00000</td>\n",
       "    </tr>\n",
       "    <tr>\n",
       "      <th>max</th>\n",
       "      <td>1.272120e+08</td>\n",
       "      <td>2780400.000</td>\n",
       "      <td>111.00000</td>\n",
       "    </tr>\n",
       "  </tbody>\n",
       "</table>\n",
       "</div>"
      ],
      "text/plain": [
       "          Poblacion   Superficie  Habit_x_km2\n",
       "count  5.000000e+00        5.000      5.00000\n",
       "mean   6.016460e+07  1461982.400     55.60000\n",
       "std    3.803612e+07   908866.653     43.33359\n",
       "min    3.242300e+07   505944.000     17.00000\n",
       "25%    4.516700e+07   916445.000     22.00000\n",
       "50%    4.709900e+07  1142748.000     35.00000\n",
       "75%    4.892200e+07  1964375.000     93.00000\n",
       "max    1.272120e+08  2780400.000    111.00000"
      ]
     },
     "execution_count": 85,
     "metadata": {},
     "output_type": "execute_result"
    }
   ],
   "source": [
    "# estadísticas sobre las columnas numéricas\n",
    "df.describe()"
   ]
  },
  {
   "cell_type": "code",
   "execution_count": 88,
   "metadata": {},
   "outputs": [
    {
     "name": "stdout",
     "output_type": "stream",
     "text": [
      "  Codigo       Pais  Poblacion Categoria  Superficie  Habit_x_km2\n",
      "1   ARGE  Argentina   45167000         C     1964375           22\n",
      "3   COLO   Colombia   48922000         A     2780400           17\n",
      "2   ESPA     Espana   47099000         B      505944           93\n",
      "0   MEXI     Mexico  127212000         B     1142748          111\n",
      "4   VENE  Venezuela   32423000         C      916445           35\n",
      "  Codigo       Pais  Poblacion Categoria  Superficie  Habit_x_km2\n",
      "1   ARGE  Argentina   45167000         C     1964375           22\n",
      "3   COLO   Colombia   48922000         A     2780400           17\n",
      "  Codigo       Pais  Poblacion Categoria  Superficie  Habit_x_km2\n",
      "0   MEXI     Mexico  127212000         B     1142748          111\n",
      "4   VENE  Venezuela   32423000         C      916445           35\n"
     ]
    }
   ],
   "source": [
    "#ver primeras n filas  (ó ultimas)\n",
    "print(df)\n",
    "print(df.head(2))\n",
    "print(df.tail(2))"
   ]
  },
  {
   "cell_type": "code",
   "execution_count": 119,
   "metadata": {},
   "outputs": [
    {
     "data": {
      "text/plain": [
       "(5, 6)"
      ]
     },
     "execution_count": 119,
     "metadata": {},
     "output_type": "execute_result"
    }
   ],
   "source": [
    "# dimensiones del dataframe (filas, columnas)\n",
    "df.shape"
   ]
  },
  {
   "cell_type": "code",
   "execution_count": 90,
   "metadata": {
    "scrolled": true
   },
   "outputs": [
    {
     "data": {
      "text/plain": [
       "5"
      ]
     },
     "execution_count": 90,
     "metadata": {},
     "output_type": "execute_result"
    }
   ],
   "source": [
    "#cantidad de filas\n",
    "len(df)"
   ]
  },
  {
   "cell_type": "code",
   "execution_count": 122,
   "metadata": {},
   "outputs": [
    {
     "data": {
      "text/html": [
       "<div>\n",
       "<style scoped>\n",
       "    .dataframe tbody tr th:only-of-type {\n",
       "        vertical-align: middle;\n",
       "    }\n",
       "\n",
       "    .dataframe tbody tr th {\n",
       "        vertical-align: top;\n",
       "    }\n",
       "\n",
       "    .dataframe thead th {\n",
       "        text-align: right;\n",
       "    }\n",
       "</style>\n",
       "<table border=\"1\" class=\"dataframe\">\n",
       "  <thead>\n",
       "    <tr style=\"text-align: right;\">\n",
       "      <th></th>\n",
       "      <th>Codigo</th>\n",
       "      <th>Pais</th>\n",
       "      <th>Poblacion</th>\n",
       "      <th>Categoria</th>\n",
       "      <th>Superficie</th>\n",
       "      <th>Habit_x_km2</th>\n",
       "    </tr>\n",
       "  </thead>\n",
       "  <tbody>\n",
       "    <tr>\n",
       "      <th>1</th>\n",
       "      <td>ARGE</td>\n",
       "      <td>Argentina</td>\n",
       "      <td>45167000</td>\n",
       "      <td>C</td>\n",
       "      <td>1964375</td>\n",
       "      <td>22</td>\n",
       "    </tr>\n",
       "    <tr>\n",
       "      <th>3</th>\n",
       "      <td>COLO</td>\n",
       "      <td>Colombia</td>\n",
       "      <td>48922000</td>\n",
       "      <td>A</td>\n",
       "      <td>2780400</td>\n",
       "      <td>17</td>\n",
       "    </tr>\n",
       "    <tr>\n",
       "      <th>2</th>\n",
       "      <td>ESPA</td>\n",
       "      <td>Espana</td>\n",
       "      <td>47099000</td>\n",
       "      <td>D</td>\n",
       "      <td>505944</td>\n",
       "      <td>93</td>\n",
       "    </tr>\n",
       "    <tr>\n",
       "      <th>0</th>\n",
       "      <td>MEXI</td>\n",
       "      <td>Mexico</td>\n",
       "      <td>127212000</td>\n",
       "      <td>B</td>\n",
       "      <td>1142748</td>\n",
       "      <td>111</td>\n",
       "    </tr>\n",
       "    <tr>\n",
       "      <th>4</th>\n",
       "      <td>VENE</td>\n",
       "      <td>Venezuela</td>\n",
       "      <td>32423000</td>\n",
       "      <td>D</td>\n",
       "      <td>916445</td>\n",
       "      <td>35</td>\n",
       "    </tr>\n",
       "  </tbody>\n",
       "</table>\n",
       "</div>"
      ],
      "text/plain": [
       "  Codigo       Pais  Poblacion Categoria  Superficie  Habit_x_km2\n",
       "1   ARGE  Argentina   45167000         C     1964375           22\n",
       "3   COLO   Colombia   48922000         A     2780400           17\n",
       "2   ESPA     Espana   47099000         D      505944           93\n",
       "0   MEXI     Mexico  127212000         B     1142748          111\n",
       "4   VENE  Venezuela   32423000         D      916445           35"
      ]
     },
     "execution_count": 122,
     "metadata": {},
     "output_type": "execute_result"
    }
   ],
   "source": [
    "df"
   ]
  },
  {
   "cell_type": "code",
   "execution_count": 92,
   "metadata": {
    "scrolled": true
   },
   "outputs": [
    {
     "name": "stdout",
     "output_type": "stream",
     "text": [
      "Argentina\n",
      "A\n",
      "47099000\n",
      "MEXI\n",
      "916445\n"
     ]
    }
   ],
   "source": [
    "#Iterar un dataframe\n",
    "for index, row in df.iterrows():    \n",
    "    print(row[index])"
   ]
  },
  {
   "cell_type": "code",
   "execution_count": 124,
   "metadata": {},
   "outputs": [
    {
     "data": {
      "text/html": [
       "<div>\n",
       "<style scoped>\n",
       "    .dataframe tbody tr th:only-of-type {\n",
       "        vertical-align: middle;\n",
       "    }\n",
       "\n",
       "    .dataframe tbody tr th {\n",
       "        vertical-align: top;\n",
       "    }\n",
       "\n",
       "    .dataframe thead th {\n",
       "        text-align: right;\n",
       "    }\n",
       "</style>\n",
       "<table border=\"1\" class=\"dataframe\">\n",
       "  <thead>\n",
       "    <tr style=\"text-align: right;\">\n",
       "      <th></th>\n",
       "      <th>Codigo</th>\n",
       "      <th>Pais</th>\n",
       "      <th>Poblacion</th>\n",
       "      <th>Categoria</th>\n",
       "      <th>Superficie</th>\n",
       "      <th>Habit_x_km2</th>\n",
       "    </tr>\n",
       "  </thead>\n",
       "  <tbody>\n",
       "    <tr>\n",
       "      <th>0</th>\n",
       "      <td>MEXI</td>\n",
       "      <td>Mexico</td>\n",
       "      <td>127212000</td>\n",
       "      <td>B</td>\n",
       "      <td>1142748</td>\n",
       "      <td>111</td>\n",
       "    </tr>\n",
       "    <tr>\n",
       "      <th>1</th>\n",
       "      <td>ARGE</td>\n",
       "      <td>Argentina</td>\n",
       "      <td>45167000</td>\n",
       "      <td>C</td>\n",
       "      <td>1964375</td>\n",
       "      <td>22</td>\n",
       "    </tr>\n",
       "    <tr>\n",
       "      <th>2</th>\n",
       "      <td>ESPA</td>\n",
       "      <td>Espana</td>\n",
       "      <td>47099000</td>\n",
       "      <td>D</td>\n",
       "      <td>505944</td>\n",
       "      <td>93</td>\n",
       "    </tr>\n",
       "    <tr>\n",
       "      <th>3</th>\n",
       "      <td>COLO</td>\n",
       "      <td>Colombia</td>\n",
       "      <td>48922000</td>\n",
       "      <td>A</td>\n",
       "      <td>2780400</td>\n",
       "      <td>17</td>\n",
       "    </tr>\n",
       "    <tr>\n",
       "      <th>4</th>\n",
       "      <td>VENE</td>\n",
       "      <td>Venezuela</td>\n",
       "      <td>32423000</td>\n",
       "      <td>D</td>\n",
       "      <td>916445</td>\n",
       "      <td>35</td>\n",
       "    </tr>\n",
       "  </tbody>\n",
       "</table>\n",
       "</div>"
      ],
      "text/plain": [
       "  Codigo       Pais  Poblacion Categoria  Superficie  Habit_x_km2\n",
       "0   MEXI     Mexico  127212000         B     1142748          111\n",
       "1   ARGE  Argentina   45167000         C     1964375           22\n",
       "2   ESPA     Espana   47099000         D      505944           93\n",
       "3   COLO   Colombia   48922000         A     2780400           17\n",
       "4   VENE  Venezuela   32423000         D      916445           35"
      ]
     },
     "execution_count": 124,
     "metadata": {},
     "output_type": "execute_result"
    }
   ],
   "source": [
    "df2 = pd.DataFrame(df, index = [0,1,2,3,4])\n",
    "df2"
   ]
  },
  {
   "cell_type": "code",
   "execution_count": 125,
   "metadata": {},
   "outputs": [
    {
     "name": "stdout",
     "output_type": "stream",
     "text": [
      "MEXI\n",
      "Argentina\n",
      "47099000\n",
      "A\n",
      "916445\n"
     ]
    }
   ],
   "source": [
    "#la diagonal de la matriz\n",
    "for index, row in df2.iterrows():    \n",
    "    print(row[index])"
   ]
  },
  {
   "cell_type": "code",
   "execution_count": 93,
   "metadata": {},
   "outputs": [
    {
     "name": "stdout",
     "output_type": "stream",
     "text": [
      "Argentina\n",
      "Colombia\n",
      "Espana\n",
      "Mexico\n",
      "Venezuela\n"
     ]
    }
   ],
   "source": [
    "#Iterar un dataframe\n",
    "for index, row in df.iterrows():    \n",
    "    print(row['Pais'])"
   ]
  },
  {
   "cell_type": "code",
   "execution_count": 126,
   "metadata": {},
   "outputs": [
    {
     "name": "stdout",
     "output_type": "stream",
     "text": [
      "Mexico\n",
      "Argentina\n",
      "Espana\n",
      "Colombia\n",
      "Venezuela\n"
     ]
    }
   ],
   "source": [
    "#Iterar un dataframe\n",
    "for index, row in df2.iterrows():    \n",
    "    print(row['Pais'])"
   ]
  },
  {
   "cell_type": "code",
   "execution_count": 94,
   "metadata": {},
   "outputs": [
    {
     "name": "stdout",
     "output_type": "stream",
     "text": [
      "55.6\n",
      "278\n",
      "5\n",
      "17\n",
      "111\n"
     ]
    }
   ],
   "source": [
    "# Obtener sumatoria, media y cantidad de una columna\n",
    "print(df['Habit_x_km2'].mean())\n",
    "print(df['Habit_x_km2'].sum())\n",
    "print(df['Habit_x_km2'].count())\n",
    "print(df['Habit_x_km2'].min())\n",
    "print(df['Habit_x_km2'].max())"
   ]
  },
  {
   "cell_type": "code",
   "execution_count": 117,
   "metadata": {},
   "outputs": [
    {
     "data": {
      "text/plain": [
       "Codigo                           ARGECOLOESPAMEXIVENE\n",
       "Pais           ArgentinaColombiaEspanaMexicoVenezuela\n",
       "Poblacion                                   300823000\n",
       "Categoria                                       CADBD\n",
       "Superficie                                    7309912\n",
       "Habit_x_km2                                       278\n",
       "dtype: object"
      ]
     },
     "execution_count": 117,
     "metadata": {},
     "output_type": "execute_result"
    }
   ],
   "source": [
    "df.sum()"
   ]
  },
  {
   "cell_type": "code",
   "execution_count": 95,
   "metadata": {},
   "outputs": [
    {
     "data": {
      "text/plain": [
       "count      5.00000\n",
       "mean      55.60000\n",
       "std       43.33359\n",
       "min       17.00000\n",
       "25%       22.00000\n",
       "50%       35.00000\n",
       "75%       93.00000\n",
       "max      111.00000\n",
       "Name: Habit_x_km2, dtype: float64"
      ]
     },
     "execution_count": 95,
     "metadata": {},
     "output_type": "execute_result"
    }
   ],
   "source": [
    "df['Habit_x_km2'].describe()"
   ]
  },
  {
   "cell_type": "code",
   "execution_count": 127,
   "metadata": {},
   "outputs": [
    {
     "data": {
      "text/html": [
       "<div>\n",
       "<style scoped>\n",
       "    .dataframe tbody tr th:only-of-type {\n",
       "        vertical-align: middle;\n",
       "    }\n",
       "\n",
       "    .dataframe tbody tr th {\n",
       "        vertical-align: top;\n",
       "    }\n",
       "\n",
       "    .dataframe thead th {\n",
       "        text-align: right;\n",
       "    }\n",
       "</style>\n",
       "<table border=\"1\" class=\"dataframe\">\n",
       "  <thead>\n",
       "    <tr style=\"text-align: right;\">\n",
       "      <th></th>\n",
       "      <th>Codigo</th>\n",
       "      <th>Pais</th>\n",
       "      <th>Poblacion</th>\n",
       "      <th>Categoria</th>\n",
       "      <th>Superficie</th>\n",
       "      <th>Habit_x_km2</th>\n",
       "    </tr>\n",
       "  </thead>\n",
       "  <tbody>\n",
       "    <tr>\n",
       "      <th>1</th>\n",
       "      <td>False</td>\n",
       "      <td>False</td>\n",
       "      <td>False</td>\n",
       "      <td>False</td>\n",
       "      <td>False</td>\n",
       "      <td>False</td>\n",
       "    </tr>\n",
       "    <tr>\n",
       "      <th>3</th>\n",
       "      <td>False</td>\n",
       "      <td>False</td>\n",
       "      <td>False</td>\n",
       "      <td>False</td>\n",
       "      <td>False</td>\n",
       "      <td>False</td>\n",
       "    </tr>\n",
       "    <tr>\n",
       "      <th>2</th>\n",
       "      <td>False</td>\n",
       "      <td>False</td>\n",
       "      <td>False</td>\n",
       "      <td>False</td>\n",
       "      <td>False</td>\n",
       "      <td>False</td>\n",
       "    </tr>\n",
       "    <tr>\n",
       "      <th>0</th>\n",
       "      <td>False</td>\n",
       "      <td>False</td>\n",
       "      <td>False</td>\n",
       "      <td>False</td>\n",
       "      <td>False</td>\n",
       "      <td>False</td>\n",
       "    </tr>\n",
       "    <tr>\n",
       "      <th>4</th>\n",
       "      <td>False</td>\n",
       "      <td>False</td>\n",
       "      <td>False</td>\n",
       "      <td>False</td>\n",
       "      <td>False</td>\n",
       "      <td>False</td>\n",
       "    </tr>\n",
       "  </tbody>\n",
       "</table>\n",
       "</div>"
      ],
      "text/plain": [
       "   Codigo   Pais  Poblacion  Categoria  Superficie  Habit_x_km2\n",
       "1   False  False      False      False       False        False\n",
       "3   False  False      False      False       False        False\n",
       "2   False  False      False      False       False        False\n",
       "0   False  False      False      False       False        False\n",
       "4   False  False      False      False       False        False"
      ]
     },
     "execution_count": 127,
     "metadata": {},
     "output_type": "execute_result"
    }
   ],
   "source": [
    "# Revisar si tenemos nulos en la tabla\n",
    "df.isnull()"
   ]
  },
  {
   "cell_type": "code",
   "execution_count": 97,
   "metadata": {},
   "outputs": [
    {
     "data": {
      "text/plain": [
       "0"
      ]
     },
     "execution_count": 97,
     "metadata": {},
     "output_type": "execute_result"
    }
   ],
   "source": [
    "# Revisar si tenemos nulos en alguna columna\n",
    "df['Habit_x_km2'].isnull().sum()"
   ]
  },
  {
   "cell_type": "code",
   "execution_count": 98,
   "metadata": {},
   "outputs": [
    {
     "data": {
      "text/plain": [
       "1    1964375\n",
       "3    2780400\n",
       "2     505944\n",
       "0    1142748\n",
       "4     916445\n",
       "Name: Superficie, dtype: int64"
      ]
     },
     "execution_count": 98,
     "metadata": {},
     "output_type": "execute_result"
    }
   ],
   "source": [
    "#acceso a una columna\n",
    "df.Superficie"
   ]
  },
  {
   "cell_type": "code",
   "execution_count": 99,
   "metadata": {},
   "outputs": [
    {
     "data": {
      "text/plain": [
       "1    1964375\n",
       "3    2780400\n",
       "2     505944\n",
       "0    1142748\n",
       "4     916445\n",
       "Name: Superficie, dtype: int64"
      ]
     },
     "execution_count": 99,
     "metadata": {},
     "output_type": "execute_result"
    }
   ],
   "source": [
    "df['Superficie']"
   ]
  },
  {
   "cell_type": "code",
   "execution_count": 129,
   "metadata": {},
   "outputs": [
    {
     "data": {
      "text/plain": [
       "array(['C', 'A', 'D', 'B'], dtype=object)"
      ]
     },
     "execution_count": 129,
     "metadata": {},
     "output_type": "execute_result"
    }
   ],
   "source": [
    "# unicos\n",
    "df.Categoria.unique()"
   ]
  },
  {
   "cell_type": "code",
   "execution_count": 101,
   "metadata": {},
   "outputs": [
    {
     "data": {
      "text/plain": [
       "array(['C', 'A', 'B'], dtype=object)"
      ]
     },
     "execution_count": 101,
     "metadata": {},
     "output_type": "execute_result"
    }
   ],
   "source": [
    "df['Categoria'].unique()"
   ]
  },
  {
   "cell_type": "code",
   "execution_count": 102,
   "metadata": {},
   "outputs": [
    {
     "data": {
      "text/plain": [
       "3"
      ]
     },
     "execution_count": 102,
     "metadata": {},
     "output_type": "execute_result"
    }
   ],
   "source": [
    "# cantidad de unicos\n",
    "len(df.Categoria.unique())"
   ]
  },
  {
   "cell_type": "code",
   "execution_count": 103,
   "metadata": {},
   "outputs": [
    {
     "data": {
      "text/plain": [
       "B    2\n",
       "C    2\n",
       "A    1\n",
       "Name: Categoria, dtype: int64"
      ]
     },
     "execution_count": 103,
     "metadata": {},
     "output_type": "execute_result"
    }
   ],
   "source": [
    "# contabilizar por una columna\n",
    "pd.value_counts(df['Categoria'], sort = True)"
   ]
  },
  {
   "cell_type": "code",
   "execution_count": 132,
   "metadata": {
    "scrolled": true
   },
   "outputs": [
    {
     "data": {
      "text/plain": [
       "Categoria\n",
       "A    1\n",
       "B    1\n",
       "C    1\n",
       "D    2\n",
       "dtype: int64"
      ]
     },
     "execution_count": 132,
     "metadata": {},
     "output_type": "execute_result"
    }
   ],
   "source": [
    "df.groupby(['Categoria']).size()"
   ]
  },
  {
   "cell_type": "code",
   "execution_count": 136,
   "metadata": {},
   "outputs": [
    {
     "data": {
      "text/html": [
       "<div>\n",
       "<style scoped>\n",
       "    .dataframe tbody tr th:only-of-type {\n",
       "        vertical-align: middle;\n",
       "    }\n",
       "\n",
       "    .dataframe tbody tr th {\n",
       "        vertical-align: top;\n",
       "    }\n",
       "\n",
       "    .dataframe thead th {\n",
       "        text-align: right;\n",
       "    }\n",
       "</style>\n",
       "<table border=\"1\" class=\"dataframe\">\n",
       "  <thead>\n",
       "    <tr style=\"text-align: right;\">\n",
       "      <th></th>\n",
       "      <th>Codigo</th>\n",
       "      <th>Pais</th>\n",
       "      <th>Poblacion</th>\n",
       "      <th>Categoria</th>\n",
       "      <th>Superficie</th>\n",
       "      <th>Habit_x_km2</th>\n",
       "    </tr>\n",
       "  </thead>\n",
       "  <tbody>\n",
       "    <tr>\n",
       "      <th>1</th>\n",
       "      <td>ARGE</td>\n",
       "      <td>Argentina</td>\n",
       "      <td>45167000</td>\n",
       "      <td>C</td>\n",
       "      <td>1964375</td>\n",
       "      <td>22</td>\n",
       "    </tr>\n",
       "    <tr>\n",
       "      <th>3</th>\n",
       "      <td>COLO</td>\n",
       "      <td>Colombia</td>\n",
       "      <td>48922000</td>\n",
       "      <td>A</td>\n",
       "      <td>2780400</td>\n",
       "      <td>17</td>\n",
       "    </tr>\n",
       "    <tr>\n",
       "      <th>2</th>\n",
       "      <td>ESPA</td>\n",
       "      <td>Espana</td>\n",
       "      <td>47099000</td>\n",
       "      <td>D</td>\n",
       "      <td>505944</td>\n",
       "      <td>93</td>\n",
       "    </tr>\n",
       "    <tr>\n",
       "      <th>0</th>\n",
       "      <td>MEXI</td>\n",
       "      <td>Mexico</td>\n",
       "      <td>127212000</td>\n",
       "      <td>B</td>\n",
       "      <td>1142748</td>\n",
       "      <td>111</td>\n",
       "    </tr>\n",
       "    <tr>\n",
       "      <th>4</th>\n",
       "      <td>VENE</td>\n",
       "      <td>Venezuela</td>\n",
       "      <td>32423000</td>\n",
       "      <td>D</td>\n",
       "      <td>916445</td>\n",
       "      <td>35</td>\n",
       "    </tr>\n",
       "  </tbody>\n",
       "</table>\n",
       "</div>"
      ],
      "text/plain": [
       "  Codigo       Pais  Poblacion Categoria  Superficie  Habit_x_km2\n",
       "1   ARGE  Argentina   45167000         C     1964375           22\n",
       "3   COLO   Colombia   48922000         A     2780400           17\n",
       "2   ESPA     Espana   47099000         D      505944           93\n",
       "0   MEXI     Mexico  127212000         B     1142748          111\n",
       "4   VENE  Venezuela   32423000         D      916445           35"
      ]
     },
     "execution_count": 136,
     "metadata": {},
     "output_type": "execute_result"
    }
   ],
   "source": [
    "df"
   ]
  },
  {
   "cell_type": "code",
   "execution_count": 108,
   "metadata": {},
   "outputs": [
    {
     "data": {
      "text/plain": [
       "Codigo              VENE\n",
       "Pais           Venezuela\n",
       "Poblacion       32423000\n",
       "Categoria              C\n",
       "Superficie        916445\n",
       "Habit_x_km2           35\n",
       "Name: 4, dtype: object"
      ]
     },
     "execution_count": 108,
     "metadata": {},
     "output_type": "execute_result"
    }
   ],
   "source": [
    "# Obtener ultima fila\n",
    "df.iloc[-1]"
   ]
  },
  {
   "cell_type": "code",
   "execution_count": 134,
   "metadata": {},
   "outputs": [
    {
     "data": {
      "text/plain": [
       "Codigo              MEXI\n",
       "Pais              Mexico\n",
       "Poblacion      127212000\n",
       "Categoria              B\n",
       "Superficie       1142748\n",
       "Habit_x_km2          111\n",
       "Name: 0, dtype: object"
      ]
     },
     "execution_count": 134,
     "metadata": {},
     "output_type": "execute_result"
    }
   ],
   "source": [
    "# Obtener una fila por su índice\n",
    "df.iloc[3]"
   ]
  },
  {
   "cell_type": "code",
   "execution_count": 112,
   "metadata": {},
   "outputs": [
    {
     "data": {
      "text/plain": [
       "1    ARGE\n",
       "3    COLO\n",
       "2    ESPA\n",
       "0    MEXI\n",
       "4    VENE\n",
       "Name: Codigo, dtype: object"
      ]
     },
     "execution_count": 112,
     "metadata": {},
     "output_type": "execute_result"
    }
   ],
   "source": [
    "# obtener primera columna\n",
    "df.iloc[:,0]"
   ]
  },
  {
   "cell_type": "code",
   "execution_count": 135,
   "metadata": {},
   "outputs": [
    {
     "data": {
      "text/plain": [
       "Codigo             COLO\n",
       "Pais           Colombia\n",
       "Poblacion      48922000\n",
       "Categoria             A\n",
       "Superficie      2780400\n",
       "Habit_x_km2          17\n",
       "Name: 3, dtype: object"
      ]
     },
     "execution_count": 135,
     "metadata": {},
     "output_type": "execute_result"
    }
   ],
   "source": [
    "# Busco por indice\n",
    "df.loc[3]"
   ]
  },
  {
   "cell_type": "code",
   "execution_count": 114,
   "metadata": {},
   "outputs": [
    {
     "data": {
      "text/plain": [
       "Index(['Codigo', 'Pais', 'Poblacion', 'Categoria', 'Superficie',\n",
       "       'Habit_x_km2'],\n",
       "      dtype='object')"
      ]
     },
     "execution_count": 114,
     "metadata": {},
     "output_type": "execute_result"
    }
   ],
   "source": [
    "#obtener nombre de las columnas\n",
    "df.columns"
   ]
  },
  {
   "cell_type": "code",
   "execution_count": 115,
   "metadata": {},
   "outputs": [
    {
     "data": {
      "text/html": [
       "<div>\n",
       "<style scoped>\n",
       "    .dataframe tbody tr th:only-of-type {\n",
       "        vertical-align: middle;\n",
       "    }\n",
       "\n",
       "    .dataframe tbody tr th {\n",
       "        vertical-align: top;\n",
       "    }\n",
       "\n",
       "    .dataframe thead th {\n",
       "        text-align: right;\n",
       "    }\n",
       "</style>\n",
       "<table border=\"1\" class=\"dataframe\">\n",
       "  <thead>\n",
       "    <tr style=\"text-align: right;\">\n",
       "      <th></th>\n",
       "      <th>Pais</th>\n",
       "    </tr>\n",
       "  </thead>\n",
       "  <tbody>\n",
       "    <tr>\n",
       "      <th>2</th>\n",
       "      <td>Espana</td>\n",
       "    </tr>\n",
       "    <tr>\n",
       "      <th>4</th>\n",
       "      <td>Venezuela</td>\n",
       "    </tr>\n",
       "  </tbody>\n",
       "</table>\n",
       "</div>"
      ],
      "text/plain": [
       "        Pais\n",
       "2     Espana\n",
       "4  Venezuela"
      ]
     },
     "execution_count": 115,
     "metadata": {},
     "output_type": "execute_result"
    }
   ],
   "source": [
    "# obtner una columna dentro de una condicion\n",
    "df.loc[ df['Superficie'] < 1000000 ,[\"Pais\"]]"
   ]
  },
  {
   "cell_type": "code",
   "execution_count": 116,
   "metadata": {},
   "outputs": [
    {
     "data": {
      "text/html": [
       "<div>\n",
       "<style scoped>\n",
       "    .dataframe tbody tr th:only-of-type {\n",
       "        vertical-align: middle;\n",
       "    }\n",
       "\n",
       "    .dataframe tbody tr th {\n",
       "        vertical-align: top;\n",
       "    }\n",
       "\n",
       "    .dataframe thead th {\n",
       "        text-align: right;\n",
       "    }\n",
       "</style>\n",
       "<table border=\"1\" class=\"dataframe\">\n",
       "  <thead>\n",
       "    <tr style=\"text-align: right;\">\n",
       "      <th></th>\n",
       "      <th>Codigo</th>\n",
       "      <th>Pais</th>\n",
       "      <th>Poblacion</th>\n",
       "      <th>Categoria</th>\n",
       "      <th>Superficie</th>\n",
       "      <th>Habit_x_km2</th>\n",
       "    </tr>\n",
       "  </thead>\n",
       "  <tbody>\n",
       "    <tr>\n",
       "      <th>1</th>\n",
       "      <td>ARGE</td>\n",
       "      <td>Argentina</td>\n",
       "      <td>45167000</td>\n",
       "      <td>C</td>\n",
       "      <td>1964375</td>\n",
       "      <td>22</td>\n",
       "    </tr>\n",
       "    <tr>\n",
       "      <th>3</th>\n",
       "      <td>COLO</td>\n",
       "      <td>Colombia</td>\n",
       "      <td>48922000</td>\n",
       "      <td>A</td>\n",
       "      <td>2780400</td>\n",
       "      <td>17</td>\n",
       "    </tr>\n",
       "    <tr>\n",
       "      <th>2</th>\n",
       "      <td>ESPA</td>\n",
       "      <td>Espana</td>\n",
       "      <td>47099000</td>\n",
       "      <td>D</td>\n",
       "      <td>505944</td>\n",
       "      <td>93</td>\n",
       "    </tr>\n",
       "    <tr>\n",
       "      <th>0</th>\n",
       "      <td>MEXI</td>\n",
       "      <td>Mexico</td>\n",
       "      <td>127212000</td>\n",
       "      <td>B</td>\n",
       "      <td>1142748</td>\n",
       "      <td>111</td>\n",
       "    </tr>\n",
       "    <tr>\n",
       "      <th>4</th>\n",
       "      <td>VENE</td>\n",
       "      <td>Venezuela</td>\n",
       "      <td>32423000</td>\n",
       "      <td>D</td>\n",
       "      <td>916445</td>\n",
       "      <td>35</td>\n",
       "    </tr>\n",
       "  </tbody>\n",
       "</table>\n",
       "</div>"
      ],
      "text/plain": [
       "  Codigo       Pais  Poblacion Categoria  Superficie  Habit_x_km2\n",
       "1   ARGE  Argentina   45167000         C     1964375           22\n",
       "3   COLO   Colombia   48922000         A     2780400           17\n",
       "2   ESPA     Espana   47099000         D      505944           93\n",
       "0   MEXI     Mexico  127212000         B     1142748          111\n",
       "4   VENE  Venezuela   32423000         D      916445           35"
      ]
     },
     "execution_count": 116,
     "metadata": {},
     "output_type": "execute_result"
    }
   ],
   "source": [
    "# Modificar Valor con loc\n",
    "df.loc[ df['Superficie'] < 1000000 ,\"Categoria\"] = 'D'\n",
    "df"
   ]
  },
  {
   "cell_type": "code",
   "execution_count": null,
   "metadata": {},
   "outputs": [],
   "source": []
  }
 ],
 "metadata": {
  "kernelspec": {
   "display_name": "Python 3",
   "language": "python",
   "name": "python3"
  },
  "language_info": {
   "codemirror_mode": {
    "name": "ipython",
    "version": 3
   },
   "file_extension": ".py",
   "mimetype": "text/x-python",
   "name": "python",
   "nbconvert_exporter": "python",
   "pygments_lexer": "ipython3",
   "version": "3.8.5"
  }
 },
 "nbformat": 4,
 "nbformat_minor": 4
}
