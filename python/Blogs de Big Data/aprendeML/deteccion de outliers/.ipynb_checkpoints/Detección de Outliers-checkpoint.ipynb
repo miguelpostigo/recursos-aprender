{
 "cells": [
  {
   "cell_type": "markdown",
   "metadata": {},
   "source": [
    "https://www.aprendemachinelearning.com/deteccion-de-outliers-en-python-anomalia/"
   ]
  },
  {
   "cell_type": "markdown",
   "metadata": {},
   "source": [
    "LO QUE VAMOS A VER:\n",
    "- detección de outliers en:\n",
    "\n",
    "    -1 dimensión\n",
    "        -OTRA FORMA\n",
    "    -2 dimensiones\n",
    "- como afectan los outliers -->linea de tendencia de la distribución\n",
    "        -OTRA FORMA\n",
    "    -3 dimensiónes\n",
    "        -OTRA FORMA\n",
    "    - N DIMENSIONES   \n",
    "- Boxplots: Una gráfica de detección sencilla \n",
    "    -OTRA FORMA --> seaborn\n",
    "- Outliers usando Libreria Pyod\n",
    "- Una vez detectados, ¿qué hago?"
   ]
  },
  {
   "cell_type": "markdown",
   "metadata": {},
   "source": [
    "# detección de outliers en:"
   ]
  },
  {
   "cell_type": "markdown",
   "metadata": {},
   "source": [
    "# 1 dimensión"
   ]
  },
  {
   "cell_type": "code",
   "execution_count": 15,
   "metadata": {},
   "outputs": [],
   "source": [
    "import matplotlib.pyplot as plt\n",
    "import numpy as np\n",
    "import pandas as pd\n",
    "from math import pi"
   ]
  },
  {
   "cell_type": "code",
   "execution_count": 4,
   "metadata": {},
   "outputs": [
    {
     "name": "stdout",
     "output_type": "stream",
     "text": [
      "[22 23 26 27 28 30 31 32 33 34 80]\n",
      "[2 4 1 2 1 4 1 1 1 1 1]\n"
     ]
    }
   ],
   "source": [
    "edades = np.array([22,22,23,23,23,23,26,27,27,28,30,30,30,30,31,32,33,34,80])\n",
    "edad_unique, counts = np.unique(edades, return_counts=True)\n",
    "print(edad_unique)\n",
    "print(counts)"
   ]
  },
  {
   "cell_type": "code",
   "execution_count": 11,
   "metadata": {},
   "outputs": [
    {
     "data": {
      "text/plain": [
       "array([200, 400, 100, 200, 100, 400, 100, 100, 100, 100, 100], dtype=int64)"
      ]
     },
     "execution_count": 11,
     "metadata": {},
     "output_type": "execute_result"
    }
   ],
   "source": [
    "#lo vamos a poner como parámetro luego en el *scatter*, de forma que los valores mayores tendrán un mayor tamaño\n",
    "sizes = counts*100\n",
    "sizes"
   ]
  },
  {
   "cell_type": "code",
   "execution_count": 12,
   "metadata": {},
   "outputs": [
    {
     "data": {
      "text/plain": [
       "['blue',\n",
       " 'blue',\n",
       " 'blue',\n",
       " 'blue',\n",
       " 'blue',\n",
       " 'blue',\n",
       " 'blue',\n",
       " 'blue',\n",
       " 'blue',\n",
       " 'blue',\n",
       " 'red']"
      ]
     },
     "execution_count": 12,
     "metadata": {},
     "output_type": "execute_result"
    }
   ],
   "source": [
    "len(edad_unique) #nº de valores unicos\n",
    "colors = ['blue']*len(edad_unique)\n",
    "colors[-1] = 'red' \n",
    "colors"
   ]
  },
  {
   "cell_type": "code",
   "execution_count": 13,
   "metadata": {},
   "outputs": [
    {
     "data": {
      "image/png": "[encoded data removed]",
      "text/plain": [
       "<Figure size 432x288 with 1 Axes>"
      ]
     },
     "metadata": {
      "needs_background": "light"
     },
     "output_type": "display_data"
    }
   ],
   "source": [
    "#VISUALIZACIÓN\n",
    "plt.axhline(1, color='k', linestyle='--')\n",
    "plt.scatter(edad_unique, np.ones(len(edad_unique)), s=sizes, color=colors)\n",
    "plt.yticks([])\n",
    "plt.show()"
   ]
  },
  {
   "cell_type": "markdown",
   "metadata": {},
   "source": [
    "En azul los valores donde se concentra la mayoría de nuestras filas. En rojo un outlier, ó “valor extremo”.\n",
    "\n",
    "Al graficar vemos donde se concentran la mayoría de edades, entre 20 y 35 años. Y una muestra aislada con valor 80."
   ]
  },
  {
   "cell_type": "markdown",
   "metadata": {},
   "source": [
    "### OTRA FORMA"
   ]
  },
  {
   "cell_type": "code",
   "execution_count": 21,
   "metadata": {},
   "outputs": [
    {
     "name": "stdout",
     "output_type": "stream",
     "text": [
      "el % de casos por debajo del umbral es:  0.0 %\n",
      "el % de casos por encima del umbral es:  5.263157894736842 %\n"
     ]
    }
   ],
   "source": [
    "df = pd.DataFrame(edades,columns = ['Edades'])\n",
    "df\n",
    "\n",
    "#elimino los posibles valores nulos\n",
    "x = df['Edades'].dropna()\n",
    "\n",
    "#Necesitamos los cuartiles --> calcular el rango intercuartílico\n",
    "\n",
    "Q1 = np.percentile(x,25)\n",
    "Q3 = np.percentile(x,75)\n",
    "rangointer = Q3 - Q1\n",
    "\n",
    "#criterio clásico de detección de outliers a través de definir umbrales\n",
    "\n",
    "umbralsuperior = Q3 + 1.5*rangointer\n",
    "umbralinferior = Q1 - 1.5*rangointer\n",
    "#cualquier valor que esté por encima o por debajo de estos dos valores, supondremos que va a ser un outlier en nuestra distribución\n",
    "\n",
    "#cuantos casos hay por debajo / encima de estos umbrales\n",
    "print(\"el % de casos por debajo del umbral es: \", 100*np.mean(x < umbralinferior), \"%\")\n",
    "print(\"el % de casos por encima del umbral es: \", 100*np.mean(x > umbralsuperior), \"%\")"
   ]
  },
  {
   "cell_type": "markdown",
   "metadata": {},
   "source": [
    "# 2 DIMENSIONES"
   ]
  },
  {
   "cell_type": "markdown",
   "metadata": {},
   "source": [
    "Supongamos que tenemos 2 variables: edad e ingresos. Hagamos una gráfica en 2D. Además, usaremos una fórmula para trazar un círculo que delimitará los valores outliers: \n",
    "\n",
    "Los valores que superen el valor de la “media más 2 desvíos estándar” (el área del círculo) quedarán en rojo."
   ]
  },
  {
   "cell_type": "markdown",
   "metadata": {},
   "source": [
    "DEFINO OUTLIER COMO:\n",
    "\n",
    "AQUELLOS CASOS QUE SUPERAN EN MÁS DE 2 VECES EL DESVIO ESTANDAR / la “media más 2 desvíos estándar”\n",
    "\n",
    "caso_concreto > 2*std + media"
   ]
  },
  {
   "cell_type": "code",
   "execution_count": 28,
   "metadata": {},
   "outputs": [],
   "source": [
    "edades = np.array([22,22,23,23,23,23,26,27,27,28,30,30,30,30,31,32,33,34,80]) #X\n",
    "salario_anual_miles = np.array([16,20,15,21,19,17,33,22,31,32,56,30,22,31,30,16,2,22,23]) #Y\n",
    "\n",
    "media_x = (salario_anual_miles).mean()\n",
    "std_x = (salario_anual_miles).std()*2\n",
    "media_y = (edades).mean()\n",
    "std_y = (edades).std()*2"
   ]
  },
  {
   "cell_type": "code",
   "execution_count": 29,
   "metadata": {},
   "outputs": [],
   "source": [
    "#formamos una matriz de colores\n",
    "colors = ['blue']*len(salario_anual_miles)"
   ]
  },
  {
   "cell_type": "code",
   "execution_count": 30,
   "metadata": {},
   "outputs": [
    {
     "data": {
      "text/plain": [
       "<enumerate at 0x287cc430580>"
      ]
     },
     "execution_count": 30,
     "metadata": {},
     "output_type": "execute_result"
    }
   ],
   "source": [
    "enumerate(salario_anual_miles)"
   ]
  },
  {
   "cell_type": "markdown",
   "metadata": {},
   "source": [
    "Los valores que superen el valor de la “media más 2 desvíos estándar” (el área del círculo) quedarán en rojo."
   ]
  },
  {
   "cell_type": "code",
   "execution_count": 76,
   "metadata": {},
   "outputs": [],
   "source": [
    "#si Valor-media > std --> outlier\n",
    "for index, x in enumerate(salario_anual_miles):\n",
    "    if abs(x-media_x) > std_x:\n",
    "        colors[index] = 'red'\n",
    "        \n",
    "for index, x in enumerate(edades):\n",
    "    if abs(x-media_y) > std_y:\n",
    "        colors[index] = 'red'"
   ]
  },
  {
   "cell_type": "code",
   "execution_count": 32,
   "metadata": {},
   "outputs": [
    {
     "data": {
      "text/plain": [
       "<matplotlib.lines.Line2D at 0x287cc458d00>"
      ]
     },
     "execution_count": 32,
     "metadata": {},
     "output_type": "execute_result"
    },
    {
     "data": {
      "image/png": "[encoded data removed]",
      "text/plain": [
       "<Figure size 432x288 with 1 Axes>"
      ]
     },
     "metadata": {
      "needs_background": "light"
     },
     "output_type": "display_data"
    }
   ],
   "source": [
    "#VISUALIZAMOS\n",
    "plt.scatter(edades, salario_anual_miles, s=100, color=colors) #X,Y\n",
    "plt.axhline(media_x, color='k', linestyle='--') #eje horizontal centrado en la media_x\n",
    "plt.axvline(media_y, color='k', linestyle='--') #eje vertical centrado en la media_y"
   ]
  },
  {
   "cell_type": "code",
   "execution_count": 34,
   "metadata": {},
   "outputs": [
    {
     "data": {
      "text/plain": [
       "array([0.        , 0.06346652, 0.12693304, 0.19039955, 0.25386607,\n",
       "       0.31733259, 0.38079911, 0.44426563, 0.50773215, 0.57119866,\n",
       "       0.63466518, 0.6981317 , 0.76159822, 0.82506474, 0.88853126,\n",
       "       0.95199777, 1.01546429, 1.07893081, 1.14239733, 1.20586385,\n",
       "       1.26933037, 1.33279688, 1.3962634 , 1.45972992, 1.52319644,\n",
       "       1.58666296, 1.65012947, 1.71359599, 1.77706251, 1.84052903,\n",
       "       1.90399555, 1.96746207, 2.03092858, 2.0943951 , 2.15786162,\n",
       "       2.22132814, 2.28479466, 2.34826118, 2.41172769, 2.47519421,\n",
       "       2.53866073, 2.60212725, 2.66559377, 2.72906028, 2.7925268 ,\n",
       "       2.85599332, 2.91945984, 2.98292636, 3.04639288, 3.10985939,\n",
       "       3.17332591, 3.23679243, 3.30025895, 3.36372547, 3.42719199,\n",
       "       3.4906585 , 3.55412502, 3.61759154, 3.68105806, 3.74452458,\n",
       "       3.8079911 , 3.87145761, 3.93492413, 3.99839065, 4.06185717,\n",
       "       4.12532369, 4.1887902 , 4.25225672, 4.31572324, 4.37918976,\n",
       "       4.44265628, 4.5061228 , 4.56958931, 4.63305583, 4.69652235,\n",
       "       4.75998887, 4.82345539, 4.88692191, 4.95038842, 5.01385494,\n",
       "       5.07732146, 5.14078798, 5.2042545 , 5.26772102, 5.33118753,\n",
       "       5.39465405, 5.45812057, 5.52158709, 5.58505361, 5.64852012,\n",
       "       5.71198664, 5.77545316, 5.83891968, 5.9023862 , 5.96585272,\n",
       "       6.02931923, 6.09278575, 6.15625227, 6.21971879, 6.28318531])"
      ]
     },
     "execution_count": 34,
     "metadata": {},
     "output_type": "execute_result"
    }
   ],
   "source": [
    "#QUIERO HACER UN ELIPSOIDE\n",
    "v=media_x     #y-position of the center\n",
    "u=media_y    #x-position of the center\n",
    "b=std_x     #radius on the y-axis\n",
    "a=std_y    #radius on the x-axis\n",
    "\n",
    "t = np.linspace(0, 2*pi, 100) #array de valores entre 0 y 2pi, con 100 particiones\n",
    "t"
   ]
  },
  {
   "cell_type": "code",
   "execution_count": 35,
   "metadata": {},
   "outputs": [
    {
     "data": {
      "image/png": "[encoded data removed]",
      "text/plain": [
       "<Figure size 432x288 with 1 Axes>"
      ]
     },
     "metadata": {
      "needs_background": "light"
     },
     "output_type": "display_data"
    }
   ],
   "source": [
    "plt.plot( u+a*np.cos(t) , v+b*np.sin(t) ) #fórmula del elipsoide\n",
    "\n",
    "plt.xlabel('Edad')\n",
    "plt.ylabel('Salario Anual (miles)')\n",
    "plt.show()"
   ]
  },
  {
   "cell_type": "code",
   "execution_count": 38,
   "metadata": {},
   "outputs": [
    {
     "data": {
      "image/png": "[encoded data removed]",
      "text/plain": [
       "<Figure size 432x288 with 1 Axes>"
      ]
     },
     "metadata": {
      "needs_background": "light"
     },
     "output_type": "display_data"
    }
   ],
   "source": [
    "#TODO JUNTO\n",
    "plt.scatter(edades, salario_anual_miles, s=100, color=colors)\n",
    "plt.axhline(media_x, color='k', linestyle='--')\n",
    "plt.axvline(media_y, color='k', linestyle='--')\n",
    "\n",
    "v=media_x     #y-position of the center\n",
    "u=media_y    #x-position of the center\n",
    "b=std_x     #radius on the y-axis\n",
    "a=std_y    #radius on the x-axis\n",
    "\n",
    "t = np.linspace(0, 2*pi, 100)\n",
    "plt.plot( u+a*np.cos(t) , v+b*np.sin(t) )\n",
    "\n",
    "plt.xlabel('Edad')\n",
    "plt.ylabel('Salario Anual (miles)')\n",
    "plt.show()"
   ]
  },
  {
   "cell_type": "markdown",
   "metadata": {},
   "source": [
    "Dentro del circulo azul, los valores que están en la media \n",
    "\n",
    "y en rojo los outliers: 3 valores que superan en más de 2 veces el desvío estándar."
   ]
  },
  {
   "cell_type": "markdown",
   "metadata": {},
   "source": [
    "### Como afectan los Outliers\n",
    "\n",
    "Veamos -con la ayuda de seaborn-, la *línea de tendencia de la misma distribución* con y sin outliers:"
   ]
  },
  {
   "cell_type": "code",
   "execution_count": 39,
   "metadata": {},
   "outputs": [],
   "source": [
    "import seaborn as sns"
   ]
  },
  {
   "cell_type": "markdown",
   "metadata": {},
   "source": [
    "###### con outliers"
   ]
  },
  {
   "cell_type": "code",
   "execution_count": 40,
   "metadata": {},
   "outputs": [
    {
     "data": {
      "text/plain": [
       "<AxesSubplot:>"
      ]
     },
     "execution_count": 40,
     "metadata": {},
     "output_type": "execute_result"
    },
    {
     "data": {
      "image/png": "[encoded data removed]",
      "text/plain": [
       "<Figure size 432x288 with 1 Axes>"
      ]
     },
     "metadata": {},
     "output_type": "display_data"
    }
   ],
   "source": [
    "#CON OUTLIERS\n",
    "sns.set(color_codes=True)\n",
    "sns.regplot(x=edades, y=salario_anual_miles) #Plot data and a linear regression model fit."
   ]
  },
  {
   "cell_type": "markdown",
   "metadata": {},
   "source": [
    "La línea de tendencia se mantiene plana sobre todo por el outlier de la edad"
   ]
  },
  {
   "cell_type": "markdown",
   "metadata": {},
   "source": [
    "###### sin outliers"
   ]
  },
  {
   "cell_type": "code",
   "execution_count": 42,
   "metadata": {},
   "outputs": [
    {
     "data": {
      "text/plain": [
       "<AxesSubplot:>"
      ]
     },
     "execution_count": 42,
     "metadata": {},
     "output_type": "execute_result"
    },
    {
     "data": {
      "image/png": "[encoded data removed]",
      "text/plain": [
       "<Figure size 432x288 with 1 Axes>"
      ]
     },
     "metadata": {},
     "output_type": "display_data"
    }
   ],
   "source": [
    "# SIN OUTLIERS\n",
    "\n",
    "#1º quito los Outliers de mis datos\n",
    "edades_fix=[] #lista vacia en la que ir guardando los valores sin outliers\n",
    "salario_anual_miles_fix=[] #lista vacia en la que ir guardando los valores sin outliers\n",
    "\n",
    "for index, x in enumerate(salario_anual_miles):\n",
    "    y= edades[index]\n",
    "    if abs(x-media_x) > std_x or abs(y-media_y) > std_y: #si en la iteración, el caso es un outlier\n",
    "        pass\n",
    "    else:\n",
    "        edades_fix.append(y) #voy guardando los casos que no son outliers\n",
    "        salario_anual_miles_fix.append(x) #voy guardando los casos que no son outliers\n",
    "\n",
    "#Plot data and a linear regression model fit.\n",
    "sns.set(color_codes=True)\n",
    "sns.regplot(x=np.array(edades_fix), y=np.array(salario_anual_miles_fix)) #Plot data and a linear regression model fit."
   ]
  },
  {
   "cell_type": "markdown",
   "metadata": {},
   "source": [
    "Al quitar los outliers la tendencia empieza a tener pendiente"
   ]
  },
  {
   "cell_type": "markdown",
   "metadata": {},
   "source": [
    "Con esto nos podemos dar una idea de qué distinto podría resultar entrenar un modelo de Machine Learning con ó sin esas muestras anormales."
   ]
  },
  {
   "cell_type": "markdown",
   "metadata": {},
   "source": [
    "## OTRA FORMA"
   ]
  },
  {
   "cell_type": "code",
   "execution_count": 43,
   "metadata": {},
   "outputs": [],
   "source": [
    "from sklearn.covariance import EllipticEnvelope"
   ]
  },
  {
   "cell_type": "code",
   "execution_count": 68,
   "metadata": {},
   "outputs": [
    {
     "data": {
      "text/plain": [
       "EllipticEnvelope(contamination=0.15)"
      ]
     },
     "execution_count": 68,
     "metadata": {},
     "output_type": "execute_result"
    }
   ],
   "source": [
    "#definimos los outliers\n",
    "outliers = EllipticEnvelope(contamination = 0.15) \n",
    "outliers"
   ]
  },
  {
   "cell_type": "markdown",
   "metadata": {},
   "source": [
    "si contamination=0.01\n",
    "\n",
    "Estoy creando un modelo que va a seleccionar el 1% de datos que considere que están muy alejados de nuestros datos más centrados"
   ]
  },
  {
   "cell_type": "code",
   "execution_count": 69,
   "metadata": {},
   "outputs": [
    {
     "data": {
      "text/plain": [
       "array([10, 16, 18], dtype=int64)"
      ]
     },
     "execution_count": 69,
     "metadata": {},
     "output_type": "execute_result"
    }
   ],
   "source": [
    "#definimos nuestro DataFrame con 'edades' y 'salario_anual_miles'\n",
    "edades = np.array([22,22,23,23,23,23,26,27,27,28,30,30,30,30,31,32,33,34,80]) \n",
    "salario_anual_miles = np.array([16,20,15,21,19,17,33,22,31,32,56,30,22,31,30,16,2,22,23]) \n",
    "#tienen la misma len()\n",
    "\n",
    "df1 = pd.DataFrame(edades,columns = ['Edades'])\n",
    "df2 = pd.DataFrame(salario_anual_miles,columns = ['salario_anual_miles'])\n",
    "df = pd.concat([df1,df2],axis = 1, sort = True)\n",
    "df\n",
    "var_list = ['Edades','salario_anual_miles'] #lista de variables de la base de datos\n",
    "#defino una variable 'x' que son los valores que nos interesan de nuestra base de datos\n",
    "x = np.array(df.loc[:,var_list].dropna())\n",
    "x\n",
    "#entrenamos nuestro modelo\n",
    "outliers.fit(x)\n",
    "#pedir que nos prediga con este modelo, los valores que forman parte de ese 1% que queremos detectar\n",
    "pred = outliers.predict(x)\n",
    "pred #array de '1' y '-1' --> quiero detectar los '-1'\n",
    "elips_outliers = np.where(pred == -1)[0]\n",
    "elips_outliers #lista con los index de aquellos casos que son outliers\n",
    "\n",
    "#MUCHISIMO CUIDADO, HE PODIDO CAMBIAR MI DATAFRAME APLICANDO FILTROS AL ORIGINAL, Y HABER ELIMINADO INDEX. \n",
    "#POR LO QUE LO QUE ME DA 'elips_outliers', NO SON LOS ÍNDICES, SINO LAS POSICIONES (EMPEZANDO DESDE EL 0)"
   ]
  },
  {
   "cell_type": "code",
   "execution_count": null,
   "metadata": {},
   "outputs": [],
   "source": []
  },
  {
   "cell_type": "code",
   "execution_count": 70,
   "metadata": {},
   "outputs": [
    {
     "data": {
      "text/html": [
       "<div>\n",
       "<style scoped>\n",
       "    .dataframe tbody tr th:only-of-type {\n",
       "        vertical-align: middle;\n",
       "    }\n",
       "\n",
       "    .dataframe tbody tr th {\n",
       "        vertical-align: top;\n",
       "    }\n",
       "\n",
       "    .dataframe thead th {\n",
       "        text-align: right;\n",
       "    }\n",
       "</style>\n",
       "<table border=\"1\" class=\"dataframe\">\n",
       "  <thead>\n",
       "    <tr style=\"text-align: right;\">\n",
       "      <th></th>\n",
       "      <th>Edades</th>\n",
       "      <th>salario_anual_miles</th>\n",
       "    </tr>\n",
       "  </thead>\n",
       "  <tbody>\n",
       "    <tr>\n",
       "      <th>10</th>\n",
       "      <td>30</td>\n",
       "      <td>56</td>\n",
       "    </tr>\n",
       "    <tr>\n",
       "      <th>16</th>\n",
       "      <td>33</td>\n",
       "      <td>2</td>\n",
       "    </tr>\n",
       "    <tr>\n",
       "      <th>18</th>\n",
       "      <td>80</td>\n",
       "      <td>23</td>\n",
       "    </tr>\n",
       "  </tbody>\n",
       "</table>\n",
       "</div>"
      ],
      "text/plain": [
       "    Edades  salario_anual_miles\n",
       "10      30                   56\n",
       "16      33                    2\n",
       "18      80                   23"
      ]
     },
     "execution_count": 70,
     "metadata": {},
     "output_type": "execute_result"
    }
   ],
   "source": [
    "df.iloc[[10,16,18],:]"
   ]
  },
  {
   "cell_type": "markdown",
   "metadata": {},
   "source": [
    "# 3 DIMENSIONES"
   ]
  },
  {
   "cell_type": "markdown",
   "metadata": {},
   "source": [
    "añadimos una 3ra dimensión nuestro dataset, por ejemplo, la dimensión de “compras por mes” de cada usuario."
   ]
  },
  {
   "cell_type": "code",
   "execution_count": 71,
   "metadata": {},
   "outputs": [],
   "source": [
    "compras_mes = np.array([1,2,1,20,1,0,3,2,3,0,5,3,2,1,0,1,2,2,2])\n",
    "media_z = (compras_mes).mean()\n",
    "std_z = (compras_mes).std()*2"
   ]
  },
  {
   "cell_type": "code",
   "execution_count": 72,
   "metadata": {},
   "outputs": [],
   "source": [
    "#formamos una matriz de colores\n",
    "colors = ['blue']*len(salario_anual_miles)\n",
    "#colors = ['blue']*len(compras_mes) lo mismo\n",
    "\n",
    "#si Valor-media > std --> outlier\n",
    "for index, x in enumerate(compras_mes):\n",
    "    if abs(x-media_z) > std_z:\n",
    "        colors[index] = 'red'"
   ]
  },
  {
   "cell_type": "code",
   "execution_count": 73,
   "metadata": {},
   "outputs": [
    {
     "data": {
      "image/png": "[encoded data removed]",
      "text/plain": [
       "<Figure size 504x504 with 1 Axes>"
      ]
     },
     "metadata": {},
     "output_type": "display_data"
    }
   ],
   "source": [
    "from mpl_toolkits.mplot3d import Axes3D\n",
    "fig = plt.figure(figsize=(7,7))\n",
    "ax = fig.gca(projection='3d')"
   ]
  },
  {
   "cell_type": "code",
   "execution_count": 77,
   "metadata": {},
   "outputs": [
    {
     "data": {
      "image/png": "[encoded data removed]",
      "text/plain": [
       "<Figure size 504x504 with 1 Axes>"
      ]
     },
     "metadata": {},
     "output_type": "display_data"
    }
   ],
   "source": [
    "from mpl_toolkits.mplot3d import Axes3D\n",
    "fig = plt.figure(figsize=(7,7))\n",
    "ax = fig.gca(projection='3d')\n",
    "\n",
    "ax.scatter(edades, salario_anual_miles, compras_mes, s=20, c=colors)\n",
    "plt.xlabel('Edad')\n",
    "plt.ylabel('Salario Anual (miles)')\n",
    "ax.set_zlabel('Compras mensuales')\n",
    "\n",
    "plt.show()"
   ]
  },
  {
   "cell_type": "markdown",
   "metadata": {},
   "source": [
    "Vemos en 3 dimensiones que hay valores que escapan a la <<distribución normal>>. Valores atípicos en rojo."
   ]
  },
  {
   "cell_type": "markdown",
   "metadata": {},
   "source": [
    "En el caso de las compras mensuales, vemos que aparece un nuevo “punto rojo” en el eje Z. Debemos pensar si es un usuario que queremos descartar ó que por el contrario, nos interesa analizar."
   ]
  },
  {
   "cell_type": "markdown",
   "metadata": {},
   "source": [
    "## OTRA FORMA"
   ]
  },
  {
   "cell_type": "code",
   "execution_count": 83,
   "metadata": {},
   "outputs": [
    {
     "data": {
      "text/plain": [
       "array([ 3, 18], dtype=int64)"
      ]
     },
     "execution_count": 83,
     "metadata": {},
     "output_type": "execute_result"
    }
   ],
   "source": [
    "from sklearn.covariance import EllipticEnvelope\n",
    "\n",
    "#definimos los outliers\n",
    "outliers = EllipticEnvelope(contamination = 0.1) \n",
    "outliers\n",
    "\n",
    "#definimos nuestro DataFrame con 'edades' y 'salario_anual_miles'\n",
    "edades = np.array([22,22,23,23,23,23,26,27,27,28,30,30,30,30,31,32,33,34,80]) \n",
    "salario_anual_miles = np.array([16,20,15,21,19,17,33,22,31,32,56,30,22,31,30,16,2,22,23]) \n",
    "#tienen la misma len()\n",
    "\n",
    "df1 = pd.DataFrame(edades,columns = ['Edades'])\n",
    "df2 = pd.DataFrame(salario_anual_miles,columns = ['salario_anual_miles'])\n",
    "df3 = pd.DataFrame(compras_mes,columns = ['compras_mes'])\n",
    "\n",
    "df = pd.concat([df1,df2,df3],axis = 1, sort = True)\n",
    "df\n",
    "var_list = ['Edades','salario_anual_miles','compras_mes'] #lista de variables de la base de datos\n",
    "#defino una variable 'x' que son los valores que nos interesan de nuestra base de datos\n",
    "x = np.array(df.loc[:,var_list].dropna())\n",
    "x\n",
    "#entrenamos nuestro modelo\n",
    "outliers.fit(x)\n",
    "#pedir que nos prediga con este modelo, los valores que forman parte de ese 1% que queremos detectar\n",
    "pred = outliers.predict(x)\n",
    "pred #array de '1' y '-1' --> quiero detectar los '-1'\n",
    "elips_outliers = np.where(pred == -1)[0]\n",
    "elips_outliers #lista con los index de aquellos casos que son outliers"
   ]
  },
  {
   "cell_type": "code",
   "execution_count": 85,
   "metadata": {},
   "outputs": [
    {
     "data": {
      "text/html": [
       "<div>\n",
       "<style scoped>\n",
       "    .dataframe tbody tr th:only-of-type {\n",
       "        vertical-align: middle;\n",
       "    }\n",
       "\n",
       "    .dataframe tbody tr th {\n",
       "        vertical-align: top;\n",
       "    }\n",
       "\n",
       "    .dataframe thead th {\n",
       "        text-align: right;\n",
       "    }\n",
       "</style>\n",
       "<table border=\"1\" class=\"dataframe\">\n",
       "  <thead>\n",
       "    <tr style=\"text-align: right;\">\n",
       "      <th></th>\n",
       "      <th>Edades</th>\n",
       "      <th>salario_anual_miles</th>\n",
       "      <th>compras_mes</th>\n",
       "    </tr>\n",
       "  </thead>\n",
       "  <tbody>\n",
       "    <tr>\n",
       "      <th>3</th>\n",
       "      <td>23</td>\n",
       "      <td>21</td>\n",
       "      <td>20</td>\n",
       "    </tr>\n",
       "    <tr>\n",
       "      <th>18</th>\n",
       "      <td>80</td>\n",
       "      <td>23</td>\n",
       "      <td>2</td>\n",
       "    </tr>\n",
       "  </tbody>\n",
       "</table>\n",
       "</div>"
      ],
      "text/plain": [
       "    Edades  salario_anual_miles  compras_mes\n",
       "3       23                   21           20\n",
       "18      80                   23            2"
      ]
     },
     "execution_count": 85,
     "metadata": {},
     "output_type": "execute_result"
    }
   ],
   "source": [
    "df.iloc[[3,18],:]"
   ]
  },
  {
   "cell_type": "markdown",
   "metadata": {},
   "source": [
    "# N-DIMENSIONES"
   ]
  },
  {
   "cell_type": "markdown",
   "metadata": {},
   "source": [
    "La realidad es que en los modelos con los que trabajamos constan de muchas dimensiones, podemos tener 30, 100 ó miles. Entonces ya no parece tan sencillo visualizar los outliers.\n",
    "\n",
    "Podemos seguir detectando los outliers “a ciegas” y manejarlos. O mediante una librería (más adelante se comenta).\n",
    "\n",
    "Podemos graficar múltiples dimensiones haciendo una reducción de dimensiones con \n",
    "\n",
    "- PCA \n",
    "- T-SNE\n",
    "\n",
    "NOTA: tenemos que pensar que -suponiendo que no hay error en los datos- un valor que analizado en 1 sóla dimensión es un Outlier, analizado en conjunto en “N-dimensiones” puede que NO LO SEA. Entonces no siempre es válida la estrategia de analizar la variable aislada del resto."
   ]
  },
  {
   "cell_type": "markdown",
   "metadata": {},
   "source": [
    "# Una gráfica de detección sencilla: Boxplots"
   ]
  },
  {
   "cell_type": "markdown",
   "metadata": {},
   "source": [
    "Los Boxplots, muy utilizados en el mundo financiero. En nuestro caso, podemos visualizar las variables y en esa “cajita” veremos donde se concentra el 50 por ciento de nuestra distribución (percentiles 25 a 75), los valores mínimos y máximos (las rayas en “T”) y -por supuesto- los outliers"
   ]
  },
  {
   "cell_type": "code",
   "execution_count": 96,
   "metadata": {},
   "outputs": [],
   "source": [
    "import seaborn as sns"
   ]
  },
  {
   "cell_type": "code",
   "execution_count": 97,
   "metadata": {},
   "outputs": [
    {
     "data": {
      "image/png": "[encoded data removed]",
      "text/plain": [
       "<Figure size 432x288 with 1 Axes>"
      ]
     },
     "metadata": {},
     "output_type": "display_data"
    }
   ],
   "source": [
    "green_diamond = dict(markerfacecolor='g', marker='D')\n",
    "fig, ax = plt.subplots()\n",
    "#ax.set_title('Boxplot por Edades')\n",
    "#ax.boxplot(edades, flierprops=green_diamond, labels=[\"Edad\"])"
   ]
  },
  {
   "cell_type": "code",
   "execution_count": 98,
   "metadata": {},
   "outputs": [
    {
     "data": {
      "text/plain": [
       "Text(0.5, 1.0, 'Boxplot por Edades')"
      ]
     },
     "execution_count": 98,
     "metadata": {},
     "output_type": "execute_result"
    },
    {
     "data": {
      "image/png": "[encoded data removed]",
      "text/plain": [
       "<Figure size 432x288 with 1 Axes>"
      ]
     },
     "metadata": {},
     "output_type": "display_data"
    }
   ],
   "source": [
    "green_diamond = dict(markerfacecolor='g', marker='D')\n",
    "fig, ax = plt.subplots()\n",
    "ax.set_title('Boxplot por Edades')\n",
    "#ax.boxplot(edades, flierprops=green_diamond, labels=[\"Edad\"])"
   ]
  },
  {
   "cell_type": "code",
   "execution_count": 100,
   "metadata": {},
   "outputs": [
    {
     "data": {
      "text/plain": [
       "{'whiskers': [<matplotlib.lines.Line2D at 0x287d0a95850>,\n",
       "  <matplotlib.lines.Line2D at 0x287d0a95bb0>],\n",
       " 'caps': [<matplotlib.lines.Line2D at 0x287d0a95f10>,\n",
       "  <matplotlib.lines.Line2D at 0x287d0aa02b0>],\n",
       " 'boxes': [<matplotlib.lines.Line2D at 0x287d0a954f0>],\n",
       " 'medians': [<matplotlib.lines.Line2D at 0x287d0aa0610>],\n",
       " 'fliers': [<matplotlib.lines.Line2D at 0x287d0aa0970>],\n",
       " 'means': []}"
      ]
     },
     "execution_count": 100,
     "metadata": {},
     "output_type": "execute_result"
    },
    {
     "data": {
      "image/png": "[encoded data removed]",
      "text/plain": [
       "<Figure size 432x288 with 1 Axes>"
      ]
     },
     "metadata": {},
     "output_type": "display_data"
    }
   ],
   "source": [
    "green_diamond = dict(markerfacecolor='g', marker='D')\n",
    "fig, ax = plt.subplots()\n",
    "ax.set_title('Boxplot por Edades')\n",
    "#boxplot de 'edades'\n",
    "ax.boxplot(edades, flierprops=green_diamond, labels=[\"Edad\"])"
   ]
  },
  {
   "cell_type": "code",
   "execution_count": 102,
   "metadata": {},
   "outputs": [
    {
     "data": {
      "text/plain": [
       "{'whiskers': [<matplotlib.lines.Line2D at 0x287d0b027f0>,\n",
       "  <matplotlib.lines.Line2D at 0x287d0b02b50>],\n",
       " 'caps': [<matplotlib.lines.Line2D at 0x287d0b02eb0>,\n",
       "  <matplotlib.lines.Line2D at 0x287d0b0e250>],\n",
       " 'boxes': [<matplotlib.lines.Line2D at 0x287d0b02490>],\n",
       " 'medians': [<matplotlib.lines.Line2D at 0x287d0b0e5b0>],\n",
       " 'fliers': [<matplotlib.lines.Line2D at 0x287d0b0e910>],\n",
       " 'means': []}"
      ]
     },
     "execution_count": 102,
     "metadata": {},
     "output_type": "execute_result"
    },
    {
     "data": {
      "image/png": "[encoded data removed]",
      "text/plain": [
       "<Figure size 432x288 with 1 Axes>"
      ]
     },
     "metadata": {},
     "output_type": "display_data"
    }
   ],
   "source": [
    "green_diamond = dict(markerfacecolor='g', marker='D')\n",
    "fig, ax = plt.subplots()\n",
    "ax.set_title('Boxplot por Salario')\n",
    "#boxplot de salarios_anual_miles\n",
    "ax.boxplot(salario_anual_miles, flierprops=green_diamond, labels=[\"Salarios\"])"
   ]
  },
  {
   "cell_type": "code",
   "execution_count": 103,
   "metadata": {
    "scrolled": true
   },
   "outputs": [
    {
     "data": {
      "text/plain": [
       "{'whiskers': [<matplotlib.lines.Line2D at 0x287d0b59b20>,\n",
       "  <matplotlib.lines.Line2D at 0x287d0b59e80>],\n",
       " 'caps': [<matplotlib.lines.Line2D at 0x287d0b66220>,\n",
       "  <matplotlib.lines.Line2D at 0x287d0b66580>],\n",
       " 'boxes': [<matplotlib.lines.Line2D at 0x287d0b59790>],\n",
       " 'medians': [<matplotlib.lines.Line2D at 0x287d0b668e0>],\n",
       " 'fliers': [<matplotlib.lines.Line2D at 0x287d0b66c40>],\n",
       " 'means': []}"
      ]
     },
     "execution_count": 103,
     "metadata": {},
     "output_type": "execute_result"
    },
    {
     "data": {
      "image/png": "[encoded data removed]",
      "text/plain": [
       "<Figure size 432x288 with 1 Axes>"
      ]
     },
     "metadata": {},
     "output_type": "display_data"
    }
   ],
   "source": [
    "green_diamond = dict(markerfacecolor='g', marker='D')\n",
    "fig, ax = plt.subplots()\n",
    "ax.set_title('Boxplot por Compras')\n",
    "#boxplot de compras_mes\n",
    "ax.boxplot(compras_mes, flierprops=green_diamond, labels=[\"Compras\"])"
   ]
  },
  {
   "cell_type": "markdown",
   "metadata": {},
   "source": [
    "## OTRA FORMA: seaborn"
   ]
  },
  {
   "cell_type": "code",
   "execution_count": 113,
   "metadata": {},
   "outputs": [
    {
     "data": {
      "text/plain": [
       "<AxesSubplot:xlabel='salario_anual_miles'>"
      ]
     },
     "execution_count": 113,
     "metadata": {},
     "output_type": "execute_result"
    },
    {
     "data": {
      "image/png": "[encoded data removed]",
      "text/plain": [
       "<Figure size 432x288 with 1 Axes>"
      ]
     },
     "metadata": {},
     "output_type": "display_data"
    }
   ],
   "source": [
    "df1 = pd.DataFrame(edades,columns = ['Edades'])\n",
    "df2 = pd.DataFrame(salario_anual_miles,columns = ['salario_anual_miles'])\n",
    "df3 = pd.DataFrame(compras_mes,columns = ['compras_mes'])\n",
    "\n",
    "df = pd.concat([df1,df2,df3],axis = 1, sort = True)\n",
    "\n",
    "sns.boxplot(x = 'Edades', y = None, data = df1)\n",
    "sns.boxplot(x = 'salario_anual_miles', y = None, data = df2)\n",
    "sns.boxplot(x = 'compras_mes', y = None, data = df3)"
   ]
  },
  {
   "cell_type": "code",
   "execution_count": 114,
   "metadata": {
    "scrolled": true
   },
   "outputs": [
    {
     "data": {
      "text/plain": [
       "<AxesSubplot:xlabel='salario_anual_miles'>"
      ]
     },
     "execution_count": 114,
     "metadata": {},
     "output_type": "execute_result"
    },
    {
     "data": {
      "image/png": "[encoded data removed]",
      "text/plain": [
       "<Figure size 432x288 with 1 Axes>"
      ]
     },
     "metadata": {},
     "output_type": "display_data"
    }
   ],
   "source": [
    "sns.boxplot(x = 'salario_anual_miles', y = None, data = df2)"
   ]
  },
  {
   "cell_type": "code",
   "execution_count": 115,
   "metadata": {
    "scrolled": true
   },
   "outputs": [
    {
     "data": {
      "text/plain": [
       "<AxesSubplot:xlabel='compras_mes'>"
      ]
     },
     "execution_count": 115,
     "metadata": {},
     "output_type": "execute_result"
    },
    {
     "data": {
      "image/png": "[encoded data removed]",
      "text/plain": [
       "<Figure size 432x288 with 1 Axes>"
      ]
     },
     "metadata": {},
     "output_type": "display_data"
    }
   ],
   "source": [
    "sns.boxplot(x = 'compras_mes', y = None, data = df3)"
   ]
  },
  {
   "cell_type": "markdown",
   "metadata": {},
   "source": [
    "En el código utilicé una medida conocida para la detección de outliers que puede servir: \n",
    "\n",
    "la media de la distribución más 2 sigmas como frontera. \n",
    "\n",
    "Pero existen otras estrategias para delimitar outliers."
   ]
  },
  {
   "cell_type": "markdown",
   "metadata": {},
   "source": [
    "# Outliers usando Libreria Pyod"
   ]
  },
  {
   "cell_type": "markdown",
   "metadata": {},
   "source": [
    "Para aprender más:\n",
    "https://github.com/yzhao062"
   ]
  },
  {
   "cell_type": "markdown",
   "metadata": {},
   "source": [
    "Una librería muy recomendada es PyOD. Posee diversas estrategias para detectar Outliers. \n",
    "\n",
    "Ofrece distintos algoritmos:\n",
    "- Knn que tiene mucho sentido, pues analiza la cercanía entre muestras, \n",
    "- PCA, \n",
    "- Redes Neuronales \n",
    "veamos cómo utilizarla en nuestro ejemplo."
   ]
  },
  {
   "cell_type": "code",
   "execution_count": 116,
   "metadata": {},
   "outputs": [],
   "source": [
    "from pyod.models.knn import KNN\n",
    "from pyod.models.pca import PCA\n",
    "import pandas as pd"
   ]
  },
  {
   "cell_type": "code",
   "execution_count": 117,
   "metadata": {},
   "outputs": [],
   "source": [
    "df = pd.DataFrame(data={\n",
    "    'edad':edades,\n",
    "    'salario':salario_anual_miles, \n",
    "    'compras':compras_mes}\n",
    "                 )"
   ]
  },
  {
   "cell_type": "code",
   "execution_count": 118,
   "metadata": {},
   "outputs": [],
   "source": [
    "clf = KNN(contamination=0.18) #18%\n",
    "#clf = PCA(contamination=0.17)\n",
    "clf.fit(df) \n",
    "\n",
    "X=df\n",
    "clf.fit(X)\n",
    "\n",
    "scores_pred = clf.decision_function(X)\n",
    "y_pred = clf.predict(X)"
   ]
  },
  {
   "cell_type": "code",
   "execution_count": 119,
   "metadata": {},
   "outputs": [
    {
     "data": {
      "text/plain": [
       "array([ 4.12310563,  5.19615242,  5.19615242, 19.33907961,  4.        ,\n",
       "        3.74165739,  5.        ,  6.70820393,  3.60555128,  3.74165739,\n",
       "       25.3179778 ,  4.12310563,  7.68114575,  3.60555128,  5.09901951,\n",
       "        9.05538514, 18.13835715,  8.77496439, 50.009999  ])"
      ]
     },
     "execution_count": 119,
     "metadata": {},
     "output_type": "execute_result"
    }
   ],
   "source": [
    "scores_pred"
   ]
  },
  {
   "cell_type": "code",
   "execution_count": 120,
   "metadata": {},
   "outputs": [
    {
     "data": {
      "text/plain": [
       "array([0, 0, 0, 1, 0, 0, 0, 0, 0, 0, 1, 0, 0, 0, 0, 0, 1, 0, 1])"
      ]
     },
     "execution_count": 120,
     "metadata": {},
     "output_type": "execute_result"
    }
   ],
   "source": [
    "y_pred"
   ]
  },
  {
   "cell_type": "code",
   "execution_count": 121,
   "metadata": {},
   "outputs": [
    {
     "data": {
      "text/html": [
       "<div>\n",
       "<style scoped>\n",
       "    .dataframe tbody tr th:only-of-type {\n",
       "        vertical-align: middle;\n",
       "    }\n",
       "\n",
       "    .dataframe tbody tr th {\n",
       "        vertical-align: top;\n",
       "    }\n",
       "\n",
       "    .dataframe thead th {\n",
       "        text-align: right;\n",
       "    }\n",
       "</style>\n",
       "<table border=\"1\" class=\"dataframe\">\n",
       "  <thead>\n",
       "    <tr style=\"text-align: right;\">\n",
       "      <th></th>\n",
       "      <th>edad</th>\n",
       "      <th>salario</th>\n",
       "      <th>compras</th>\n",
       "    </tr>\n",
       "  </thead>\n",
       "  <tbody>\n",
       "    <tr>\n",
       "      <th>3</th>\n",
       "      <td>23</td>\n",
       "      <td>21</td>\n",
       "      <td>20</td>\n",
       "    </tr>\n",
       "    <tr>\n",
       "      <th>10</th>\n",
       "      <td>30</td>\n",
       "      <td>56</td>\n",
       "      <td>5</td>\n",
       "    </tr>\n",
       "    <tr>\n",
       "      <th>16</th>\n",
       "      <td>33</td>\n",
       "      <td>2</td>\n",
       "      <td>2</td>\n",
       "    </tr>\n",
       "    <tr>\n",
       "      <th>18</th>\n",
       "      <td>80</td>\n",
       "      <td>23</td>\n",
       "      <td>2</td>\n",
       "    </tr>\n",
       "  </tbody>\n",
       "</table>\n",
       "</div>"
      ],
      "text/plain": [
       "    edad  salario  compras\n",
       "3     23       21       20\n",
       "10    30       56        5\n",
       "16    33        2        2\n",
       "18    80       23        2"
      ]
     },
     "execution_count": 121,
     "metadata": {},
     "output_type": "execute_result"
    }
   ],
   "source": [
    "df[y_pred == 1]"
   ]
  },
  {
   "cell_type": "markdown",
   "metadata": {},
   "source": [
    "La librería PyOd detecta los registros anómalos\n",
    "Para problemas en la vida real, con múltiples dimensiones conviene apoyarnos en una librería como esta que nos facilitará la tarea de detección y limpieza/transformación del dataset"
   ]
  },
  {
   "cell_type": "markdown",
   "metadata": {},
   "source": [
    "# CONCLUSIONES"
   ]
  },
  {
   "cell_type": "markdown",
   "metadata": {},
   "source": [
    "- importancia de los outliers: el impacto que pueden tener al entrenar nuestro modelo ML\n",
    "\n",
    "La mayoría de los datasets tendrán muestras “fuera de rango”, por lo que \n",
    "- debemos tenerlas en cuenta y \n",
    "- decidir cómo tratarlas.\n",
    "\n",
    "Para algunos problemas, nos interesa detectar esos outliers\n",
    "Para trabajar con muestras con decenas o cientos de dimensiones nos conviene utilizar una librería como PyOd que realiza muy bien su trabajo"
   ]
  },
  {
   "cell_type": "code",
   "execution_count": null,
   "metadata": {},
   "outputs": [],
   "source": []
  }
 ],
 "metadata": {
  "kernelspec": {
   "display_name": "Python 3",
   "language": "python",
   "name": "python3"
  },
  "language_info": {
   "codemirror_mode": {
    "name": "ipython",
    "version": 3
   },
   "file_extension": ".py",
   "mimetype": "text/x-python",
   "name": "python",
   "nbconvert_exporter": "python",
   "pygments_lexer": "ipython3",
   "version": "3.8.5"
  }
 },
 "nbformat": 4,
 "nbformat_minor": 4
}
