{
 "cells": [
  {
   "cell_type": "markdown",
   "metadata": {},
   "source": [
    "https://www.aprendemachinelearning.com/analisis-exploratorio-de-datos-pandas-python/"
   ]
  },
  {
   "cell_type": "markdown",
   "metadata": {},
   "source": [
    " # Eejmplo de Exploratory Data Analysis"
   ]
  },
  {
   "cell_type": "code",
   "execution_count": 1,
   "metadata": {},
   "outputs": [],
   "source": [
    "import pandas as pd\n",
    "import numpy as np\n",
    "import matplotlib.pyplot as plt\n",
    "import statsmodels.api as sm\n",
    "import seaborn as sb\n",
    "from sklearn.covariance import EllipticEnvelope"
   ]
  },
  {
   "cell_type": "markdown",
   "metadata": {},
   "source": [
    "Vamos a leer un csv directamente desde una URL de GitHub que contiene \n",
    "*información geográfica básica de los países del mundo*\n",
    "y vamos a jugar un poco con esos datos."
   ]
  },
  {
   "cell_type": "code",
   "execution_count": 2,
   "metadata": {},
   "outputs": [
    {
     "name": "stdout",
     "output_type": "stream",
     "text": [
      "  alpha_2 alpha_3      area           capital continent currency_code  \\\n",
      "0      AD     AND     468.0  Andorra la Vella        EU           EUR   \n",
      "1      AE     ARE   82880.0         Abu Dhabi        AS           AED   \n",
      "2      AF     AFG  647500.0             Kabul        AS           AFN   \n",
      "3      AG     ATG     443.0        St. John's       NaN           XCD   \n",
      "4      AI     AIA     102.0        The Valley       NaN           XCD   \n",
      "\n",
      "  currency_name eqivalent_fips_code fips  geoname_id          languages  \\\n",
      "0          Euro                 NaN   AN     3041565                 ca   \n",
      "1        Dirham                 NaN   AE      290557  ar-AE,fa,en,hi,ur   \n",
      "2       Afghani                 NaN   AF     1149361  fa-AF,ps,uz-AF,tk   \n",
      "3        Dollar                 NaN   AC     3576396              en-AG   \n",
      "4        Dollar                 NaN   AV     3573511              en-AI   \n",
      "\n",
      "                   name         neighbours  numeric   phone  population  \\\n",
      "0               Andorra              ES,FR       20     376       84000   \n",
      "1  United Arab Emirates              SA,OM      784     971     4975593   \n",
      "2           Afghanistan  TM,CN,IR,TJ,PK,UZ        4      93    29121286   \n",
      "3   Antigua and Barbuda                NaN       28  +1-268       86754   \n",
      "4              Anguilla                NaN      660  +1-264       13254   \n",
      "\n",
      "  postal_code_format postal_code_regex  tld  \n",
      "0              AD###  ^(?:AD)*(\\d{3})$  .ad  \n",
      "1                NaN               NaN  .ae  \n",
      "2                NaN               NaN  .af  \n",
      "3                NaN               NaN  .ag  \n",
      "4                NaN               NaN  .ai  \n"
     ]
    }
   ],
   "source": [
    "#Carga de archivo csv desde una URL\n",
    "url = 'https://raw.githubusercontent.com/lorey/list-of-countries/master/csv/countries.csv'\n",
    "df = pd.read_csv(url, sep=\";\") #index_col=0\n",
    "print(df.head(5))"
   ]
  },
  {
   "cell_type": "markdown",
   "metadata": {},
   "source": [
    "### Conocer información básica"
   ]
  },
  {
   "cell_type": "code",
   "execution_count": 3,
   "metadata": {
    "scrolled": true
   },
   "outputs": [
    {
     "name": "stdout",
     "output_type": "stream",
     "text": [
      "Cantidad de Filas y columnas: \n",
      "  (252, 19)\n",
      "Nombre columnas: \n",
      "  Index(['alpha_2', 'alpha_3', 'area', 'capital', 'continent', 'currency_code',\n",
      "       'currency_name', 'eqivalent_fips_code', 'fips', 'geoname_id',\n",
      "       'languages', 'name', 'neighbours', 'numeric', 'phone', 'population',\n",
      "       'postal_code_format', 'postal_code_regex', 'tld'],\n",
      "      dtype='object')\n"
     ]
    }
   ],
   "source": [
    "#dimensiones\n",
    "#Nombre de columnas\n",
    "print('Cantidad de Filas y columnas: \\n ',df.shape)\n",
    "print('Nombre columnas: \\n ',df.columns)"
   ]
  },
  {
   "cell_type": "markdown",
   "metadata": {},
   "source": [
    "*df.info()*\n",
    "Print a concise summary of a DataFrame.\n",
    "This method prints information about a DataFrame including\n",
    "the index dtype and columns, non-null values and memory usage"
   ]
  },
  {
   "cell_type": "code",
   "execution_count": 4,
   "metadata": {
    "scrolled": true
   },
   "outputs": [
    {
     "name": "stdout",
     "output_type": "stream",
     "text": [
      "<class 'pandas.core.frame.DataFrame'>\n",
      "RangeIndex: 252 entries, 0 to 251\n",
      "Data columns (total 19 columns):\n",
      " #   Column               Non-Null Count  Dtype  \n",
      "---  ------               --------------  -----  \n",
      " 0   alpha_2              251 non-null    object \n",
      " 1   alpha_3              252 non-null    object \n",
      " 2   area                 252 non-null    float64\n",
      " 3   capital              246 non-null    object \n",
      " 4   continent            210 non-null    object \n",
      " 5   currency_code        251 non-null    object \n",
      " 6   currency_name        251 non-null    object \n",
      " 7   eqivalent_fips_code  1 non-null      object \n",
      " 8   fips                 249 non-null    object \n",
      " 9   geoname_id           252 non-null    int64  \n",
      " 10  languages            249 non-null    object \n",
      " 11  name                 252 non-null    object \n",
      " 12  neighbours           165 non-null    object \n",
      " 13  numeric              252 non-null    int64  \n",
      " 14  phone                247 non-null    object \n",
      " 15  population           252 non-null    int64  \n",
      " 16  postal_code_format   154 non-null    object \n",
      " 17  postal_code_regex    152 non-null    object \n",
      " 18  tld                  250 non-null    object \n",
      "dtypes: float64(1), int64(3), object(15)\n",
      "memory usage: 37.5+ KB\n"
     ]
    }
   ],
   "source": [
    "#Columnas, nulos y tipo de datos\n",
    "df.info() "
   ]
  },
  {
   "cell_type": "markdown",
   "metadata": {},
   "source": [
    "RangeIndex: 252 entries, 0 to 251 --> 252 filas\n",
    "Data columns (total 19 columns) --> 19 columnas\n",
    "- area es 'float'\n",
    "- geoname_id, numeric  y population son 'int'\n",
    "- el resto es 'object'\n",
    "Podemos observar también el nº de valores no nulos de cada feature/característica (las columnas), de lo que intuimos el nº de valores nulos en cada una de ellas"
   ]
  },
  {
   "cell_type": "code",
   "execution_count": 5,
   "metadata": {
    "scrolled": true
   },
   "outputs": [
    {
     "data": {
      "text/plain": [
       "Index(['alpha_2', 'alpha_3', 'area', 'capital', 'continent', 'currency_code',\n",
       "       'currency_name', 'eqivalent_fips_code', 'fips', 'geoname_id',\n",
       "       'languages', 'name', 'neighbours', 'numeric', 'phone', 'population',\n",
       "       'postal_code_format', 'postal_code_regex', 'tld'],\n",
       "      dtype='object')"
      ]
     },
     "execution_count": 5,
     "metadata": {},
     "output_type": "execute_result"
    }
   ],
   "source": [
    "#descripción estadística de los datos numérico\n",
    "df.describe() #solo lo hará de los datos numéricos, lógico\n",
    "#cantidad, media, desvío estándar, valores máximo y mínimo, cuartiles\n",
    "df.columns"
   ]
  },
  {
   "cell_type": "markdown",
   "metadata": {},
   "source": [
    "### Matriz de Correlación"
   ]
  },
  {
   "cell_type": "code",
   "execution_count": 6,
   "metadata": {},
   "outputs": [
    {
     "name": "stdout",
     "output_type": "stream",
     "text": [
      "       area  geoname_id  numeric  population\n",
      "0     468.0     3041565       20       84000\n",
      "1   82880.0      290557      784     4975593\n",
      "2  647500.0     1149361        4    29121286\n",
      "3     443.0     3576396       28       86754\n",
      "4     102.0     3573511      660       13254\n",
      "       area  geoname_id  numeric  population\n",
      "0     468.0     3041565       20       84000\n",
      "1   82880.0      290557      784     4975593\n",
      "2  647500.0     1149361        4    29121286\n",
      "3     443.0     3576396       28       86754\n",
      "4     102.0     3573511      660       13254\n"
     ]
    },
    {
     "data": {
      "text/html": [
       "<style  type=\"text/css\" >\n",
       "#T_bfe6a8dd_9791_11eb_a669_085bd68b0bbdrow0_col0,#T_bfe6a8dd_9791_11eb_a669_085bd68b0bbdrow1_col1,#T_bfe6a8dd_9791_11eb_a669_085bd68b0bbdrow2_col2,#T_bfe6a8dd_9791_11eb_a669_085bd68b0bbdrow3_col3{\n",
       "            background-color:  #023858;\n",
       "            color:  #f1f1f1;\n",
       "        }#T_bfe6a8dd_9791_11eb_a669_085bd68b0bbdrow0_col1{\n",
       "            background-color:  #e1dfed;\n",
       "            color:  #000000;\n",
       "        }#T_bfe6a8dd_9791_11eb_a669_085bd68b0bbdrow0_col2,#T_bfe6a8dd_9791_11eb_a669_085bd68b0bbdrow1_col3,#T_bfe6a8dd_9791_11eb_a669_085bd68b0bbdrow2_col0,#T_bfe6a8dd_9791_11eb_a669_085bd68b0bbdrow3_col1{\n",
       "            background-color:  #fff7fb;\n",
       "            color:  #000000;\n",
       "        }#T_bfe6a8dd_9791_11eb_a669_085bd68b0bbdrow0_col3{\n",
       "            background-color:  #88b1d4;\n",
       "            color:  #000000;\n",
       "        }#T_bfe6a8dd_9791_11eb_a669_085bd68b0bbdrow1_col0{\n",
       "            background-color:  #dddbec;\n",
       "            color:  #000000;\n",
       "        }#T_bfe6a8dd_9791_11eb_a669_085bd68b0bbdrow1_col2{\n",
       "            background-color:  #ede8f3;\n",
       "            color:  #000000;\n",
       "        }#T_bfe6a8dd_9791_11eb_a669_085bd68b0bbdrow2_col1{\n",
       "            background-color:  #f0eaf4;\n",
       "            color:  #000000;\n",
       "        }#T_bfe6a8dd_9791_11eb_a669_085bd68b0bbdrow2_col3{\n",
       "            background-color:  #fbf4f9;\n",
       "            color:  #000000;\n",
       "        }#T_bfe6a8dd_9791_11eb_a669_085bd68b0bbdrow3_col0{\n",
       "            background-color:  #83afd3;\n",
       "            color:  #000000;\n",
       "        }#T_bfe6a8dd_9791_11eb_a669_085bd68b0bbdrow3_col2{\n",
       "            background-color:  #f8f1f8;\n",
       "            color:  #000000;\n",
       "        }</style><table id=\"T_bfe6a8dd_9791_11eb_a669_085bd68b0bbd\" ><thead>    <tr>        <th class=\"blank level0\" ></th>        <th class=\"col_heading level0 col0\" >area</th>        <th class=\"col_heading level0 col1\" >geoname_id</th>        <th class=\"col_heading level0 col2\" >numeric</th>        <th class=\"col_heading level0 col3\" >population</th>    </tr></thead><tbody>\n",
       "                <tr>\n",
       "                        <th id=\"T_bfe6a8dd_9791_11eb_a669_085bd68b0bbdlevel0_row0\" class=\"row_heading level0 row0\" >area</th>\n",
       "                        <td id=\"T_bfe6a8dd_9791_11eb_a669_085bd68b0bbdrow0_col0\" class=\"data row0 col0\" >1.000000</td>\n",
       "                        <td id=\"T_bfe6a8dd_9791_11eb_a669_085bd68b0bbdrow0_col1\" class=\"data row0 col1\" >0.120000</td>\n",
       "                        <td id=\"T_bfe6a8dd_9791_11eb_a669_085bd68b0bbdrow0_col2\" class=\"data row0 col2\" >-0.089000</td>\n",
       "                        <td id=\"T_bfe6a8dd_9791_11eb_a669_085bd68b0bbdrow0_col3\" class=\"data row0 col3\" >0.413000</td>\n",
       "            </tr>\n",
       "            <tr>\n",
       "                        <th id=\"T_bfe6a8dd_9791_11eb_a669_085bd68b0bbdlevel0_row1\" class=\"row_heading level0 row1\" >geoname_id</th>\n",
       "                        <td id=\"T_bfe6a8dd_9791_11eb_a669_085bd68b0bbdrow1_col0\" class=\"data row1 col0\" >0.120000</td>\n",
       "                        <td id=\"T_bfe6a8dd_9791_11eb_a669_085bd68b0bbdrow1_col1\" class=\"data row1 col1\" >1.000000</td>\n",
       "                        <td id=\"T_bfe6a8dd_9791_11eb_a669_085bd68b0bbdrow1_col2\" class=\"data row1 col2\" >0.039000</td>\n",
       "                        <td id=\"T_bfe6a8dd_9791_11eb_a669_085bd68b0bbdrow1_col3\" class=\"data row1 col3\" >-0.066000</td>\n",
       "            </tr>\n",
       "            <tr>\n",
       "                        <th id=\"T_bfe6a8dd_9791_11eb_a669_085bd68b0bbdlevel0_row2\" class=\"row_heading level0 row2\" >numeric</th>\n",
       "                        <td id=\"T_bfe6a8dd_9791_11eb_a669_085bd68b0bbdrow2_col0\" class=\"data row2 col0\" >-0.089000</td>\n",
       "                        <td id=\"T_bfe6a8dd_9791_11eb_a669_085bd68b0bbdrow2_col1\" class=\"data row2 col1\" >0.039000</td>\n",
       "                        <td id=\"T_bfe6a8dd_9791_11eb_a669_085bd68b0bbdrow2_col2\" class=\"data row2 col2\" >1.000000</td>\n",
       "                        <td id=\"T_bfe6a8dd_9791_11eb_a669_085bd68b0bbdrow2_col3\" class=\"data row2 col3\" >-0.041000</td>\n",
       "            </tr>\n",
       "            <tr>\n",
       "                        <th id=\"T_bfe6a8dd_9791_11eb_a669_085bd68b0bbdlevel0_row3\" class=\"row_heading level0 row3\" >population</th>\n",
       "                        <td id=\"T_bfe6a8dd_9791_11eb_a669_085bd68b0bbdrow3_col0\" class=\"data row3 col0\" >0.413000</td>\n",
       "                        <td id=\"T_bfe6a8dd_9791_11eb_a669_085bd68b0bbdrow3_col1\" class=\"data row3 col1\" >-0.066000</td>\n",
       "                        <td id=\"T_bfe6a8dd_9791_11eb_a669_085bd68b0bbdrow3_col2\" class=\"data row3 col2\" >-0.041000</td>\n",
       "                        <td id=\"T_bfe6a8dd_9791_11eb_a669_085bd68b0bbdrow3_col3\" class=\"data row3 col3\" >1.000000</td>\n",
       "            </tr>\n",
       "    </tbody></table>"
      ],
      "text/plain": [
       "<pandas.io.formats.style.Styler at 0x23e4eef7bb0>"
      ]
     },
     "execution_count": 6,
     "metadata": {},
     "output_type": "execute_result"
    }
   ],
   "source": [
    "#nos creamos un nuevo df solo con los valores numéricos\n",
    "#eliminar las columnas constantes, variables \"dummy\", variables como \"meses\" (que a pesar de ser numéricas, no tiene lógica hayar su correlación)\n",
    "df2 = df.drop(['alpha_2','alpha_3','capital','continent','currency_code','currency_name','eqivalent_fips_code','fips','languages','name','neighbours','phone','postal_code_format','postal_code_regex','tld'],axis = 1)\n",
    "print(df2.head())\n",
    "#eliminamos los datos faltantes de df2\n",
    "df2.dropna(inplace = True, subset = [\"area\",\"geoname_id\",\"numeric\",\"population\"])\n",
    "print(df2.head())\n",
    "#mostramos la matriz de correlaciones\n",
    "#np.corrcoef(df2[\"area\"],df2[\"geoname_id\"],df2[\"numeric\"],df2[\"population\"])\n",
    "df2.corr()\n",
    "corr = round(df.corr(),3)\n",
    "corr.style.background_gradient()"
   ]
  },
  {
   "cell_type": "code",
   "execution_count": 7,
   "metadata": {},
   "outputs": [
    {
     "data": {
      "image/png": "[encoded data removed]",
      "text/plain": [
       "<Figure size 432x288 with 2 Axes>"
      ]
     },
     "metadata": {
      "needs_background": "light"
     },
     "output_type": "display_data"
    }
   ],
   "source": [
    "#correlación entre datos\n",
    "corr = df.set_index('alpha_3').corr()\n",
    "sm.graphics.plot_corr(corr, xnames=list(corr.columns))\n",
    "plt.show()"
   ]
  },
  {
   "cell_type": "code",
   "execution_count": 8,
   "metadata": {},
   "outputs": [
    {
     "data": {
      "text/plain": [
       "<AxesSubplot:title={'center':'Pearson Correlation of Features'}>"
      ]
     },
     "execution_count": 8,
     "metadata": {},
     "output_type": "execute_result"
    },
    {
     "data": {
      "image/png": "[encoded data removed]",
      "text/plain": [
       "<Figure size 864x864 with 2 Axes>"
      ]
     },
     "metadata": {
      "needs_background": "light"
     },
     "output_type": "display_data"
    }
   ],
   "source": [
    "colormap = plt.cm.viridis\n",
    "plt.figure(figsize=(12,12))\n",
    "plt.title('Pearson Correlation of Features', y=1.05, size=15)\n",
    "sb.heatmap(df2.astype(float).corr(),linewidths=0.1,vmax=1.0, square=True, cmap=colormap, linecolor='white', annot=True)"
   ]
  },
  {
   "cell_type": "markdown",
   "metadata": {},
   "source": [
    "En este caso vemos baja correlación entre las variables. \n",
    "Dependiendo del algoritmo que utilicemos podría ser una buena decisión eliminar features que tuvieran alta correlación"
   ]
  },
  {
   "cell_type": "markdown",
   "metadata": {},
   "source": [
    "### Cargar una segunda fuente de datos\n",
    "Cargamos un segundo archivo csv para ahondar en el crecimiento de la población en los últimos años, \n",
    "filtramos a España y visualizamos"
   ]
  },
  {
   "cell_type": "code",
   "execution_count": 9,
   "metadata": {},
   "outputs": [
    {
     "name": "stdout",
     "output_type": "stream",
     "text": [
      "       country  year  population\n",
      "0  Afghanistan  1952     8425333\n",
      "1  Afghanistan  1957     9240934\n",
      "2  Afghanistan  1962    10267083\n",
      "3  Afghanistan  1967    11537966\n",
      "4  Afghanistan  1972    13079460\n"
     ]
    },
    {
     "data": {
      "text/html": [
       "<div>\n",
       "<style scoped>\n",
       "    .dataframe tbody tr th:only-of-type {\n",
       "        vertical-align: middle;\n",
       "    }\n",
       "\n",
       "    .dataframe tbody tr th {\n",
       "        vertical-align: top;\n",
       "    }\n",
       "\n",
       "    .dataframe thead th {\n",
       "        text-align: right;\n",
       "    }\n",
       "</style>\n",
       "<table border=\"1\" class=\"dataframe\">\n",
       "  <thead>\n",
       "    <tr style=\"text-align: right;\">\n",
       "      <th></th>\n",
       "      <th>country</th>\n",
       "      <th>year</th>\n",
       "      <th>population</th>\n",
       "    </tr>\n",
       "  </thead>\n",
       "  <tbody>\n",
       "    <tr>\n",
       "      <th>1416</th>\n",
       "      <td>Spain</td>\n",
       "      <td>1952</td>\n",
       "      <td>28549870</td>\n",
       "    </tr>\n",
       "    <tr>\n",
       "      <th>1417</th>\n",
       "      <td>Spain</td>\n",
       "      <td>1957</td>\n",
       "      <td>29841614</td>\n",
       "    </tr>\n",
       "    <tr>\n",
       "      <th>1418</th>\n",
       "      <td>Spain</td>\n",
       "      <td>1962</td>\n",
       "      <td>31158061</td>\n",
       "    </tr>\n",
       "    <tr>\n",
       "      <th>1419</th>\n",
       "      <td>Spain</td>\n",
       "      <td>1967</td>\n",
       "      <td>32850275</td>\n",
       "    </tr>\n",
       "    <tr>\n",
       "      <th>1420</th>\n",
       "      <td>Spain</td>\n",
       "      <td>1972</td>\n",
       "      <td>34513161</td>\n",
       "    </tr>\n",
       "    <tr>\n",
       "      <th>1421</th>\n",
       "      <td>Spain</td>\n",
       "      <td>1977</td>\n",
       "      <td>36439000</td>\n",
       "    </tr>\n",
       "    <tr>\n",
       "      <th>1422</th>\n",
       "      <td>Spain</td>\n",
       "      <td>1982</td>\n",
       "      <td>37983310</td>\n",
       "    </tr>\n",
       "    <tr>\n",
       "      <th>1423</th>\n",
       "      <td>Spain</td>\n",
       "      <td>1987</td>\n",
       "      <td>38880702</td>\n",
       "    </tr>\n",
       "    <tr>\n",
       "      <th>1424</th>\n",
       "      <td>Spain</td>\n",
       "      <td>1992</td>\n",
       "      <td>39549438</td>\n",
       "    </tr>\n",
       "    <tr>\n",
       "      <th>1425</th>\n",
       "      <td>Spain</td>\n",
       "      <td>1997</td>\n",
       "      <td>39855442</td>\n",
       "    </tr>\n",
       "    <tr>\n",
       "      <th>1426</th>\n",
       "      <td>Spain</td>\n",
       "      <td>2002</td>\n",
       "      <td>40152517</td>\n",
       "    </tr>\n",
       "    <tr>\n",
       "      <th>1427</th>\n",
       "      <td>Spain</td>\n",
       "      <td>2007</td>\n",
       "      <td>40448191</td>\n",
       "    </tr>\n",
       "  </tbody>\n",
       "</table>\n",
       "</div>"
      ],
      "text/plain": [
       "     country  year  population\n",
       "1416   Spain  1952    28549870\n",
       "1417   Spain  1957    29841614\n",
       "1418   Spain  1962    31158061\n",
       "1419   Spain  1967    32850275\n",
       "1420   Spain  1972    34513161\n",
       "1421   Spain  1977    36439000\n",
       "1422   Spain  1982    37983310\n",
       "1423   Spain  1987    38880702\n",
       "1424   Spain  1992    39549438\n",
       "1425   Spain  1997    39855442\n",
       "1426   Spain  2002    40152517\n",
       "1427   Spain  2007    40448191"
      ]
     },
     "execution_count": 9,
     "metadata": {},
     "output_type": "execute_result"
    }
   ],
   "source": [
    "url = 'https://raw.githubusercontent.com/DrueStaples/Population_Growth/master/countries.csv'\n",
    "df_pop = pd.read_csv(url)\n",
    "print(df_pop.head())\n",
    "\n",
    "#filtramos a españa\n",
    "df_pop_es = df_pop[df_pop[\"country\"] == 'Spain' ]\n",
    "df_pop_es"
   ]
  },
  {
   "cell_type": "code",
   "execution_count": 10,
   "metadata": {},
   "outputs": [
    {
     "data": {
      "text/plain": [
       "(12, 3)"
      ]
     },
     "execution_count": 10,
     "metadata": {},
     "output_type": "execute_result"
    }
   ],
   "source": [
    "df_pop_es.shape"
   ]
  },
  {
   "cell_type": "code",
   "execution_count": 11,
   "metadata": {},
   "outputs": [
    {
     "data": {
      "text/plain": [
       "2012"
      ]
     },
     "execution_count": 11,
     "metadata": {},
     "output_type": "execute_result"
    }
   ],
   "source": [
    "12*5+1952"
   ]
  },
  {
   "cell_type": "code",
   "execution_count": 12,
   "metadata": {},
   "outputs": [
    {
     "data": {
      "text/plain": [
       "country          Spain\n",
       "year              2007\n",
       "population    40448191\n",
       "dtype: object"
      ]
     },
     "execution_count": 12,
     "metadata": {},
     "output_type": "execute_result"
    }
   ],
   "source": [
    "df_pop_es.max()"
   ]
  },
  {
   "cell_type": "code",
   "execution_count": 13,
   "metadata": {},
   "outputs": [
    {
     "data": {
      "text/plain": [
       "country          Spain\n",
       "year              1952\n",
       "population    28549870\n",
       "dtype: object"
      ]
     },
     "execution_count": 13,
     "metadata": {},
     "output_type": "execute_result"
    }
   ],
   "source": [
    "df_pop_es.min()"
   ]
  },
  {
   "cell_type": "code",
   "execution_count": 14,
   "metadata": {},
   "outputs": [
    {
     "data": {
      "text/html": [
       "<div>\n",
       "<style scoped>\n",
       "    .dataframe tbody tr th:only-of-type {\n",
       "        vertical-align: middle;\n",
       "    }\n",
       "\n",
       "    .dataframe tbody tr th {\n",
       "        vertical-align: top;\n",
       "    }\n",
       "\n",
       "    .dataframe thead th {\n",
       "        text-align: right;\n",
       "    }\n",
       "</style>\n",
       "<table border=\"1\" class=\"dataframe\">\n",
       "  <thead>\n",
       "    <tr style=\"text-align: right;\">\n",
       "      <th></th>\n",
       "      <th>year</th>\n",
       "      <th>population</th>\n",
       "    </tr>\n",
       "  </thead>\n",
       "  <tbody>\n",
       "    <tr>\n",
       "      <th>count</th>\n",
       "      <td>12.000000</td>\n",
       "      <td>1.200000e+01</td>\n",
       "    </tr>\n",
       "    <tr>\n",
       "      <th>mean</th>\n",
       "      <td>1979.500000</td>\n",
       "      <td>3.585180e+07</td>\n",
       "    </tr>\n",
       "    <tr>\n",
       "      <th>std</th>\n",
       "      <td>18.027756</td>\n",
       "      <td>4.323928e+06</td>\n",
       "    </tr>\n",
       "    <tr>\n",
       "      <th>min</th>\n",
       "      <td>1952.000000</td>\n",
       "      <td>2.854987e+07</td>\n",
       "    </tr>\n",
       "    <tr>\n",
       "      <th>25%</th>\n",
       "      <td>1965.750000</td>\n",
       "      <td>3.242722e+07</td>\n",
       "    </tr>\n",
       "    <tr>\n",
       "      <th>50%</th>\n",
       "      <td>1979.500000</td>\n",
       "      <td>3.721116e+07</td>\n",
       "    </tr>\n",
       "    <tr>\n",
       "      <th>75%</th>\n",
       "      <td>1993.250000</td>\n",
       "      <td>3.962594e+07</td>\n",
       "    </tr>\n",
       "    <tr>\n",
       "      <th>max</th>\n",
       "      <td>2007.000000</td>\n",
       "      <td>4.044819e+07</td>\n",
       "    </tr>\n",
       "  </tbody>\n",
       "</table>\n",
       "</div>"
      ],
      "text/plain": [
       "              year    population\n",
       "count    12.000000  1.200000e+01\n",
       "mean   1979.500000  3.585180e+07\n",
       "std      18.027756  4.323928e+06\n",
       "min    1952.000000  2.854987e+07\n",
       "25%    1965.750000  3.242722e+07\n",
       "50%    1979.500000  3.721116e+07\n",
       "75%    1993.250000  3.962594e+07\n",
       "max    2007.000000  4.044819e+07"
      ]
     },
     "execution_count": 14,
     "metadata": {},
     "output_type": "execute_result"
    }
   ],
   "source": [
    "df_pop_es.describe()"
   ]
  },
  {
   "cell_type": "markdown",
   "metadata": {},
   "source": [
    "#### Visualicemos datos"
   ]
  },
  {
   "cell_type": "code",
   "execution_count": 15,
   "metadata": {},
   "outputs": [
    {
     "data": {
      "text/plain": [
       "<AxesSubplot:>"
      ]
     },
     "execution_count": 15,
     "metadata": {},
     "output_type": "execute_result"
    },
    {
     "data": {
      "image/png": "[encoded data removed]",
      "text/plain": [
       "<Figure size 432x288 with 1 Axes>"
      ]
     },
     "metadata": {
      "needs_background": "light"
     },
     "output_type": "display_data"
    }
   ],
   "source": [
    "#le quitamos la columna de 'country', filtramos por 'poblacion'\n",
    "df_pop_es.drop(['country'],axis=1)['population'].plot(kind='bar')"
   ]
  },
  {
   "cell_type": "markdown",
   "metadata": {},
   "source": [
    "Crecimiento de la Población de España. El eje x no está establecido y aparece un id de fila."
   ]
  },
  {
   "cell_type": "markdown",
   "metadata": {},
   "source": [
    "#### Comparativa entre 3 países"
   ]
  },
  {
   "cell_type": "markdown",
   "metadata": {},
   "source": [
    "Hagamos la comparativa con otro país, por ejemplo con el crecimiento poblacional en Argentina e Italia"
   ]
  },
  {
   "cell_type": "code",
   "execution_count": 16,
   "metadata": {},
   "outputs": [
    {
     "data": {
      "text/plain": [
       "array(['Afghanistan', 'Albania', 'Algeria', 'Angola', 'Argentina',\n",
       "       'Australia', 'Austria', 'Bahrain', 'Bangladesh', 'Belgium',\n",
       "       'Benin', 'Bolivia', 'Bosnia and Herzegovina', 'Botswana', 'Brazil',\n",
       "       'Bulgaria', 'Burkina Faso', 'Burundi', 'Cambodia', 'Cameroon',\n",
       "       'Canada', 'Central African Republic', 'Chad', 'Chile', 'China',\n",
       "       'Colombia', 'Comoros', 'Congo, Dem. Rep.', 'Congo, Rep.',\n",
       "       'Costa Rica', \"Cote d'Ivoire\", 'Croatia', 'Cuba', 'Czech Republic',\n",
       "       'Denmark', 'Djibouti', 'Dominican Republic', 'Ecuador', 'Egypt',\n",
       "       'El Salvador', 'Equatorial Guinea', 'Eritrea', 'Ethiopia',\n",
       "       'Finland', 'France', 'Gabon', 'Gambia', 'Germany', 'Ghana',\n",
       "       'Greece', 'Guatemala', 'Guinea', 'Guinea-Bissau', 'Haiti',\n",
       "       'Honduras', 'Hong Kong, China', 'Hungary', 'Iceland', 'India',\n",
       "       'Indonesia', 'Iran', 'Iraq', 'Ireland', 'Israel', 'Italy',\n",
       "       'Jamaica', 'Japan', 'Jordan', 'Kenya', 'Korea, Dem. Rep.',\n",
       "       'Korea, Rep.', 'Kuwait', 'Lebanon', 'Lesotho', 'Liberia', 'Libya',\n",
       "       'Madagascar', 'Malawi', 'Malaysia', 'Mali', 'Mauritania',\n",
       "       'Mauritius', 'Mexico', 'Mongolia', 'Montenegro', 'Morocco',\n",
       "       'Mozambique', 'Myanmar', 'Namibia', 'Nepal', 'Netherlands',\n",
       "       'New Zealand', 'Nicaragua', 'Niger', 'Nigeria', 'Norway', 'Oman',\n",
       "       'Pakistan', 'Panama', 'Paraguay', 'Peru', 'Philippines', 'Poland',\n",
       "       'Portugal', 'Puerto Rico', 'Reunion', 'Romania', 'Rwanda',\n",
       "       'Sao Tome and Principe', 'Saudi Arabia', 'Senegal', 'Serbia',\n",
       "       'Sierra Leone', 'Singapore', 'Slovak Republic', 'Slovenia',\n",
       "       'Somalia', 'South Africa', 'Spain', 'Sri Lanka', 'Sudan',\n",
       "       'Swaziland', 'Sweden', 'Switzerland', 'Syria', 'Taiwan',\n",
       "       'Tanzania', 'Thailand', 'Togo', 'Trinidad and Tobago', 'Tunisia',\n",
       "       'Turkey', 'Uganda', 'United Kingdom', 'United States', 'Uruguay',\n",
       "       'Venezuela', 'Vietnam', 'West Bank and Gaza', 'Yemen, Rep.',\n",
       "       'Zambia', 'Zimbabwe'], dtype=object)"
      ]
     },
     "execution_count": 16,
     "metadata": {},
     "output_type": "execute_result"
    }
   ],
   "source": [
    "#vemos todos los países que hay\n",
    "#ver los valores únicos de una columna\n",
    "df_pop[\"country\"].unique()"
   ]
  },
  {
   "cell_type": "code",
   "execution_count": 17,
   "metadata": {},
   "outputs": [
    {
     "data": {
      "text/html": [
       "<div>\n",
       "<style scoped>\n",
       "    .dataframe tbody tr th:only-of-type {\n",
       "        vertical-align: middle;\n",
       "    }\n",
       "\n",
       "    .dataframe tbody tr th {\n",
       "        vertical-align: top;\n",
       "    }\n",
       "\n",
       "    .dataframe thead th {\n",
       "        text-align: right;\n",
       "    }\n",
       "</style>\n",
       "<table border=\"1\" class=\"dataframe\">\n",
       "  <thead>\n",
       "    <tr style=\"text-align: right;\">\n",
       "      <th></th>\n",
       "      <th>country</th>\n",
       "      <th>year</th>\n",
       "      <th>population</th>\n",
       "    </tr>\n",
       "  </thead>\n",
       "  <tbody>\n",
       "    <tr>\n",
       "      <th>48</th>\n",
       "      <td>Argentina</td>\n",
       "      <td>1952</td>\n",
       "      <td>17876956</td>\n",
       "    </tr>\n",
       "    <tr>\n",
       "      <th>49</th>\n",
       "      <td>Argentina</td>\n",
       "      <td>1957</td>\n",
       "      <td>19610538</td>\n",
       "    </tr>\n",
       "    <tr>\n",
       "      <th>50</th>\n",
       "      <td>Argentina</td>\n",
       "      <td>1962</td>\n",
       "      <td>21283783</td>\n",
       "    </tr>\n",
       "    <tr>\n",
       "      <th>51</th>\n",
       "      <td>Argentina</td>\n",
       "      <td>1967</td>\n",
       "      <td>22934225</td>\n",
       "    </tr>\n",
       "    <tr>\n",
       "      <th>52</th>\n",
       "      <td>Argentina</td>\n",
       "      <td>1972</td>\n",
       "      <td>24779799</td>\n",
       "    </tr>\n",
       "  </tbody>\n",
       "</table>\n",
       "</div>"
      ],
      "text/plain": [
       "      country  year  population\n",
       "48  Argentina  1952    17876956\n",
       "49  Argentina  1957    19610538\n",
       "50  Argentina  1962    21283783\n",
       "51  Argentina  1967    22934225\n",
       "52  Argentina  1972    24779799"
      ]
     },
     "execution_count": 17,
     "metadata": {},
     "output_type": "execute_result"
    }
   ],
   "source": [
    "df_pop_ar = df_pop[(df_pop[\"country\"] == 'Argentina')]\n",
    "df_pop_ar.head()"
   ]
  },
  {
   "cell_type": "code",
   "execution_count": 18,
   "metadata": {},
   "outputs": [
    {
     "data": {
      "text/html": [
       "<div>\n",
       "<style scoped>\n",
       "    .dataframe tbody tr th:only-of-type {\n",
       "        vertical-align: middle;\n",
       "    }\n",
       "\n",
       "    .dataframe tbody tr th {\n",
       "        vertical-align: top;\n",
       "    }\n",
       "\n",
       "    .dataframe thead th {\n",
       "        text-align: right;\n",
       "    }\n",
       "</style>\n",
       "<table border=\"1\" class=\"dataframe\">\n",
       "  <thead>\n",
       "    <tr style=\"text-align: right;\">\n",
       "      <th></th>\n",
       "      <th>country</th>\n",
       "      <th>year</th>\n",
       "      <th>population</th>\n",
       "    </tr>\n",
       "  </thead>\n",
       "  <tbody>\n",
       "    <tr>\n",
       "      <th>768</th>\n",
       "      <td>Italy</td>\n",
       "      <td>1952</td>\n",
       "      <td>47666000</td>\n",
       "    </tr>\n",
       "    <tr>\n",
       "      <th>769</th>\n",
       "      <td>Italy</td>\n",
       "      <td>1957</td>\n",
       "      <td>49182000</td>\n",
       "    </tr>\n",
       "    <tr>\n",
       "      <th>770</th>\n",
       "      <td>Italy</td>\n",
       "      <td>1962</td>\n",
       "      <td>50843200</td>\n",
       "    </tr>\n",
       "    <tr>\n",
       "      <th>771</th>\n",
       "      <td>Italy</td>\n",
       "      <td>1967</td>\n",
       "      <td>52667100</td>\n",
       "    </tr>\n",
       "    <tr>\n",
       "      <th>772</th>\n",
       "      <td>Italy</td>\n",
       "      <td>1972</td>\n",
       "      <td>54365564</td>\n",
       "    </tr>\n",
       "  </tbody>\n",
       "</table>\n",
       "</div>"
      ],
      "text/plain": [
       "    country  year  population\n",
       "768   Italy  1952    47666000\n",
       "769   Italy  1957    49182000\n",
       "770   Italy  1962    50843200\n",
       "771   Italy  1967    52667100\n",
       "772   Italy  1972    54365564"
      ]
     },
     "execution_count": 18,
     "metadata": {},
     "output_type": "execute_result"
    }
   ],
   "source": [
    "df_pop_it = df_pop[(df_pop[\"country\"] == 'Italy')]\n",
    "df_pop_it.head()"
   ]
  },
  {
   "cell_type": "code",
   "execution_count": 19,
   "metadata": {},
   "outputs": [
    {
     "data": {
      "text/plain": [
       "<AxesSubplot:>"
      ]
     },
     "execution_count": 19,
     "metadata": {},
     "output_type": "execute_result"
    },
    {
     "data": {
      "image/png": "[encoded data removed]",
      "text/plain": [
       "<Figure size 432x288 with 1 Axes>"
      ]
     },
     "metadata": {
      "needs_background": "light"
     },
     "output_type": "display_data"
    }
   ],
   "source": [
    "anios = df_pop_es['year'].unique()\n",
    "#creamos variables para almacenar los valores de 'population' de los 3 paises\n",
    "pop_ar = df_pop_ar['population'].values\n",
    "pop_es = df_pop_es['population'].values\n",
    "pop_it = df_pop_it['population'].values\n",
    "#creamos un DataFrame con lo anterior\n",
    "df_plot = pd.DataFrame({'Argentina': pop_ar,\n",
    "                        'Italy': pop_it,\n",
    "                        'Spain': pop_es\n",
    "                        }, \n",
    "                       index=anios)\n",
    "df_plot.plot(kind='bar')"
   ]
  },
  {
   "cell_type": "markdown",
   "metadata": {},
   "source": [
    "Gráfica comparativa de crecimiento poblacional entre España, Argentina e Italia, entre los años 1952 al 2007"
   ]
  },
  {
   "cell_type": "markdown",
   "metadata": {},
   "source": [
    "#### Ahora filtremos todos los paises hispano-hablantes\n",
    "Del 1er DataFrame, hay una columna que es de 'languages', en la que los países hispanohablantes tendrán en común 'es'"
   ]
  },
  {
   "cell_type": "code",
   "execution_count": 20,
   "metadata": {},
   "outputs": [
    {
     "data": {
      "text/plain": [
       "array(['ca', 'ar-AE,fa,en,hi,ur', 'fa-AF,ps,uz-AF,tk', 'en-AG', 'en-AI',\n",
       "       'sq,el', 'hy', 'pt-AO', nan, 'es-AR,en,it,de,fr,gn', 'en-AS,sm,to',\n",
       "       'de-AT,hr,hu,sl', 'en-AU', 'nl-AW,es,en', 'sv-AX', 'az,ru,hy',\n",
       "       'bs,hr-BA,sr-BA', 'en-BB', 'bn-BD,en', 'nl-BE,fr-BE,de-BE',\n",
       "       'fr-BF', 'bg,tr-BG,rom', 'ar-BH,en,fa,ur', 'fr-BI,rn', 'fr-BJ',\n",
       "       'fr', 'en-BM,pt', 'ms-BN,en-BN', 'es-BO,qu,ay', 'nl,pap,en',\n",
       "       'pt-BR,es,en,fr', 'en-BS', 'dz', 'en-BW,tn-BW', 'be,ru',\n",
       "       'en-BZ,es', 'en-CA,fr-CA,iu', 'ms-CC,en', 'fr-CD,ln,kg',\n",
       "       'fr-CF,sg,ln,kg', 'fr-CG,kg,ln-CG', 'de-CH,fr-CH,it-CH,rm',\n",
       "       'fr-CI', 'en-CK,mi', 'es-CL', 'en-CM,fr-CM',\n",
       "       'zh-CN,yue,wuu,dta,ug,za', 'es-CO', 'es-CR,en', 'es-CU', 'pt-CV',\n",
       "       'nl,pap', 'en,zh,ms-CC', 'el-CY,tr-CY,en', 'cs,sk', 'de',\n",
       "       'fr-DJ,ar,so-DJ,aa', 'da-DK,en,fo,de-DK', 'en-DM', 'es-DO',\n",
       "       'ar-DZ', 'es-EC', 'et,ru', 'ar-EG,en,fr', 'ar,mey',\n",
       "       'aa-ER,ar,tig,kun,ti-ER', 'es-ES,ca,gl,eu,oc',\n",
       "       'am,en-ET,om-ET,ti-ET,so-ET,sid', 'fi-FI,sv-FI,smn', 'en-FJ,fj',\n",
       "       'en-FK', 'en-FM,chk,pon,yap,kos,uli,woe,nkr,kpg', 'fo,da-FO',\n",
       "       'fr-FR,frp,br,co,ca,eu,oc', 'fr-GA', 'en-GB,cy-GB,gd', 'en-GD',\n",
       "       'ka,ru,hy,az', 'fr-GF', 'en,fr', 'en-GH,ak,ee,tw',\n",
       "       'en-GI,es,it,pt', 'kl,da-GL,en', 'en-GM,mnk,wof,wo,ff', 'fr-GN',\n",
       "       'fr-GP', 'es-GQ,fr', 'el-GR,en,fr', 'en', 'es-GT', 'en-GU,ch-GU',\n",
       "       'pt-GW,pov', 'en-GY', 'zh-HK,yue,zh,en', 'es-HN', 'hr-HR,sr',\n",
       "       'ht,fr-HT', 'hu-HU', 'id,en,nl,jv', 'en-IE,ga-IE',\n",
       "       'he,ar-IL,en-IL,', 'en,gv',\n",
       "       'en-IN,hi,bn,te,mr,ta,ur,gu,kn,ml,or,pa,as,bh,sat,ks,ne,sd,kok,doi,mni,sit,sa,fr,lus,inc',\n",
       "       'en-IO', 'ar-IQ,ku,hy', 'fa-IR,ku', 'is,en,de,da,sv,no',\n",
       "       'it-IT,de-IT,fr-IT,sc,ca,co,sl', 'en,pt', 'en-JM', 'ar-JO,en',\n",
       "       'ja', 'en-KE,sw-KE', 'ky,uz,ru', 'km,fr,en', 'en-KI,gil',\n",
       "       'ar,fr-KM', 'en-KN', 'ko-KP', 'ko-KR,en', 'sq,sr', 'ar-KW,en',\n",
       "       'en-KY', 'kk,ru', 'lo,fr,en', 'ar-LB,fr-LB,en,hy', 'en-LC',\n",
       "       'de-LI', 'si,ta,en', 'en-LR', 'en-LS,st,zu,xh', 'lt,ru,pl',\n",
       "       'lb,de-LU,fr-LU', 'lv,ru,lt', 'ar-LY,it,en', 'ar-MA,fr',\n",
       "       'fr-MC,en,it', 'ro,ru,gag,tr', 'sr,hu,bs,sq,hr,rom', 'fr-MG,mg',\n",
       "       'mh,en-MH', 'mk,sq,tr,rmm,sr', 'fr-ML,bm', 'my', 'mn,ru',\n",
       "       'zh,zh-MO,pt', 'fil,tl,zh,ch-MP,en-MP', 'fr-MQ',\n",
       "       'ar-MR,fuc,snk,fr,mey,wo', 'en-MS', 'mt,en-MT', 'en-MU,bho,fr',\n",
       "       'dv,en', 'ny,yao,tum,swk', 'es-MX', 'ms-MY,en,zh,ta,te,ml,pa,th',\n",
       "       'pt-MZ,vmw', 'en-NA,af,de,hz,naq', 'fr-NC', 'fr-NE,ha,kr,dje',\n",
       "       'en-NF', 'en-NG,ha,yo,ig,ff', 'es-NI,en', 'nl-NL,fy-NL',\n",
       "       'no,nb,nn,se,fi', 'ne,en', 'na,en-NR', 'niu,en-NU', 'en-NZ,mi',\n",
       "       'ar-OM,en,bal,ur', 'es-PA,en', 'es-PE,qu,ay', 'fr-PF,ty',\n",
       "       'en-PG,ho,meu,tpi', 'tl,en-PH,fil', 'ur-PK,en-PK,pa,sd,ps,brh',\n",
       "       'pl', 'fr-PM', 'en-PN', 'en-PR,es-PR', 'ar-PS', 'pt-PT,mwl',\n",
       "       'pau,sov,en-PW,tox,ja,fil,zh', 'es-PY,gn', 'ar-QA,es', 'fr-RE',\n",
       "       'ro,hu,rom', 'sr,hu,bs,rom',\n",
       "       'ru,tt,xal,cau,ady,kv,ce,tyv,cv,udm,tut,mns,bua,myv,mdf,chm,ba,inh,tut,kbd,krc,ava,sah,nog',\n",
       "       'rw,en-RW,fr-RW,sw', 'ar-SA', 'en-SB,tpi', 'en-SC,fr-SC',\n",
       "       'ar-SD,en,fia', 'sv-SE,se,sma,fi-SE',\n",
       "       'cmn,en-SG,ms-SG,ta-SG,zh-SG', 'en-SH', 'sl,sh', 'no,ru', 'sk,hu',\n",
       "       'en-SL,men,tem', 'it-SM', 'fr-SN,wo,fuc,mnk',\n",
       "       'so-SO,ar-SO,it,en-SO', 'nl-SR,en,srn,hns,jv', 'pt-ST', 'es-SV',\n",
       "       'nl,en', 'ar-SY,ku,hy,arc,fr,en', 'en-SZ,ss-SZ', 'en-TC',\n",
       "       'fr-TD,ar-TD,sre', 'fr-TG,ee,hna,kbp,dag,ha', 'th,en', 'tg,ru',\n",
       "       'tkl,en-TK', 'tet,pt-TL,id,en', 'tk,ru,uz', 'ar-TN,fr', 'to,en-TO',\n",
       "       'tr-TR,ku,diq,az,av', 'en-TT,hns,fr,es,zh', 'tvl,en,sm,gil',\n",
       "       'zh-TW,zh,nan,hak', 'sw-TZ,en,ar', 'uk,ru-UA,rom,pl,hu',\n",
       "       'en-UG,lg,sw,ar', 'en-UM', 'en-US,es-US,haw,fr', 'es-UY',\n",
       "       'uz,ru,tg', 'la,it,fr', 'en-VC,fr', 'es-VE', 'en-VG', 'en-VI',\n",
       "       'vi,en,fr,zh,km', 'bi,en-VU,fr-VU', 'wls,fud,fr-WF', 'sm,en-WS',\n",
       "       'ar-YE', 'fr-YT', 'zu,xh,af,nso,en-ZA,tn,st,ts,ss,ve,nr',\n",
       "       'en-ZM,bem,loz,lun,lue,ny,toi', 'en-ZW,sn,nr,nd', 'cu,hu,sq,sr',\n",
       "       'nl-AN,en,es'], dtype=object)"
      ]
     },
     "execution_count": 20,
     "metadata": {},
     "output_type": "execute_result"
    }
   ],
   "source": [
    "#miramos todos os idiomas que se hablan en los países para encontrar el filtro que queremos\n",
    "df['languages'].unique()"
   ]
  },
  {
   "cell_type": "code",
   "execution_count": 21,
   "metadata": {},
   "outputs": [
    {
     "data": {
      "text/plain": [
       "array(['Andorra', 'United Arab Emirates', 'Afghanistan',\n",
       "       'Antigua and Barbuda', 'Anguilla', 'Albania', 'Armenia', 'Angola',\n",
       "       'Antarctica', 'Argentina', 'American Samoa', 'Austria',\n",
       "       'Australia', 'Aruba', 'Aland Islands', 'Azerbaijan',\n",
       "       'Bosnia and Herzegovina', 'Barbados', 'Bangladesh', 'Belgium',\n",
       "       'Burkina Faso', 'Bulgaria', 'Bahrain', 'Burundi', 'Benin',\n",
       "       'Saint Barthelemy', 'Bermuda', 'Brunei', 'Bolivia',\n",
       "       'Bonaire, Saint Eustatius and Saba ', 'Brazil', 'Bahamas',\n",
       "       'Bhutan', 'Bouvet Island', 'Botswana', 'Belarus', 'Belize',\n",
       "       'Canada', 'Cocos Islands', 'Democratic Republic of the Congo',\n",
       "       'Central African Republic', 'Republic of the Congo', 'Switzerland',\n",
       "       'Ivory Coast', 'Cook Islands', 'Chile', 'Cameroon', 'China',\n",
       "       'Colombia', 'Costa Rica', 'Cuba', 'Cape Verde', 'Curacao',\n",
       "       'Christmas Island', 'Cyprus', 'Czechia', 'Germany', 'Djibouti',\n",
       "       'Denmark', 'Dominica', 'Dominican Republic', 'Algeria', 'Ecuador',\n",
       "       'Estonia', 'Egypt', 'Western Sahara', 'Eritrea', 'Spain',\n",
       "       'Ethiopia', 'Finland', 'Fiji', 'Falkland Islands', 'Micronesia',\n",
       "       'Faroe Islands', 'France', 'Gabon', 'United Kingdom', 'Grenada',\n",
       "       'Georgia', 'French Guiana', 'Guernsey', 'Ghana', 'Gibraltar',\n",
       "       'Greenland', 'Gambia', 'Guinea', 'Guadeloupe', 'Equatorial Guinea',\n",
       "       'Greece', 'South Georgia and the South Sandwich Islands',\n",
       "       'Guatemala', 'Guam', 'Guinea-Bissau', 'Guyana', 'Hong Kong',\n",
       "       'Heard Island and McDonald Islands', 'Honduras', 'Croatia',\n",
       "       'Haiti', 'Hungary', 'Indonesia', 'Ireland', 'Israel',\n",
       "       'Isle of Man', 'India', 'British Indian Ocean Territory', 'Iraq',\n",
       "       'Iran', 'Iceland', 'Italy', 'Jersey', 'Jamaica', 'Jordan', 'Japan',\n",
       "       'Kenya', 'Kyrgyzstan', 'Cambodia', 'Kiribati', 'Comoros',\n",
       "       'Saint Kitts and Nevis', 'North Korea', 'South Korea', 'Kosovo',\n",
       "       'Kuwait', 'Cayman Islands', 'Kazakhstan', 'Laos', 'Lebanon',\n",
       "       'Saint Lucia', 'Liechtenstein', 'Sri Lanka', 'Liberia', 'Lesotho',\n",
       "       'Lithuania', 'Luxembourg', 'Latvia', 'Libya', 'Morocco', 'Monaco',\n",
       "       'Moldova', 'Montenegro', 'Saint Martin', 'Madagascar',\n",
       "       'Marshall Islands', 'Macedonia', 'Mali', 'Myanmar', 'Mongolia',\n",
       "       'Macao', 'Northern Mariana Islands', 'Martinique', 'Mauritania',\n",
       "       'Montserrat', 'Malta', 'Mauritius', 'Maldives', 'Malawi', 'Mexico',\n",
       "       'Malaysia', 'Mozambique', 'Namibia', 'New Caledonia', 'Niger',\n",
       "       'Norfolk Island', 'Nigeria', 'Nicaragua', 'Netherlands', 'Norway',\n",
       "       'Nepal', 'Nauru', 'Niue', 'New Zealand', 'Oman', 'Panama', 'Peru',\n",
       "       'French Polynesia', 'Papua New Guinea', 'Philippines', 'Pakistan',\n",
       "       'Poland', 'Saint Pierre and Miquelon', 'Pitcairn', 'Puerto Rico',\n",
       "       'Palestinian Territory', 'Portugal', 'Palau', 'Paraguay', 'Qatar',\n",
       "       'Reunion', 'Romania', 'Serbia', 'Russia', 'Rwanda', 'Saudi Arabia',\n",
       "       'Solomon Islands', 'Seychelles', 'Sudan', 'South Sudan', 'Sweden',\n",
       "       'Singapore', 'Saint Helena', 'Slovenia', 'Svalbard and Jan Mayen',\n",
       "       'Slovakia', 'Sierra Leone', 'San Marino', 'Senegal', 'Somalia',\n",
       "       'Suriname', 'Sao Tome and Principe', 'El Salvador', 'Sint Maarten',\n",
       "       'Syria', 'Swaziland', 'Turks and Caicos Islands', 'Chad',\n",
       "       'French Southern Territories', 'Togo', 'Thailand', 'Tajikistan',\n",
       "       'Tokelau', 'East Timor', 'Turkmenistan', 'Tunisia', 'Tonga',\n",
       "       'Turkey', 'Trinidad and Tobago', 'Tuvalu', 'Taiwan', 'Tanzania',\n",
       "       'Ukraine', 'Uganda', 'United States Minor Outlying Islands',\n",
       "       'United States', 'Uruguay', 'Uzbekistan', 'Vatican',\n",
       "       'Saint Vincent and the Grenadines', 'Venezuela',\n",
       "       'British Virgin Islands', 'U.S. Virgin Islands', 'Vietnam',\n",
       "       'Vanuatu', 'Wallis and Futuna', 'Samoa', 'Yemen', 'Mayotte',\n",
       "       'South Africa', 'Zambia', 'Zimbabwe', 'Serbia and Montenegro',\n",
       "       'Netherlands Antilles'], dtype=object)"
      ]
     },
     "execution_count": 21,
     "metadata": {},
     "output_type": "execute_result"
    }
   ],
   "source": [
    "df['name'].unique()"
   ]
  },
  {
   "cell_type": "code",
   "execution_count": 22,
   "metadata": {},
   "outputs": [
    {
     "data": {
      "text/plain": [
       "67    es-ES,ca,gl,eu,oc\n",
       "Name: languages, dtype: object"
      ]
     },
     "execution_count": 22,
     "metadata": {},
     "output_type": "execute_result"
    }
   ],
   "source": [
    "#lenguas habladas en España\n",
    "df[df['name'] == 'Spain']['languages']"
   ]
  },
  {
   "cell_type": "code",
   "execution_count": 23,
   "metadata": {},
   "outputs": [
    {
     "data": {
      "text/plain": [
       "29"
      ]
     },
     "execution_count": 23,
     "metadata": {},
     "output_type": "execute_result"
    }
   ],
   "source": [
    "#DataFrame con todos los paises hispanohablantes\n",
    "df_espanol = df.replace(np.nan, '', regex=True) #donde no haya ningún valor/np.nan, lo reemplazamos con \"\"\n",
    "df_espanol = df_espanol[ df_espanol['languages'].str.contains('es') ]\n",
    "df_espanol[\"name\"].count()"
   ]
  },
  {
   "cell_type": "markdown",
   "metadata": {},
   "source": [
    "hay 29 paises, son:"
   ]
  },
  {
   "cell_type": "code",
   "execution_count": 24,
   "metadata": {},
   "outputs": [
    {
     "data": {
      "text/plain": [
       "array(['Argentina', 'Aruba', 'Bolivia', 'Brazil', 'Belize', 'Chile',\n",
       "       'Colombia', 'Costa Rica', 'Cuba', 'Dominican Republic', 'Ecuador',\n",
       "       'Spain', 'Gibraltar', 'Equatorial Guinea', 'Guatemala', 'Honduras',\n",
       "       'Mexico', 'Nicaragua', 'Panama', 'Peru', 'Puerto Rico', 'Paraguay',\n",
       "       'Qatar', 'El Salvador', 'Trinidad and Tobago', 'United States',\n",
       "       'Uruguay', 'Venezuela', 'Netherlands Antilles'], dtype=object)"
      ]
     },
     "execution_count": 24,
     "metadata": {},
     "output_type": "execute_result"
    }
   ],
   "source": [
    "#nombre de dichos paises\n",
    "df_espanol[\"name\"].unique()"
   ]
  },
  {
   "cell_type": "markdown",
   "metadata": {},
   "source": [
    "### Visualicemos por población y área del país"
   ]
  },
  {
   "cell_type": "code",
   "execution_count": 25,
   "metadata": {},
   "outputs": [
    {
     "data": {
      "text/plain": [
       "<AxesSubplot:xlabel='alpha_3'>"
      ]
     },
     "execution_count": 25,
     "metadata": {},
     "output_type": "execute_result"
    },
    {
     "data": {
      "image/png": "[encoded data removed]",
      "text/plain": [
       "<Figure size 1440x720 with 1 Axes>"
      ]
     },
     "metadata": {
      "needs_background": "light"
     },
     "output_type": "display_data"
    }
   ],
   "source": [
    "df_espanol.set_index('alpha_3')[['population','area']].plot(kind='bar',rot=65,figsize=(20,10))"
   ]
  },
  {
   "cell_type": "markdown",
   "metadata": {},
   "source": [
    "#### detección de Outliers\n",
    "en este caso definimos como limite superior (e inferior) la media más (menos) “2 veces la desviación estándar” que muchas veces es tomada como máximos de tolerancia."
   ]
  },
  {
   "cell_type": "code",
   "execution_count": 26,
   "metadata": {
    "scrolled": true
   },
   "outputs": [
    {
     "name": "stdout",
     "output_type": "stream",
     "text": [
      "-102872707.87855022\n",
      "167589161.25786057\n"
     ]
    },
    {
     "data": {
      "text/plain": [
       "['BRA', 'USA']"
      ]
     },
     "execution_count": 26,
     "metadata": {},
     "output_type": "execute_result"
    }
   ],
   "source": [
    "anomalies = []\n",
    "\n",
    "# Funcion ejemplo para detección de outliers\n",
    "def find_anomalies(data):\n",
    "    # Set upper and lower limit to 2 standard deviation\n",
    "    data_std = data.std()\n",
    "    data_mean = data.mean()\n",
    "    anomaly_cut_off = data_std * 2\n",
    "    lower_limit  = data_mean - anomaly_cut_off \n",
    "    upper_limit = data_mean + anomaly_cut_off\n",
    "    print(lower_limit.iloc[0])\n",
    "    print(upper_limit.iloc[0])\n",
    "\n",
    "    # Generate outliers\n",
    "    for index, row in data.iterrows():\n",
    "        outlier = row # # obtener primer columna\n",
    "        # print(outlier)\n",
    "        if (outlier.iloc[0] > upper_limit.iloc[0]) or (outlier.iloc[0] < lower_limit.iloc[0]):\n",
    "            anomalies.append(index)\n",
    "    return anomalies\n",
    "\n",
    "find_anomalies(df_espanol.set_index('alpha_3')[['population']])"
   ]
  },
  {
   "cell_type": "markdown",
   "metadata": {},
   "source": [
    "OTRA FORMA:"
   ]
  },
  {
   "cell_type": "code",
   "execution_count": 27,
   "metadata": {},
   "outputs": [
    {
     "data": {
      "text/html": [
       "<div>\n",
       "<style scoped>\n",
       "    .dataframe tbody tr th:only-of-type {\n",
       "        vertical-align: middle;\n",
       "    }\n",
       "\n",
       "    .dataframe tbody tr th {\n",
       "        vertical-align: top;\n",
       "    }\n",
       "\n",
       "    .dataframe thead th {\n",
       "        text-align: right;\n",
       "    }\n",
       "</style>\n",
       "<table border=\"1\" class=\"dataframe\">\n",
       "  <thead>\n",
       "    <tr style=\"text-align: right;\">\n",
       "      <th></th>\n",
       "      <th>population</th>\n",
       "    </tr>\n",
       "    <tr>\n",
       "      <th>alpha_3</th>\n",
       "      <th></th>\n",
       "    </tr>\n",
       "  </thead>\n",
       "  <tbody>\n",
       "    <tr>\n",
       "      <th>ARG</th>\n",
       "      <td>41343201</td>\n",
       "    </tr>\n",
       "    <tr>\n",
       "      <th>ABW</th>\n",
       "      <td>71566</td>\n",
       "    </tr>\n",
       "    <tr>\n",
       "      <th>BOL</th>\n",
       "      <td>9947418</td>\n",
       "    </tr>\n",
       "    <tr>\n",
       "      <th>BRA</th>\n",
       "      <td>201103330</td>\n",
       "    </tr>\n",
       "    <tr>\n",
       "      <th>BLZ</th>\n",
       "      <td>314522</td>\n",
       "    </tr>\n",
       "    <tr>\n",
       "      <th>CHL</th>\n",
       "      <td>16746491</td>\n",
       "    </tr>\n",
       "    <tr>\n",
       "      <th>COL</th>\n",
       "      <td>47790000</td>\n",
       "    </tr>\n",
       "    <tr>\n",
       "      <th>CRI</th>\n",
       "      <td>4516220</td>\n",
       "    </tr>\n",
       "    <tr>\n",
       "      <th>CUB</th>\n",
       "      <td>11423000</td>\n",
       "    </tr>\n",
       "    <tr>\n",
       "      <th>DOM</th>\n",
       "      <td>9823821</td>\n",
       "    </tr>\n",
       "    <tr>\n",
       "      <th>ECU</th>\n",
       "      <td>14790608</td>\n",
       "    </tr>\n",
       "    <tr>\n",
       "      <th>ESP</th>\n",
       "      <td>46505963</td>\n",
       "    </tr>\n",
       "    <tr>\n",
       "      <th>GIB</th>\n",
       "      <td>27884</td>\n",
       "    </tr>\n",
       "    <tr>\n",
       "      <th>GNQ</th>\n",
       "      <td>1014999</td>\n",
       "    </tr>\n",
       "    <tr>\n",
       "      <th>GTM</th>\n",
       "      <td>13550440</td>\n",
       "    </tr>\n",
       "    <tr>\n",
       "      <th>HND</th>\n",
       "      <td>7989415</td>\n",
       "    </tr>\n",
       "    <tr>\n",
       "      <th>MEX</th>\n",
       "      <td>112468855</td>\n",
       "    </tr>\n",
       "    <tr>\n",
       "      <th>NIC</th>\n",
       "      <td>5995928</td>\n",
       "    </tr>\n",
       "    <tr>\n",
       "      <th>PAN</th>\n",
       "      <td>3410676</td>\n",
       "    </tr>\n",
       "    <tr>\n",
       "      <th>PER</th>\n",
       "      <td>29907003</td>\n",
       "    </tr>\n",
       "    <tr>\n",
       "      <th>PRI</th>\n",
       "      <td>3916632</td>\n",
       "    </tr>\n",
       "    <tr>\n",
       "      <th>PRY</th>\n",
       "      <td>6375830</td>\n",
       "    </tr>\n",
       "    <tr>\n",
       "      <th>QAT</th>\n",
       "      <td>840926</td>\n",
       "    </tr>\n",
       "    <tr>\n",
       "      <th>SLV</th>\n",
       "      <td>6052064</td>\n",
       "    </tr>\n",
       "    <tr>\n",
       "      <th>TTO</th>\n",
       "      <td>1228691</td>\n",
       "    </tr>\n",
       "    <tr>\n",
       "      <th>USA</th>\n",
       "      <td>310232863</td>\n",
       "    </tr>\n",
       "    <tr>\n",
       "      <th>URY</th>\n",
       "      <td>3477000</td>\n",
       "    </tr>\n",
       "    <tr>\n",
       "      <th>VEN</th>\n",
       "      <td>27223228</td>\n",
       "    </tr>\n",
       "    <tr>\n",
       "      <th>ANT</th>\n",
       "      <td>300000</td>\n",
       "    </tr>\n",
       "  </tbody>\n",
       "</table>\n",
       "</div>"
      ],
      "text/plain": [
       "         population\n",
       "alpha_3            \n",
       "ARG        41343201\n",
       "ABW           71566\n",
       "BOL         9947418\n",
       "BRA       201103330\n",
       "BLZ          314522\n",
       "CHL        16746491\n",
       "COL        47790000\n",
       "CRI         4516220\n",
       "CUB        11423000\n",
       "DOM         9823821\n",
       "ECU        14790608\n",
       "ESP        46505963\n",
       "GIB           27884\n",
       "GNQ         1014999\n",
       "GTM        13550440\n",
       "HND         7989415\n",
       "MEX       112468855\n",
       "NIC         5995928\n",
       "PAN         3410676\n",
       "PER        29907003\n",
       "PRI         3916632\n",
       "PRY         6375830\n",
       "QAT          840926\n",
       "SLV         6052064\n",
       "TTO         1228691\n",
       "USA       310232863\n",
       "URY         3477000\n",
       "VEN        27223228\n",
       "ANT          300000"
      ]
     },
     "execution_count": 27,
     "metadata": {},
     "output_type": "execute_result"
    }
   ],
   "source": [
    "#eliminamos los datos faltantes\n",
    "df_espanol = df_espanol.dropna()\n",
    "df_espanol.shape\n",
    "\n",
    "#de todo el DataFrame, seleccionamos los valores que queremos:\n",
    "df_espanol = df_espanol.set_index('alpha_3')[['population']]\n",
    "df_espanol"
   ]
  },
  {
   "cell_type": "code",
   "execution_count": 28,
   "metadata": {},
   "outputs": [
    {
     "name": "stdout",
     "output_type": "stream",
     "text": [
      "62942056.0\n",
      "-32308152.0\n"
     ]
    }
   ],
   "source": [
    "#cuartiles\n",
    "Q1 = np.percentile(df_espanol,25)\n",
    "Q2 = np.percentile(df_espanol,50) #mediana\n",
    "Q3 = np.percentile(df_espanol,75)\n",
    "rangointer = Q3-Q1\n",
    "\n",
    "#criterio clásico de definición de outliers: definir los umbrales\n",
    "umbralsuperior = Q3 + 1.5*rangointer\n",
    "umbralinferior = Q1 - 1.5*rangointer\n",
    "print(umbralsuperior)\n",
    "print(umbralinferior)"
   ]
  },
  {
   "cell_type": "markdown",
   "metadata": {},
   "source": [
    "Cualquier valor que esté por encima o por debajo del umbralsuperior / umbralinferior, será un \"outlier\""
   ]
  },
  {
   "cell_type": "markdown",
   "metadata": {},
   "source": [
    "Si queremos comprobar cuántos casos hay por debajo o por encima de estos umbrales, \n",
    "vamos a usar esta función np.mean() y vamos a ver:"
   ]
  },
  {
   "cell_type": "code",
   "execution_count": 29,
   "metadata": {},
   "outputs": [
    {
     "name": "stdout",
     "output_type": "stream",
     "text": [
      "population    0.103448\n",
      "dtype: float64\n",
      "population    0.0\n",
      "dtype: float64\n"
     ]
    }
   ],
   "source": [
    "print(np.mean(df_espanol > umbralsuperior))\n",
    "print(np.mean(df_espanol < umbralinferior))"
   ]
  },
  {
   "cell_type": "code",
   "execution_count": 30,
   "metadata": {},
   "outputs": [
    {
     "ename": "SyntaxError",
     "evalue": "invalid syntax (<ipython-input-30-bdddb252fdcc>, line 1)",
     "output_type": "error",
     "traceback": [
      "\u001b[1;36m  File \u001b[1;32m\"<ipython-input-30-bdddb252fdcc>\"\u001b[1;36m, line \u001b[1;32m1\u001b[0m\n\u001b[1;33m    por encima nos da que el '10' de los casos están por encima.\u001b[0m\n\u001b[1;37m        ^\u001b[0m\n\u001b[1;31mSyntaxError\u001b[0m\u001b[1;31m:\u001b[0m invalid syntax\n"
     ]
    }
   ],
   "source": [
    "por encima nos da que el '10' de los casos están por encima. \n",
    "Si comprobamos los que están por debajo, vemos que es el 0\n",
    "¿Qué estamos viendo aquí\n",
    "Que estas medidas no son simétricas, es decir, nos da un umbral, un \"threshold\" que parte nuestros datos, pero no nos asegura que estén igualmente distribuidos por encima o por debajo. "
   ]
  },
  {
   "cell_type": "code",
   "execution_count": 31,
   "metadata": {},
   "outputs": [],
   "source": [
    "#crear un modelo que nos va a seleccionar el 1 % de datos que considere que están muy alejados de nuestros datos más centrados. \n",
    "#from sklearn.covariance import EllipticEnvelope\n",
    "outliers = EllipticEnvelope(contamination = 0.01)\n",
    "#df_espanol"
   ]
  },
  {
   "cell_type": "code",
   "execution_count": 32,
   "metadata": {},
   "outputs": [
    {
     "data": {
      "text/plain": [
       "array([ 1,  1,  1,  1,  1,  1,  1,  1,  1,  1,  1,  1,  1,  1,  1,  1,  1,\n",
       "        1,  1,  1,  1,  1,  1,  1,  1, -1,  1,  1,  1])"
      ]
     },
     "execution_count": 32,
     "metadata": {},
     "output_type": "execute_result"
    }
   ],
   "source": [
    "#PARA VARIAS VARIABLES\n",
    "\n",
    "#definiríamos las variables que nos interesan de nuestra base de datos\n",
    "var_list = [\"population\"] #aquí pondríamos las variables en las que quisiésemos detectar los outliers (deben de ser numéricas)\n",
    "espanol = np.array(df_espanol.loc[:,var_list].dropna())\n",
    "espanol #array\n",
    "\n",
    "#entrenamos nuestro modelo\n",
    "outliers.fit(espanol)\n",
    "\n",
    "#pedirle que nos prediga con este modelo qué valores forman parte de este 1 % que queremos detectar\n",
    "pred = outliers.predict(espanol)\n",
    "pred #array de 1 y -1 --> interesan los -1"
   ]
  },
  {
   "cell_type": "code",
   "execution_count": 33,
   "metadata": {},
   "outputs": [
    {
     "data": {
      "text/plain": [
       "(array([25], dtype=int64),)"
      ]
     },
     "execution_count": 33,
     "metadata": {},
     "output_type": "execute_result"
    }
   ],
   "source": [
    "indices_outliers = np.where(pred==-1)\n",
    "indices_outliers"
   ]
  },
  {
   "cell_type": "code",
   "execution_count": 34,
   "metadata": {
    "scrolled": true
   },
   "outputs": [
    {
     "data": {
      "text/plain": [
       "array([[310232863]], dtype=int64)"
      ]
     },
     "execution_count": 34,
     "metadata": {},
     "output_type": "execute_result"
    }
   ],
   "source": [
    "espanol[indices_outliers]"
   ]
  },
  {
   "cell_type": "code",
   "execution_count": 35,
   "metadata": {},
   "outputs": [
    {
     "data": {
      "text/html": [
       "<div>\n",
       "<style scoped>\n",
       "    .dataframe tbody tr th:only-of-type {\n",
       "        vertical-align: middle;\n",
       "    }\n",
       "\n",
       "    .dataframe tbody tr th {\n",
       "        vertical-align: top;\n",
       "    }\n",
       "\n",
       "    .dataframe thead th {\n",
       "        text-align: right;\n",
       "    }\n",
       "</style>\n",
       "<table border=\"1\" class=\"dataframe\">\n",
       "  <thead>\n",
       "    <tr style=\"text-align: right;\">\n",
       "      <th></th>\n",
       "      <th>population</th>\n",
       "    </tr>\n",
       "    <tr>\n",
       "      <th>alpha_3</th>\n",
       "      <th></th>\n",
       "    </tr>\n",
       "  </thead>\n",
       "  <tbody>\n",
       "    <tr>\n",
       "      <th>USA</th>\n",
       "      <td>310232863</td>\n",
       "    </tr>\n",
       "  </tbody>\n",
       "</table>\n",
       "</div>"
      ],
      "text/plain": [
       "         population\n",
       "alpha_3            \n",
       "USA       310232863"
      ]
     },
     "execution_count": 35,
     "metadata": {},
     "output_type": "execute_result"
    }
   ],
   "source": [
    "df_espanol[df_espanol[\"population\"] == 310232863]"
   ]
  },
  {
   "cell_type": "markdown",
   "metadata": {},
   "source": [
    "Detectamos como outliers a Brasil y a USA. Los eliminamos y graficamos ordenado por población de menor a mayor"
   ]
  },
  {
   "cell_type": "code",
   "execution_count": 37,
   "metadata": {},
   "outputs": [
    {
     "data": {
      "text/plain": [
       "<AxesSubplot:xlabel='alpha_3'>"
      ]
     },
     "execution_count": 37,
     "metadata": {},
     "output_type": "execute_result"
    },
    {
     "data": {
      "image/png": "[encoded data removed]",
      "text/plain": [
       "<Figure size 1440x720 with 1 Axes>"
      ]
     },
     "metadata": {
      "needs_background": "light"
     },
     "output_type": "display_data"
    }
   ],
   "source": [
    "df_espanol = df.replace(np.nan, '', regex=True) #donde no haya ningún valor/np.nan, lo reemplazamos con \"\"\n",
    "df_espanol = df_espanol[ df_espanol['languages'].str.contains('es') ]\n",
    "#gráfica con outliers\n",
    "\n",
    "df_espanol.sort_values([\"population\"], inplace = True)\n",
    "df_espanol.set_index('alpha_3')[['population','area']].plot(kind='bar',rot=65,figsize=(20,10))"
   ]
  },
  {
   "cell_type": "code",
   "execution_count": 38,
   "metadata": {},
   "outputs": [
    {
     "data": {
      "text/plain": [
       "(27, 19)"
      ]
     },
     "execution_count": 38,
     "metadata": {},
     "output_type": "execute_result"
    }
   ],
   "source": [
    "df_espanol = df.replace(np.nan, '', regex=True) #donde no haya ningún valor/np.nan, lo reemplazamos con \"\"\n",
    "df_espanol = df_espanol[ df_espanol['languages'].str.contains('es') ]\n",
    "# Quitemos BRA y USA por ser outlies y volvamos a graficar:\n",
    "df_espanol.shape #(29, 19)\n",
    "df_espanol.drop([30,233], inplace=True)\n",
    "df_espanol.shape #(27, 19)"
   ]
  },
  {
   "cell_type": "code",
   "execution_count": 39,
   "metadata": {},
   "outputs": [
    {
     "data": {
      "text/plain": [
       "<AxesSubplot:xlabel='alpha_3'>"
      ]
     },
     "execution_count": 39,
     "metadata": {},
     "output_type": "execute_result"
    },
    {
     "data": {
      "image/png": "[encoded data removed]",
      "text/plain": [
       "<Figure size 1440x720 with 1 Axes>"
      ]
     },
     "metadata": {
      "needs_background": "light"
     },
     "output_type": "display_data"
    }
   ],
   "source": [
    "df_espanol.set_index('alpha_3')[['population','area']].plot(kind='bar',rot=65,figsize=(20,10))"
   ]
  },
  {
   "cell_type": "markdown",
   "metadata": {},
   "source": [
    "#### Graficamos ordenando por tamaño Población"
   ]
  },
  {
   "cell_type": "code",
   "execution_count": 40,
   "metadata": {},
   "outputs": [
    {
     "data": {
      "text/plain": [
       "<AxesSubplot:xlabel='alpha_3'>"
      ]
     },
     "execution_count": 40,
     "metadata": {},
     "output_type": "execute_result"
    },
    {
     "data": {
      "image/png": "[encoded data removed]",
      "text/plain": [
       "<Figure size 1440x720 with 1 Axes>"
      ]
     },
     "metadata": {
      "needs_background": "light"
     },
     "output_type": "display_data"
    }
   ],
   "source": [
    "#df_espanol.set_index('alpha_3')[['population','area']].sort_values([\"population\"]).plot(kind='bar',rot=65,figsize=(20,10))\n",
    "df_espanol.sort_values([\"population\"], inplace = True)\n",
    "df_espanol.set_index('alpha_3')[['population','area']].plot(kind='bar',rot=65,figsize=(20,10))"
   ]
  },
  {
   "cell_type": "markdown",
   "metadata": {},
   "source": [
    "Así queda nuestra gráfica sin outliers"
   ]
  },
  {
   "cell_type": "markdown",
   "metadata": {},
   "source": [
    "hemos podido responder: \n",
    "- cuántos datos tenemos, \n",
    "- si hay nulos, \n",
    "- los tipos de datos (entero, float, string), \n",
    "- la correlación, \n",
    "- hicimos visualizaciones, \n",
    "- comparativas, \n",
    "- manipulación de datos, \n",
    "- detección de ouliers \n",
    "- y volver a graficar."
   ]
  },
  {
   "cell_type": "markdown",
   "metadata": {},
   "source": [
    "#### Visualización por Área y población"
   ]
  },
  {
   "cell_type": "code",
   "execution_count": 43,
   "metadata": {},
   "outputs": [
    {
     "data": {
      "text/plain": [
       "<AxesSubplot:xlabel='alpha_3'>"
      ]
     },
     "execution_count": 43,
     "metadata": {},
     "output_type": "execute_result"
    },
    {
     "data": {
      "image/png": "[encoded data removed]",
      "text/plain": [
       "<Figure size 1440x720 with 1 Axes>"
      ]
     },
     "metadata": {
      "needs_background": "light"
     },
     "output_type": "display_data"
    }
   ],
   "source": [
    "df_espanol.set_index('alpha_3')[['area']].sort_values([\"area\"]).plot(kind='bar',rot=65,figsize=(20,10))"
   ]
  },
  {
   "cell_type": "code",
   "execution_count": 42,
   "metadata": {},
   "outputs": [
    {
     "data": {
      "text/plain": [
       "<AxesSubplot:xlabel='alpha_3'>"
      ]
     },
     "execution_count": 42,
     "metadata": {},
     "output_type": "execute_result"
    },
    {
     "data": {
      "image/png": "[encoded data removed]",
      "text/plain": [
       "<Figure size 1440x720 with 1 Axes>"
      ]
     },
     "metadata": {
      "needs_background": "light"
     },
     "output_type": "display_data"
    }
   ],
   "source": [
    "df_espanol.set_index('alpha_3')[['area','population']].sort_values([\"area\"]).plot(kind='bar',rot=65,figsize=(20,10))"
   ]
  },
  {
   "cell_type": "code",
   "execution_count": 44,
   "metadata": {},
   "outputs": [
    {
     "data": {
      "text/html": [
       "<div>\n",
       "<style scoped>\n",
       "    .dataframe tbody tr th:only-of-type {\n",
       "        vertical-align: middle;\n",
       "    }\n",
       "\n",
       "    .dataframe tbody tr th {\n",
       "        vertical-align: top;\n",
       "    }\n",
       "\n",
       "    .dataframe thead th {\n",
       "        text-align: right;\n",
       "    }\n",
       "</style>\n",
       "<table border=\"1\" class=\"dataframe\">\n",
       "  <thead>\n",
       "    <tr style=\"text-align: right;\">\n",
       "      <th></th>\n",
       "      <th>alpha_2</th>\n",
       "      <th>area</th>\n",
       "      <th>capital</th>\n",
       "      <th>continent</th>\n",
       "      <th>currency_code</th>\n",
       "      <th>currency_name</th>\n",
       "      <th>eqivalent_fips_code</th>\n",
       "      <th>fips</th>\n",
       "      <th>geoname_id</th>\n",
       "      <th>languages</th>\n",
       "      <th>name</th>\n",
       "      <th>neighbours</th>\n",
       "      <th>numeric</th>\n",
       "      <th>phone</th>\n",
       "      <th>population</th>\n",
       "      <th>postal_code_format</th>\n",
       "      <th>postal_code_regex</th>\n",
       "      <th>tld</th>\n",
       "    </tr>\n",
       "    <tr>\n",
       "      <th>alpha_3</th>\n",
       "      <th></th>\n",
       "      <th></th>\n",
       "      <th></th>\n",
       "      <th></th>\n",
       "      <th></th>\n",
       "      <th></th>\n",
       "      <th></th>\n",
       "      <th></th>\n",
       "      <th></th>\n",
       "      <th></th>\n",
       "      <th></th>\n",
       "      <th></th>\n",
       "      <th></th>\n",
       "      <th></th>\n",
       "      <th></th>\n",
       "      <th></th>\n",
       "      <th></th>\n",
       "      <th></th>\n",
       "    </tr>\n",
       "  </thead>\n",
       "  <tbody>\n",
       "    <tr>\n",
       "      <th>URY</th>\n",
       "      <td>UY</td>\n",
       "      <td>176220.0</td>\n",
       "      <td>Montevideo</td>\n",
       "      <td>SA</td>\n",
       "      <td>UYU</td>\n",
       "      <td>Peso</td>\n",
       "      <td></td>\n",
       "      <td>UY</td>\n",
       "      <td>3439705</td>\n",
       "      <td>es-UY</td>\n",
       "      <td>Uruguay</td>\n",
       "      <td>BR,AR</td>\n",
       "      <td>858</td>\n",
       "      <td>598</td>\n",
       "      <td>3477000</td>\n",
       "      <td>#####</td>\n",
       "      <td>^(\\d{5})$</td>\n",
       "      <td>.uy</td>\n",
       "    </tr>\n",
       "    <tr>\n",
       "      <th>NIC</th>\n",
       "      <td>NI</td>\n",
       "      <td>129494.0</td>\n",
       "      <td>Managua</td>\n",
       "      <td></td>\n",
       "      <td>NIO</td>\n",
       "      <td>Cordoba</td>\n",
       "      <td></td>\n",
       "      <td>NU</td>\n",
       "      <td>3617476</td>\n",
       "      <td>es-NI,en</td>\n",
       "      <td>Nicaragua</td>\n",
       "      <td>CR,HN</td>\n",
       "      <td>558</td>\n",
       "      <td>505</td>\n",
       "      <td>5995928</td>\n",
       "      <td>###-###-#</td>\n",
       "      <td>^(\\d{7})$</td>\n",
       "      <td>.ni</td>\n",
       "    </tr>\n",
       "    <tr>\n",
       "      <th>PRY</th>\n",
       "      <td>PY</td>\n",
       "      <td>406750.0</td>\n",
       "      <td>Asuncion</td>\n",
       "      <td>SA</td>\n",
       "      <td>PYG</td>\n",
       "      <td>Guarani</td>\n",
       "      <td></td>\n",
       "      <td>PA</td>\n",
       "      <td>3437598</td>\n",
       "      <td>es-PY,gn</td>\n",
       "      <td>Paraguay</td>\n",
       "      <td>BO,BR,AR</td>\n",
       "      <td>600</td>\n",
       "      <td>595</td>\n",
       "      <td>6375830</td>\n",
       "      <td>####</td>\n",
       "      <td>^(\\d{4})$</td>\n",
       "      <td>.py</td>\n",
       "    </tr>\n",
       "    <tr>\n",
       "      <th>HND</th>\n",
       "      <td>HN</td>\n",
       "      <td>112090.0</td>\n",
       "      <td>Tegucigalpa</td>\n",
       "      <td></td>\n",
       "      <td>HNL</td>\n",
       "      <td>Lempira</td>\n",
       "      <td></td>\n",
       "      <td>HO</td>\n",
       "      <td>3608932</td>\n",
       "      <td>es-HN</td>\n",
       "      <td>Honduras</td>\n",
       "      <td>GT,NI,SV</td>\n",
       "      <td>340</td>\n",
       "      <td>504</td>\n",
       "      <td>7989415</td>\n",
       "      <td>@@####</td>\n",
       "      <td>^([A-Z]{2}\\d{4})$</td>\n",
       "      <td>.hn</td>\n",
       "    </tr>\n",
       "    <tr>\n",
       "      <th>BOL</th>\n",
       "      <td>BO</td>\n",
       "      <td>1098580.0</td>\n",
       "      <td>Sucre</td>\n",
       "      <td>SA</td>\n",
       "      <td>BOB</td>\n",
       "      <td>Boliviano</td>\n",
       "      <td></td>\n",
       "      <td>BL</td>\n",
       "      <td>3923057</td>\n",
       "      <td>es-BO,qu,ay</td>\n",
       "      <td>Bolivia</td>\n",
       "      <td>PE,CL,PY,BR,AR</td>\n",
       "      <td>68</td>\n",
       "      <td>591</td>\n",
       "      <td>9947418</td>\n",
       "      <td></td>\n",
       "      <td></td>\n",
       "      <td>.bo</td>\n",
       "    </tr>\n",
       "    <tr>\n",
       "      <th>CUB</th>\n",
       "      <td>CU</td>\n",
       "      <td>110860.0</td>\n",
       "      <td>Havana</td>\n",
       "      <td></td>\n",
       "      <td>CUP</td>\n",
       "      <td>Peso</td>\n",
       "      <td></td>\n",
       "      <td>CU</td>\n",
       "      <td>3562981</td>\n",
       "      <td>es-CU</td>\n",
       "      <td>Cuba</td>\n",
       "      <td>US</td>\n",
       "      <td>192</td>\n",
       "      <td>53</td>\n",
       "      <td>11423000</td>\n",
       "      <td>CP #####</td>\n",
       "      <td>^(?:CP)*(\\d{5})$</td>\n",
       "      <td>.cu</td>\n",
       "    </tr>\n",
       "    <tr>\n",
       "      <th>ECU</th>\n",
       "      <td>EC</td>\n",
       "      <td>283560.0</td>\n",
       "      <td>Quito</td>\n",
       "      <td>SA</td>\n",
       "      <td>USD</td>\n",
       "      <td>Dollar</td>\n",
       "      <td></td>\n",
       "      <td>EC</td>\n",
       "      <td>3658394</td>\n",
       "      <td>es-EC</td>\n",
       "      <td>Ecuador</td>\n",
       "      <td>PE,CO</td>\n",
       "      <td>218</td>\n",
       "      <td>593</td>\n",
       "      <td>14790608</td>\n",
       "      <td>@####@</td>\n",
       "      <td>^([a-zA-Z]\\d{4}[a-zA-Z])$</td>\n",
       "      <td>.ec</td>\n",
       "    </tr>\n",
       "    <tr>\n",
       "      <th>CHL</th>\n",
       "      <td>CL</td>\n",
       "      <td>756950.0</td>\n",
       "      <td>Santiago</td>\n",
       "      <td>SA</td>\n",
       "      <td>CLP</td>\n",
       "      <td>Peso</td>\n",
       "      <td></td>\n",
       "      <td>CI</td>\n",
       "      <td>3895114</td>\n",
       "      <td>es-CL</td>\n",
       "      <td>Chile</td>\n",
       "      <td>PE,BO,AR</td>\n",
       "      <td>152</td>\n",
       "      <td>56</td>\n",
       "      <td>16746491</td>\n",
       "      <td>#######</td>\n",
       "      <td>^(\\d{7})$</td>\n",
       "      <td>.cl</td>\n",
       "    </tr>\n",
       "    <tr>\n",
       "      <th>VEN</th>\n",
       "      <td>VE</td>\n",
       "      <td>912050.0</td>\n",
       "      <td>Caracas</td>\n",
       "      <td>SA</td>\n",
       "      <td>VEF</td>\n",
       "      <td>Bolivar</td>\n",
       "      <td></td>\n",
       "      <td>VE</td>\n",
       "      <td>3625428</td>\n",
       "      <td>es-VE</td>\n",
       "      <td>Venezuela</td>\n",
       "      <td>GY,BR,CO</td>\n",
       "      <td>862</td>\n",
       "      <td>58</td>\n",
       "      <td>27223228</td>\n",
       "      <td>####</td>\n",
       "      <td>^(\\d{4})$</td>\n",
       "      <td>.ve</td>\n",
       "    </tr>\n",
       "    <tr>\n",
       "      <th>PER</th>\n",
       "      <td>PE</td>\n",
       "      <td>1285220.0</td>\n",
       "      <td>Lima</td>\n",
       "      <td>SA</td>\n",
       "      <td>PEN</td>\n",
       "      <td>Sol</td>\n",
       "      <td></td>\n",
       "      <td>PE</td>\n",
       "      <td>3932488</td>\n",
       "      <td>es-PE,qu,ay</td>\n",
       "      <td>Peru</td>\n",
       "      <td>EC,CL,BO,BR,CO</td>\n",
       "      <td>604</td>\n",
       "      <td>51</td>\n",
       "      <td>29907003</td>\n",
       "      <td></td>\n",
       "      <td></td>\n",
       "      <td>.pe</td>\n",
       "    </tr>\n",
       "    <tr>\n",
       "      <th>ARG</th>\n",
       "      <td>AR</td>\n",
       "      <td>2766890.0</td>\n",
       "      <td>Buenos Aires</td>\n",
       "      <td>SA</td>\n",
       "      <td>ARS</td>\n",
       "      <td>Peso</td>\n",
       "      <td></td>\n",
       "      <td>AR</td>\n",
       "      <td>3865483</td>\n",
       "      <td>es-AR,en,it,de,fr,gn</td>\n",
       "      <td>Argentina</td>\n",
       "      <td>CL,BO,UY,PY,BR</td>\n",
       "      <td>32</td>\n",
       "      <td>54</td>\n",
       "      <td>41343201</td>\n",
       "      <td>@####@@@</td>\n",
       "      <td>^[A-Z]?\\d{4}[A-Z]{0,3}$</td>\n",
       "      <td>.ar</td>\n",
       "    </tr>\n",
       "    <tr>\n",
       "      <th>ESP</th>\n",
       "      <td>ES</td>\n",
       "      <td>504782.0</td>\n",
       "      <td>Madrid</td>\n",
       "      <td>EU</td>\n",
       "      <td>EUR</td>\n",
       "      <td>Euro</td>\n",
       "      <td></td>\n",
       "      <td>SP</td>\n",
       "      <td>2510769</td>\n",
       "      <td>es-ES,ca,gl,eu,oc</td>\n",
       "      <td>Spain</td>\n",
       "      <td>AD,PT,GI,FR,MA</td>\n",
       "      <td>724</td>\n",
       "      <td>34</td>\n",
       "      <td>46505963</td>\n",
       "      <td>#####</td>\n",
       "      <td>^(\\d{5})$</td>\n",
       "      <td>.es</td>\n",
       "    </tr>\n",
       "    <tr>\n",
       "      <th>COL</th>\n",
       "      <td>CO</td>\n",
       "      <td>1138910.0</td>\n",
       "      <td>Bogota</td>\n",
       "      <td>SA</td>\n",
       "      <td>COP</td>\n",
       "      <td>Peso</td>\n",
       "      <td></td>\n",
       "      <td>CO</td>\n",
       "      <td>3686110</td>\n",
       "      <td>es-CO</td>\n",
       "      <td>Colombia</td>\n",
       "      <td>EC,PE,PA,BR,VE</td>\n",
       "      <td>170</td>\n",
       "      <td>57</td>\n",
       "      <td>47790000</td>\n",
       "      <td></td>\n",
       "      <td></td>\n",
       "      <td>.co</td>\n",
       "    </tr>\n",
       "    <tr>\n",
       "      <th>MEX</th>\n",
       "      <td>MX</td>\n",
       "      <td>1972550.0</td>\n",
       "      <td>Mexico City</td>\n",
       "      <td></td>\n",
       "      <td>MXN</td>\n",
       "      <td>Peso</td>\n",
       "      <td></td>\n",
       "      <td>MX</td>\n",
       "      <td>3996063</td>\n",
       "      <td>es-MX</td>\n",
       "      <td>Mexico</td>\n",
       "      <td>GT,US,BZ</td>\n",
       "      <td>484</td>\n",
       "      <td>52</td>\n",
       "      <td>112468855</td>\n",
       "      <td>#####</td>\n",
       "      <td>^(\\d{5})$</td>\n",
       "      <td>.mx</td>\n",
       "    </tr>\n",
       "  </tbody>\n",
       "</table>\n",
       "</div>"
      ],
      "text/plain": [
       "        alpha_2       area       capital continent currency_code  \\\n",
       "alpha_3                                                            \n",
       "URY          UY   176220.0    Montevideo        SA           UYU   \n",
       "NIC          NI   129494.0       Managua                     NIO   \n",
       "PRY          PY   406750.0      Asuncion        SA           PYG   \n",
       "HND          HN   112090.0   Tegucigalpa                     HNL   \n",
       "BOL          BO  1098580.0         Sucre        SA           BOB   \n",
       "CUB          CU   110860.0        Havana                     CUP   \n",
       "ECU          EC   283560.0         Quito        SA           USD   \n",
       "CHL          CL   756950.0      Santiago        SA           CLP   \n",
       "VEN          VE   912050.0       Caracas        SA           VEF   \n",
       "PER          PE  1285220.0          Lima        SA           PEN   \n",
       "ARG          AR  2766890.0  Buenos Aires        SA           ARS   \n",
       "ESP          ES   504782.0        Madrid        EU           EUR   \n",
       "COL          CO  1138910.0        Bogota        SA           COP   \n",
       "MEX          MX  1972550.0   Mexico City                     MXN   \n",
       "\n",
       "        currency_name eqivalent_fips_code fips  geoname_id  \\\n",
       "alpha_3                                                      \n",
       "URY              Peso                       UY     3439705   \n",
       "NIC           Cordoba                       NU     3617476   \n",
       "PRY           Guarani                       PA     3437598   \n",
       "HND           Lempira                       HO     3608932   \n",
       "BOL         Boliviano                       BL     3923057   \n",
       "CUB              Peso                       CU     3562981   \n",
       "ECU            Dollar                       EC     3658394   \n",
       "CHL              Peso                       CI     3895114   \n",
       "VEN           Bolivar                       VE     3625428   \n",
       "PER               Sol                       PE     3932488   \n",
       "ARG              Peso                       AR     3865483   \n",
       "ESP              Euro                       SP     2510769   \n",
       "COL              Peso                       CO     3686110   \n",
       "MEX              Peso                       MX     3996063   \n",
       "\n",
       "                    languages       name      neighbours  numeric phone  \\\n",
       "alpha_3                                                                   \n",
       "URY                     es-UY    Uruguay           BR,AR      858   598   \n",
       "NIC                  es-NI,en  Nicaragua           CR,HN      558   505   \n",
       "PRY                  es-PY,gn   Paraguay        BO,BR,AR      600   595   \n",
       "HND                     es-HN   Honduras        GT,NI,SV      340   504   \n",
       "BOL               es-BO,qu,ay    Bolivia  PE,CL,PY,BR,AR       68   591   \n",
       "CUB                     es-CU       Cuba              US      192    53   \n",
       "ECU                     es-EC    Ecuador           PE,CO      218   593   \n",
       "CHL                     es-CL      Chile        PE,BO,AR      152    56   \n",
       "VEN                     es-VE  Venezuela        GY,BR,CO      862    58   \n",
       "PER               es-PE,qu,ay       Peru  EC,CL,BO,BR,CO      604    51   \n",
       "ARG      es-AR,en,it,de,fr,gn  Argentina  CL,BO,UY,PY,BR       32    54   \n",
       "ESP         es-ES,ca,gl,eu,oc      Spain  AD,PT,GI,FR,MA      724    34   \n",
       "COL                     es-CO   Colombia  EC,PE,PA,BR,VE      170    57   \n",
       "MEX                     es-MX     Mexico        GT,US,BZ      484    52   \n",
       "\n",
       "         population postal_code_format          postal_code_regex  tld  \n",
       "alpha_3                                                                 \n",
       "URY         3477000              #####                  ^(\\d{5})$  .uy  \n",
       "NIC         5995928          ###-###-#                  ^(\\d{7})$  .ni  \n",
       "PRY         6375830               ####                  ^(\\d{4})$  .py  \n",
       "HND         7989415             @@####          ^([A-Z]{2}\\d{4})$  .hn  \n",
       "BOL         9947418                                                .bo  \n",
       "CUB        11423000           CP #####           ^(?:CP)*(\\d{5})$  .cu  \n",
       "ECU        14790608             @####@  ^([a-zA-Z]\\d{4}[a-zA-Z])$  .ec  \n",
       "CHL        16746491            #######                  ^(\\d{7})$  .cl  \n",
       "VEN        27223228               ####                  ^(\\d{4})$  .ve  \n",
       "PER        29907003                                                .pe  \n",
       "ARG        41343201           @####@@@    ^[A-Z]?\\d{4}[A-Z]{0,3}$  .ar  \n",
       "ESP        46505963              #####                  ^(\\d{5})$  .es  \n",
       "COL        47790000                                                .co  \n",
       "MEX       112468855              #####                  ^(\\d{5})$  .mx  "
      ]
     },
     "execution_count": 44,
     "metadata": {},
     "output_type": "execute_result"
    }
   ],
   "source": [
    "# En este caso, podriamos quitar por \"lo bajo\", area menor a 110.000 km2:\n",
    "df_2 = df_espanol.set_index('alpha_3')\n",
    "df_2 = df_2[df_2['area'] > 110000]\n",
    "df_2"
   ]
  },
  {
   "cell_type": "code",
   "execution_count": 45,
   "metadata": {},
   "outputs": [
    {
     "data": {
      "text/plain": [
       "<AxesSubplot:xlabel='alpha_3'>"
      ]
     },
     "execution_count": 45,
     "metadata": {},
     "output_type": "execute_result"
    },
    {
     "data": {
      "image/png": "[encoded data removed]",
      "text/plain": [
       "<Figure size 1440x720 with 1 Axes>"
      ]
     },
     "metadata": {
      "needs_background": "light"
     },
     "output_type": "display_data"
    }
   ],
   "source": [
    "df_2[['area']].sort_values([\"area\"]).plot(kind='bar',rot=65,figsize=(20,10))"
   ]
  },
  {
   "cell_type": "markdown",
   "metadata": {},
   "source": [
    "# Otras pruebas y gráficas que se suelen hacer son:\n",
    "\n",
    "- Si hay datos categóricos, agruparlos, contabilizarlos y ver su relación con las clases de salida\n",
    "- gráficas de distribución en el tiempo, por ejemplo si tuviéramos ventas, para tener una primera impresión sobre su estacionalidad.\n",
    "- Rankings del tipo “10 productos más vendidos” ó “10 ítems con más referencias por usuario”.\n",
    "- Calcular importancia de Features y descartar las menos útiles."
   ]
  }
 ],
 "metadata": {
  "kernelspec": {
   "display_name": "Python 3",
   "language": "python",
   "name": "python3"
  },
  "language_info": {
   "codemirror_mode": {
    "name": "ipython",
    "version": 3
   },
   "file_extension": ".py",
   "mimetype": "text/x-python",
   "name": "python",
   "nbconvert_exporter": "python",
   "pygments_lexer": "ipython3",
   "version": "3.8.5"
  }
 },
 "nbformat": 4,
 "nbformat_minor": 4
}
