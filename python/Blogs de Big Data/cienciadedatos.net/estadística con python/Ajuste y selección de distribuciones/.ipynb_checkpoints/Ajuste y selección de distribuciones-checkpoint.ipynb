{
 "cells": [
  {
   "cell_type": "markdown",
   "metadata": {},
   "source": [
    "# Intro\n",
    "Identificar el tipo de distribución que tiene a una variable es un paso fundamental en prácticamente todos los estudios que implican datos, desde los contrastes de hipótesis hasta la creación de modelos por aprendizaje estadístico y machine learning.\n",
    "\n",
    "En Python existen varias librerías que permiten ajustar distribuciones. \n",
    "\n",
    "En este documento se muestran las funcionalidades del módulo scipy.stats, haciendo hincapié en cómo comparar múltiples distribuciones con el objetivo de identificar a cuál de ellas se ajustan mejor los datos."
   ]
  },
  {
   "cell_type": "code",
   "execution_count": 1,
   "metadata": {},
   "outputs": [],
   "source": [
    "from scipy import stats\n",
    "import pandas as pd"
   ]
  },
  {
   "cell_type": "code",
   "execution_count": 2,
   "metadata": {},
   "outputs": [
    {
     "name": "stdout",
     "output_type": "stream",
     "text": [
      "-------------------------------------\n",
      "Información distribuciones scipy.stat\n",
      "-------------------------------------\n"
     ]
    },
    {
     "data": {
      "text/html": [
       "<div>\n",
       "<style scoped>\n",
       "    .dataframe tbody tr th:only-of-type {\n",
       "        vertical-align: middle;\n",
       "    }\n",
       "\n",
       "    .dataframe tbody tr th {\n",
       "        vertical-align: top;\n",
       "    }\n",
       "\n",
       "    .dataframe thead th {\n",
       "        text-align: right;\n",
       "    }\n",
       "</style>\n",
       "<table border=\"1\" class=\"dataframe\">\n",
       "  <thead>\n",
       "    <tr style=\"text-align: right;\">\n",
       "      <th></th>\n",
       "      <th>distribucion</th>\n",
       "      <th>dominio_1</th>\n",
       "      <th>dominio_2</th>\n",
       "    </tr>\n",
       "  </thead>\n",
       "  <tbody>\n",
       "    <tr>\n",
       "      <th>0</th>\n",
       "      <td>frechet_l</td>\n",
       "      <td>-inf</td>\n",
       "      <td>0.0</td>\n",
       "    </tr>\n",
       "    <tr>\n",
       "      <th>1</th>\n",
       "      <td>levy_l</td>\n",
       "      <td>-inf</td>\n",
       "      <td>0.0</td>\n",
       "    </tr>\n",
       "    <tr>\n",
       "      <th>2</th>\n",
       "      <td>weibull_max</td>\n",
       "      <td>-inf</td>\n",
       "      <td>0.0</td>\n",
       "    </tr>\n",
       "    <tr>\n",
       "      <th>3</th>\n",
       "      <td>cauchy</td>\n",
       "      <td>-inf</td>\n",
       "      <td>inf</td>\n",
       "    </tr>\n",
       "    <tr>\n",
       "      <th>4</th>\n",
       "      <td>crystalball</td>\n",
       "      <td>-inf</td>\n",
       "      <td>inf</td>\n",
       "    </tr>\n",
       "    <tr>\n",
       "      <th>...</th>\n",
       "      <td>...</td>\n",
       "      <td>...</td>\n",
       "      <td>...</td>\n",
       "    </tr>\n",
       "    <tr>\n",
       "      <th>111</th>\n",
       "      <td>geom</td>\n",
       "      <td>1.0</td>\n",
       "      <td>inf</td>\n",
       "    </tr>\n",
       "    <tr>\n",
       "      <th>112</th>\n",
       "      <td>logser</td>\n",
       "      <td>1.0</td>\n",
       "      <td>inf</td>\n",
       "    </tr>\n",
       "    <tr>\n",
       "      <th>113</th>\n",
       "      <td>pareto</td>\n",
       "      <td>1.0</td>\n",
       "      <td>inf</td>\n",
       "    </tr>\n",
       "    <tr>\n",
       "      <th>114</th>\n",
       "      <td>yulesimon</td>\n",
       "      <td>1.0</td>\n",
       "      <td>inf</td>\n",
       "    </tr>\n",
       "    <tr>\n",
       "      <th>115</th>\n",
       "      <td>zipf</td>\n",
       "      <td>1.0</td>\n",
       "      <td>inf</td>\n",
       "    </tr>\n",
       "  </tbody>\n",
       "</table>\n",
       "<p>116 rows × 3 columns</p>\n",
       "</div>"
      ],
      "text/plain": [
       "    distribucion  dominio_1  dominio_2\n",
       "0      frechet_l       -inf        0.0\n",
       "1         levy_l       -inf        0.0\n",
       "2    weibull_max       -inf        0.0\n",
       "3         cauchy       -inf        inf\n",
       "4    crystalball       -inf        inf\n",
       "..           ...        ...        ...\n",
       "111         geom        1.0        inf\n",
       "112       logser        1.0        inf\n",
       "113       pareto        1.0        inf\n",
       "114    yulesimon        1.0        inf\n",
       "115         zipf        1.0        inf\n",
       "\n",
       "[116 rows x 3 columns]"
      ]
     },
     "metadata": {},
     "output_type": "display_data"
    }
   ],
   "source": [
    "# Distribuciones agrupadas por dominio\n",
    "# ==============================================================================\n",
    "distribuciones = [getattr(stats,d) for d in dir(stats) \\\n",
    "                  if isinstance(getattr(stats,d), (stats.rv_continuous, stats.rv_discrete))]\n",
    "\n",
    "distribucion = []     \n",
    "dominio_1 = []\n",
    "dominio_2 = []\n",
    "\n",
    "for dist in distribuciones:\n",
    "    distribucion.append(dist.name)\n",
    "    dominio_1.append(dist.a)\n",
    "    dominio_2.append(dist.b)\n",
    "    \n",
    "info_distribuciones = pd.DataFrame({\n",
    "                        'distribucion': distribucion,\n",
    "                        'dominio_1': dominio_1,\n",
    "                        'dominio_2': dominio_2\n",
    "                      })\n",
    "\n",
    "info_distribuciones = info_distribuciones \\\n",
    "                      .sort_values(by=['dominio_1', 'dominio_2'])\\\n",
    "                      .reset_index(drop=True)\n",
    "\n",
    "print(\"-------------------------------------\")\n",
    "print(\"Información distribuciones scipy.stat\")\n",
    "print(\"-------------------------------------\")\n",
    "display(info_distribuciones)"
   ]
  },
  {
   "cell_type": "code",
   "execution_count": 8,
   "metadata": {},
   "outputs": [
    {
     "name": "stdout",
     "output_type": "stream",
     "text": [
      "<class 'pandas.core.frame.DataFrame'>\n",
      "RangeIndex: 116 entries, 0 to 115\n",
      "Data columns (total 3 columns):\n",
      " #   Column        Non-Null Count  Dtype  \n",
      "---  ------        --------------  -----  \n",
      " 0   distribucion  116 non-null    object \n",
      " 1   dominio_1     116 non-null    float64\n",
      " 2   dominio_2     116 non-null    float64\n",
      "dtypes: float64(2), object(1)\n",
      "memory usage: 2.8+ KB\n"
     ]
    }
   ],
   "source": [
    "#info_distribuciones[(info_distribuciones['dominio_1'] == 0) & (info_distribuciones['dominio_2'] == 'inf')]\n",
    "#info_distribuciones[(info_distribuciones['dominio_2'] == inf)]\n",
    "info_distribuciones.info()"
   ]
  },
  {
   "cell_type": "code",
   "execution_count": null,
   "metadata": {},
   "outputs": [],
   "source": []
  }
 ],
 "metadata": {
  "kernelspec": {
   "display_name": "Python 3",
   "language": "python",
   "name": "python3"
  },
  "language_info": {
   "codemirror_mode": {
    "name": "ipython",
    "version": 3
   },
   "file_extension": ".py",
   "mimetype": "text/x-python",
   "name": "python",
   "nbconvert_exporter": "python",
   "pygments_lexer": "ipython3",
   "version": "3.8.5"
  }
 },
 "nbformat": 4,
 "nbformat_minor": 4
}
