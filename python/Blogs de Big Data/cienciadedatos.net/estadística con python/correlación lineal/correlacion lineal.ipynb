{
 "cells": [
  {
   "cell_type": "markdown",
   "metadata": {},
   "source": [
    "https://www.cienciadedatos.net/documentos/pystats05-correlacion-lineal-python.html"
   ]
  },
  {
   "cell_type": "markdown",
   "metadata": {},
   "source": [
    "# Ejemplo correlación lineal"
   ]
  },
  {
   "cell_type": "markdown",
   "metadata": {},
   "source": [
    "CASO DE ESTUDIO\n",
    "\n",
    "Vamos a realizar un estudio que pretenda analizar la existencia de una correlación entre altura-peso en las personas.\n",
    "\n",
    "El set de datos contiene información recogida por Nancy Howell a finales de la década de 1960 sobre el pueblo !Kung San, que viven en el desierto de Kalahari entre Botsuana, Namibia y Angola."
   ]
  },
  {
   "cell_type": "markdown",
   "metadata": {},
   "source": [
    "# librerias"
   ]
  },
  {
   "cell_type": "code",
   "execution_count": 55,
   "metadata": {},
   "outputs": [],
   "source": [
    "# Tratamiento de datos\n",
    "# ==============================================================================\n",
    "import pandas as pd\n",
    "import numpy as np\n",
    "from sklearn.datasets import load_diabetes\n",
    "\n",
    "# Gráficos\n",
    "# ==============================================================================\n",
    "import matplotlib.pyplot as plt\n",
    "from matplotlib import style\n",
    "import seaborn as sb\n",
    "\n",
    "# Preprocesado y análisis\n",
    "# ==============================================================================\n",
    "import statsmodels.api as sm\n",
    "import statsmodels.stats as sm_stats\n",
    "import pingouin as pg\n",
    "from scipy import stats\n",
    "from scipy.stats import pearsonr\n",
    "\n",
    "# Configuración matplotlib\n",
    "# ==============================================================================\n",
    "plt.style.use('ggplot')\n",
    "\n",
    "# Configuración warnings\n",
    "# ==============================================================================\n",
    "import warnings\n",
    "warnings.filterwarnings('ignore')"
   ]
  },
  {
   "cell_type": "markdown",
   "metadata": {},
   "source": [
    "#  datos"
   ]
  },
  {
   "cell_type": "code",
   "execution_count": 81,
   "metadata": {},
   "outputs": [],
   "source": [
    "#leemos el DATAFRAME\n",
    "url = ('https://raw.githubusercontent.com/JoaquinAmatRodrigo/' +\n",
    "       'Estadistica-machine-learning-python/master/data/Howell1.csv')\n",
    "df = pd.read_csv(url)"
   ]
  },
  {
   "cell_type": "code",
   "execution_count": 60,
   "metadata": {},
   "outputs": [
    {
     "data": {
      "text/html": [
       "<div>\n",
       "<style scoped>\n",
       "    .dataframe tbody tr th:only-of-type {\n",
       "        vertical-align: middle;\n",
       "    }\n",
       "\n",
       "    .dataframe tbody tr th {\n",
       "        vertical-align: top;\n",
       "    }\n",
       "\n",
       "    .dataframe thead th {\n",
       "        text-align: right;\n",
       "    }\n",
       "</style>\n",
       "<table border=\"1\" class=\"dataframe\">\n",
       "  <thead>\n",
       "    <tr style=\"text-align: right;\">\n",
       "      <th></th>\n",
       "      <th>height</th>\n",
       "      <th>weight</th>\n",
       "      <th>age</th>\n",
       "      <th>male</th>\n",
       "    </tr>\n",
       "  </thead>\n",
       "  <tbody>\n",
       "    <tr>\n",
       "      <th>0</th>\n",
       "      <td>151.765</td>\n",
       "      <td>47.825606</td>\n",
       "      <td>63.0</td>\n",
       "      <td>1</td>\n",
       "    </tr>\n",
       "    <tr>\n",
       "      <th>1</th>\n",
       "      <td>139.700</td>\n",
       "      <td>36.485807</td>\n",
       "      <td>63.0</td>\n",
       "      <td>0</td>\n",
       "    </tr>\n",
       "    <tr>\n",
       "      <th>2</th>\n",
       "      <td>136.525</td>\n",
       "      <td>31.864838</td>\n",
       "      <td>65.0</td>\n",
       "      <td>0</td>\n",
       "    </tr>\n",
       "    <tr>\n",
       "      <th>3</th>\n",
       "      <td>156.845</td>\n",
       "      <td>53.041915</td>\n",
       "      <td>41.0</td>\n",
       "      <td>1</td>\n",
       "    </tr>\n",
       "    <tr>\n",
       "      <th>4</th>\n",
       "      <td>145.415</td>\n",
       "      <td>41.276872</td>\n",
       "      <td>51.0</td>\n",
       "      <td>0</td>\n",
       "    </tr>\n",
       "  </tbody>\n",
       "</table>\n",
       "</div>"
      ],
      "text/plain": [
       "    height     weight   age  male\n",
       "0  151.765  47.825606  63.0     1\n",
       "1  139.700  36.485807  63.0     0\n",
       "2  136.525  31.864838  65.0     0\n",
       "3  156.845  53.041915  41.0     1\n",
       "4  145.415  41.276872  51.0     0"
      ]
     },
     "execution_count": 60,
     "metadata": {},
     "output_type": "execute_result"
    }
   ],
   "source": [
    "df.head()"
   ]
  },
  {
   "cell_type": "code",
   "execution_count": 7,
   "metadata": {},
   "outputs": [
    {
     "name": "stdout",
     "output_type": "stream",
     "text": [
      "<class 'pandas.core.frame.DataFrame'>\n",
      "RangeIndex: 544 entries, 0 to 543\n",
      "Data columns (total 4 columns):\n",
      " #   Column  Non-Null Count  Dtype  \n",
      "---  ------  --------------  -----  \n",
      " 0   height  544 non-null    float64\n",
      " 1   weight  544 non-null    float64\n",
      " 2   age     544 non-null    float64\n",
      " 3   male    544 non-null    int64  \n",
      "dtypes: float64(3), int64(1)\n",
      "memory usage: 17.1 KB\n"
     ]
    }
   ],
   "source": [
    "df.info()"
   ]
  },
  {
   "cell_type": "code",
   "execution_count": 8,
   "metadata": {},
   "outputs": [
    {
     "data": {
      "text/html": [
       "<div>\n",
       "<style scoped>\n",
       "    .dataframe tbody tr th:only-of-type {\n",
       "        vertical-align: middle;\n",
       "    }\n",
       "\n",
       "    .dataframe tbody tr th {\n",
       "        vertical-align: top;\n",
       "    }\n",
       "\n",
       "    .dataframe thead th {\n",
       "        text-align: right;\n",
       "    }\n",
       "</style>\n",
       "<table border=\"1\" class=\"dataframe\">\n",
       "  <thead>\n",
       "    <tr style=\"text-align: right;\">\n",
       "      <th></th>\n",
       "      <th>height</th>\n",
       "      <th>weight</th>\n",
       "      <th>age</th>\n",
       "      <th>male</th>\n",
       "    </tr>\n",
       "  </thead>\n",
       "  <tbody>\n",
       "    <tr>\n",
       "      <th>count</th>\n",
       "      <td>544.000000</td>\n",
       "      <td>544.000000</td>\n",
       "      <td>544.000000</td>\n",
       "      <td>544.000000</td>\n",
       "    </tr>\n",
       "    <tr>\n",
       "      <th>mean</th>\n",
       "      <td>138.263596</td>\n",
       "      <td>35.610618</td>\n",
       "      <td>29.344393</td>\n",
       "      <td>0.472426</td>\n",
       "    </tr>\n",
       "    <tr>\n",
       "      <th>std</th>\n",
       "      <td>27.602448</td>\n",
       "      <td>14.719178</td>\n",
       "      <td>20.746888</td>\n",
       "      <td>0.499699</td>\n",
       "    </tr>\n",
       "    <tr>\n",
       "      <th>min</th>\n",
       "      <td>53.975000</td>\n",
       "      <td>4.252425</td>\n",
       "      <td>0.000000</td>\n",
       "      <td>0.000000</td>\n",
       "    </tr>\n",
       "    <tr>\n",
       "      <th>25%</th>\n",
       "      <td>125.095000</td>\n",
       "      <td>22.007717</td>\n",
       "      <td>12.000000</td>\n",
       "      <td>0.000000</td>\n",
       "    </tr>\n",
       "    <tr>\n",
       "      <th>50%</th>\n",
       "      <td>148.590000</td>\n",
       "      <td>40.057844</td>\n",
       "      <td>27.000000</td>\n",
       "      <td>0.000000</td>\n",
       "    </tr>\n",
       "    <tr>\n",
       "      <th>75%</th>\n",
       "      <td>157.480000</td>\n",
       "      <td>47.209005</td>\n",
       "      <td>43.000000</td>\n",
       "      <td>1.000000</td>\n",
       "    </tr>\n",
       "    <tr>\n",
       "      <th>max</th>\n",
       "      <td>179.070000</td>\n",
       "      <td>62.992589</td>\n",
       "      <td>88.000000</td>\n",
       "      <td>1.000000</td>\n",
       "    </tr>\n",
       "  </tbody>\n",
       "</table>\n",
       "</div>"
      ],
      "text/plain": [
       "           height      weight         age        male\n",
       "count  544.000000  544.000000  544.000000  544.000000\n",
       "mean   138.263596   35.610618   29.344393    0.472426\n",
       "std     27.602448   14.719178   20.746888    0.499699\n",
       "min     53.975000    4.252425    0.000000    0.000000\n",
       "25%    125.095000   22.007717   12.000000    0.000000\n",
       "50%    148.590000   40.057844   27.000000    0.000000\n",
       "75%    157.480000   47.209005   43.000000    1.000000\n",
       "max    179.070000   62.992589   88.000000    1.000000"
      ]
     },
     "execution_count": 8,
     "metadata": {},
     "output_type": "execute_result"
    }
   ],
   "source": [
    "df.describe()"
   ]
  },
  {
   "cell_type": "code",
   "execution_count": 82,
   "metadata": {},
   "outputs": [
    {
     "name": "stdout",
     "output_type": "stream",
     "text": [
      "<class 'pandas.core.frame.DataFrame'>\n",
      "Int64Index: 346 entries, 0 to 543\n",
      "Data columns (total 4 columns):\n",
      " #   Column  Non-Null Count  Dtype  \n",
      "---  ------  --------------  -----  \n",
      " 0   height  346 non-null    float64\n",
      " 1   weight  346 non-null    float64\n",
      " 2   age     346 non-null    float64\n",
      " 3   male    346 non-null    int64  \n",
      "dtypes: float64(3), int64(1)\n",
      "memory usage: 13.5 KB\n"
     ]
    }
   ],
   "source": [
    "# Se utilizan únicamente información de individuos mayores de 18 años.\n",
    "df = df[df.age > 18]\n",
    "\n",
    "df.info()"
   ]
  },
  {
   "cell_type": "markdown",
   "metadata": {},
   "source": [
    "antes había 544 filas, ahora 346\n",
    "los hombres son '1' en la columna 'male', y las mujeres son '0'"
   ]
  },
  {
   "cell_type": "markdown",
   "metadata": {},
   "source": [
    "# EDA"
   ]
  },
  {
   "cell_type": "code",
   "execution_count": null,
   "metadata": {},
   "outputs": [],
   "source": [
    "import pandas as pd\n",
    "import numpy as np\n",
    "import matplotlib.pyplot as plt\n",
    "import statsmodels.api as sm\n",
    "import seaborn as sb\n",
    "from sklearn.covariance import EllipticEnvelope"
   ]
  },
  {
   "cell_type": "code",
   "execution_count": 11,
   "metadata": {},
   "outputs": [
    {
     "data": {
      "text/html": [
       "<div>\n",
       "<style scoped>\n",
       "    .dataframe tbody tr th:only-of-type {\n",
       "        vertical-align: middle;\n",
       "    }\n",
       "\n",
       "    .dataframe tbody tr th {\n",
       "        vertical-align: top;\n",
       "    }\n",
       "\n",
       "    .dataframe thead th {\n",
       "        text-align: right;\n",
       "    }\n",
       "</style>\n",
       "<table border=\"1\" class=\"dataframe\">\n",
       "  <thead>\n",
       "    <tr style=\"text-align: right;\">\n",
       "      <th></th>\n",
       "      <th>height</th>\n",
       "      <th>weight</th>\n",
       "      <th>age</th>\n",
       "      <th>male</th>\n",
       "    </tr>\n",
       "  </thead>\n",
       "  <tbody>\n",
       "    <tr>\n",
       "      <th>count</th>\n",
       "      <td>346.000000</td>\n",
       "      <td>346.000000</td>\n",
       "      <td>346.000000</td>\n",
       "      <td>346.000000</td>\n",
       "    </tr>\n",
       "    <tr>\n",
       "      <th>mean</th>\n",
       "      <td>154.644369</td>\n",
       "      <td>45.045543</td>\n",
       "      <td>41.539740</td>\n",
       "      <td>0.473988</td>\n",
       "    </tr>\n",
       "    <tr>\n",
       "      <th>std</th>\n",
       "      <td>7.773564</td>\n",
       "      <td>6.455220</td>\n",
       "      <td>15.809304</td>\n",
       "      <td>0.500046</td>\n",
       "    </tr>\n",
       "    <tr>\n",
       "      <th>min</th>\n",
       "      <td>136.525000</td>\n",
       "      <td>31.524644</td>\n",
       "      <td>19.000000</td>\n",
       "      <td>0.000000</td>\n",
       "    </tr>\n",
       "    <tr>\n",
       "      <th>25%</th>\n",
       "      <td>148.590000</td>\n",
       "      <td>40.334251</td>\n",
       "      <td>29.000000</td>\n",
       "      <td>0.000000</td>\n",
       "    </tr>\n",
       "    <tr>\n",
       "      <th>50%</th>\n",
       "      <td>154.305000</td>\n",
       "      <td>45.004831</td>\n",
       "      <td>40.000000</td>\n",
       "      <td>0.000000</td>\n",
       "    </tr>\n",
       "    <tr>\n",
       "      <th>75%</th>\n",
       "      <td>160.655000</td>\n",
       "      <td>49.377742</td>\n",
       "      <td>51.000000</td>\n",
       "      <td>1.000000</td>\n",
       "    </tr>\n",
       "    <tr>\n",
       "      <th>max</th>\n",
       "      <td>179.070000</td>\n",
       "      <td>62.992589</td>\n",
       "      <td>88.000000</td>\n",
       "      <td>1.000000</td>\n",
       "    </tr>\n",
       "  </tbody>\n",
       "</table>\n",
       "</div>"
      ],
      "text/plain": [
       "           height      weight         age        male\n",
       "count  346.000000  346.000000  346.000000  346.000000\n",
       "mean   154.644369   45.045543   41.539740    0.473988\n",
       "std      7.773564    6.455220   15.809304    0.500046\n",
       "min    136.525000   31.524644   19.000000    0.000000\n",
       "25%    148.590000   40.334251   29.000000    0.000000\n",
       "50%    154.305000   45.004831   40.000000    0.000000\n",
       "75%    160.655000   49.377742   51.000000    1.000000\n",
       "max    179.070000   62.992589   88.000000    1.000000"
      ]
     },
     "execution_count": 11,
     "metadata": {},
     "output_type": "execute_result"
    }
   ],
   "source": [
    "#descripción estadística de los datos numérico\n",
    "df.describe() "
   ]
  },
  {
   "cell_type": "code",
   "execution_count": 14,
   "metadata": {},
   "outputs": [
    {
     "data": {
      "text/html": [
       "<style  type=\"text/css\" >\n",
       "#T_292772b5_9b12_11eb_8ba0_085bd68b0bbdrow0_col0,#T_292772b5_9b12_11eb_8ba0_085bd68b0bbdrow1_col1,#T_292772b5_9b12_11eb_8ba0_085bd68b0bbdrow2_col2,#T_292772b5_9b12_11eb_8ba0_085bd68b0bbdrow3_col3{\n",
       "            background-color:  #023858;\n",
       "            color:  #f1f1f1;\n",
       "        }#T_292772b5_9b12_11eb_8ba0_085bd68b0bbdrow0_col1{\n",
       "            background-color:  #0569a4;\n",
       "            color:  #f1f1f1;\n",
       "        }#T_292772b5_9b12_11eb_8ba0_085bd68b0bbdrow0_col2{\n",
       "            background-color:  #f5eff6;\n",
       "            color:  #000000;\n",
       "        }#T_292772b5_9b12_11eb_8ba0_085bd68b0bbdrow0_col3{\n",
       "            background-color:  #197db7;\n",
       "            color:  #000000;\n",
       "        }#T_292772b5_9b12_11eb_8ba0_085bd68b0bbdrow1_col0{\n",
       "            background-color:  #056ba7;\n",
       "            color:  #f1f1f1;\n",
       "        }#T_292772b5_9b12_11eb_8ba0_085bd68b0bbdrow1_col2,#T_292772b5_9b12_11eb_8ba0_085bd68b0bbdrow2_col0,#T_292772b5_9b12_11eb_8ba0_085bd68b0bbdrow2_col1,#T_292772b5_9b12_11eb_8ba0_085bd68b0bbdrow2_col3{\n",
       "            background-color:  #fff7fb;\n",
       "            color:  #000000;\n",
       "        }#T_292772b5_9b12_11eb_8ba0_085bd68b0bbdrow1_col3{\n",
       "            background-color:  #6ba5cd;\n",
       "            color:  #000000;\n",
       "        }#T_292772b5_9b12_11eb_8ba0_085bd68b0bbdrow3_col0{\n",
       "            background-color:  #0c74b2;\n",
       "            color:  #f1f1f1;\n",
       "        }#T_292772b5_9b12_11eb_8ba0_085bd68b0bbdrow3_col1{\n",
       "            background-color:  #4094c3;\n",
       "            color:  #000000;\n",
       "        }#T_292772b5_9b12_11eb_8ba0_085bd68b0bbdrow3_col2{\n",
       "            background-color:  #e2dfee;\n",
       "            color:  #000000;\n",
       "        }</style><table id=\"T_292772b5_9b12_11eb_8ba0_085bd68b0bbd\" ><thead>    <tr>        <th class=\"blank level0\" ></th>        <th class=\"col_heading level0 col0\" >height</th>        <th class=\"col_heading level0 col1\" >weight</th>        <th class=\"col_heading level0 col2\" >age</th>        <th class=\"col_heading level0 col3\" >male</th>    </tr></thead><tbody>\n",
       "                <tr>\n",
       "                        <th id=\"T_292772b5_9b12_11eb_8ba0_085bd68b0bbdlevel0_row0\" class=\"row_heading level0 row0\" >height</th>\n",
       "                        <td id=\"T_292772b5_9b12_11eb_8ba0_085bd68b0bbdrow0_col0\" class=\"data row0 col0\" >1.000000</td>\n",
       "                        <td id=\"T_292772b5_9b12_11eb_8ba0_085bd68b0bbdrow0_col1\" class=\"data row0 col1\" >0.753000</td>\n",
       "                        <td id=\"T_292772b5_9b12_11eb_8ba0_085bd68b0bbdrow0_col2\" class=\"data row0 col2\" >-0.113000</td>\n",
       "                        <td id=\"T_292772b5_9b12_11eb_8ba0_085bd68b0bbdrow0_col3\" class=\"data row0 col3\" >0.701000</td>\n",
       "            </tr>\n",
       "            <tr>\n",
       "                        <th id=\"T_292772b5_9b12_11eb_8ba0_085bd68b0bbdlevel0_row1\" class=\"row_heading level0 row1\" >weight</th>\n",
       "                        <td id=\"T_292772b5_9b12_11eb_8ba0_085bd68b0bbdrow1_col0\" class=\"data row1 col0\" >0.753000</td>\n",
       "                        <td id=\"T_292772b5_9b12_11eb_8ba0_085bd68b0bbdrow1_col1\" class=\"data row1 col1\" >1.000000</td>\n",
       "                        <td id=\"T_292772b5_9b12_11eb_8ba0_085bd68b0bbdrow1_col2\" class=\"data row1 col2\" >-0.190000</td>\n",
       "                        <td id=\"T_292772b5_9b12_11eb_8ba0_085bd68b0bbdrow1_col3\" class=\"data row1 col3\" >0.526000</td>\n",
       "            </tr>\n",
       "            <tr>\n",
       "                        <th id=\"T_292772b5_9b12_11eb_8ba0_085bd68b0bbdlevel0_row2\" class=\"row_heading level0 row2\" >age</th>\n",
       "                        <td id=\"T_292772b5_9b12_11eb_8ba0_085bd68b0bbdrow2_col0\" class=\"data row2 col0\" >-0.113000</td>\n",
       "                        <td id=\"T_292772b5_9b12_11eb_8ba0_085bd68b0bbdrow2_col1\" class=\"data row2 col1\" >-0.190000</td>\n",
       "                        <td id=\"T_292772b5_9b12_11eb_8ba0_085bd68b0bbdrow2_col2\" class=\"data row2 col2\" >1.000000</td>\n",
       "                        <td id=\"T_292772b5_9b12_11eb_8ba0_085bd68b0bbdrow2_col3\" class=\"data row2 col3\" >0.014000</td>\n",
       "            </tr>\n",
       "            <tr>\n",
       "                        <th id=\"T_292772b5_9b12_11eb_8ba0_085bd68b0bbdlevel0_row3\" class=\"row_heading level0 row3\" >male</th>\n",
       "                        <td id=\"T_292772b5_9b12_11eb_8ba0_085bd68b0bbdrow3_col0\" class=\"data row3 col0\" >0.701000</td>\n",
       "                        <td id=\"T_292772b5_9b12_11eb_8ba0_085bd68b0bbdrow3_col1\" class=\"data row3 col1\" >0.526000</td>\n",
       "                        <td id=\"T_292772b5_9b12_11eb_8ba0_085bd68b0bbdrow3_col2\" class=\"data row3 col2\" >0.014000</td>\n",
       "                        <td id=\"T_292772b5_9b12_11eb_8ba0_085bd68b0bbdrow3_col3\" class=\"data row3 col3\" >1.000000</td>\n",
       "            </tr>\n",
       "    </tbody></table>"
      ],
      "text/plain": [
       "<pandas.io.formats.style.Styler at 0x225cccbdf70>"
      ]
     },
     "execution_count": 14,
     "metadata": {},
     "output_type": "execute_result"
    }
   ],
   "source": [
    "#nos creamos un nuevo df solo con los valores numéricos\n",
    "#eliminar las columnas constantes, variables \"dummy\", variables como \"meses\" (que a pesar de ser numéricas, no tiene lógica hayar su correlación)\n",
    "\n",
    "#eliminamos los datos faltantes de df2\n",
    "df.dropna(inplace = True)\n",
    "\n",
    "#mostramos la matriz de correlaciones\n",
    "#np.corrcoef(df2[\"area\"],df2[\"geoname_id\"],df2[\"numeric\"],df2[\"population\"])\n",
    "df.corr()\n",
    "corr = round(df.corr(),3)\n",
    "corr.style.background_gradient()\n"
   ]
  },
  {
   "cell_type": "code",
   "execution_count": 17,
   "metadata": {},
   "outputs": [
    {
     "data": {
      "image/png": "[encoded data removed]",
      "text/plain": [
       "<Figure size 432x288 with 2 Axes>"
      ]
     },
     "metadata": {},
     "output_type": "display_data"
    }
   ],
   "source": [
    "#correlación entre datos\n",
    "corr = df.corr()\n",
    "sm.graphics.plot_corr(corr, xnames=list(corr.columns))\n",
    "plt.show()\n"
   ]
  },
  {
   "cell_type": "code",
   "execution_count": 19,
   "metadata": {},
   "outputs": [
    {
     "data": {
      "text/plain": [
       "<AxesSubplot:title={'center':'Pearson Correlation of Features'}>"
      ]
     },
     "execution_count": 19,
     "metadata": {},
     "output_type": "execute_result"
    },
    {
     "data": {
      "image/png": "[encoded data removed]",
      "text/plain": [
       "<Figure size 864x864 with 2 Axes>"
      ]
     },
     "metadata": {},
     "output_type": "display_data"
    }
   ],
   "source": [
    "colormap = plt.cm.viridis\n",
    "plt.figure(figsize=(12,12))\n",
    "plt.title('Pearson Correlation of Features', y=1.05, size=15)\n",
    "sb.heatmap(df.astype(float).corr(),linewidths=0.1,vmax=1.0, square=True, cmap=colormap, linecolor='white', annot=True)"
   ]
  },
  {
   "cell_type": "markdown",
   "metadata": {},
   "source": [
    "# Análisis gráfico"
   ]
  },
  {
   "cell_type": "markdown",
   "metadata": {},
   "source": [
    "En primer lugar, representaremos las dos variables \n",
    "\n",
    "ALTURA VS PESO\n",
    "\n",
    "mediante un diagrama de dispersión (scatterplot) para intuir si existe relación lineal o monotónica. \n",
    "\n",
    "Si no la hay, no tiene sentido calcular este tipo de correlaciones"
   ]
  },
  {
   "cell_type": "code",
   "execution_count": 20,
   "metadata": {},
   "outputs": [
    {
     "data": {
      "image/png": "[encoded data removed]",
      "text/plain": [
       "<Figure size 432x288 with 1 Axes>"
      ]
     },
     "metadata": {},
     "output_type": "display_data"
    }
   ],
   "source": [
    "# Gráfico\n",
    "# ==============================================================================\n",
    "fig, ax = plt.subplots(1, 1, figsize=(6,4))"
   ]
  },
  {
   "cell_type": "code",
   "execution_count": 21,
   "metadata": {},
   "outputs": [
    {
     "data": {
      "image/png": "[encoded data removed]",
      "text/plain": [
       "<Figure size 432x288 with 1 Axes>"
      ]
     },
     "metadata": {},
     "output_type": "display_data"
    }
   ],
   "source": [
    "fig, ax = plt.subplots(1, 1, figsize=(6,4))\n",
    "#ALTURA VS PESO\n",
    "ax.scatter(x=df.height, y=df.weight, alpha= 0.8)\n",
    "ax.set_xlabel('Altura')\n",
    "ax.set_ylabel('Peso');"
   ]
  },
  {
   "cell_type": "markdown",
   "metadata": {},
   "source": [
    "El diagrama de dispersión parece indicar una relación lineal positiva entre ambas variables.\n",
    "\n",
    "Para poder elegir el coeficiente de correlación adecuado, se tiene que analizar el tipo de variables y la distribución que presentan. En este caso, ambas variables son cuantitativas continuas y pueden ordenarse para convertirlas en un ranking, por lo que, a priori, los tres coeficientes podrían aplicarse. "
   ]
  },
  {
   "cell_type": "markdown",
   "metadata": {},
   "source": [
    "La elección se hará en función de la distribución que presenten las observaciones: \n",
    "- normalidad, \n",
    "- homocedasticidad y \n",
    "- presencia de outliers."
   ]
  },
  {
   "cell_type": "markdown",
   "metadata": {},
   "source": [
    "### NORMALIDAD"
   ]
  },
  {
   "cell_type": "markdown",
   "metadata": {},
   "source": [
    "A continuación, vamos a estudiar la normalidad para la columna de 'altura' y 'peso', con el objetivo de clarificar si dichos datos, siguen una distribución próxima a la normal."
   ]
  },
  {
   "cell_type": "code",
   "execution_count": 36,
   "metadata": {},
   "outputs": [
    {
     "data": {
      "text/plain": [
       "array([<AxesSubplot:>, <AxesSubplot:>], dtype=object)"
      ]
     },
     "execution_count": 36,
     "metadata": {},
     "output_type": "execute_result"
    },
    {
     "data": {
      "image/png": "[encoded data removed]",
      "text/plain": [
       "<Figure size 720x288 with 2 Axes>"
      ]
     },
     "metadata": {},
     "output_type": "display_data"
    }
   ],
   "source": [
    "# Gráfico distribución variables\n",
    "# ==============================================================================\n",
    "fig, axs = plt.subplots(nrows=1, ncols=2, figsize=(10, 4))\n",
    "\n",
    "axs #array con dos subplots, axs[0] y axs[1]"
   ]
  },
  {
   "cell_type": "code",
   "execution_count": 34,
   "metadata": {},
   "outputs": [
    {
     "data": {
      "image/png": "[encoded data removed]",
      "text/plain": [
       "<Figure size 720x288 with 2 Axes>"
      ]
     },
     "metadata": {},
     "output_type": "display_data"
    }
   ],
   "source": [
    "fig, axs = plt.subplots(nrows=1, ncols=2, figsize=(10, 4))\n",
    "\n",
    "#HISTOGRAMAS para ver la normalidad a ojo\n",
    "#altura\n",
    "axs[0].hist(x=df.height, bins=20, color=\"#3182bd\", alpha=0.5)\n",
    "axs[0].plot(df.height, np.full_like(df.height, -0.01), '|k', markeredgewidth=1)\n",
    "axs[0].set_title('Distribución altura (height)')\n",
    "axs[0].set_xlabel('height')\n",
    "axs[0].set_ylabel('counts')\n",
    "#peso\n",
    "axs[1].hist(x=df.weight, bins=20, color=\"#3182bd\", alpha=0.5)\n",
    "axs[1].plot(df.weight, np.full_like(df.weight, -0.01), '|k', markeredgewidth=1)\n",
    "axs[1].set_title('Distribución peso (weight)')\n",
    "axs[1].set_xlabel('weight')\n",
    "axs[1].set_ylabel('counts')\n",
    "\n",
    "\n",
    "plt.tight_layout();"
   ]
  },
  {
   "cell_type": "code",
   "execution_count": 28,
   "metadata": {},
   "outputs": [
    {
     "data": {
      "text/plain": [
       "array([-0.01, -0.01, -0.01, -0.01, -0.01, -0.01, -0.01, -0.01, -0.01,\n",
       "       -0.01, -0.01, -0.01, -0.01, -0.01, -0.01, -0.01, -0.01, -0.01,\n",
       "       -0.01, -0.01, -0.01, -0.01, -0.01, -0.01, -0.01, -0.01, -0.01,\n",
       "       -0.01, -0.01, -0.01, -0.01, -0.01, -0.01, -0.01, -0.01, -0.01,\n",
       "       -0.01, -0.01, -0.01, -0.01, -0.01, -0.01, -0.01, -0.01, -0.01,\n",
       "       -0.01, -0.01, -0.01, -0.01, -0.01, -0.01, -0.01, -0.01, -0.01,\n",
       "       -0.01, -0.01, -0.01, -0.01, -0.01, -0.01, -0.01, -0.01, -0.01,\n",
       "       -0.01, -0.01, -0.01, -0.01, -0.01, -0.01, -0.01, -0.01, -0.01,\n",
       "       -0.01, -0.01, -0.01, -0.01, -0.01, -0.01, -0.01, -0.01, -0.01,\n",
       "       -0.01, -0.01, -0.01, -0.01, -0.01, -0.01, -0.01, -0.01, -0.01,\n",
       "       -0.01, -0.01, -0.01, -0.01, -0.01, -0.01, -0.01, -0.01, -0.01,\n",
       "       -0.01, -0.01, -0.01, -0.01, -0.01, -0.01, -0.01, -0.01, -0.01,\n",
       "       -0.01, -0.01, -0.01, -0.01, -0.01, -0.01, -0.01, -0.01, -0.01,\n",
       "       -0.01, -0.01, -0.01, -0.01, -0.01, -0.01, -0.01, -0.01, -0.01,\n",
       "       -0.01, -0.01, -0.01, -0.01, -0.01, -0.01, -0.01, -0.01, -0.01,\n",
       "       -0.01, -0.01, -0.01, -0.01, -0.01, -0.01, -0.01, -0.01, -0.01,\n",
       "       -0.01, -0.01, -0.01, -0.01, -0.01, -0.01, -0.01, -0.01, -0.01,\n",
       "       -0.01, -0.01, -0.01, -0.01, -0.01, -0.01, -0.01, -0.01, -0.01,\n",
       "       -0.01, -0.01, -0.01, -0.01, -0.01, -0.01, -0.01, -0.01, -0.01,\n",
       "       -0.01, -0.01, -0.01, -0.01, -0.01, -0.01, -0.01, -0.01, -0.01,\n",
       "       -0.01, -0.01, -0.01, -0.01, -0.01, -0.01, -0.01, -0.01, -0.01,\n",
       "       -0.01, -0.01, -0.01, -0.01, -0.01, -0.01, -0.01, -0.01, -0.01,\n",
       "       -0.01, -0.01, -0.01, -0.01, -0.01, -0.01, -0.01, -0.01, -0.01,\n",
       "       -0.01, -0.01, -0.01, -0.01, -0.01, -0.01, -0.01, -0.01, -0.01,\n",
       "       -0.01, -0.01, -0.01, -0.01, -0.01, -0.01, -0.01, -0.01, -0.01,\n",
       "       -0.01, -0.01, -0.01, -0.01, -0.01, -0.01, -0.01, -0.01, -0.01,\n",
       "       -0.01, -0.01, -0.01, -0.01, -0.01, -0.01, -0.01, -0.01, -0.01,\n",
       "       -0.01, -0.01, -0.01, -0.01, -0.01, -0.01, -0.01, -0.01, -0.01,\n",
       "       -0.01, -0.01, -0.01, -0.01, -0.01, -0.01, -0.01, -0.01, -0.01,\n",
       "       -0.01, -0.01, -0.01, -0.01, -0.01, -0.01, -0.01, -0.01, -0.01,\n",
       "       -0.01, -0.01, -0.01, -0.01, -0.01, -0.01, -0.01, -0.01, -0.01,\n",
       "       -0.01, -0.01, -0.01, -0.01, -0.01, -0.01, -0.01, -0.01, -0.01,\n",
       "       -0.01, -0.01, -0.01, -0.01, -0.01, -0.01, -0.01, -0.01, -0.01,\n",
       "       -0.01, -0.01, -0.01, -0.01, -0.01, -0.01, -0.01, -0.01, -0.01,\n",
       "       -0.01, -0.01, -0.01, -0.01, -0.01, -0.01, -0.01, -0.01, -0.01,\n",
       "       -0.01, -0.01, -0.01, -0.01, -0.01, -0.01, -0.01, -0.01, -0.01,\n",
       "       -0.01, -0.01, -0.01, -0.01, -0.01, -0.01, -0.01, -0.01, -0.01,\n",
       "       -0.01, -0.01, -0.01, -0.01, -0.01, -0.01, -0.01, -0.01, -0.01,\n",
       "       -0.01, -0.01, -0.01, -0.01])"
      ]
     },
     "execution_count": 28,
     "metadata": {},
     "output_type": "execute_result"
    }
   ],
   "source": [
    "np.full_like(df.height, -0.01) #Return a full array with the same shape and type as a given array"
   ]
  },
  {
   "cell_type": "code",
   "execution_count": 42,
   "metadata": {},
   "outputs": [
    {
     "data": {
      "image/png": "[encoded data removed]",
      "text/plain": [
       "<Figure size 720x288 with 2 Axes>"
      ]
     },
     "metadata": {},
     "output_type": "display_data"
    }
   ],
   "source": [
    "# Gráfico Q-Q (quantile-quantile)\n",
    "# ==============================================================================\n",
    "fig, axs = plt.subplots(nrows=1, ncols=2, figsize=(10, 4))\n",
    "axs #array con dos subplots, axs[0] y axs[1]\n",
    "\n",
    "#import statsmodels.api as sm\n",
    "#altura\n",
    "sm.qqplot(\n",
    "    df.height,\n",
    "    fit   = True,\n",
    "    line  = 'q',\n",
    "    alpha = 0.4,\n",
    "    lw    = 2,\n",
    "    ax    = axs[0]\n",
    ")\n",
    "axs[0].set_title('Gráfico Q-Q height', fontsize = 10, fontweight = \"bold\")\n",
    "axs[0].tick_params(labelsize = 7)\n",
    "#peso\n",
    "sm.qqplot(\n",
    "    df.weight,\n",
    "    fit   = True,\n",
    "    line  = 'q',\n",
    "    alpha = 0.4,\n",
    "    lw    = 2,\n",
    "    ax    = axs[1]\n",
    ")\n",
    "axs[1].set_title('Gráfico Q-Q weight', fontsize = 10, fontweight = \"bold\")\n",
    "axs[1].tick_params(labelsize = 7)"
   ]
  },
  {
   "cell_type": "markdown",
   "metadata": {},
   "source": [
    "lo ideal sería que los pts se acerquen a una recta diagonal (es el caso?)"
   ]
  },
  {
   "cell_type": "markdown",
   "metadata": {},
   "source": [
    "Además del estudio gráfico, se recurre a dos test estadísticos que contrasten la normalidad de los datos:\n",
    "\n",
    "- Shapiro-Wilk test\n",
    "- D'Agostino's K-squared test\n",
    "\n",
    "Este último es el que incluye el summary de statsmodels bajo el nombre de Omnibus\n",
    "\n",
    "En ambos test, la hipótesis nula considera que los datos siguen una distribución normal, por lo tanto, si el p-value no es inferior al nivel de referencia alpha seleccionado, no hay evidencias para descartar que los datos se distribuyen de forma normal."
   ]
  },
  {
   "cell_type": "code",
   "execution_count": 44,
   "metadata": {},
   "outputs": [
    {
     "name": "stdout",
     "output_type": "stream",
     "text": [
      "Variable height: ShapiroResult(statistic=0.9910696148872375, pvalue=0.03439393267035484)\n",
      "Variable weight: ShapiroResult(statistic=0.9911819696426392, pvalue=0.03673496097326279)\n"
     ]
    }
   ],
   "source": [
    "# Normalidad de los residuos Shapiro-Wilk test\n",
    "# ==============================================================================\n",
    "shapiro_test = stats.shapiro(df.height)\n",
    "print(f\"Variable height: {shapiro_test}\")\n",
    "shapiro_test = stats.shapiro(df.weight)\n",
    "print(f\"Variable weight: {shapiro_test}\")"
   ]
  },
  {
   "cell_type": "code",
   "execution_count": 46,
   "metadata": {},
   "outputs": [
    {
     "name": "stdout",
     "output_type": "stream",
     "text": [
      "Variable height: Estadítico = 7.210790495766356, p-value = 0.02717670115638557\n",
      "Variable weight: Estadítico = 8.402628478646022, p-value = 0.014975881988445145\n"
     ]
    }
   ],
   "source": [
    "# Normalidad de los residuos D'Agostino's K-squared test\n",
    "# ==============================================================================\n",
    "k2, p_value = stats.normaltest(df.height)\n",
    "print(f\"Variable height: Estadítico = {k2}, p-value = {p_value}\")\n",
    "k2, p_value = stats.normaltest(df.weight)\n",
    "print(f\"Variable weight: Estadítico = {k2}, p-value = {p_value}\")"
   ]
  },
  {
   "cell_type": "markdown",
   "metadata": {},
   "source": [
    "El análisis gráfico y los test estadísticos muestran evidencias de que no se puede asumir normalidad en ninguna de las dos variables. \n",
    "\n",
    "Siendo estrictos, este hecho excluye la posibilidad de utilizar el coeficiente de Pearson, dejando como alternativas el de Spearman o Kendall. \n",
    "\n",
    "Sin embargo, dado que la distribución no se aleja mucho de la normalidad y de que el coeficiente de Pearson tiene cierta robustez, a fines prácticos sí que se podría utilizar siempre y cuando se tenga en cuenta este hecho y se comunique en los resultados. "
   ]
  },
  {
   "cell_type": "markdown",
   "metadata": {},
   "source": [
    "Otra posibilidad es tratar de transformar las variables para mejorar su distribución, por ejemplo, aplicando el logaritmo:"
   ]
  },
  {
   "cell_type": "code",
   "execution_count": 50,
   "metadata": {},
   "outputs": [
    {
     "name": "stdout",
     "output_type": "stream",
     "text": [
      "Variable height: ShapiroResult(statistic=0.9922674894332886, pvalue=0.06951289623975754)\n"
     ]
    },
    {
     "data": {
      "image/png": "[encoded data removed]",
      "text/plain": [
       "<Figure size 432x288 with 1 Axes>"
      ]
     },
     "metadata": {},
     "output_type": "display_data"
    }
   ],
   "source": [
    "# Transformación logarítmica de los datos\n",
    "# ==============================================================================\n",
    "fig, ax = plt.subplots(nrows=1, ncols=1, figsize=(6, 4))\n",
    "\n",
    "sm.qqplot(\n",
    "    np.log(df.height), #AQUI\n",
    "    fit   = True,\n",
    "    line  = 'q',\n",
    "    alpha = 0.4,\n",
    "    lw    = 2,\n",
    "    ax    = ax\n",
    ")\n",
    "ax.set_title('Gráfico Q-Q log(height)', fontsize = 13)\n",
    "ax.tick_params(labelsize = 7)\n",
    "\n",
    "\n",
    "shapiro_test = stats.shapiro(np.log(df.height))\n",
    "print(f\"Variable height: {shapiro_test}\")"
   ]
  },
  {
   "cell_type": "markdown",
   "metadata": {},
   "source": [
    "Si comparamos esta gráfica (aplicada la transformación logarítmica), con la gráfica sin aplicar la transformación logarítmica:"
   ]
  },
  {
   "cell_type": "code",
   "execution_count": 51,
   "metadata": {},
   "outputs": [
    {
     "name": "stdout",
     "output_type": "stream",
     "text": [
      "Variable height: ShapiroResult(statistic=0.9910696148872375, pvalue=0.03439393267035484)\n"
     ]
    },
    {
     "data": {
      "image/png": "[encoded data removed]",
      "text/plain": [
       "<Figure size 432x288 with 1 Axes>"
      ]
     },
     "metadata": {},
     "output_type": "display_data"
    }
   ],
   "source": [
    "# Gráfico Q-Q (quantile-quantile)\n",
    "# ==============================================================================\n",
    "fig, ax = plt.subplots(nrows=1, ncols=1, figsize=(6, 4))\n",
    "\n",
    "#import statsmodels.api as sm\n",
    "#altura\n",
    "sm.qqplot(\n",
    "    df.height,\n",
    "    fit   = True,\n",
    "    line  = 'q',\n",
    "    alpha = 0.4,\n",
    "    lw    = 2,\n",
    "    ax    = ax\n",
    ")\n",
    "axs[0].set_title('Gráfico Q-Q height', fontsize = 10, fontweight = \"bold\")\n",
    "axs[0].tick_params(labelsize = 7)\n",
    "\n",
    "shapiro_test = stats.shapiro(df.height)\n",
    "print(f\"Variable height: {shapiro_test}\")"
   ]
  },
  {
   "cell_type": "markdown",
   "metadata": {},
   "source": [
    "La trasformación logarítmica de la variable altura (height) consigue una distribución más próxima a la normal\n",
    "- pvalue_log=0.06951289623975754\n",
    "- pvalue=0.03439393267035484"
   ]
  },
  {
   "cell_type": "markdown",
   "metadata": {},
   "source": [
    "# Homocedasticidad"
   ]
  },
  {
   "cell_type": "markdown",
   "metadata": {},
   "source": [
    "La homocedasticidad implica que la varianza se mantiene constante. \n",
    "\n",
    "(la varianza de Y debe ser constante a lo largo de la variable X)\n",
    "\n",
    "Puede analizarse de forma gráfica representando las observaciones en un diagrama de dispersión (scatter) y viendo si mantiene una homogeneidad en su dispersión a lo largo del eje X. \n",
    "(en un scatterplot los valores de Y mantienen la misma dispersión en las distintas zonas de la variable X)\n",
    "\n",
    "Una forma cónica es un claro indicativo de falta de homocedasticidad. Dos test estadísticos utilizados para contrastar la homocedasticidad son: \n",
    "- test de Goldfeld-Quandt \n",
    "- el de Breusch-Pagan.\n",
    "\n",
    "Tal como muestra el diagrama de dispersión generado al inicio del ejercicio, no se aprecia ningún patrón cónico y la dispersión es constante."
   ]
  },
  {
   "cell_type": "markdown",
   "metadata": {},
   "source": [
    "https://www.geeksforgeeks.org/goldfeld-quandt-test/"
   ]
  },
  {
   "cell_type": "markdown",
   "metadata": {},
   "source": [
    "https://www.statsmodels.org/stable/generated/statsmodels.stats.diagnostic.het_goldfeldquandt.html"
   ]
  },
  {
   "cell_type": "code",
   "execution_count": 56,
   "metadata": {
    "scrolled": true
   },
   "outputs": [
    {
     "ename": "ValueError",
     "evalue": "not enough values to unpack (expected 2, got 1)",
     "output_type": "error",
     "traceback": [
      "\u001b[1;31m---------------------------------------------------------------------------\u001b[0m",
      "\u001b[1;31mValueError\u001b[0m                                Traceback (most recent call last)",
      "\u001b[1;32m<ipython-input-56-6b77cf23fa0e>\u001b[0m in \u001b[0;36m<module>\u001b[1;34m\u001b[0m\n\u001b[1;32m----> 1\u001b[1;33m \u001b[0msm_stats\u001b[0m\u001b[1;33m.\u001b[0m\u001b[0mdiagnostic\u001b[0m\u001b[1;33m.\u001b[0m\u001b[0mhet_goldfeldquandt\u001b[0m\u001b[1;33m(\u001b[0m\u001b[0my\u001b[0m\u001b[1;33m=\u001b[0m\u001b[0mdf\u001b[0m\u001b[1;33m.\u001b[0m\u001b[0mweight\u001b[0m\u001b[1;33m,\u001b[0m\u001b[0mx\u001b[0m\u001b[1;33m=\u001b[0m\u001b[0mdf\u001b[0m\u001b[1;33m.\u001b[0m\u001b[0mheight\u001b[0m\u001b[1;33m)\u001b[0m\u001b[1;33m\u001b[0m\u001b[1;33m\u001b[0m\u001b[0m\n\u001b[0m",
      "\u001b[1;32m~\\Anaconda3\\lib\\site-packages\\statsmodels\\stats\\diagnostic.py\u001b[0m in \u001b[0;36mhet_goldfeldquandt\u001b[1;34m(y, x, idx, split, drop, alternative, store)\u001b[0m\n\u001b[0;32m   1061\u001b[0m     \u001b[0mx\u001b[0m \u001b[1;33m=\u001b[0m \u001b[0mnp\u001b[0m\u001b[1;33m.\u001b[0m\u001b[0masarray\u001b[0m\u001b[1;33m(\u001b[0m\u001b[0mx\u001b[0m\u001b[1;33m)\u001b[0m\u001b[1;33m\u001b[0m\u001b[1;33m\u001b[0m\u001b[0m\n\u001b[0;32m   1062\u001b[0m     \u001b[0my\u001b[0m \u001b[1;33m=\u001b[0m \u001b[0mnp\u001b[0m\u001b[1;33m.\u001b[0m\u001b[0masarray\u001b[0m\u001b[1;33m(\u001b[0m\u001b[0my\u001b[0m\u001b[1;33m)\u001b[0m  \u001b[1;31m# **2\u001b[0m\u001b[1;33m\u001b[0m\u001b[1;33m\u001b[0m\u001b[0m\n\u001b[1;32m-> 1063\u001b[1;33m     \u001b[0mnobs\u001b[0m\u001b[1;33m,\u001b[0m \u001b[0mnvars\u001b[0m \u001b[1;33m=\u001b[0m \u001b[0mx\u001b[0m\u001b[1;33m.\u001b[0m\u001b[0mshape\u001b[0m\u001b[1;33m\u001b[0m\u001b[1;33m\u001b[0m\u001b[0m\n\u001b[0m\u001b[0;32m   1064\u001b[0m     \u001b[1;32mif\u001b[0m \u001b[0msplit\u001b[0m \u001b[1;32mis\u001b[0m \u001b[1;32mNone\u001b[0m\u001b[1;33m:\u001b[0m\u001b[1;33m\u001b[0m\u001b[1;33m\u001b[0m\u001b[0m\n\u001b[0;32m   1065\u001b[0m         \u001b[0msplit\u001b[0m \u001b[1;33m=\u001b[0m \u001b[0mnobs\u001b[0m \u001b[1;33m//\u001b[0m \u001b[1;36m2\u001b[0m\u001b[1;33m\u001b[0m\u001b[1;33m\u001b[0m\u001b[0m\n",
      "\u001b[1;31mValueError\u001b[0m: not enough values to unpack (expected 2, got 1)"
     ]
    }
   ],
   "source": [
    "sm_stats.diagnostic.het_goldfeldquandt(y=df.weight,x=df.height)\n"
   ]
  },
  {
   "cell_type": "markdown",
   "metadata": {},
   "source": [
    "# presencia de OUTLIERS"
   ]
  },
  {
   "cell_type": "code",
   "execution_count": 121,
   "metadata": {},
   "outputs": [],
   "source": [
    "url = ('https://raw.githubusercontent.com/JoaquinAmatRodrigo/' +\n",
    "       'Estadistica-machine-learning-python/master/data/Howell1.csv')\n",
    "df = pd.read_csv(url)\n",
    "df = df[df.age > 18]"
   ]
  },
  {
   "cell_type": "code",
   "execution_count": 122,
   "metadata": {
    "scrolled": true
   },
   "outputs": [
    {
     "data": {
      "text/plain": [
       "array([  5,  70, 114, 310], dtype=int64)"
      ]
     },
     "execution_count": 122,
     "metadata": {},
     "output_type": "execute_result"
    }
   ],
   "source": [
    "from sklearn.covariance import EllipticEnvelope\n",
    "#definimos los outliers\n",
    "outliers = EllipticEnvelope(contamination = 0.01) \n",
    "outliers\n",
    "#definimos nuestro DataFrame con 'height' y 'weight'\n",
    "df.drop(['age','male'],axis = 1, inplace = True)\n",
    "var_list = ['height','weight'] #lista de variables de la base de datos\n",
    "#defino una variable 'x' que son los valores que nos interesan de nuestra base de datos\n",
    "x = np.array(df.loc[:,var_list].dropna())\n",
    "x\n",
    "#entrenamos nuestro modelo\n",
    "outliers.fit(x)\n",
    "#pedir que nos prediga con este modelo, los valores que forman parte de ese 1% que queremos detectar\n",
    "pred = outliers.predict(x)\n",
    "pred #array de '1' y '-1' --> quiero detectar los '-1'\n",
    "elips_outliers = np.where(pred == -1)[0]\n",
    "elips_outliers #lista con los index de aquellos casos que son outliers --> LAS POSICIONES NO LOS INDICES\n",
    "\n",
    "#MUCHISIMO CUIDADO, HE PODIDO CAMBIAR MI DATAFRAME APLICANDO FILTROS AL ORIGINAL, Y HABER ELIMINADO INDEX. \n",
    "#POR LO QUE LO QUE ME DA 'elips_outliers', NO SON LOS ÍNDICES, SINO LAS POSICIONES (EMPEZANDO DESDE EL 0)"
   ]
  },
  {
   "cell_type": "code",
   "execution_count": 129,
   "metadata": {},
   "outputs": [
    {
     "data": {
      "text/html": [
       "<div>\n",
       "<style scoped>\n",
       "    .dataframe tbody tr th:only-of-type {\n",
       "        vertical-align: middle;\n",
       "    }\n",
       "\n",
       "    .dataframe tbody tr th {\n",
       "        vertical-align: top;\n",
       "    }\n",
       "\n",
       "    .dataframe thead th {\n",
       "        text-align: right;\n",
       "    }\n",
       "</style>\n",
       "<table border=\"1\" class=\"dataframe\">\n",
       "  <thead>\n",
       "    <tr style=\"text-align: right;\">\n",
       "      <th></th>\n",
       "      <th>height</th>\n",
       "      <th>weight</th>\n",
       "    </tr>\n",
       "  </thead>\n",
       "  <tbody>\n",
       "    <tr>\n",
       "      <th>5</th>\n",
       "      <td>163.83</td>\n",
       "      <td>62.992589</td>\n",
       "    </tr>\n",
       "    <tr>\n",
       "      <th>93</th>\n",
       "      <td>179.07</td>\n",
       "      <td>55.706768</td>\n",
       "    </tr>\n",
       "    <tr>\n",
       "      <th>159</th>\n",
       "      <td>149.86</td>\n",
       "      <td>53.438807</td>\n",
       "    </tr>\n",
       "    <tr>\n",
       "      <th>478</th>\n",
       "      <td>139.70</td>\n",
       "      <td>50.348712</td>\n",
       "    </tr>\n",
       "  </tbody>\n",
       "</table>\n",
       "</div>"
      ],
      "text/plain": [
       "     height     weight\n",
       "5    163.83  62.992589\n",
       "93   179.07  55.706768\n",
       "159  149.86  53.438807\n",
       "478  139.70  50.348712"
      ]
     },
     "execution_count": 129,
     "metadata": {},
     "output_type": "execute_result"
    }
   ],
   "source": [
    "len(df.iloc[elips_outliers,:])\n",
    "df.iloc[elips_outliers,:]"
   ]
  },
  {
   "cell_type": "code",
   "execution_count": 130,
   "metadata": {},
   "outputs": [
    {
     "data": {
      "text/plain": [
       "(array([0, 0, 1, 1, 2, 2, 3, 3], dtype=int64),\n",
       " array([0, 1, 0, 1, 0, 1, 0, 1], dtype=int64))"
      ]
     },
     "execution_count": 130,
     "metadata": {},
     "output_type": "execute_result"
    }
   ],
   "source": [
    "#podría intentar sacar los índices en un array [5,93,159,478]\n",
    "#np.where(df.iloc[elips_outliers,:])"
   ]
  },
  {
   "cell_type": "code",
   "execution_count": 124,
   "metadata": {},
   "outputs": [
    {
     "ename": "KeyError",
     "evalue": "'[ 70 114] not found in axis'",
     "output_type": "error",
     "traceback": [
      "\u001b[1;31m---------------------------------------------------------------------------\u001b[0m",
      "\u001b[1;31mKeyError\u001b[0m                                  Traceback (most recent call last)",
      "\u001b[1;32m<ipython-input-124-19e784a0f098>\u001b[0m in \u001b[0;36m<module>\u001b[1;34m\u001b[0m\n\u001b[1;32m----> 1\u001b[1;33m \u001b[0mdf\u001b[0m\u001b[1;33m.\u001b[0m\u001b[0mdrop\u001b[0m\u001b[1;33m(\u001b[0m\u001b[1;33m[\u001b[0m\u001b[1;36m5\u001b[0m\u001b[1;33m,\u001b[0m\u001b[1;36m70\u001b[0m\u001b[1;33m,\u001b[0m\u001b[1;36m114\u001b[0m\u001b[1;33m,\u001b[0m\u001b[1;36m310\u001b[0m\u001b[1;33m]\u001b[0m\u001b[1;33m,\u001b[0m\u001b[0maxis\u001b[0m\u001b[1;33m=\u001b[0m\u001b[1;36m0\u001b[0m\u001b[1;33m,\u001b[0m\u001b[0minplace\u001b[0m\u001b[1;33m=\u001b[0m\u001b[1;32mTrue\u001b[0m\u001b[1;33m)\u001b[0m\u001b[1;33m\u001b[0m\u001b[1;33m\u001b[0m\u001b[0m\n\u001b[0m",
      "\u001b[1;32m~\\Anaconda3\\lib\\site-packages\\pandas\\core\\frame.py\u001b[0m in \u001b[0;36mdrop\u001b[1;34m(self, labels, axis, index, columns, level, inplace, errors)\u001b[0m\n\u001b[0;32m   4161\u001b[0m                 \u001b[0mweight\u001b[0m  \u001b[1;36m1.0\u001b[0m     \u001b[1;36m0.8\u001b[0m\u001b[1;33m\u001b[0m\u001b[1;33m\u001b[0m\u001b[0m\n\u001b[0;32m   4162\u001b[0m         \"\"\"\n\u001b[1;32m-> 4163\u001b[1;33m         return super().drop(\n\u001b[0m\u001b[0;32m   4164\u001b[0m             \u001b[0mlabels\u001b[0m\u001b[1;33m=\u001b[0m\u001b[0mlabels\u001b[0m\u001b[1;33m,\u001b[0m\u001b[1;33m\u001b[0m\u001b[1;33m\u001b[0m\u001b[0m\n\u001b[0;32m   4165\u001b[0m             \u001b[0maxis\u001b[0m\u001b[1;33m=\u001b[0m\u001b[0maxis\u001b[0m\u001b[1;33m,\u001b[0m\u001b[1;33m\u001b[0m\u001b[1;33m\u001b[0m\u001b[0m\n",
      "\u001b[1;32m~\\Anaconda3\\lib\\site-packages\\pandas\\core\\generic.py\u001b[0m in \u001b[0;36mdrop\u001b[1;34m(self, labels, axis, index, columns, level, inplace, errors)\u001b[0m\n\u001b[0;32m   3885\u001b[0m         \u001b[1;32mfor\u001b[0m \u001b[0maxis\u001b[0m\u001b[1;33m,\u001b[0m \u001b[0mlabels\u001b[0m \u001b[1;32min\u001b[0m \u001b[0maxes\u001b[0m\u001b[1;33m.\u001b[0m\u001b[0mitems\u001b[0m\u001b[1;33m(\u001b[0m\u001b[1;33m)\u001b[0m\u001b[1;33m:\u001b[0m\u001b[1;33m\u001b[0m\u001b[1;33m\u001b[0m\u001b[0m\n\u001b[0;32m   3886\u001b[0m             \u001b[1;32mif\u001b[0m \u001b[0mlabels\u001b[0m \u001b[1;32mis\u001b[0m \u001b[1;32mnot\u001b[0m \u001b[1;32mNone\u001b[0m\u001b[1;33m:\u001b[0m\u001b[1;33m\u001b[0m\u001b[1;33m\u001b[0m\u001b[0m\n\u001b[1;32m-> 3887\u001b[1;33m                 \u001b[0mobj\u001b[0m \u001b[1;33m=\u001b[0m \u001b[0mobj\u001b[0m\u001b[1;33m.\u001b[0m\u001b[0m_drop_axis\u001b[0m\u001b[1;33m(\u001b[0m\u001b[0mlabels\u001b[0m\u001b[1;33m,\u001b[0m \u001b[0maxis\u001b[0m\u001b[1;33m,\u001b[0m \u001b[0mlevel\u001b[0m\u001b[1;33m=\u001b[0m\u001b[0mlevel\u001b[0m\u001b[1;33m,\u001b[0m \u001b[0merrors\u001b[0m\u001b[1;33m=\u001b[0m\u001b[0merrors\u001b[0m\u001b[1;33m)\u001b[0m\u001b[1;33m\u001b[0m\u001b[1;33m\u001b[0m\u001b[0m\n\u001b[0m\u001b[0;32m   3888\u001b[0m \u001b[1;33m\u001b[0m\u001b[0m\n\u001b[0;32m   3889\u001b[0m         \u001b[1;32mif\u001b[0m \u001b[0minplace\u001b[0m\u001b[1;33m:\u001b[0m\u001b[1;33m\u001b[0m\u001b[1;33m\u001b[0m\u001b[0m\n",
      "\u001b[1;32m~\\Anaconda3\\lib\\site-packages\\pandas\\core\\generic.py\u001b[0m in \u001b[0;36m_drop_axis\u001b[1;34m(self, labels, axis, level, errors)\u001b[0m\n\u001b[0;32m   3919\u001b[0m                 \u001b[0mnew_axis\u001b[0m \u001b[1;33m=\u001b[0m \u001b[0maxis\u001b[0m\u001b[1;33m.\u001b[0m\u001b[0mdrop\u001b[0m\u001b[1;33m(\u001b[0m\u001b[0mlabels\u001b[0m\u001b[1;33m,\u001b[0m \u001b[0mlevel\u001b[0m\u001b[1;33m=\u001b[0m\u001b[0mlevel\u001b[0m\u001b[1;33m,\u001b[0m \u001b[0merrors\u001b[0m\u001b[1;33m=\u001b[0m\u001b[0merrors\u001b[0m\u001b[1;33m)\u001b[0m\u001b[1;33m\u001b[0m\u001b[1;33m\u001b[0m\u001b[0m\n\u001b[0;32m   3920\u001b[0m             \u001b[1;32melse\u001b[0m\u001b[1;33m:\u001b[0m\u001b[1;33m\u001b[0m\u001b[1;33m\u001b[0m\u001b[0m\n\u001b[1;32m-> 3921\u001b[1;33m                 \u001b[0mnew_axis\u001b[0m \u001b[1;33m=\u001b[0m \u001b[0maxis\u001b[0m\u001b[1;33m.\u001b[0m\u001b[0mdrop\u001b[0m\u001b[1;33m(\u001b[0m\u001b[0mlabels\u001b[0m\u001b[1;33m,\u001b[0m \u001b[0merrors\u001b[0m\u001b[1;33m=\u001b[0m\u001b[0merrors\u001b[0m\u001b[1;33m)\u001b[0m\u001b[1;33m\u001b[0m\u001b[1;33m\u001b[0m\u001b[0m\n\u001b[0m\u001b[0;32m   3922\u001b[0m             \u001b[0mresult\u001b[0m \u001b[1;33m=\u001b[0m \u001b[0mself\u001b[0m\u001b[1;33m.\u001b[0m\u001b[0mreindex\u001b[0m\u001b[1;33m(\u001b[0m\u001b[1;33m**\u001b[0m\u001b[1;33m{\u001b[0m\u001b[0maxis_name\u001b[0m\u001b[1;33m:\u001b[0m \u001b[0mnew_axis\u001b[0m\u001b[1;33m}\u001b[0m\u001b[1;33m)\u001b[0m\u001b[1;33m\u001b[0m\u001b[1;33m\u001b[0m\u001b[0m\n\u001b[0;32m   3923\u001b[0m \u001b[1;33m\u001b[0m\u001b[0m\n",
      "\u001b[1;32m~\\Anaconda3\\lib\\site-packages\\pandas\\core\\indexes\\base.py\u001b[0m in \u001b[0;36mdrop\u001b[1;34m(self, labels, errors)\u001b[0m\n\u001b[0;32m   5280\u001b[0m         \u001b[1;32mif\u001b[0m \u001b[0mmask\u001b[0m\u001b[1;33m.\u001b[0m\u001b[0many\u001b[0m\u001b[1;33m(\u001b[0m\u001b[1;33m)\u001b[0m\u001b[1;33m:\u001b[0m\u001b[1;33m\u001b[0m\u001b[1;33m\u001b[0m\u001b[0m\n\u001b[0;32m   5281\u001b[0m             \u001b[1;32mif\u001b[0m \u001b[0merrors\u001b[0m \u001b[1;33m!=\u001b[0m \u001b[1;34m\"ignore\"\u001b[0m\u001b[1;33m:\u001b[0m\u001b[1;33m\u001b[0m\u001b[1;33m\u001b[0m\u001b[0m\n\u001b[1;32m-> 5282\u001b[1;33m                 \u001b[1;32mraise\u001b[0m \u001b[0mKeyError\u001b[0m\u001b[1;33m(\u001b[0m\u001b[1;34mf\"{labels[mask]} not found in axis\"\u001b[0m\u001b[1;33m)\u001b[0m\u001b[1;33m\u001b[0m\u001b[1;33m\u001b[0m\u001b[0m\n\u001b[0m\u001b[0;32m   5283\u001b[0m             \u001b[0mindexer\u001b[0m \u001b[1;33m=\u001b[0m \u001b[0mindexer\u001b[0m\u001b[1;33m[\u001b[0m\u001b[1;33m~\u001b[0m\u001b[0mmask\u001b[0m\u001b[1;33m]\u001b[0m\u001b[1;33m\u001b[0m\u001b[1;33m\u001b[0m\u001b[0m\n\u001b[0;32m   5284\u001b[0m         \u001b[1;32mreturn\u001b[0m \u001b[0mself\u001b[0m\u001b[1;33m.\u001b[0m\u001b[0mdelete\u001b[0m\u001b[1;33m(\u001b[0m\u001b[0mindexer\u001b[0m\u001b[1;33m)\u001b[0m\u001b[1;33m\u001b[0m\u001b[1;33m\u001b[0m\u001b[0m\n",
      "\u001b[1;31mKeyError\u001b[0m: '[ 70 114] not found in axis'"
     ]
    }
   ],
   "source": [
    "df.drop([5,70,114,310],axis=0,inplace=True) #va a dar ERROR"
   ]
  },
  {
   "cell_type": "code",
   "execution_count": 126,
   "metadata": {
    "scrolled": true
   },
   "outputs": [
    {
     "data": {
      "text/html": [
       "<div>\n",
       "<style scoped>\n",
       "    .dataframe tbody tr th:only-of-type {\n",
       "        vertical-align: middle;\n",
       "    }\n",
       "\n",
       "    .dataframe tbody tr th {\n",
       "        vertical-align: top;\n",
       "    }\n",
       "\n",
       "    .dataframe thead th {\n",
       "        text-align: right;\n",
       "    }\n",
       "</style>\n",
       "<table border=\"1\" class=\"dataframe\">\n",
       "  <thead>\n",
       "    <tr style=\"text-align: right;\">\n",
       "      <th></th>\n",
       "      <th>height</th>\n",
       "      <th>weight</th>\n",
       "    </tr>\n",
       "  </thead>\n",
       "  <tbody>\n",
       "    <tr>\n",
       "      <th>0</th>\n",
       "      <td>151.7650</td>\n",
       "      <td>47.825606</td>\n",
       "    </tr>\n",
       "    <tr>\n",
       "      <th>1</th>\n",
       "      <td>139.7000</td>\n",
       "      <td>36.485807</td>\n",
       "    </tr>\n",
       "    <tr>\n",
       "      <th>2</th>\n",
       "      <td>136.5250</td>\n",
       "      <td>31.864838</td>\n",
       "    </tr>\n",
       "    <tr>\n",
       "      <th>3</th>\n",
       "      <td>156.8450</td>\n",
       "      <td>53.041915</td>\n",
       "    </tr>\n",
       "    <tr>\n",
       "      <th>4</th>\n",
       "      <td>145.4150</td>\n",
       "      <td>41.276872</td>\n",
       "    </tr>\n",
       "    <tr>\n",
       "      <th>5</th>\n",
       "      <td>163.8300</td>\n",
       "      <td>62.992589</td>\n",
       "    </tr>\n",
       "    <tr>\n",
       "      <th>6</th>\n",
       "      <td>149.2250</td>\n",
       "      <td>38.243476</td>\n",
       "    </tr>\n",
       "    <tr>\n",
       "      <th>7</th>\n",
       "      <td>168.9100</td>\n",
       "      <td>55.479971</td>\n",
       "    </tr>\n",
       "    <tr>\n",
       "      <th>8</th>\n",
       "      <td>147.9550</td>\n",
       "      <td>34.869885</td>\n",
       "    </tr>\n",
       "    <tr>\n",
       "      <th>9</th>\n",
       "      <td>165.1000</td>\n",
       "      <td>54.487739</td>\n",
       "    </tr>\n",
       "    <tr>\n",
       "      <th>10</th>\n",
       "      <td>154.3050</td>\n",
       "      <td>49.895120</td>\n",
       "    </tr>\n",
       "    <tr>\n",
       "      <th>11</th>\n",
       "      <td>151.1300</td>\n",
       "      <td>41.220173</td>\n",
       "    </tr>\n",
       "    <tr>\n",
       "      <th>12</th>\n",
       "      <td>144.7800</td>\n",
       "      <td>36.032215</td>\n",
       "    </tr>\n",
       "    <tr>\n",
       "      <th>13</th>\n",
       "      <td>149.9000</td>\n",
       "      <td>47.700000</td>\n",
       "    </tr>\n",
       "    <tr>\n",
       "      <th>14</th>\n",
       "      <td>150.4950</td>\n",
       "      <td>33.849303</td>\n",
       "    </tr>\n",
       "    <tr>\n",
       "      <th>15</th>\n",
       "      <td>163.1950</td>\n",
       "      <td>48.562694</td>\n",
       "    </tr>\n",
       "    <tr>\n",
       "      <th>16</th>\n",
       "      <td>157.4800</td>\n",
       "      <td>42.325803</td>\n",
       "    </tr>\n",
       "    <tr>\n",
       "      <th>17</th>\n",
       "      <td>143.9418</td>\n",
       "      <td>38.356873</td>\n",
       "    </tr>\n",
       "    <tr>\n",
       "      <th>21</th>\n",
       "      <td>161.2900</td>\n",
       "      <td>48.987936</td>\n",
       "    </tr>\n",
       "    <tr>\n",
       "      <th>22</th>\n",
       "      <td>156.2100</td>\n",
       "      <td>42.722697</td>\n",
       "    </tr>\n",
       "    <tr>\n",
       "      <th>25</th>\n",
       "      <td>146.4000</td>\n",
       "      <td>35.493574</td>\n",
       "    </tr>\n",
       "    <tr>\n",
       "      <th>26</th>\n",
       "      <td>148.5900</td>\n",
       "      <td>37.903281</td>\n",
       "    </tr>\n",
       "    <tr>\n",
       "      <th>27</th>\n",
       "      <td>147.3200</td>\n",
       "      <td>35.465224</td>\n",
       "    </tr>\n",
       "    <tr>\n",
       "      <th>31</th>\n",
       "      <td>147.9550</td>\n",
       "      <td>40.312989</td>\n",
       "    </tr>\n",
       "    <tr>\n",
       "      <th>32</th>\n",
       "      <td>161.9250</td>\n",
       "      <td>55.111428</td>\n",
       "    </tr>\n",
       "    <tr>\n",
       "      <th>33</th>\n",
       "      <td>146.0500</td>\n",
       "      <td>37.506388</td>\n",
       "    </tr>\n",
       "    <tr>\n",
       "      <th>34</th>\n",
       "      <td>146.0500</td>\n",
       "      <td>38.498621</td>\n",
       "    </tr>\n",
       "    <tr>\n",
       "      <th>35</th>\n",
       "      <td>152.7048</td>\n",
       "      <td>46.606578</td>\n",
       "    </tr>\n",
       "    <tr>\n",
       "      <th>36</th>\n",
       "      <td>142.8750</td>\n",
       "      <td>38.838815</td>\n",
       "    </tr>\n",
       "    <tr>\n",
       "      <th>37</th>\n",
       "      <td>142.8750</td>\n",
       "      <td>35.578622</td>\n",
       "    </tr>\n",
       "    <tr>\n",
       "      <th>38</th>\n",
       "      <td>147.9550</td>\n",
       "      <td>47.400364</td>\n",
       "    </tr>\n",
       "    <tr>\n",
       "      <th>39</th>\n",
       "      <td>160.6550</td>\n",
       "      <td>47.882306</td>\n",
       "    </tr>\n",
       "    <tr>\n",
       "      <th>40</th>\n",
       "      <td>151.7650</td>\n",
       "      <td>49.413179</td>\n",
       "    </tr>\n",
       "    <tr>\n",
       "      <th>41</th>\n",
       "      <td>162.8648</td>\n",
       "      <td>49.384829</td>\n",
       "    </tr>\n",
       "    <tr>\n",
       "      <th>42</th>\n",
       "      <td>171.4500</td>\n",
       "      <td>56.557253</td>\n",
       "    </tr>\n",
       "    <tr>\n",
       "      <th>43</th>\n",
       "      <td>147.3200</td>\n",
       "      <td>39.122310</td>\n",
       "    </tr>\n",
       "    <tr>\n",
       "      <th>44</th>\n",
       "      <td>147.9550</td>\n",
       "      <td>49.895120</td>\n",
       "    </tr>\n",
       "    <tr>\n",
       "      <th>49</th>\n",
       "      <td>154.3050</td>\n",
       "      <td>41.248522</td>\n",
       "    </tr>\n",
       "    <tr>\n",
       "      <th>50</th>\n",
       "      <td>143.5100</td>\n",
       "      <td>38.555320</td>\n",
       "    </tr>\n",
       "    <tr>\n",
       "      <th>51</th>\n",
       "      <td>146.7000</td>\n",
       "      <td>42.400000</td>\n",
       "    </tr>\n",
       "    <tr>\n",
       "      <th>56</th>\n",
       "      <td>165.7350</td>\n",
       "      <td>58.598417</td>\n",
       "    </tr>\n",
       "    <tr>\n",
       "      <th>57</th>\n",
       "      <td>152.4000</td>\n",
       "      <td>46.719976</td>\n",
       "    </tr>\n",
       "    <tr>\n",
       "      <th>58</th>\n",
       "      <td>141.6050</td>\n",
       "      <td>44.225220</td>\n",
       "    </tr>\n",
       "    <tr>\n",
       "      <th>59</th>\n",
       "      <td>158.8000</td>\n",
       "      <td>50.900000</td>\n",
       "    </tr>\n",
       "    <tr>\n",
       "      <th>60</th>\n",
       "      <td>155.5750</td>\n",
       "      <td>54.317642</td>\n",
       "    </tr>\n",
       "    <tr>\n",
       "      <th>61</th>\n",
       "      <td>164.4650</td>\n",
       "      <td>45.897841</td>\n",
       "    </tr>\n",
       "    <tr>\n",
       "      <th>62</th>\n",
       "      <td>151.7650</td>\n",
       "      <td>48.024053</td>\n",
       "    </tr>\n",
       "    <tr>\n",
       "      <th>63</th>\n",
       "      <td>161.2900</td>\n",
       "      <td>52.219779</td>\n",
       "    </tr>\n",
       "    <tr>\n",
       "      <th>64</th>\n",
       "      <td>154.3050</td>\n",
       "      <td>47.627160</td>\n",
       "    </tr>\n",
       "    <tr>\n",
       "      <th>65</th>\n",
       "      <td>145.4150</td>\n",
       "      <td>45.642695</td>\n",
       "    </tr>\n",
       "    <tr>\n",
       "      <th>66</th>\n",
       "      <td>145.4150</td>\n",
       "      <td>42.410852</td>\n",
       "    </tr>\n",
       "    <tr>\n",
       "      <th>67</th>\n",
       "      <td>152.4000</td>\n",
       "      <td>36.485807</td>\n",
       "    </tr>\n",
       "    <tr>\n",
       "      <th>68</th>\n",
       "      <td>163.8300</td>\n",
       "      <td>55.933563</td>\n",
       "    </tr>\n",
       "    <tr>\n",
       "      <th>69</th>\n",
       "      <td>144.1450</td>\n",
       "      <td>37.194544</td>\n",
       "    </tr>\n",
       "    <tr>\n",
       "      <th>72</th>\n",
       "      <td>153.6700</td>\n",
       "      <td>48.307548</td>\n",
       "    </tr>\n",
       "    <tr>\n",
       "      <th>73</th>\n",
       "      <td>142.8750</td>\n",
       "      <td>37.336291</td>\n",
       "    </tr>\n",
       "    <tr>\n",
       "      <th>75</th>\n",
       "      <td>167.0050</td>\n",
       "      <td>47.173568</td>\n",
       "    </tr>\n",
       "    <tr>\n",
       "      <th>76</th>\n",
       "      <td>158.4198</td>\n",
       "      <td>47.286966</td>\n",
       "    </tr>\n",
       "    <tr>\n",
       "      <th>78</th>\n",
       "      <td>165.7350</td>\n",
       "      <td>57.549485</td>\n",
       "    </tr>\n",
       "    <tr>\n",
       "      <th>79</th>\n",
       "      <td>149.8600</td>\n",
       "      <td>37.931631</td>\n",
       "    </tr>\n",
       "  </tbody>\n",
       "</table>\n",
       "</div>"
      ],
      "text/plain": [
       "      height     weight\n",
       "0   151.7650  47.825606\n",
       "1   139.7000  36.485807\n",
       "2   136.5250  31.864838\n",
       "3   156.8450  53.041915\n",
       "4   145.4150  41.276872\n",
       "5   163.8300  62.992589\n",
       "6   149.2250  38.243476\n",
       "7   168.9100  55.479971\n",
       "8   147.9550  34.869885\n",
       "9   165.1000  54.487739\n",
       "10  154.3050  49.895120\n",
       "11  151.1300  41.220173\n",
       "12  144.7800  36.032215\n",
       "13  149.9000  47.700000\n",
       "14  150.4950  33.849303\n",
       "15  163.1950  48.562694\n",
       "16  157.4800  42.325803\n",
       "17  143.9418  38.356873\n",
       "21  161.2900  48.987936\n",
       "22  156.2100  42.722697\n",
       "25  146.4000  35.493574\n",
       "26  148.5900  37.903281\n",
       "27  147.3200  35.465224\n",
       "31  147.9550  40.312989\n",
       "32  161.9250  55.111428\n",
       "33  146.0500  37.506388\n",
       "34  146.0500  38.498621\n",
       "35  152.7048  46.606578\n",
       "36  142.8750  38.838815\n",
       "37  142.8750  35.578622\n",
       "38  147.9550  47.400364\n",
       "39  160.6550  47.882306\n",
       "40  151.7650  49.413179\n",
       "41  162.8648  49.384829\n",
       "42  171.4500  56.557253\n",
       "43  147.3200  39.122310\n",
       "44  147.9550  49.895120\n",
       "49  154.3050  41.248522\n",
       "50  143.5100  38.555320\n",
       "51  146.7000  42.400000\n",
       "56  165.7350  58.598417\n",
       "57  152.4000  46.719976\n",
       "58  141.6050  44.225220\n",
       "59  158.8000  50.900000\n",
       "60  155.5750  54.317642\n",
       "61  164.4650  45.897841\n",
       "62  151.7650  48.024053\n",
       "63  161.2900  52.219779\n",
       "64  154.3050  47.627160\n",
       "65  145.4150  45.642695\n",
       "66  145.4150  42.410852\n",
       "67  152.4000  36.485807\n",
       "68  163.8300  55.933563\n",
       "69  144.1450  37.194544\n",
       "72  153.6700  48.307548\n",
       "73  142.8750  37.336291\n",
       "75  167.0050  47.173568\n",
       "76  158.4198  47.286966\n",
       "78  165.7350  57.549485\n",
       "79  149.8600  37.931631"
      ]
     },
     "execution_count": 126,
     "metadata": {},
     "output_type": "execute_result"
    }
   ],
   "source": [
    "#df.loc[[5,  70, 114, 310],:]\n",
    "#df.loc[70]\n",
    "df.head(60) #vemos que no hay indice 70, porque sería un menor de 18 que ha quedado fuera del primer filtro al df"
   ]
  },
  {
   "cell_type": "code",
   "execution_count": 128,
   "metadata": {},
   "outputs": [
    {
     "data": {
      "text/html": [
       "<div>\n",
       "<style scoped>\n",
       "    .dataframe tbody tr th:only-of-type {\n",
       "        vertical-align: middle;\n",
       "    }\n",
       "\n",
       "    .dataframe tbody tr th {\n",
       "        vertical-align: top;\n",
       "    }\n",
       "\n",
       "    .dataframe thead th {\n",
       "        text-align: right;\n",
       "    }\n",
       "</style>\n",
       "<table border=\"1\" class=\"dataframe\">\n",
       "  <thead>\n",
       "    <tr style=\"text-align: right;\">\n",
       "      <th></th>\n",
       "      <th>height</th>\n",
       "      <th>weight</th>\n",
       "    </tr>\n",
       "  </thead>\n",
       "  <tbody>\n",
       "    <tr>\n",
       "      <th>0</th>\n",
       "      <td>151.765</td>\n",
       "      <td>47.825606</td>\n",
       "    </tr>\n",
       "    <tr>\n",
       "      <th>1</th>\n",
       "      <td>139.700</td>\n",
       "      <td>36.485807</td>\n",
       "    </tr>\n",
       "    <tr>\n",
       "      <th>2</th>\n",
       "      <td>136.525</td>\n",
       "      <td>31.864838</td>\n",
       "    </tr>\n",
       "    <tr>\n",
       "      <th>3</th>\n",
       "      <td>156.845</td>\n",
       "      <td>53.041915</td>\n",
       "    </tr>\n",
       "    <tr>\n",
       "      <th>4</th>\n",
       "      <td>145.415</td>\n",
       "      <td>41.276872</td>\n",
       "    </tr>\n",
       "    <tr>\n",
       "      <th>...</th>\n",
       "      <td>...</td>\n",
       "      <td>...</td>\n",
       "    </tr>\n",
       "    <tr>\n",
       "      <th>70</th>\n",
       "      <td>179.070</td>\n",
       "      <td>55.706768</td>\n",
       "    </tr>\n",
       "    <tr>\n",
       "      <th>71</th>\n",
       "      <td>170.180</td>\n",
       "      <td>48.562694</td>\n",
       "    </tr>\n",
       "    <tr>\n",
       "      <th>72</th>\n",
       "      <td>146.050</td>\n",
       "      <td>42.807745</td>\n",
       "    </tr>\n",
       "    <tr>\n",
       "      <th>73</th>\n",
       "      <td>147.320</td>\n",
       "      <td>35.068331</td>\n",
       "    </tr>\n",
       "    <tr>\n",
       "      <th>74</th>\n",
       "      <td>162.560</td>\n",
       "      <td>56.755699</td>\n",
       "    </tr>\n",
       "  </tbody>\n",
       "</table>\n",
       "<p>75 rows × 2 columns</p>\n",
       "</div>"
      ],
      "text/plain": [
       "     height     weight\n",
       "0   151.765  47.825606\n",
       "1   139.700  36.485807\n",
       "2   136.525  31.864838\n",
       "3   156.845  53.041915\n",
       "4   145.415  41.276872\n",
       "..      ...        ...\n",
       "70  179.070  55.706768\n",
       "71  170.180  48.562694\n",
       "72  146.050  42.807745\n",
       "73  147.320  35.068331\n",
       "74  162.560  56.755699\n",
       "\n",
       "[75 rows x 2 columns]"
      ]
     },
     "execution_count": 128,
     "metadata": {},
     "output_type": "execute_result"
    }
   ],
   "source": [
    "#tengo que volver a igualar los índices, a las posiciones\n",
    "df_index = df.set_index(np.arange(346))\n",
    "df_index.head(75)\n",
    "#ahora sí que se corresponden las posiciones con los indices\n",
    "df_index.drop([5,70,114,310],axis=0,inplace=True)\n",
    "#df_index.drop(elips_outliers,axis=0,inplace=True)"
   ]
  },
  {
   "cell_type": "code",
   "execution_count": 131,
   "metadata": {
    "scrolled": true
   },
   "outputs": [
    {
     "name": "stdout",
     "output_type": "stream",
     "text": [
      "Variable height: ShapiroResult(statistic=0.9910696148872375, pvalue=0.03439393267035484)\n",
      "Variable weight: ShapiroResult(statistic=0.9911819696426392, pvalue=0.03673496097326279)\n",
      "Variable height: Estadítico = 7.210790495766356, p-value = 0.02717670115638557\n",
      "Variable weight: Estadítico = 8.402628478646022, p-value = 0.014975881988445145\n",
      "Variable height: ShapiroResult(statistic=0.9910696148872375, pvalue=0.03439393267035484)\n",
      "Variable weight: ShapiroResult(statistic=0.9911819696426392, pvalue=0.03673496097326279)\n",
      "Variable height: Estadítico = 7.210790495766356, p-value = 0.02717670115638557\n",
      "Variable weight: Estadítico = 8.402628478646022, p-value = 0.014975881988445145\n"
     ]
    }
   ],
   "source": [
    "#apartir de aqui ya no tenemos outliers\n",
    "#volvemos a realizar los tests de antes\n",
    "\n",
    "#CON OUTLIERS\n",
    "# Normalidad de los residuos Shapiro-Wilk test\n",
    "# ==============================================================================\n",
    "shapiro_test = stats.shapiro(df.height)\n",
    "print(f\"Variable height: {shapiro_test}\")\n",
    "shapiro_test = stats.shapiro(df.weight)\n",
    "print(f\"Variable weight: {shapiro_test}\")\n",
    "\n",
    "# Normalidad de los residuos D'Agostino's K-squared test\n",
    "# ==============================================================================\n",
    "k2, p_value = stats.normaltest(df.height)\n",
    "print(f\"Variable height: Estadítico = {k2}, p-value = {p_value}\")\n",
    "k2, p_value = stats.normaltest(df.weight)\n",
    "print(f\"Variable weight: Estadítico = {k2}, p-value = {p_value}\")\n",
    "\n",
    "#SIN OUTLIERS\n",
    "# Normalidad de los residuos Shapiro-Wilk test\n",
    "# ==============================================================================\n",
    "shapiro_test = stats.shapiro(df_index.height)\n",
    "print(f\"Variable height: {shapiro_test}\")\n",
    "shapiro_test = stats.shapiro(df_index.weight)\n",
    "print(f\"Variable weight: {shapiro_test}\")\n",
    "\n",
    "# Normalidad de los residuos D'Agostino's K-squared test\n",
    "# ==============================================================================\n",
    "k2, p_value = stats.normaltest(df_index.height)\n",
    "print(f\"Variable height: Estadítico = {k2}, p-value = {p_value}\")\n",
    "k2, p_value = stats.normaltest(df_index.weight)\n",
    "print(f\"Variable weight: Estadítico = {k2}, p-value = {p_value}\")"
   ]
  },
  {
   "cell_type": "markdown",
   "metadata": {},
   "source": [
    "#### OTRA FORMA"
   ]
  },
  {
   "cell_type": "code",
   "execution_count": 132,
   "metadata": {},
   "outputs": [],
   "source": [
    "url = ('https://raw.githubusercontent.com/JoaquinAmatRodrigo/' +\n",
    "       'Estadistica-machine-learning-python/master/data/Howell1.csv')\n",
    "df = pd.read_csv(url)\n",
    "df = df[df.age > 18]\n",
    "\n",
    "df.height #X\n",
    "df.weight #Y\n",
    "\n",
    "media_x = df.weight.mean()\n",
    "std_x = df.weight.std()*2\n",
    "media_y = df.height.mean()\n",
    "std_y = df.height.std()*2"
   ]
  },
  {
   "cell_type": "code",
   "execution_count": 133,
   "metadata": {},
   "outputs": [
    {
     "data": {
      "text/plain": [
       "<matplotlib.lines.Line2D at 0x225d7749a90>"
      ]
     },
     "execution_count": 133,
     "metadata": {},
     "output_type": "execute_result"
    },
    {
     "data": {
      "image/png": "[encoded data removed]",
      "text/plain": [
       "<Figure size 432x288 with 1 Axes>"
      ]
     },
     "metadata": {},
     "output_type": "display_data"
    }
   ],
   "source": [
    "#formamos una matriz de colores\n",
    "colors = ['blue']*len(df.weight)\n",
    "enumerate(df.weight)\n",
    "#si Valor-media > std --> outlier\n",
    "for index, x in enumerate(df.weight):\n",
    "    if abs(x-media_x) > std_x:\n",
    "        colors[index] = 'red'\n",
    "        \n",
    "for index, x in enumerate(df.height):\n",
    "    if abs(x-media_y) > std_y:\n",
    "        colors[index] = 'red'\n",
    "#VISUALIZAMOS\n",
    "plt.scatter(df.height, df.weight, s=10, color=colors) #X,Y\n",
    "plt.axhline(media_x, color='k', linestyle='--') #eje horizontal centrado en la media_x\n",
    "plt.axvline(media_y, color='k', linestyle='--') #eje vertical centrado en la media_y"
   ]
  },
  {
   "cell_type": "markdown",
   "metadata": {},
   "source": [
    "### cómo afectan los outliers"
   ]
  },
  {
   "cell_type": "code",
   "execution_count": 134,
   "metadata": {
    "scrolled": true
   },
   "outputs": [
    {
     "data": {
      "text/plain": [
       "<AxesSubplot:xlabel='height', ylabel='weight'>"
      ]
     },
     "execution_count": 134,
     "metadata": {},
     "output_type": "execute_result"
    },
    {
     "data": {
      "image/png": "[encoded data removed]",
      "text/plain": [
       "<Figure size 432x288 with 1 Axes>"
      ]
     },
     "metadata": {},
     "output_type": "display_data"
    }
   ],
   "source": [
    "import seaborn as sns\n",
    "#CON OUTLIERS\n",
    "sns.set(color_codes=True)\n",
    "sns.regplot(x=df.height, y=df.weight) #Plot data and a linear regression model fit."
   ]
  },
  {
   "cell_type": "code",
   "execution_count": 135,
   "metadata": {},
   "outputs": [
    {
     "ename": "KeyError",
     "evalue": "18",
     "output_type": "error",
     "traceback": [
      "\u001b[1;31m---------------------------------------------------------------------------\u001b[0m",
      "\u001b[1;31mKeyError\u001b[0m                                  Traceback (most recent call last)",
      "\u001b[1;32m~\\Anaconda3\\lib\\site-packages\\pandas\\core\\indexes\\base.py\u001b[0m in \u001b[0;36mget_loc\u001b[1;34m(self, key, method, tolerance)\u001b[0m\n\u001b[0;32m   2894\u001b[0m             \u001b[1;32mtry\u001b[0m\u001b[1;33m:\u001b[0m\u001b[1;33m\u001b[0m\u001b[1;33m\u001b[0m\u001b[0m\n\u001b[1;32m-> 2895\u001b[1;33m                 \u001b[1;32mreturn\u001b[0m \u001b[0mself\u001b[0m\u001b[1;33m.\u001b[0m\u001b[0m_engine\u001b[0m\u001b[1;33m.\u001b[0m\u001b[0mget_loc\u001b[0m\u001b[1;33m(\u001b[0m\u001b[0mcasted_key\u001b[0m\u001b[1;33m)\u001b[0m\u001b[1;33m\u001b[0m\u001b[1;33m\u001b[0m\u001b[0m\n\u001b[0m\u001b[0;32m   2896\u001b[0m             \u001b[1;32mexcept\u001b[0m \u001b[0mKeyError\u001b[0m \u001b[1;32mas\u001b[0m \u001b[0merr\u001b[0m\u001b[1;33m:\u001b[0m\u001b[1;33m\u001b[0m\u001b[1;33m\u001b[0m\u001b[0m\n",
      "\u001b[1;32mpandas\\_libs\\index.pyx\u001b[0m in \u001b[0;36mpandas._libs.index.IndexEngine.get_loc\u001b[1;34m()\u001b[0m\n",
      "\u001b[1;32mpandas\\_libs\\index.pyx\u001b[0m in \u001b[0;36mpandas._libs.index.IndexEngine.get_loc\u001b[1;34m()\u001b[0m\n",
      "\u001b[1;32mpandas\\_libs\\hashtable_class_helper.pxi\u001b[0m in \u001b[0;36mpandas._libs.hashtable.Int64HashTable.get_item\u001b[1;34m()\u001b[0m\n",
      "\u001b[1;32mpandas\\_libs\\hashtable_class_helper.pxi\u001b[0m in \u001b[0;36mpandas._libs.hashtable.Int64HashTable.get_item\u001b[1;34m()\u001b[0m\n",
      "\u001b[1;31mKeyError\u001b[0m: 18",
      "\nThe above exception was the direct cause of the following exception:\n",
      "\u001b[1;31mKeyError\u001b[0m                                  Traceback (most recent call last)",
      "\u001b[1;32m<ipython-input-135-38af7bcfe231>\u001b[0m in \u001b[0;36m<module>\u001b[1;34m\u001b[0m\n\u001b[0;32m      6\u001b[0m \u001b[1;33m\u001b[0m\u001b[0m\n\u001b[0;32m      7\u001b[0m \u001b[1;32mfor\u001b[0m \u001b[0mindex\u001b[0m\u001b[1;33m,\u001b[0m \u001b[0mx\u001b[0m \u001b[1;32min\u001b[0m \u001b[0menumerate\u001b[0m\u001b[1;33m(\u001b[0m\u001b[0mdf\u001b[0m\u001b[1;33m.\u001b[0m\u001b[0mweight\u001b[0m\u001b[1;33m)\u001b[0m\u001b[1;33m:\u001b[0m\u001b[1;33m\u001b[0m\u001b[1;33m\u001b[0m\u001b[0m\n\u001b[1;32m----> 8\u001b[1;33m     \u001b[0my\u001b[0m\u001b[1;33m=\u001b[0m \u001b[0mdf\u001b[0m\u001b[1;33m.\u001b[0m\u001b[0mheight\u001b[0m\u001b[1;33m[\u001b[0m\u001b[0mindex\u001b[0m\u001b[1;33m]\u001b[0m\u001b[1;33m\u001b[0m\u001b[1;33m\u001b[0m\u001b[0m\n\u001b[0m\u001b[0;32m      9\u001b[0m     \u001b[1;32mif\u001b[0m \u001b[0mabs\u001b[0m\u001b[1;33m(\u001b[0m\u001b[0mx\u001b[0m\u001b[1;33m-\u001b[0m\u001b[0mmedia_x\u001b[0m\u001b[1;33m)\u001b[0m \u001b[1;33m>\u001b[0m \u001b[0mstd_x\u001b[0m \u001b[1;32mor\u001b[0m \u001b[0mabs\u001b[0m\u001b[1;33m(\u001b[0m\u001b[0my\u001b[0m\u001b[1;33m-\u001b[0m\u001b[0mmedia_y\u001b[0m\u001b[1;33m)\u001b[0m \u001b[1;33m>\u001b[0m \u001b[0mstd_y\u001b[0m\u001b[1;33m:\u001b[0m \u001b[1;31m#si en la iteración, el caso es un outlier\u001b[0m\u001b[1;33m\u001b[0m\u001b[1;33m\u001b[0m\u001b[0m\n\u001b[0;32m     10\u001b[0m         \u001b[1;32mpass\u001b[0m\u001b[1;33m\u001b[0m\u001b[1;33m\u001b[0m\u001b[0m\n",
      "\u001b[1;32m~\\Anaconda3\\lib\\site-packages\\pandas\\core\\series.py\u001b[0m in \u001b[0;36m__getitem__\u001b[1;34m(self, key)\u001b[0m\n\u001b[0;32m    880\u001b[0m \u001b[1;33m\u001b[0m\u001b[0m\n\u001b[0;32m    881\u001b[0m         \u001b[1;32melif\u001b[0m \u001b[0mkey_is_scalar\u001b[0m\u001b[1;33m:\u001b[0m\u001b[1;33m\u001b[0m\u001b[1;33m\u001b[0m\u001b[0m\n\u001b[1;32m--> 882\u001b[1;33m             \u001b[1;32mreturn\u001b[0m \u001b[0mself\u001b[0m\u001b[1;33m.\u001b[0m\u001b[0m_get_value\u001b[0m\u001b[1;33m(\u001b[0m\u001b[0mkey\u001b[0m\u001b[1;33m)\u001b[0m\u001b[1;33m\u001b[0m\u001b[1;33m\u001b[0m\u001b[0m\n\u001b[0m\u001b[0;32m    883\u001b[0m \u001b[1;33m\u001b[0m\u001b[0m\n\u001b[0;32m    884\u001b[0m         \u001b[1;32mif\u001b[0m \u001b[0mis_hashable\u001b[0m\u001b[1;33m(\u001b[0m\u001b[0mkey\u001b[0m\u001b[1;33m)\u001b[0m\u001b[1;33m:\u001b[0m\u001b[1;33m\u001b[0m\u001b[1;33m\u001b[0m\u001b[0m\n",
      "\u001b[1;32m~\\Anaconda3\\lib\\site-packages\\pandas\\core\\series.py\u001b[0m in \u001b[0;36m_get_value\u001b[1;34m(self, label, takeable)\u001b[0m\n\u001b[0;32m    987\u001b[0m \u001b[1;33m\u001b[0m\u001b[0m\n\u001b[0;32m    988\u001b[0m         \u001b[1;31m# Similar to Index.get_value, but we do not fall back to positional\u001b[0m\u001b[1;33m\u001b[0m\u001b[1;33m\u001b[0m\u001b[1;33m\u001b[0m\u001b[0m\n\u001b[1;32m--> 989\u001b[1;33m         \u001b[0mloc\u001b[0m \u001b[1;33m=\u001b[0m \u001b[0mself\u001b[0m\u001b[1;33m.\u001b[0m\u001b[0mindex\u001b[0m\u001b[1;33m.\u001b[0m\u001b[0mget_loc\u001b[0m\u001b[1;33m(\u001b[0m\u001b[0mlabel\u001b[0m\u001b[1;33m)\u001b[0m\u001b[1;33m\u001b[0m\u001b[1;33m\u001b[0m\u001b[0m\n\u001b[0m\u001b[0;32m    990\u001b[0m         \u001b[1;32mreturn\u001b[0m \u001b[0mself\u001b[0m\u001b[1;33m.\u001b[0m\u001b[0mindex\u001b[0m\u001b[1;33m.\u001b[0m\u001b[0m_get_values_for_loc\u001b[0m\u001b[1;33m(\u001b[0m\u001b[0mself\u001b[0m\u001b[1;33m,\u001b[0m \u001b[0mloc\u001b[0m\u001b[1;33m,\u001b[0m \u001b[0mlabel\u001b[0m\u001b[1;33m)\u001b[0m\u001b[1;33m\u001b[0m\u001b[1;33m\u001b[0m\u001b[0m\n\u001b[0;32m    991\u001b[0m \u001b[1;33m\u001b[0m\u001b[0m\n",
      "\u001b[1;32m~\\Anaconda3\\lib\\site-packages\\pandas\\core\\indexes\\base.py\u001b[0m in \u001b[0;36mget_loc\u001b[1;34m(self, key, method, tolerance)\u001b[0m\n\u001b[0;32m   2895\u001b[0m                 \u001b[1;32mreturn\u001b[0m \u001b[0mself\u001b[0m\u001b[1;33m.\u001b[0m\u001b[0m_engine\u001b[0m\u001b[1;33m.\u001b[0m\u001b[0mget_loc\u001b[0m\u001b[1;33m(\u001b[0m\u001b[0mcasted_key\u001b[0m\u001b[1;33m)\u001b[0m\u001b[1;33m\u001b[0m\u001b[1;33m\u001b[0m\u001b[0m\n\u001b[0;32m   2896\u001b[0m             \u001b[1;32mexcept\u001b[0m \u001b[0mKeyError\u001b[0m \u001b[1;32mas\u001b[0m \u001b[0merr\u001b[0m\u001b[1;33m:\u001b[0m\u001b[1;33m\u001b[0m\u001b[1;33m\u001b[0m\u001b[0m\n\u001b[1;32m-> 2897\u001b[1;33m                 \u001b[1;32mraise\u001b[0m \u001b[0mKeyError\u001b[0m\u001b[1;33m(\u001b[0m\u001b[0mkey\u001b[0m\u001b[1;33m)\u001b[0m \u001b[1;32mfrom\u001b[0m \u001b[0merr\u001b[0m\u001b[1;33m\u001b[0m\u001b[1;33m\u001b[0m\u001b[0m\n\u001b[0m\u001b[0;32m   2898\u001b[0m \u001b[1;33m\u001b[0m\u001b[0m\n\u001b[0;32m   2899\u001b[0m         \u001b[1;32mif\u001b[0m \u001b[0mtolerance\u001b[0m \u001b[1;32mis\u001b[0m \u001b[1;32mnot\u001b[0m \u001b[1;32mNone\u001b[0m\u001b[1;33m:\u001b[0m\u001b[1;33m\u001b[0m\u001b[1;33m\u001b[0m\u001b[0m\n",
      "\u001b[1;31mKeyError\u001b[0m: 18"
     ]
    }
   ],
   "source": [
    "# SIN OUTLIERS\n",
    "\n",
    "#1º quito los Outliers de mis datos\n",
    "height_fix=[] #lista vacia en la que ir guardando los valores sin outliers\n",
    "weight_fix=[] #lista vacia en la que ir guardando los valores sin outliers\n",
    "\n",
    "for index, x in enumerate(df.weight):\n",
    "    y= df.height[index]\n",
    "    if abs(x-media_x) > std_x or abs(y-media_y) > std_y: #si en la iteración, el caso es un outlier\n",
    "        pass\n",
    "    else:\n",
    "        height_fix.append(y) #voy guardando los casos que no son outliers\n",
    "        weight_fix.append(x) #voy guardando los casos que no son outliers\n",
    "\n",
    "#Plot data and a linear regression model fit.\n",
    "sns.set(color_codes=True)\n",
    "sns.regplot(x=np.array(height_fix), y=np.array(weight_fix)) #Plot data and a linear regression model fit."
   ]
  },
  {
   "cell_type": "markdown",
   "metadata": {},
   "source": [
    "# Coeficientes correlación"
   ]
  },
  {
   "cell_type": "markdown",
   "metadata": {},
   "source": [
    "Debido a la falta de normalidad, los resultados generados por Pearson no son del todo precisos. \n",
    "\n",
    "Sin embargo, dado que la desviación de la normalidad es leve y no se aprecian outliers, con fines ilustrativos, se procede a calcular los tres tipos de coeficientes.\n",
    "\n",
    "De nuevo recordar que, *cuando alguna de las condiciones asumidas por un modelo o test estadístico no se cumplen, no significa que obligatoriamente se tenga que descartar, pero hay que ser consciente de las implicaciones que tiene y reportarlo siempre en los resultados.*"
   ]
  },
  {
   "cell_type": "markdown",
   "metadata": {},
   "source": [
    "#### utilizando Pandas\n",
    "Pandas permite calcular la correlación de dos Series (columnas de un DataFrame). \n",
    "- El cálculo se hace por pares, eliminando automáticamente aquellos con valores NA/null. \n",
    "- Una limitación de Pandas es que no calcula la significancia estadística."
   ]
  },
  {
   "cell_type": "code",
   "execution_count": 136,
   "metadata": {},
   "outputs": [],
   "source": [
    "url = ('https://raw.githubusercontent.com/JoaquinAmatRodrigo/' +\n",
    "       'Estadistica-machine-learning-python/master/data/Howell1.csv')\n",
    "df = pd.read_csv(url)\n",
    "df = df[df.age > 18]"
   ]
  },
  {
   "cell_type": "code",
   "execution_count": 137,
   "metadata": {},
   "outputs": [
    {
     "name": "stdout",
     "output_type": "stream",
     "text": [
      "Correlación Pearson:  0.7528177220327672\n",
      "Correlación spearman:  0.7510966609219974\n",
      "Correlación kendall:  0.5639709660523899\n"
     ]
    }
   ],
   "source": [
    "# Cálculo de correlación con Pandas\n",
    "# ==============================================================================\n",
    "print('Correlación Pearson: ', df['weight'].corr(df['height'], method='pearson'))\n",
    "print('Correlación spearman: ', df['weight'].corr(df['height'], method='spearman'))\n",
    "print('Correlación kendall: ', df['weight'].corr(df['height'], method='kendall'))"
   ]
  },
  {
   "cell_type": "markdown",
   "metadata": {},
   "source": [
    "#### utilizando Scypy.stats\n",
    "La implementación de Scypy.stats sí permite calcular la significancia estadística además del coeficiente de correlación. \n",
    "\n",
    "La función *stats.pearsonr()*, devuelve un error si alguna de las observaciones contienen valores NA/null. \n",
    "\n",
    "Las funciones *stats.spearmanr() y stats.kendalltau()* sí permiten excluirlos de forma automática si se indica *nan_policy='omit'*."
   ]
  },
  {
   "cell_type": "code",
   "execution_count": 138,
   "metadata": {},
   "outputs": [
    {
     "name": "stdout",
     "output_type": "stream",
     "text": [
      "Correlación Pearson: r=0.7528177220327668, p-value=1.8941037794177617e-64\n",
      "Correlación Spearman: r=0.7510966609219974, p-value=5.2882247217804375e-64\n",
      "Correlación Pearson: r=0.5639709660523899, p-value=3.162649137764771e-54\n"
     ]
    }
   ],
   "source": [
    "# Cálculo de correlación y significancia con Scipy\n",
    "# ==============================================================================\n",
    "r, p = stats.pearsonr(df['weight'], df['height'])\n",
    "print(f\"Correlación Pearson: r={r}, p-value={p}\")\n",
    "\n",
    "r, p = stats.spearmanr(df['weight'], df['height'])\n",
    "print(f\"Correlación Spearman: r={r}, p-value={p}\")\n",
    "\n",
    "r, p = stats.kendalltau(df['weight'], df['height'])\n",
    "print(f\"Correlación Pearson: r={r}, p-value={p}\")"
   ]
  },
  {
   "cell_type": "markdown",
   "metadata": {},
   "source": [
    "#### utilizando Pingouin\n",
    "La librería Pingouin tiene una de las implementaciones más completas. \n",
    "\n",
    "Con la función *corr()* se obtiene, además del coeficiente de correlación, su significancia, intervalo de confianza y poder estadístico entre otros."
   ]
  },
  {
   "cell_type": "code",
   "execution_count": 139,
   "metadata": {},
   "outputs": [
    {
     "data": {
      "text/html": [
       "<div>\n",
       "<style scoped>\n",
       "    .dataframe tbody tr th:only-of-type {\n",
       "        vertical-align: middle;\n",
       "    }\n",
       "\n",
       "    .dataframe tbody tr th {\n",
       "        vertical-align: top;\n",
       "    }\n",
       "\n",
       "    .dataframe thead th {\n",
       "        text-align: right;\n",
       "    }\n",
       "</style>\n",
       "<table border=\"1\" class=\"dataframe\">\n",
       "  <thead>\n",
       "    <tr style=\"text-align: right;\">\n",
       "      <th></th>\n",
       "      <th>n</th>\n",
       "      <th>r</th>\n",
       "      <th>CI95%</th>\n",
       "      <th>r2</th>\n",
       "      <th>adj_r2</th>\n",
       "      <th>p-val</th>\n",
       "      <th>BF10</th>\n",
       "      <th>power</th>\n",
       "    </tr>\n",
       "  </thead>\n",
       "  <tbody>\n",
       "    <tr>\n",
       "      <th>pearson</th>\n",
       "      <td>346</td>\n",
       "      <td>0.752818</td>\n",
       "      <td>[0.7, 0.8]</td>\n",
       "      <td>0.566735</td>\n",
       "      <td>0.564208</td>\n",
       "      <td>1.894104e-64</td>\n",
       "      <td>8.84e+60</td>\n",
       "      <td>1.0</td>\n",
       "    </tr>\n",
       "  </tbody>\n",
       "</table>\n",
       "</div>"
      ],
      "text/plain": [
       "           n         r       CI95%        r2    adj_r2         p-val  \\\n",
       "pearson  346  0.752818  [0.7, 0.8]  0.566735  0.564208  1.894104e-64   \n",
       "\n",
       "             BF10  power  \n",
       "pearson  8.84e+60    1.0  "
      ]
     },
     "metadata": {},
     "output_type": "display_data"
    },
    {
     "data": {
      "text/html": [
       "<div>\n",
       "<style scoped>\n",
       "    .dataframe tbody tr th:only-of-type {\n",
       "        vertical-align: middle;\n",
       "    }\n",
       "\n",
       "    .dataframe tbody tr th {\n",
       "        vertical-align: top;\n",
       "    }\n",
       "\n",
       "    .dataframe thead th {\n",
       "        text-align: right;\n",
       "    }\n",
       "</style>\n",
       "<table border=\"1\" class=\"dataframe\">\n",
       "  <thead>\n",
       "    <tr style=\"text-align: right;\">\n",
       "      <th></th>\n",
       "      <th>n</th>\n",
       "      <th>r</th>\n",
       "      <th>CI95%</th>\n",
       "      <th>r2</th>\n",
       "      <th>adj_r2</th>\n",
       "      <th>p-val</th>\n",
       "      <th>power</th>\n",
       "    </tr>\n",
       "  </thead>\n",
       "  <tbody>\n",
       "    <tr>\n",
       "      <th>spearman</th>\n",
       "      <td>346</td>\n",
       "      <td>0.751097</td>\n",
       "      <td>[0.7, 0.79]</td>\n",
       "      <td>0.564146</td>\n",
       "      <td>0.561605</td>\n",
       "      <td>5.288225e-64</td>\n",
       "      <td>1.0</td>\n",
       "    </tr>\n",
       "  </tbody>\n",
       "</table>\n",
       "</div>"
      ],
      "text/plain": [
       "            n         r        CI95%        r2    adj_r2         p-val  power\n",
       "spearman  346  0.751097  [0.7, 0.79]  0.564146  0.561605  5.288225e-64    1.0"
      ]
     },
     "metadata": {},
     "output_type": "display_data"
    },
    {
     "data": {
      "text/html": [
       "<div>\n",
       "<style scoped>\n",
       "    .dataframe tbody tr th:only-of-type {\n",
       "        vertical-align: middle;\n",
       "    }\n",
       "\n",
       "    .dataframe tbody tr th {\n",
       "        vertical-align: top;\n",
       "    }\n",
       "\n",
       "    .dataframe thead th {\n",
       "        text-align: right;\n",
       "    }\n",
       "</style>\n",
       "<table border=\"1\" class=\"dataframe\">\n",
       "  <thead>\n",
       "    <tr style=\"text-align: right;\">\n",
       "      <th></th>\n",
       "      <th>n</th>\n",
       "      <th>r</th>\n",
       "      <th>CI95%</th>\n",
       "      <th>r2</th>\n",
       "      <th>adj_r2</th>\n",
       "      <th>p-val</th>\n",
       "      <th>power</th>\n",
       "    </tr>\n",
       "  </thead>\n",
       "  <tbody>\n",
       "    <tr>\n",
       "      <th>kendall</th>\n",
       "      <td>346</td>\n",
       "      <td>0.563971</td>\n",
       "      <td>[0.49, 0.63]</td>\n",
       "      <td>0.318063</td>\n",
       "      <td>0.314087</td>\n",
       "      <td>3.162649e-54</td>\n",
       "      <td>1.0</td>\n",
       "    </tr>\n",
       "  </tbody>\n",
       "</table>\n",
       "</div>"
      ],
      "text/plain": [
       "           n         r         CI95%        r2    adj_r2         p-val  power\n",
       "kendall  346  0.563971  [0.49, 0.63]  0.318063  0.314087  3.162649e-54    1.0"
      ]
     },
     "metadata": {},
     "output_type": "display_data"
    }
   ],
   "source": [
    "# Cálculo de correlación, significancia e intervalos con pingouin\n",
    "# ==============================================================================\n",
    "display(pg.corr(df['weight'], df['height'], method='pearson'))\n",
    "display(pg.corr(df['weight'], df['height'], method='spearman'))\n",
    "display(pg.corr(df['weight'], df['height'], method='kendall'))"
   ]
  },
  {
   "cell_type": "markdown",
   "metadata": {},
   "source": [
    "# conclusión\n",
    "Los test estadísticos muestran una correlación lineal entre moderada y alta, con claras evidencias estadísticas de que la relación observada no se debe al azar ( pvalue≈0 )"
   ]
  },
  {
   "cell_type": "markdown",
   "metadata": {},
   "source": [
    "# Ejemplo Jackknife correlation"
   ]
  },
  {
   "cell_type": "markdown",
   "metadata": {},
   "source": [
    "CASO DE ESTUDIO:\n",
    "\n",
    "Un equipo de investigadores quiere estudiar si existe correlación en la presencia de dos sustancias (A y B) en el agua de los ríos. \n",
    "\n",
    "Para ello han realizado una serie de mediciones en las que se cuantifica la concentración de las dos sustancias en 10 muestras independientes de agua. Se sospecha que el instrumento de lectura sufre alguna avería que provoca que algunas lecturas se disparen, por esta razón se quiere emplear un método de correlación robusto. El objetivo de este ejemplo es ilustrar el método de Jackknife, por lo que se asume que se cumplen las condiciones para la correlación de Pearson."
   ]
  },
  {
   "cell_type": "code",
   "execution_count": 140,
   "metadata": {},
   "outputs": [],
   "source": [
    "# Tratamiento de datos\n",
    "# ==============================================================================\n",
    "import pandas as pd\n",
    "import numpy as np\n",
    "from sklearn.datasets import load_diabetes\n",
    "\n",
    "# Gráficos\n",
    "# ==============================================================================\n",
    "import matplotlib.pyplot as plt\n",
    "from matplotlib import style\n",
    "import seaborn as sns\n",
    "\n",
    "# Preprocesado y análisis\n",
    "# ==============================================================================\n",
    "import statsmodels.api as sm\n",
    "import pingouin as pg\n",
    "from scipy import stats\n",
    "from scipy.stats import pearsonr\n",
    "\n",
    "# Configuración matplotlib\n",
    "# ==============================================================================\n",
    "plt.style.use('ggplot')\n",
    "\n",
    "# Configuración warnings\n",
    "# ==============================================================================\n",
    "import warnings\n",
    "warnings.filterwarnings('ignore')"
   ]
  },
  {
   "cell_type": "markdown",
   "metadata": {},
   "source": [
    "###### Datos"
   ]
  },
  {
   "cell_type": "code",
   "execution_count": 142,
   "metadata": {},
   "outputs": [],
   "source": [
    "# Datos simulados de dos variables A y B\n",
    "a = np.array([12,9,6,7,2,5,4,0,1,8]) #ID muestra\n",
    "b = np.array([3,5,1,9,5,3,7,2,10,5]) #Concentración\n",
    "\n",
    "# Se introduce un outlier\n",
    "a[5] = 20\n",
    "b[5] = 16"
   ]
  },
  {
   "cell_type": "markdown",
   "metadata": {},
   "source": [
    "###### Visualizacion"
   ]
  },
  {
   "cell_type": "code",
   "execution_count": 143,
   "metadata": {},
   "outputs": [
    {
     "data": {
      "image/png": "[encoded data removed]",
      "text/plain": [
       "<Figure size 432x288 with 1 Axes>"
      ]
     },
     "metadata": {},
     "output_type": "display_data"
    }
   ],
   "source": [
    "# Gráfico\n",
    "# ==============================================================================\n",
    "fig, ax = plt.subplots(1, 1, figsize=(6,4))\n",
    "ax.plot(a, label='A')\n",
    "ax.plot(b, label='B')\n",
    "ax.set_xlabel('ID muestra')\n",
    "ax.set_ylabel('Concentración')\n",
    "ax.set_title('Concentración sustancias A y B en las muestras')\n",
    "ax.legend();"
   ]
  },
  {
   "cell_type": "markdown",
   "metadata": {},
   "source": [
    "###### Correlación de Pearson\n",
    "Se procede a calcular la correlación de Pearson con y sin el outlier."
   ]
  },
  {
   "cell_type": "code",
   "execution_count": 144,
   "metadata": {},
   "outputs": [
    {
     "name": "stdout",
     "output_type": "stream",
     "text": [
      "Correlación Pearson con outlier: r=0.5173731151689152, p-value=0.12563522982639527\n",
      "Correlación Pearson sin outlier: r=-0.18420184544326057, p-value=0.6351961086690547\n"
     ]
    }
   ],
   "source": [
    "#from scipy import stats\n",
    "#from scipy.stats import pearsonr\n",
    "\n",
    "# Correlación con outlier\n",
    "r, p = stats.pearsonr(a, b)\n",
    "print(f\"Correlación Pearson con outlier: r={r}, p-value={p}\")\n",
    "\n",
    "# Correlación sin outlier\n",
    "r, p = stats.pearsonr(np.delete(a, 5), np.delete(b, 5))\n",
    "print(f\"Correlación Pearson sin outlier: r={r}, p-value={p}\")"
   ]
  },
  {
   "cell_type": "markdown",
   "metadata": {},
   "source": [
    "Se confirma que, La observación número 5, tiene una gran influencia en el resultado de la correlación, siendo de 0.52 si está presente y de -0.18 si se excluye"
   ]
  },
  {
   "cell_type": "markdown",
   "metadata": {},
   "source": [
    "###### Jackknife Pearson correlation"
   ]
  },
  {
   "cell_type": "code",
   "execution_count": 145,
   "metadata": {},
   "outputs": [],
   "source": [
    "# Función Jackknife correlation\n",
    "# ==============================================================================\n",
    "\n",
    "def correlacion_jackknife(x, y):\n",
    "    '''\n",
    "    Esta función aplica el método de Jackknife para el cálculo del coeficiente\n",
    "    de correlación de Pearson.\n",
    "    \n",
    "    \n",
    "    Parameters\n",
    "    ----------\n",
    "    x : 1D np.ndarray, pd.Series \n",
    "        Variable X.\n",
    "        \n",
    "    y : 1D np.ndarray, pd.Series\n",
    "        Variable y.     \n",
    "\n",
    "    Returns \n",
    "    -------\n",
    "    correlaciones: 1D np.ndarray\n",
    "        Valor de correlación para cada iteración de Jackknife\n",
    "    '''\n",
    "    \n",
    "    n = len(x)\n",
    "    valores_jackknife = np.full(shape=n, fill_value=np.nan, dtype=float)\n",
    "    \n",
    "    for i in range(n):\n",
    "        # Loop para excluir cada observación y calcular la correlación\n",
    "        r = stats.pearsonr(np.delete(x, i), np.delete(y, i))[0]\n",
    "        valores_jackknife[i] = r\n",
    "\n",
    "    promedio_jackknife = np.nanmean(valores_jackknife)\n",
    "    standar_error = np.sqrt(((n - 1) / n) * \\\n",
    "                    np.nansum((valores_jackknife - promedio_jackknife) ** 2))\n",
    "    bias = (n - 1) * (promedio_jackknife - stats.pearsonr(x, y)[0])\n",
    "    \n",
    "    resultados = {\n",
    "        'valores_jackknife' : valores_jackknife,\n",
    "        'promedio'          : promedio_jackknife,\n",
    "        'se'                : standar_error,\n",
    "        'bias'              : bias\n",
    "    }\n",
    "    \n",
    "    return resultados"
   ]
  },
  {
   "cell_type": "code",
   "execution_count": 146,
   "metadata": {},
   "outputs": [
    {
     "name": "stdout",
     "output_type": "stream",
     "text": [
      "Correlación jackknife: 0.4781856690553491\n",
      "Error estándar: 0.6915097651492329\n",
      "Error bias: -0.35268701502209454\n",
      "Valores_jackknife: [ 0.64719522  0.53705998  0.54597653  0.52827609  0.51215595 -0.18420185\n",
      "  0.53554935  0.44125573  0.69065085  0.52793883]\n"
     ]
    }
   ],
   "source": [
    "correlacion = correlacion_jackknife(x=a, y=b)\n",
    "print(f\"Correlación jackknife: {correlacion['promedio']}\")\n",
    "print(f\"Error estándar: {correlacion['se']}\")\n",
    "print(f\"Error bias: {correlacion['bias']}\")\n",
    "print(f\"Valores_jackknife: {correlacion['valores_jackknife']}\")"
   ]
  },
  {
   "cell_type": "markdown",
   "metadata": {},
   "source": [
    "Para identificar si existe algún valor muy influyente, se puede graficar el cambio que produce en el coeficiente de regresión la exclusión de cada observación."
   ]
  },
  {
   "cell_type": "code",
   "execution_count": 147,
   "metadata": {},
   "outputs": [
    {
     "data": {
      "image/png": "[encoded data removed]",
      "text/plain": [
       "<Figure size 432x288 with 1 Axes>"
      ]
     },
     "metadata": {},
     "output_type": "display_data"
    }
   ],
   "source": [
    "variacion_corr = correlacion['valores_jackknife'] - stats.pearsonr(a, b)[0]\n",
    "fig, ax = plt.subplots(1, 1, figsize=(6,4))\n",
    "ax.plot(variacion_corr)\n",
    "ax.set_xlabel('ID muestra')\n",
    "ax.set_ylabel('Variación correlación');"
   ]
  },
  {
   "cell_type": "markdown",
   "metadata": {},
   "source": [
    "El método Jackknife correlation solo ha sido capaz de amortiguar una pequeña parte de la influencia del outlier, sin embargo, sí ha permitido identificar qué observación está afectando en mayor medida."
   ]
  },
  {
   "cell_type": "markdown",
   "metadata": {},
   "source": [
    "# Ejemplo matriz de correlaciones\n",
    "Cuando se dispone de múltiples variables numéricas, por ejemplo en problemas de modelado estadístico y machine learning, es conveniente estudiar el grado de correlación entre las variables disponibles.\n",
    "\n",
    "Una forma de hacerlo es mediante matrices de correlación, en las que se muestra el coeficiente de correlación para cada par de variables"
   ]
  },
  {
   "cell_type": "code",
   "execution_count": 156,
   "metadata": {},
   "outputs": [],
   "source": [
    "# Datos\n",
    "# ==============================================================================\n",
    "url = ('https://raw.githubusercontent.com/JoaquinAmatRodrigo/' +\n",
    "       'Estadistica-machine-learning-python/master/data/SaratogaHouses.csv')\n",
    "datos = pd.read_csv(url, sep=\",\")\n",
    "\n",
    "# Se renombran las columnas para que sean más descriptivas\n",
    "datos.columns = [\"precio\", \"metros_totales\", \"antiguedad\", \"precio_terreno\",\n",
    "                 \"metros_habitables\", \"universitarios\", \"dormitorios\", \n",
    "                 \"chimenea\", \"banyos\", \"habitaciones\", \"calefaccion\",\n",
    "                 \"consumo_calefacion\", \"desague\", \"vistas_lago\",\n",
    "                 \"nueva_construccion\", \"aire_acondicionado\"]\n",
    "       \n",
    "# Nos quedamos solo con los valores de las Variables numéricas\n",
    "datos = datos.select_dtypes(include=['float64', 'int64'])"
   ]
  },
  {
   "cell_type": "code",
   "execution_count": 157,
   "metadata": {},
   "outputs": [
    {
     "name": "stdout",
     "output_type": "stream",
     "text": [
      "<class 'pandas.core.frame.DataFrame'>\n",
      "RangeIndex: 1728 entries, 0 to 1727\n",
      "Data columns (total 10 columns):\n",
      " #   Column             Non-Null Count  Dtype  \n",
      "---  ------             --------------  -----  \n",
      " 0   precio             1728 non-null   int64  \n",
      " 1   metros_totales     1728 non-null   float64\n",
      " 2   antiguedad         1728 non-null   int64  \n",
      " 3   precio_terreno     1728 non-null   int64  \n",
      " 4   metros_habitables  1728 non-null   int64  \n",
      " 5   universitarios     1728 non-null   int64  \n",
      " 6   dormitorios        1728 non-null   int64  \n",
      " 7   chimenea           1728 non-null   int64  \n",
      " 8   banyos             1728 non-null   float64\n",
      " 9   habitaciones       1728 non-null   int64  \n",
      "dtypes: float64(2), int64(8)\n",
      "memory usage: 135.1 KB\n"
     ]
    }
   ],
   "source": [
    "datos.info()"
   ]
  },
  {
   "cell_type": "code",
   "execution_count": 158,
   "metadata": {},
   "outputs": [
    {
     "data": {
      "text/html": [
       "<div>\n",
       "<style scoped>\n",
       "    .dataframe tbody tr th:only-of-type {\n",
       "        vertical-align: middle;\n",
       "    }\n",
       "\n",
       "    .dataframe tbody tr th {\n",
       "        vertical-align: top;\n",
       "    }\n",
       "\n",
       "    .dataframe thead th {\n",
       "        text-align: right;\n",
       "    }\n",
       "</style>\n",
       "<table border=\"1\" class=\"dataframe\">\n",
       "  <thead>\n",
       "    <tr style=\"text-align: right;\">\n",
       "      <th></th>\n",
       "      <th>precio</th>\n",
       "      <th>metros_totales</th>\n",
       "      <th>antiguedad</th>\n",
       "      <th>precio_terreno</th>\n",
       "      <th>metros_habitables</th>\n",
       "      <th>universitarios</th>\n",
       "      <th>dormitorios</th>\n",
       "      <th>chimenea</th>\n",
       "      <th>banyos</th>\n",
       "      <th>habitaciones</th>\n",
       "    </tr>\n",
       "  </thead>\n",
       "  <tbody>\n",
       "    <tr>\n",
       "      <th>precio</th>\n",
       "      <td>1.000000</td>\n",
       "      <td>0.158333</td>\n",
       "      <td>-0.188793</td>\n",
       "      <td>0.581266</td>\n",
       "      <td>0.712390</td>\n",
       "      <td>0.200119</td>\n",
       "      <td>0.400349</td>\n",
       "      <td>0.376786</td>\n",
       "      <td>0.597250</td>\n",
       "      <td>0.531170</td>\n",
       "    </tr>\n",
       "    <tr>\n",
       "      <th>metros_totales</th>\n",
       "      <td>0.158333</td>\n",
       "      <td>1.000000</td>\n",
       "      <td>-0.016352</td>\n",
       "      <td>0.059222</td>\n",
       "      <td>0.163450</td>\n",
       "      <td>-0.033148</td>\n",
       "      <td>0.113982</td>\n",
       "      <td>0.085226</td>\n",
       "      <td>0.084823</td>\n",
       "      <td>0.137604</td>\n",
       "    </tr>\n",
       "    <tr>\n",
       "      <th>antiguedad</th>\n",
       "      <td>-0.188793</td>\n",
       "      <td>-0.016352</td>\n",
       "      <td>1.000000</td>\n",
       "      <td>-0.021818</td>\n",
       "      <td>-0.174242</td>\n",
       "      <td>-0.037785</td>\n",
       "      <td>0.027125</td>\n",
       "      <td>-0.172022</td>\n",
       "      <td>-0.361897</td>\n",
       "      <td>-0.082264</td>\n",
       "    </tr>\n",
       "    <tr>\n",
       "      <th>precio_terreno</th>\n",
       "      <td>0.581266</td>\n",
       "      <td>0.059222</td>\n",
       "      <td>-0.021818</td>\n",
       "      <td>1.000000</td>\n",
       "      <td>0.423441</td>\n",
       "      <td>0.228427</td>\n",
       "      <td>0.202449</td>\n",
       "      <td>0.211727</td>\n",
       "      <td>0.297498</td>\n",
       "      <td>0.298865</td>\n",
       "    </tr>\n",
       "    <tr>\n",
       "      <th>metros_habitables</th>\n",
       "      <td>0.712390</td>\n",
       "      <td>0.163450</td>\n",
       "      <td>-0.174242</td>\n",
       "      <td>0.423441</td>\n",
       "      <td>1.000000</td>\n",
       "      <td>0.209981</td>\n",
       "      <td>0.656196</td>\n",
       "      <td>0.473788</td>\n",
       "      <td>0.718564</td>\n",
       "      <td>0.733666</td>\n",
       "    </tr>\n",
       "    <tr>\n",
       "      <th>universitarios</th>\n",
       "      <td>0.200119</td>\n",
       "      <td>-0.033148</td>\n",
       "      <td>-0.037785</td>\n",
       "      <td>0.228427</td>\n",
       "      <td>0.209981</td>\n",
       "      <td>1.000000</td>\n",
       "      <td>0.162919</td>\n",
       "      <td>0.246626</td>\n",
       "      <td>0.179541</td>\n",
       "      <td>0.157068</td>\n",
       "    </tr>\n",
       "    <tr>\n",
       "      <th>dormitorios</th>\n",
       "      <td>0.400349</td>\n",
       "      <td>0.113982</td>\n",
       "      <td>0.027125</td>\n",
       "      <td>0.202449</td>\n",
       "      <td>0.656196</td>\n",
       "      <td>0.162919</td>\n",
       "      <td>1.000000</td>\n",
       "      <td>0.284475</td>\n",
       "      <td>0.458033</td>\n",
       "      <td>0.671863</td>\n",
       "    </tr>\n",
       "    <tr>\n",
       "      <th>chimenea</th>\n",
       "      <td>0.376786</td>\n",
       "      <td>0.085226</td>\n",
       "      <td>-0.172022</td>\n",
       "      <td>0.211727</td>\n",
       "      <td>0.473788</td>\n",
       "      <td>0.246626</td>\n",
       "      <td>0.284475</td>\n",
       "      <td>1.000000</td>\n",
       "      <td>0.436234</td>\n",
       "      <td>0.319894</td>\n",
       "    </tr>\n",
       "    <tr>\n",
       "      <th>banyos</th>\n",
       "      <td>0.597250</td>\n",
       "      <td>0.084823</td>\n",
       "      <td>-0.361897</td>\n",
       "      <td>0.297498</td>\n",
       "      <td>0.718564</td>\n",
       "      <td>0.179541</td>\n",
       "      <td>0.458033</td>\n",
       "      <td>0.436234</td>\n",
       "      <td>1.000000</td>\n",
       "      <td>0.517585</td>\n",
       "    </tr>\n",
       "    <tr>\n",
       "      <th>habitaciones</th>\n",
       "      <td>0.531170</td>\n",
       "      <td>0.137604</td>\n",
       "      <td>-0.082264</td>\n",
       "      <td>0.298865</td>\n",
       "      <td>0.733666</td>\n",
       "      <td>0.157068</td>\n",
       "      <td>0.671863</td>\n",
       "      <td>0.319894</td>\n",
       "      <td>0.517585</td>\n",
       "      <td>1.000000</td>\n",
       "    </tr>\n",
       "  </tbody>\n",
       "</table>\n",
       "</div>"
      ],
      "text/plain": [
       "                     precio  metros_totales  antiguedad  precio_terreno  \\\n",
       "precio             1.000000        0.158333   -0.188793        0.581266   \n",
       "metros_totales     0.158333        1.000000   -0.016352        0.059222   \n",
       "antiguedad        -0.188793       -0.016352    1.000000       -0.021818   \n",
       "precio_terreno     0.581266        0.059222   -0.021818        1.000000   \n",
       "metros_habitables  0.712390        0.163450   -0.174242        0.423441   \n",
       "universitarios     0.200119       -0.033148   -0.037785        0.228427   \n",
       "dormitorios        0.400349        0.113982    0.027125        0.202449   \n",
       "chimenea           0.376786        0.085226   -0.172022        0.211727   \n",
       "banyos             0.597250        0.084823   -0.361897        0.297498   \n",
       "habitaciones       0.531170        0.137604   -0.082264        0.298865   \n",
       "\n",
       "                   metros_habitables  universitarios  dormitorios  chimenea  \\\n",
       "precio                      0.712390        0.200119     0.400349  0.376786   \n",
       "metros_totales              0.163450       -0.033148     0.113982  0.085226   \n",
       "antiguedad                 -0.174242       -0.037785     0.027125 -0.172022   \n",
       "precio_terreno              0.423441        0.228427     0.202449  0.211727   \n",
       "metros_habitables           1.000000        0.209981     0.656196  0.473788   \n",
       "universitarios              0.209981        1.000000     0.162919  0.246626   \n",
       "dormitorios                 0.656196        0.162919     1.000000  0.284475   \n",
       "chimenea                    0.473788        0.246626     0.284475  1.000000   \n",
       "banyos                      0.718564        0.179541     0.458033  0.436234   \n",
       "habitaciones                0.733666        0.157068     0.671863  0.319894   \n",
       "\n",
       "                     banyos  habitaciones  \n",
       "precio             0.597250      0.531170  \n",
       "metros_totales     0.084823      0.137604  \n",
       "antiguedad        -0.361897     -0.082264  \n",
       "precio_terreno     0.297498      0.298865  \n",
       "metros_habitables  0.718564      0.733666  \n",
       "universitarios     0.179541      0.157068  \n",
       "dormitorios        0.458033      0.671863  \n",
       "chimenea           0.436234      0.319894  \n",
       "banyos             1.000000      0.517585  \n",
       "habitaciones       0.517585      1.000000  "
      ]
     },
     "execution_count": 158,
     "metadata": {},
     "output_type": "execute_result"
    }
   ],
   "source": [
    "# Matriz de correlación\n",
    "# ==============================================================================\n",
    "corr_matrix = datos.corr(method='pearson')\n",
    "corr_matrix"
   ]
  },
  {
   "cell_type": "markdown",
   "metadata": {},
   "source": [
    "Las matrices de correlación tienen el inconveniente de tener un tamaño notable cuando se dispone de muchas variables. \n",
    "\n",
    "Para facilitar la identificación de pares de variables con correlaciones altas, es conveniente convertirlas en formato de tabla larga (tidy)."
   ]
  },
  {
   "cell_type": "code",
   "execution_count": 160,
   "metadata": {
    "scrolled": true
   },
   "outputs": [
    {
     "data": {
      "text/html": [
       "<div>\n",
       "<style scoped>\n",
       "    .dataframe tbody tr th:only-of-type {\n",
       "        vertical-align: middle;\n",
       "    }\n",
       "\n",
       "    .dataframe tbody tr th {\n",
       "        vertical-align: top;\n",
       "    }\n",
       "\n",
       "    .dataframe thead th {\n",
       "        text-align: right;\n",
       "    }\n",
       "</style>\n",
       "<table border=\"1\" class=\"dataframe\">\n",
       "  <thead>\n",
       "    <tr style=\"text-align: right;\">\n",
       "      <th></th>\n",
       "      <th>variable_1</th>\n",
       "      <th>variable_2</th>\n",
       "      <th>r</th>\n",
       "      <th>abs_r</th>\n",
       "    </tr>\n",
       "  </thead>\n",
       "  <tbody>\n",
       "    <tr>\n",
       "      <th>94</th>\n",
       "      <td>habitaciones</td>\n",
       "      <td>metros_habitables</td>\n",
       "      <td>0.733666</td>\n",
       "      <td>0.733666</td>\n",
       "    </tr>\n",
       "    <tr>\n",
       "      <th>49</th>\n",
       "      <td>metros_habitables</td>\n",
       "      <td>habitaciones</td>\n",
       "      <td>0.733666</td>\n",
       "      <td>0.733666</td>\n",
       "    </tr>\n",
       "    <tr>\n",
       "      <th>84</th>\n",
       "      <td>banyos</td>\n",
       "      <td>metros_habitables</td>\n",
       "      <td>0.718564</td>\n",
       "      <td>0.718564</td>\n",
       "    </tr>\n",
       "    <tr>\n",
       "      <th>48</th>\n",
       "      <td>metros_habitables</td>\n",
       "      <td>banyos</td>\n",
       "      <td>0.718564</td>\n",
       "      <td>0.718564</td>\n",
       "    </tr>\n",
       "    <tr>\n",
       "      <th>4</th>\n",
       "      <td>precio</td>\n",
       "      <td>metros_habitables</td>\n",
       "      <td>0.712390</td>\n",
       "      <td>0.712390</td>\n",
       "    </tr>\n",
       "    <tr>\n",
       "      <th>...</th>\n",
       "      <td>...</td>\n",
       "      <td>...</td>\n",
       "      <td>...</td>\n",
       "      <td>...</td>\n",
       "    </tr>\n",
       "    <tr>\n",
       "      <th>26</th>\n",
       "      <td>antiguedad</td>\n",
       "      <td>dormitorios</td>\n",
       "      <td>0.027125</td>\n",
       "      <td>0.027125</td>\n",
       "    </tr>\n",
       "    <tr>\n",
       "      <th>23</th>\n",
       "      <td>antiguedad</td>\n",
       "      <td>precio_terreno</td>\n",
       "      <td>-0.021818</td>\n",
       "      <td>0.021818</td>\n",
       "    </tr>\n",
       "    <tr>\n",
       "      <th>32</th>\n",
       "      <td>precio_terreno</td>\n",
       "      <td>antiguedad</td>\n",
       "      <td>-0.021818</td>\n",
       "      <td>0.021818</td>\n",
       "    </tr>\n",
       "    <tr>\n",
       "      <th>21</th>\n",
       "      <td>antiguedad</td>\n",
       "      <td>metros_totales</td>\n",
       "      <td>-0.016352</td>\n",
       "      <td>0.016352</td>\n",
       "    </tr>\n",
       "    <tr>\n",
       "      <th>12</th>\n",
       "      <td>metros_totales</td>\n",
       "      <td>antiguedad</td>\n",
       "      <td>-0.016352</td>\n",
       "      <td>0.016352</td>\n",
       "    </tr>\n",
       "  </tbody>\n",
       "</table>\n",
       "<p>90 rows × 4 columns</p>\n",
       "</div>"
      ],
      "text/plain": [
       "           variable_1         variable_2         r     abs_r\n",
       "94       habitaciones  metros_habitables  0.733666  0.733666\n",
       "49  metros_habitables       habitaciones  0.733666  0.733666\n",
       "84             banyos  metros_habitables  0.718564  0.718564\n",
       "48  metros_habitables             banyos  0.718564  0.718564\n",
       "4              precio  metros_habitables  0.712390  0.712390\n",
       "..                ...                ...       ...       ...\n",
       "26         antiguedad        dormitorios  0.027125  0.027125\n",
       "23         antiguedad     precio_terreno -0.021818  0.021818\n",
       "32     precio_terreno         antiguedad -0.021818  0.021818\n",
       "21         antiguedad     metros_totales -0.016352  0.016352\n",
       "12     metros_totales         antiguedad -0.016352  0.016352\n",
       "\n",
       "[90 rows x 4 columns]"
      ]
     },
     "execution_count": 160,
     "metadata": {},
     "output_type": "execute_result"
    }
   ],
   "source": [
    "def tidy_corr_matrix(corr_mat):\n",
    "    '''\n",
    "    Función para convertir una matriz de correlación de pandas en formato tidy.\n",
    "    '''\n",
    "    corr_mat = corr_mat.stack().reset_index()\n",
    "    corr_mat.columns = ['variable_1','variable_2','r']\n",
    "    corr_mat = corr_mat.loc[corr_mat['variable_1'] != corr_mat['variable_2'], :]\n",
    "    corr_mat['abs_r'] = np.abs(corr_mat['r'])\n",
    "    corr_mat = corr_mat.sort_values('abs_r', ascending=False)\n",
    "    \n",
    "    return(corr_mat)\n",
    "\n",
    "tidy_corr_matrix(corr_matrix)"
   ]
  },
  {
   "cell_type": "markdown",
   "metadata": {},
   "source": [
    "Realizamos un mapa de calor para ver mejor las correlaciones"
   ]
  },
  {
   "cell_type": "code",
   "execution_count": 161,
   "metadata": {
    "scrolled": true
   },
   "outputs": [
    {
     "data": {
      "image/png": "[encoded data removed]",
      "text/plain": [
       "<Figure size 360x360 with 1 Axes>"
      ]
     },
     "metadata": {},
     "output_type": "display_data"
    }
   ],
   "source": [
    "#import seaborn as sns\n",
    "\n",
    "# Heatmap matriz de correlaciones\n",
    "# ==============================================================================\n",
    "fig, ax = plt.subplots(nrows=1, ncols=1, figsize=(5, 5))\n",
    "\n",
    "sns.heatmap(\n",
    "    corr_matrix,\n",
    "    annot     = True,\n",
    "    cbar      = False,\n",
    "    annot_kws = {\"size\": 8},\n",
    "    vmin      = -1,\n",
    "    vmax      = 1,\n",
    "    center    = 0,\n",
    "    cmap      = sns.diverging_palette(20, 220, n=200),\n",
    "    square    = True,\n",
    "    ax        = ax\n",
    ")\n",
    "\n",
    "ax.set_xticklabels(\n",
    "    ax.get_xticklabels(),\n",
    "    rotation = 45,\n",
    "    horizontalalignment = 'right',\n",
    ")\n",
    "\n",
    "ax.tick_params(labelsize = 10)"
   ]
  },
  {
   "cell_type": "markdown",
   "metadata": {},
   "source": [
    "# Ejemplo correlación parcial\n",
    "CASO DE ESTUDIO:\n",
    "\n",
    "Se quiere estudiar la relación entre las variables precio y peso de los automóviles. Se sospecha que esta relación podría estar influenciada por la variable potencia del motor, ya que a mayor peso del vehículo se requiere mayor potencia y, a su vez, motores más potentes son más caros.\n",
    "\n",
    "##### DATOS\n",
    "Para este ejemplo se utiliza el set de datos Cars93 disponible en el paquete de R MASS"
   ]
  },
  {
   "cell_type": "code",
   "execution_count": 162,
   "metadata": {},
   "outputs": [],
   "source": [
    "url = ('https://raw.githubusercontent.com/JoaquinAmatRodrigo/' +\n",
    "       'Estadistica-machine-learning-python/master/data/Cars93.csv')\n",
    "datos = pd.read_csv(url)\n",
    "datos['log_Price'] = np.log(datos.Price)"
   ]
  },
  {
   "cell_type": "code",
   "execution_count": 164,
   "metadata": {},
   "outputs": [
    {
     "name": "stdout",
     "output_type": "stream",
     "text": [
      "<class 'pandas.core.frame.DataFrame'>\n",
      "RangeIndex: 93 entries, 0 to 92\n",
      "Data columns (total 28 columns):\n",
      " #   Column              Non-Null Count  Dtype  \n",
      "---  ------              --------------  -----  \n",
      " 0   Manufacturer        93 non-null     object \n",
      " 1   Model               93 non-null     object \n",
      " 2   Type                93 non-null     object \n",
      " 3   Min.Price           93 non-null     float64\n",
      " 4   Price               93 non-null     float64\n",
      " 5   Max.Price           93 non-null     float64\n",
      " 6   MPG.city            93 non-null     int64  \n",
      " 7   MPG.highway         93 non-null     int64  \n",
      " 8   AirBags             93 non-null     object \n",
      " 9   DriveTrain          93 non-null     object \n",
      " 10  Cylinders           93 non-null     object \n",
      " 11  EngineSize          93 non-null     float64\n",
      " 12  Horsepower          93 non-null     int64  \n",
      " 13  RPM                 93 non-null     int64  \n",
      " 14  Rev.per.mile        93 non-null     int64  \n",
      " 15  Man.trans.avail     93 non-null     object \n",
      " 16  Fuel.tank.capacity  93 non-null     float64\n",
      " 17  Passengers          93 non-null     int64  \n",
      " 18  Length              93 non-null     int64  \n",
      " 19  Wheelbase           93 non-null     int64  \n",
      " 20  Width               93 non-null     int64  \n",
      " 21  Turn.circle         93 non-null     int64  \n",
      " 22  Rear.seat.room      91 non-null     float64\n",
      " 23  Luggage.room        82 non-null     float64\n",
      " 24  Weight              93 non-null     int64  \n",
      " 25  Origin              93 non-null     object \n",
      " 26  Make                93 non-null     object \n",
      " 27  log_Price           93 non-null     float64\n",
      "dtypes: float64(8), int64(11), object(9)\n",
      "memory usage: 20.5+ KB\n"
     ]
    }
   ],
   "source": [
    "datos.info()"
   ]
  },
  {
   "cell_type": "code",
   "execution_count": 163,
   "metadata": {},
   "outputs": [
    {
     "data": {
      "image/png": "[encoded data removed]",
      "text/plain": [
       "<Figure size 432x288 with 1 Axes>"
      ]
     },
     "metadata": {},
     "output_type": "display_data"
    }
   ],
   "source": [
    "# Gráfico\n",
    "# ==============================================================================\n",
    "fig, ax = plt.subplots(1, 1, figsize=(6,4))\n",
    "ax.scatter(x=datos.Weight, y=datos.log_Price, alpha= 0.8)\n",
    "ax.set_xlabel('Peso')\n",
    "ax.set_ylabel('Log(Precio)');"
   ]
  },
  {
   "cell_type": "markdown",
   "metadata": {},
   "source": [
    "El gráfico muestra una clara relación lineal entre el peso de un coche y el logaritmo de su precio.\n",
    "\n",
    "#### correlación"
   ]
  },
  {
   "cell_type": "code",
   "execution_count": 165,
   "metadata": {},
   "outputs": [
    {
     "data": {
      "text/html": [
       "<div>\n",
       "<style scoped>\n",
       "    .dataframe tbody tr th:only-of-type {\n",
       "        vertical-align: middle;\n",
       "    }\n",
       "\n",
       "    .dataframe tbody tr th {\n",
       "        vertical-align: top;\n",
       "    }\n",
       "\n",
       "    .dataframe thead th {\n",
       "        text-align: right;\n",
       "    }\n",
       "</style>\n",
       "<table border=\"1\" class=\"dataframe\">\n",
       "  <thead>\n",
       "    <tr style=\"text-align: right;\">\n",
       "      <th></th>\n",
       "      <th>n</th>\n",
       "      <th>r</th>\n",
       "      <th>CI95%</th>\n",
       "      <th>r2</th>\n",
       "      <th>adj_r2</th>\n",
       "      <th>p-val</th>\n",
       "      <th>BF10</th>\n",
       "      <th>power</th>\n",
       "    </tr>\n",
       "  </thead>\n",
       "  <tbody>\n",
       "    <tr>\n",
       "      <th>pearson</th>\n",
       "      <td>93</td>\n",
       "      <td>0.763544</td>\n",
       "      <td>[0.66, 0.84]</td>\n",
       "      <td>0.582999</td>\n",
       "      <td>0.573733</td>\n",
       "      <td>5.640674e-19</td>\n",
       "      <td>1.069e+16</td>\n",
       "      <td>1.0</td>\n",
       "    </tr>\n",
       "  </tbody>\n",
       "</table>\n",
       "</div>"
      ],
      "text/plain": [
       "          n         r         CI95%        r2    adj_r2         p-val  \\\n",
       "pearson  93  0.763544  [0.66, 0.84]  0.582999  0.573733  5.640674e-19   \n",
       "\n",
       "              BF10  power  \n",
       "pearson  1.069e+16    1.0  "
      ]
     },
     "execution_count": 165,
     "metadata": {},
     "output_type": "execute_result"
    }
   ],
   "source": [
    "# Cálculo de correlación lineal\n",
    "# ==============================================================================\n",
    "pg.corr(x=datos['Weight'], y=datos['log_Price'], method='pearson')"
   ]
  },
  {
   "cell_type": "code",
   "execution_count": 166,
   "metadata": {},
   "outputs": [
    {
     "data": {
      "text/html": [
       "<div>\n",
       "<style scoped>\n",
       "    .dataframe tbody tr th:only-of-type {\n",
       "        vertical-align: middle;\n",
       "    }\n",
       "\n",
       "    .dataframe tbody tr th {\n",
       "        vertical-align: top;\n",
       "    }\n",
       "\n",
       "    .dataframe thead th {\n",
       "        text-align: right;\n",
       "    }\n",
       "</style>\n",
       "<table border=\"1\" class=\"dataframe\">\n",
       "  <thead>\n",
       "    <tr style=\"text-align: right;\">\n",
       "      <th></th>\n",
       "      <th>n</th>\n",
       "      <th>r</th>\n",
       "      <th>CI95%</th>\n",
       "      <th>r2</th>\n",
       "      <th>adj_r2</th>\n",
       "      <th>p-val</th>\n",
       "      <th>BF10</th>\n",
       "      <th>power</th>\n",
       "    </tr>\n",
       "  </thead>\n",
       "  <tbody>\n",
       "    <tr>\n",
       "      <th>pearson</th>\n",
       "      <td>93</td>\n",
       "      <td>0.404741</td>\n",
       "      <td>[0.22, 0.56]</td>\n",
       "      <td>0.163816</td>\n",
       "      <td>0.145234</td>\n",
       "      <td>0.000057</td>\n",
       "      <td>374.629</td>\n",
       "      <td>0.983505</td>\n",
       "    </tr>\n",
       "  </tbody>\n",
       "</table>\n",
       "</div>"
      ],
      "text/plain": [
       "          n         r         CI95%        r2    adj_r2     p-val     BF10  \\\n",
       "pearson  93  0.404741  [0.22, 0.56]  0.163816  0.145234  0.000057  374.629   \n",
       "\n",
       "            power  \n",
       "pearson  0.983505  "
      ]
     },
     "execution_count": 166,
     "metadata": {},
     "output_type": "execute_result"
    }
   ],
   "source": [
    "# Cálculo de correlación lineal parcial\n",
    "# ==============================================================================\n",
    "pg.partial_corr(data=datos, x='Weight', y='log_Price', covar='Horsepower', method='pearson')"
   ]
  },
  {
   "cell_type": "markdown",
   "metadata": {},
   "source": [
    "CONCLUSIÓN:\n",
    "\n",
    "La correlación entre el peso y el logaritmo del precio es alta (r=0.764) y significativa ( pvalue≈0 ). Sin embargo, cuando se estudia su relación bloqueando la variable potencia de motor, a pesar de que la relación sigue siendo significativa, pasa a ser baja (r=0.4047).\n",
    "\n",
    "Se puede afirmar que, la relación lineal existente entre el peso y el logaritmo del precio, está influenciada por el efecto de la variable potencia de motor."
   ]
  }
 ],
 "metadata": {
  "kernelspec": {
   "display_name": "Python 3",
   "language": "python",
   "name": "python3"
  },
  "language_info": {
   "codemirror_mode": {
    "name": "ipython",
    "version": 3
   },
   "file_extension": ".py",
   "mimetype": "text/x-python",
   "name": "python",
   "nbconvert_exporter": "python",
   "pygments_lexer": "ipython3",
   "version": "3.8.5"
  }
 },
 "nbformat": 4,
 "nbformat_minor": 4
}
